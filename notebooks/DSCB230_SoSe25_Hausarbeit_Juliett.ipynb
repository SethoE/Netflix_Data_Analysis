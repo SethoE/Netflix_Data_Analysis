{
 "cells": [
  {
   "cell_type": "markdown",
   "id": "59085cf8-0967-453b-b882-dc6d67beb7e7",
   "metadata": {},
   "source": [
    "**DSCB230 Sommersemester 2025**\n",
    "# Hausarbeit - Datenauswertung am Beispiel eines Business-Anwendungsfalls\n",
    "Data Science Portfolioprojekt"
   ]
  },
  {
   "cell_type": "markdown",
   "id": "cdcc7e8a-5a90-4dee-9c4e-cd8191efc2ef",
   "metadata": {},
   "source": [
    "## Lernziele\n",
    "Das Ziel dieser Hausarbeit ist der begleitete Aufbau eines Portfolios an Projekten. Eine überzeugende Arbeitsprobe ist für potenzielle Arbeitgeber ein wichtigeres Kriterium als der Lebenslauf.\n",
    "\n",
    "In diesem Modul lernen Sie, wie Sie Arbeitgeber mit Ihren Arbeitsproben im Bereich Data Analytics und Data Science überzeugen können und welche Schwerpunkte für Sie geeignet sind. Gemeinsam mit Ihrem Dozenten wählen Sie geeignete Datensätze und Fragestellungen aus. Anschließend erarbeiten Sie daraus einzeln oder in Kleingruppen ein Projekt für Ihr Bewerbungsportfolio.\n",
    "\n",
    "__Im Überblick:__\n",
    "\n",
    "1. Eigenständiges Auswählen und professionelles Umsetzen von Data-Analytics- und Data-Science-Projekten\n",
    "2. Strukturierte Umsetzung von Projekten\n",
    "3. Sammeln von Erfahrungen in der arbeitsteiligen Gruppenarbeit\n",
    "4. Erheben und Realisieren von Anforderungen\n",
    "5. Durchführen einer Datenauswertung\n",
    "6. Lokales Erzeugen und Veröffentlichen von Projekten\n",
    "7. Präsentieren von Ergebnissen und Diskussion unter Verwendung von Fachsprache (Kolloquium)\n"
   ]
  },
  {
   "cell_type": "markdown",
   "id": "28da700c-e714-447a-933a-1c67c1e4d169",
   "metadata": {},
   "source": [
    "## Lehrinhalte\n",
    "1. Gegenseitiges Kennenlernen\n",
    "2. Ablauf und Einblick in die Bausteine\n",
    "3. Auswahl eines Datenprojektes:\n",
    "    - Grundlagen guter Projekte\n",
    "    - Beispielprojekte in Data Analytics und Data Science\n",
    "    - Quellen geeigneter Datensätze\n",
    "    - Lizenzen von Datensätzen\n",
    "    - Aufwandsabschätzung von Datenprojekten\n",
    "4. Setup der Arbeitsumgebung\n",
    "    - Lokale Installation von Python und benötigten Modulen\n",
    "    - Einführung in Git\n",
    "    - Kurzeinführung in GitHub\n",
    "5. Strukturiertes Arbeiten in Datenteams\n",
    "    - Data Analytics Workflow\n",
    "    - Data Science Workflow\n",
    "4. Beginn der Portfolioarbeit\n",
    "    - Vorbereitung und Kick-off\n",
    "    - Einteilung in Teams und Zuweisung zu vorgeschlagenen Projekten\n",
    "    - Erstellen eines Projektplans und Verteilung der Aufgaben\n",
    "5. Strukturierte Umsetzung der Hausarbeit\n",
    "    - Sprint-Reviews\n",
    "    - Business Case eruieren\n",
    "    - Datenerfassung und Datenvorverarbeitung durchführen\n",
    "    - Analyse der Daten\n",
    "    - Datenvisualisierung\n",
    "    - Storytelling\n",
    "6. Präsentieren von Ergebnissen und Diskussion unter Verwendung von Fachsprache (Kolloquium)\n",
    "    - Abschluss der Projektarbeit\n",
    "    - Erzeugen der Abschlusspräsentation\n",
    "    - Halten der Abschlusspräsentation vor den anderen Teams und dem Dozent"
   ]
  },
  {
   "cell_type": "markdown",
   "id": "68929315-1123-471b-80ac-55dbe38d4575",
   "metadata": {},
   "source": [
    "## Ablauf im Überblick\n",
    "- Gruppeneinteilung\n",
    "- Kick-off\n",
    "- Statusmeetings\n",
    "- Präsentation der Ergebnisse inkl. Lessons Learned\n",
    "- Abgabe in ILIAS"
   ]
  },
  {
   "cell_type": "markdown",
   "id": "08a5d9d6-5ea3-4534-ac7f-418ca3dbbf6e",
   "metadata": {},
   "source": [
    "### Kick-off (Projekt-Start)\n",
    "\n",
    "Ziele: Lernziele besprechen. Erwartungen klarstellen. Durchführung besprechen."
   ]
  },
  {
   "cell_type": "markdown",
   "id": "0ddc70c6-3c59-425f-8263-79ca535a1962",
   "metadata": {},
   "source": [
    "### Lessons Learned (Projekt-Review)\n",
    "\n",
    "Ziele: Gewonnene Erkenntnisse für die Beurteilung der Arbeitsergebnisse festhalten.\n",
    "\n",
    "Vorbereitung: Die Gruppe setzt sich zusammen, um wertvolle Erfahrungen zu identifizieren, sie zu analysieren und aus ihnen zu lernen.\n",
    "\n",
    "__Leitfragen:__\n",
    "- Was waren die angenehmsten Dinge?\n",
    "- Welches Problem bzw. welche Probleme sind aufgetreten?\n",
    "- Wie wurde mit Problemen und Unklarheiten umgegangen?\n",
    "- Welche Lösung wurde verwendet?\n",
    "- Welche Probleme konnten, nach eigenem Ermessen, besonders gut gelöst werden?\n",
    "- Welche Ergebnisse der Datenauswertung waren überraschend?\n",
    "- Welche Erkenntnisse konnten durch die Datenauswertung gewonnen werden?\n",
    "- Welche ihrer Erwartungen an die Erkenntnisse der Datenauswertung weichen ab?\n",
    "- Wie bewerten Sie selbst ihre Ergebnisse?\n",
    "- Welche Erwartung an die Hausarbeit wurde nicht erfüllt?"
   ]
  },
  {
   "cell_type": "markdown",
   "id": "99ac9d8d-cd6f-4e4e-aaf7-3c7bc5d5dd38",
   "metadata": {},
   "source": [
    "### Statusmeetings (Sprint-Reviews)\n",
    "\n",
    "Ziel: Es geht hauptsächlich um die Art und Weise der Zusammenarbeit, um Herausforderungen und Verbesserungsmöglichkeiten.\n",
    "\n",
    "__Leitfragen:__\n",
    "- Dinge, die gut gelungen sind.\n",
    "- Dinge, die weniger gut gelaufen sind.\n",
    "- Dinge, die man direkt stoppen sollte.\n",
    "- Aspekte, die man ausprobieren könnte."
   ]
  },
  {
   "cell_type": "markdown",
   "id": "a0786cf7-b241-4f10-a7af-08eb0a07b7f7",
   "metadata": {},
   "source": [
    "## Aufgabenstellung\n",
    "\n",
    "- Führen Sie eine Datenauswertung durch.\n",
    "- Orientieren Sie sich an den Beispielen und den Übungen aus der Vorlesung.\n",
    "- Dokumentieren Sie Ihre Arbeit in diesem Jupter Notebook. Abweichungen in andere Tools oder Anwendungen sind in Absprache mit dem Dozent möglich.\n",
    "- Verwenden Sie die [Markdown](https://www.markdownguide.org/cheat-sheet/)-Syntax, um Ihre Arbeit leserlich zu gestalten."
   ]
  },
  {
   "cell_type": "markdown",
   "id": "54d1fd8f-461e-4d1a-bcee-c81d92ed488e",
   "metadata": {},
   "source": [
    "## Abschlusspräsentation\n",
    "\n",
    "- Termine, siehe Gruppeneinteilung\n",
    "- Dauer ca. 20 min\n",
    "- Ablauf:\n",
    "    - Gruppe präsentiert ihre Datenauswertung im Plenum\n",
    "    - Mündliche Wiedergabe der __vorbereiteten__ Lessons Learned\n",
    "    - Erstellung einer Komposition von 1-4 Abbildungen (400 x 400 px, .png) der aussagekräftigsten Visualisierungen für das Archiv der Hausarbeiten\n",
    "    - Upload aller Dokumete in ILIAS als Zip-Archiv mit der Bezeichnung `DSCB230_SoSe25_Hausarbeit_Gruppenname.zip`\n"
   ]
  },
  {
   "cell_type": "markdown",
   "id": "17e6b63f-2f04-4b47-bd44-dd5ea2832fd8",
   "metadata": {
    "tags": []
   },
   "source": [
    "## Bewertung\n",
    "\n",
    "Maximal 9 Punkte (10% der Klausurpunkte) als Startwert für die Klausur. Die Punkte erhalten alle Gruppenmitglieder. Sollte eine differenzierte Bewertung gewünscht sein, sprechen Sie bitte den Dozent an.\n",
    "\n",
    "__Kriterien:__\n",
    "\n",
    "| Nr. | Kategorie                                        | Bewertungskriterium                                                                                         |\n",
    "|----:|:-------------------------------------------------|:------------------------------------------------------------------------------------------------------------|\n",
    "|  1  | Teamarbeit und Organisation                      | Aufgabenaufteilung                                                                                          |\n",
    "|  2  | Teamarbeit und Organisation                      | Domänenwissen                                                                                               |\n",
    "|  3  | Teamarbeit und Organisation                      | Fachsprache + Fachbegriffe                                                                                  |\n",
    "|  4  | Teamarbeit und Organisation                      | Lessons Learned                                                                                             |\n",
    "|  5  | Teamarbeit und Organisation                      | Nächste Schritte                                                                                            |\n",
    "|  6  | Teamarbeit und Organisation                      | Projektorganisation                                                                                         |\n",
    "|  7  | Teamarbeit und Organisation                      | Teamfähigkeit                                                                                               |\n",
    "|  8  | Struktur und Organisation                        | Gliederung: Ist die Arbeit sinnvoll gegliedert und folgen die Abschnitte einer klaren Struktur?             |\n",
    "|  9  | Struktur und Organisation                        | Klarheit und Verständlichkeit: Ist die Hausarbeit klar und verständlich geschrieben?                        |\n",
    "| 10  | Struktur und Organisation                        | Kohärenz und Logik: Wie gut sind die Argumente strukturiert und logisch aufgebaut?                          |\n",
    "| 11  | Struktur und Organisation                        | Zielgerichtetheit: Sind die Ziele der Arbeit klar definiert und erreicht?                                   |\n",
    "| 12  | Technische Aspekte der Datenverarbeitung und -analyse | Ausreisseridentifikation                                                                               |\n",
    "| 13  | Technische Aspekte der Datenverarbeitung und -analyse | Beachtung der Vorlage (.ipynb)                                                                         |\n",
    "| 14  | Technische Aspekte der Datenverarbeitung und -analyse | Data Cleaning                                                                                          |\n",
    "| 15  | Technische Aspekte der Datenverarbeitung und -analyse | Data Engineering                                                                                       |\n",
    "| 16  | Technische Aspekte der Datenverarbeitung und -analyse | Datenaktualität (Reload/Refresh)                                                                       |\n",
    "| 17  | Technische Aspekte der Datenverarbeitung und -analyse | Datenanalyse (Plots, Dashboard, etc.)                                                                  |\n",
    "| 18  | Technische Aspekte der Datenverarbeitung und -analyse | Datenanalyse inkl. Interaktion, Filter                                                                 |\n",
    "| 19  | Technische Aspekte der Datenverarbeitung und -analyse | Datenvisualisierung                                                                                    |\n",
    "| 20  | Technische Aspekte der Datenverarbeitung und -analyse | Fragestellung + Findings                                                                               |\n",
    "| 21  | Technische Aspekte der Datenverarbeitung und -analyse | Python Bibliotheken                                                                                    |\n",
    "| 22  | Kommunikation und Präsentation                  | Argumentationsfähigkeit                                                                                      |\n",
    "| 23  | Kommunikation und Präsentation                  | Erklärungsfähigkeit                                                                                          |\n",
    "| 24  | Kommunikation und Präsentation                  | Medienkompetenz Präsentation                                                                                 |\n",
    "| 25  | Kommunikation und Präsentation                  | Storytelling                                                                                                 |\n",
    "| 26  | Inhaltliche Qualität                            | Literaturrecherche: Wie gut ist die relevante Literatur recherchiert und eingebunden?                        |\n",
    "| 27  | Inhaltliche Qualität                            | Methodik: Angemessenheit und Korrektheit der gewählten Methoden zur Datenanalyse.                            |\n",
    "| 28  | Inhaltliche Qualität                            | Originalität der Fragestellung: Ist die Fragestellung innovativ und relevant?                                |\n",
    "| 29  | Inhaltliche Qualität                            | Tiefe der Analyse: Wie detailliert und fundiert ist die Analyse der Daten?                                   |\n",
    "| 30  | Präsentationsqualität                           | Präsentationsstil: Wie gut ist der Vortragsstil? Z.B. Sprechgeschwindigkeit, Betonung, Körperhaltung.        |\n",
    "| 31  | Präsentationsqualität                           | Publikumsinteraktion: Fähigkeit, auf Fragen und Rückmeldungen des Publikums einzugehen.                      |\n",
    "| 32  | Präsentationsqualität                           | Visuelle Hilfsmittel: Nutzung und Qualität von Präsentationsfolien und anderen visuellen Hilfsmitteln.       |\n",
    "| 33  | Präsentationsqualität                           | Zeitmanagement: Einhaltung der vorgegebenen Präsentationszeit.                                               |\n",
    "| 34  | Sprachliche und stilistische Aspekte            | Formale Anforderungen: Einhaltung von Zitierregeln, Formatvorgaben und wissenschaftlichem Schreibstil.       |\n",
    "| 35  | Sprachliche und stilistische Aspekte            | Sprachqualität: Rechtschreibung, Grammatik und Stil.                                                         |\n",
    "| 36  | Reflexion und Weiterentwicklung                 | Selbstreflexion: Fähigkeit, die eigene Arbeit kritisch zu reflektieren.                                      |\n",
    "| 37  | Reflexion und Weiterentwicklung                 | Weiterentwicklungspotenzial: Vorschläge für zukünftige Forschung oder Projektentwicklungen.                  |\n"
   ]
  },
  {
   "cell_type": "markdown",
   "id": "6568db5d-3f71-476b-8a65-2c4ae6c0d625",
   "metadata": {},
   "source": [
    "## Vorlage für Ihr Jupyter Notebook\n",
    "Sie können die folgende Inhaltsstruktur verwenden oder sich daran orientieren. Kopieren Sie den Inhalt in ein neues Jupyter Notebook."
   ]
  },
  {
   "cell_type": "markdown",
   "id": "aaec91a7-5b05-44c0-98f0-7f73a9461f89",
   "metadata": {},
   "source": [
    "**DSCB230 Sommersemester 2025**\n",
    "\n",
    "# Titel: Analyse von Netflix\n",
    "## – Nutzerverhalten und Angebot (Genres, Beliebtheit, Veröffentlichungsdatum, Verfügbarkeit)"
   ]
  },
  {
   "cell_type": "markdown",
   "id": "69b205aa-24e5-4d1a-a410-9cebab4c0844",
   "metadata": {},
   "source": [
    "Gruppe | Studierende 1   | Studierende 2  | Studierende 3 |\n",
    "------ |-----------------|----------------| ------ |\n",
    "`Gruppenname` | `Vorname Name`  | `Vorname Name` | `Vorname Name` |\n",
    "`Juliett` | `Setho Ehrmann` | `Enyan Xia`    |"
   ]
  },
  {
   "cell_type": "markdown",
   "id": "1f379b61-3b1f-469a-a873-5021229aa033",
   "metadata": {},
   "source": [
    "## Business Case"
   ]
  },
  {
   "cell_type": "markdown",
   "id": "a74538b4f218062a",
   "metadata": {},
   "source": [
    "Ziel unseres Projekts ist es, Filme und Serien die Netflix anbietet, zu analysieren und Zusammenhänge und mögliche Korrelationen in diesem Kontext festzustellen. Wichtig zu beachten ist, dass Netflix spezifische Informationen wie Nutzerverhalten, oder Ranking der Filme/Serien für uns nicht öffentlich verfügbar ist und deshalb würden wir diese Informationen mit externen Datenquellen ersetzen.\n",
    "Bezug auf das Angebot an Filmen und Serien zu analysieren. Dabei möchten wir untersuchen, ob sich bestimmte Muster hinsichtlich\n",
    "Genre, Beliebtheit, Veröffentlichungsdatum oder Streaming-Verfügbarkeit erkennen lassen, und wie diese mit dem Verhalten oder den Präferenzen der Nutzer korrelieren könnten."
   ]
  },
  {
   "cell_type": "markdown",
   "id": "903810eb-3de1-4efc-8167-1dfe6584e5ac",
   "metadata": {},
   "source": [
    "## Inhaltsverzeichnis\n",
    "- [Einleitung](#einleitung)\n",
    "\n",
    "- [Kapitel 1 – Fragestellung 1: Welche Serien auf Netflix sind aktuell am beliebtesten (Top 10)?](#kapitel-1--fragestellung-1-welche-serien-auf-netflix-sind-aktuell-am-beliebtesten-top-10)\n",
    "  - [1.1 Datenerfassung und Datenvorverarbeitung](#11-datenerfassung-und-datenvorverarbeitung)\n",
    "  - [1.2 Analyse der Daten](#12-analyse-der-daten)\n",
    "  - [1.3 Lessons Learned](#13-lessons-learned)\n",
    "\n",
    "- [Kapitel 2 – Fragestellung 2: Europäische Filme 2010–2024 und ihre Bewertungen](#kapitel-2--fragestellung-2-europaische-filme-2010-2024-und-ihre-bewertungen)\n",
    "  - [2.1 Alle europäischen Länderkürzel bekommen](#21-alle-europaischen-landerkurzel-bekommen)\n",
    "  - [2.2 Validieren, dass alle EU-Länderkürzel in der TMDB API enthalten sind](#22-validieren-dass-alle-eu-laenderkuerzel-in-der-tmdb-api-enthalten-sind)\n",
    "  - [2.3 Alle Top 100 Filme in Europa (2010–2024) holen](#23-alle-top-100-filme-in-europa-2010-2024-holen)\n",
    "  - [2.4 Datenverarbeitung: Gruppierung der Filme nach Genre und durchschnittliche Bewertung pro Genre pro Jahr](#24-datenverarbeitung-gruppierung-der-filme-nach-genre-und-durchschnittliche-bewertung-pro-genre-pro-jahr)\n",
    "  - [2.5 Alle Genre-IDs in Genre-Namen umwandeln](#25-alle-genre-ids-in-genre-namen-umwandeln)\n",
    "  - [2.6 Visualisierung der durchschnittlichen Bewertung pro Genre pro Jahr](#26-visualisierung-der-durchschnittlichen-bewertung-pro-genre-pro-jahr)\n",
    "  - [2.7 Heatmap der durchschnittlichen Bewertungen pro Genre und Jahr](#27-heatmap-der-durchschnittlichen-bewertungen-pro-genre-und-jahr)\n",
    "  - [2.8 Balkendiagramm für die jeweiligen Genre-Häufigkeiten](#28-balkendiagramm-fuer-die-jeweiligen-genre-haufigkeiten)\n",
    "  - [2.9 Interpretation: Warum sich die Anzahl der Filme über die Jahre erhöht hat](#29-interpretation-warum-sich-die-anzahl-der-filme-uber-die-jahre-erhoht-hat)\n",
    "  - [2.10 Interpretation der Datenanalyse: Ist sie schlüssig?](#210-interpretation-der-datenanalyse-ist-sie-schlussig)\n",
    "  - [2.11 Lessons Learned 02 – Analyse der Daten](#211-lessons-learned-02-analyse-der-daten)\n",
    "\n",
    "- [Kapitel 3 – Fragestellung 3: Produktionsländer-Analyse & Geo-Dashboard](#kapitel-3--fragestellung-3-produktionslander-analyse-geo-dashboard)\n",
    "  - [3.1 Alle verfügbaren Länder auflisten, zählen und abspeichern](#31-alle-verfugbaren-lander-auflisten-zahlen-und-abspeichern)\n",
    "  - [3.2 Top 10 000 Filme aus dem Discover-Endpunkt abfragen und lokal als JSON-Datei abspeichern](#32-top-10000-filme-aus-dem-discover-endpunkt-abfragen-und-lokal-als-json-datei-abspeichern)\n",
    "  - [3.3 Mit den Top 10 000 Film-IDs den Details-Endpunkt abfragen und Produktionsländer je Film erhalten](#33-mit-den-top-10000-film-ids-den-details-endpunkt-abfragen-und-die-produktionslander-je-film-erhalten)\n",
    "  - [3.4 Eine simple Tabelle aller Daten mit DataFrame bereitstellen](#34-eine-simple-tabelle-aller-daten-mit-dataframe-bereitstellen)\n",
    "  - [3.5 Geo-Daten extrahieren](#35-geo-daten-extrahieren)\n",
    "  - [3.6 Dashboard-Visualisierung](#36-dashboard-visualisierung)"
   ]
  },
  {
   "cell_type": "markdown",
   "id": "c01e81c9597380a3",
   "metadata": {},
   "source": [
    "### Datenerfassung und Datenvorverarbeitung\n"
   ]
  },
  {
   "cell_type": "markdown",
   "id": "d63cc926d91721ab",
   "metadata": {},
   "source": [
    "### Fragestellung:\n",
    "### 1. Welche Serien auf Netflix sind aktuell am beliebtesten (Top 10)?"
   ]
  },
  {
   "cell_type": "code",
   "execution_count": 39,
   "id": "76804741-6215-4b06-a1c8-9bd7f5d3497d",
   "metadata": {},
   "outputs": [],
   "source": [
    "import sys, pathlib\n",
    "\n",
    "PROJECT_ROOT = pathlib.Path.cwd().parent        # von notebooks/ eine Ebene hoch\n",
    "sys.path.insert(0, PROJECT_ROOT.as_posix())     # voranstellen, falls noch nicht drin"
   ]
  },
  {
   "cell_type": "code",
   "execution_count": 45,
   "id": "f99fe44598777b21",
   "metadata": {
    "scrolled": true
   },
   "outputs": [
    {
     "name": "stdout",
     "output_type": "stream",
     "text": [
      "                    title  popularity  vote_average\n",
      "1      KPop Demon Hunters    307.1306         8.633\n",
      "2                   STRAW    183.0992         7.973\n",
      "3                    K.O.     92.6932         6.673\n",
      "4          28 Weeks Later     75.1557         6.619\n",
      "5   Venom: The Last Dance     45.1213         6.716\n",
      "6            Interstellar     41.7810         8.456\n",
      "7                Sikandar     43.6389         4.889\n",
      "8                   Havoc     40.1647         6.458\n",
      "9             Semi-Soeter     38.7491         5.611\n",
      "10          Exterritorial     38.3439         6.774\n"
     ]
    }
   ],
   "source": [
    "import pandas as pd\n",
    "\n",
    "from config.config import TMDB_BEARER_TOKEN, TMDB_API_KEY\n",
    "from tmdb.discover import Discover\n",
    "BEARER_TOKEN = TMDB_BEARER_TOKEN # access token\n",
    "\n",
    "discover = Discover(BEARER_TOKEN)\n",
    "\n",
    "response = discover.get_movies()\n",
    "discover.close() # Close connection\n",
    "\n",
    "movies = response[\"results\"]\n",
    "df_movies = pd.DataFrame(movies)\n",
    "# Get top 10 movies\n",
    "top_10_movies = df_movies[[\"title\", \"popularity\", \"vote_average\"]].head(10)\n",
    "# Add ranking from 1 to 10\n",
    "top_10_movies.index = range(1, 11)\n",
    "\n",
    "print(top_10_movies)"
   ]
  },
  {
   "cell_type": "markdown",
   "id": "501b09ff2dd7bad1",
   "metadata": {},
   "source": [
    "![Torwart](./images/top10_en_global_films__1_square.jpg)"
   ]
  },
  {
   "cell_type": "markdown",
   "id": "ff9815a5-47fb-4234-8b82-f11f28ac15d7",
   "metadata": {},
   "source": [
    "### Analyse der Daten"
   ]
  },
  {
   "cell_type": "markdown",
   "id": "508ffc83-a105-4a99-863b-36962f17f30c",
   "metadata": {},
   "source": [
    "Die Beliebtheit der Filme in TMDb korrelieren nicht mit den Filmen oder Serien auf Netflix. Wir haben überprüft, ob die Top-10 Filme auf TMDb sich mit den von Netflix Top-10 übereinstimmen über der offiziellen Seite (https://www.netflix.com/tudum/top10). Es hat sich herausgestellt, dass es keine Korrelation zwischen diesen Daten gab."
   ]
  },
  {
   "attachments": {},
   "cell_type": "markdown",
   "id": "c4f516ef-3fbe-4b8e-a817-78591e813cf6",
   "metadata": {},
   "source": [
    "### Interpretation:\n",
    "**Welche Metriken verwendet Netflix für die Erstellung ihrer Top-10-Filme/Serien-Listen?**\n",
    "\n",
    "Laut der offiziellen Netflix-Webseite [(about.netflix.com)](https://about.netflix.com/en/news/top-10-things-about-netflix-top-10) basiert die Methodik für die Erstellung der Top-10-Listen auf den folgenden Metriken (Auszug der drei wichtigsten von zehn genannten Punkten):\n",
    "> 1. **The lists are ranked by hours viewed per title**, i.e. the total number of hours members spent watching a season of a series or film (including the three times you watched that scene in Sex Life). \n",
    "> 2. We measure hours viewed over the course of a week, starting on Monday and ending on Sunday with the lists being published on Tuesday. \n",
    "> 3. We publish four weekly global Top 10 lists: Films (English), TV (English), Films (Non-English), and TV (Non-English). For each list, we show hours viewed that week for each title.\n",
    "> 4. ...\n",
    "\n",
    "**Rückschluss auf unsere Datenerhebungsmethodik für die Top-10-Filme**\n",
    "\n",
    "Unsere bisherige Methodik zur Ermittlung der Top-10-Filme weist einige entscheidende Unterschiede zur offiziellen Netflix-Metrik auf:\n",
    "\n",
    "- Fehlende Verfügbarkeit von \"Hours Viewed\":\n",
    "Die von uns verwendete Datenquelle *The Movie Database* (TMDb) bietet keine Möglichkeit, Daten zu den tatsächlich angeschauten Stunden pro Film oder Serie abzurufen, da TMDb diese Nutzungsdaten nicht erhebt. Stattdessen haben wir bislang die TMDb-interne *Popularität* als Metrik verwendet, die jedoch nicht direkt mit der Netflix-Metrik *Hours Viewed* vergleichbar ist.\n",
    "\n",
    "- Aggregationszeitraum:\n",
    "Netflix ermittelt und publiziert explizit wöchentliche Top-10-Listen. Unsere bisherige Methode hingegen hat die generelle Popularität eines Films über seine gesamte Lebensdauer hinweg verwendet. Dies führt zu einer fehlerhaften Datenerhebung und beeinträchtigt somit die Vergleichbarkeit unserer Ergebnisse mit den offiziellen Netflix-Listen.\n",
    "\n",
    "Um die Aussagekraft unserer Analyse zu verbessern, sollte künftig entweder eine andere Datenquelle verwendet oder zumindest die wöchentlich aggregierte Popularität (\"Weekly Trending\") von TMDb genutzt werden. Dies ermöglicht zwar immer noch keine perfekte Übereinstimmung, jedoch eine wesentlich nähere Annäherung an die Netflix-Methodik."
   ]
  },
  {
   "cell_type": "code",
   "execution_count": null,
   "id": "b2cc53bb-6d84-46a6-a8d4-72aedd2277dd",
   "metadata": {},
   "outputs": [],
   "source": [
    "import pandas as pd\n",
    "\n",
    "from config.config import TMDB_BEARER_TOKEN, TMDB_API_KEY\n",
    "from tmdb.trending import Trending\n",
    "BEARER_TOKEN = TMDB_BEARER_TOKEN # access token\n",
    "\n",
    "trending = Trending(BEARER_TOKEN)\n",
    "\n",
    "response = trending.get_trending_movies()\n",
    "trending.close() # Close connection\n",
    "\n",
    "movies = response[\"results\"]\n",
    "df_trend = pd.DataFrame(movies)\n",
    "top10_weekly = (\n",
    "    df_trend\n",
    "    .nlargest(10, \"popularity\")   # TMDb sortiert ohnehin, aber sicher ist sicher\n",
    "    [[\"title\", \"popularity\", \"vote_average\"]]\n",
    "    .reset_index(drop=True)\n",
    ")\n",
    "top10_weekly.index += 1 \n",
    "print(top10_weekly)"
   ]
  },
  {
   "cell_type": "markdown",
   "id": "2899c25b-ea8e-4a36-be86-b9dc9368f6b3",
   "metadata": {},
   "source": [
    "### Lessons Learned 01 - Erster Datenzugriff auf Netflix-Inhalte über TMDb API\n",
    "Wir sollten JustWatch API für echtzeitige Länderverfügbarkeitsdaten bevorzugen, ergänzt durch TMDb für Metadaten. Web-Scraping der Netflix Daten geht nicht (rechtliche Risiken). Mögliche wären auch UnoGS über RapidAPI für Netflix-spezifische Daten, jedoch kosten diese Dienste Geld.\n",
    "1. Daten sind nicht immer aktuell oder einschränkungsfrei\n",
    "2. Regionale Einschränkungen sind entscheidend\n",
    "3. Die Bedeutung von präzisen API-Filtern\n",
    "4. Massendaten erfordern effizientes Vorgehen\n",
    "5. Daten verstehen kommt vor Daten analysieren"
   ]
  },
  {
   "cell_type": "markdown",
   "id": "9fbaaadd38fea3a5",
   "metadata": {},
   "source": [
    "## Fragestellung 2:\n",
    "### 2. Wie unterscheiden sich die durchschnittlichen TMDb-Bewertungen, zu Netflix Filmen, von Spielfilm-Genres in Europa zwischen 2010 und 2024"
   ]
  },
  {
   "cell_type": "code",
   "execution_count": 5,
   "id": "d95907ea-f029-4ca5-848e-ce4d13063fe4",
   "metadata": {},
   "outputs": [],
   "source": [
    "import sys, pathlib\n",
    "\n",
    "PROJECT_ROOT = pathlib.Path.cwd().parent        # von notebooks/ eine Ebene hoch\n",
    "sys.path.insert(0, PROJECT_ROOT.as_posix())     # voranstellen, falls noch nicht drin"
   ]
  },
  {
   "cell_type": "markdown",
   "id": "aeaa116a21be4c0a",
   "metadata": {},
   "source": [
    "#### Alle Europäischen Länderkürzel bekommen"
   ]
  },
  {
   "cell_type": "code",
   "execution_count": 6,
   "id": "1fddf83565681c87",
   "metadata": {
    "ExecuteTime": {
     "end_time": "2025-06-02T14:33:00.941048Z",
     "start_time": "2025-06-02T14:33:00.914279Z"
    }
   },
   "outputs": [
    {
     "name": "stdout",
     "output_type": "stream",
     "text": [
      "['AL', 'AD', 'AM', 'AT', 'AZ', 'BA', 'BE', 'BG', 'BY', 'CH', 'CY', 'CZ', 'DE', 'DK', 'EE', 'ES', 'FI', 'FR', 'GB', 'GE', 'GR', 'HR', 'HU', 'IE', 'IS', 'IT', 'KZ', 'LI', 'LT', 'LU', 'LV', 'MC', 'MD', 'ME', 'MK', 'MT', 'NL', 'NO', 'PL', 'PT', 'RO', 'RS', 'RU', 'SE', 'SI', 'SK', 'SM', 'TR', 'UA', 'VA']\n"
     ]
    }
   ],
   "source": [
    "# Open the file in read mode\n",
    "# von notebooks/ eine Ebene hoch in den Projekt‐Root und dann weiter\n",
    "BASE = Path().resolve().parent    # …/Netflix_Data_Analysis\n",
    "path_to_countries_file = BASE / \"data\" / \"raw\" / \"european_countries.txt\"\n",
    "path_to_save_all_country_codes = BASE / \"data\" / \"processed\" / \"all_european_country_codes.txt\"\n",
    "all_european_country_codes = []\n",
    "with open(path_to_countries_file, 'r', encoding=\"utf-8\") as file:\n",
    "    # Read each line in the file\n",
    "    for line in file:\n",
    "        # Print each line\n",
    "        all_european_country_codes.append(line.strip().split(\" – \")[0])\n",
    "\n",
    "print(all_european_country_codes)\n",
    "with open(path_to_save_all_country_codes, \"w\") as file:\n",
    "    file.write(\"\\n\".join(all_european_country_codes))"
   ]
  },
  {
   "cell_type": "markdown",
   "id": "5a42b6f62a9ec2a8",
   "metadata": {},
   "source": [
    "#### Validieren das alle EU-Länderkürzel in der TMDB API enthalten sind"
   ]
  },
  {
   "cell_type": "code",
   "execution_count": 7,
   "id": "8dcc08aa4baa8b9c",
   "metadata": {
    "ExecuteTime": {
     "end_time": "2025-05-19T10:52:00.267383Z",
     "start_time": "2025-05-19T10:52:00.066183Z"
    }
   },
   "outputs": [
    {
     "name": "stdout",
     "output_type": "stream",
     "text": [
      "Found 50 of 50 countries in TMDB API\n"
     ]
    }
   ],
   "source": [
    "import pandas as pd\n",
    "from config.config import TMDB_BEARER_TOKEN, TMDB_API_KEY\n",
    "from tmdb.discover import Discover\n",
    "from tmdb.configuration import Configuration\n",
    "\n",
    "PATH_TO_PROCESSED_EUROPAN_COUNTRIES = BASE / \"data/processed/all_european_country_codes.txt\"\n",
    "BEARER_TOKEN = TMDB_BEARER_TOKEN # access token\n",
    "\n",
    "configuration = Configuration(TMDB_BEARER_TOKEN)\n",
    "all_countries = configuration.get_countries()\n",
    "\n",
    "all_european_country_codes = []\n",
    "with open(PATH_TO_PROCESSED_EUROPAN_COUNTRIES, \"r\") as file:\n",
    "    all_european_country_codes = file.read().splitlines()\n",
    "\n",
    "\n",
    "counter = 0\n",
    "for country in all_countries:\n",
    "    if country[\"iso_3166_1\"] not in all_european_country_codes:\n",
    "        pass\n",
    "    else:\n",
    "        counter += 1\n",
    "\n",
    "print(f\"Found {counter} of {len(all_european_country_codes)} countries in TMDB API\")"
   ]
  },
  {
   "cell_type": "markdown",
   "id": "310806c06f17b9d0",
   "metadata": {},
   "source": [
    "#### Alle Top 100 Filme in Europa (2010-2024) holen\n"
   ]
  },
  {
   "cell_type": "code",
   "execution_count": 3,
   "id": "71ab28d2908f7848",
   "metadata": {
    "ExecuteTime": {
     "end_time": "2025-05-31T10:05:37.989584Z",
     "start_time": "2025-05-31T10:05:37.950554Z"
    }
   },
   "outputs": [],
   "source": [
    "import pandas as pd\n",
    "from config.config import TMDB_BEARER_TOKEN, TMDB_API_KEY\n",
    "from tmdb.discover import Discover\n",
    "from tmdb.configuration import Configuration\n",
    "import json\n",
    "import os\n",
    "import glob\n",
    "from datetime import date\n",
    "\n",
    "PATH_TO_PROCESSED_EUROPAN_COUNTRIES =  BASE / \"data/processed/all_european_country_codes.txt\"\n",
    "BEARER_TOKEN = TMDB_BEARER_TOKEN # access token\n",
    "\n",
    "# Variables for file formatting\n",
    "today = date.today().isoformat()\n",
    "base_dir = BASE / \"data/raw/fragestellung_02\"\n",
    "pattern = f\"{today}_version*_all_european_movies.json\"\n",
    "\n",
    "\n",
    "all_european_country_codes = []\n",
    "with open(PATH_TO_PROCESSED_EUROPAN_COUNTRIES, \"r\") as file:\n",
    "    all_european_country_codes = file.read().splitlines()\n",
    "\n",
    "discover = Discover(TMDB_BEARER_TOKEN)\n",
    "all_movies = []\n",
    "\n",
    "# Years to consider\n",
    "START_YEAR = 1980\n",
    "END_YEAR = 2025\n",
    "\n",
    "years = list(range(START_YEAR, END_YEAR))  # 2010 bis 2024\n",
    "pages_per_year = 5\n",
    "total_requests = len(all_european_country_codes) * len(years) * pages_per_year\n",
    "current = 0\n",
    "\n",
    "for country in all_european_country_codes:\n",
    "    for year in range(START_YEAR, END_YEAR):\n",
    "        for page in range(1, 6):  # Top 100 pro Jahr (20 Filme pro Seite)\n",
    "            params = {\n",
    "                \"with_watch_providers\": \"8|175|1796\",\n",
    "                \"primary_release_date.gte\": f\"{year}-01-01\",\n",
    "                \"primary_release_date.lte\": f\"{year}-12-31\",\n",
    "                \"vote_count.gte\": 10,\n",
    "                \"page\": page\n",
    "            }\n",
    "            response = discover.safe_get_movies(watch_region=country, sort_by=\"popularity.desc\", params=params, delay=0.1)\n",
    "            all_movies.extend(response[\"results\"])\n",
    "\n",
    "             # Fortschritt aktualisieren\n",
    "            current += 1\n",
    "            percent = (current / total_requests) * 100\n",
    "            print(f\"\\rProgress: {current}/{total_requests} ({percent:.1f}%)\", end=\"\")\n",
    "\n",
    "discover.close() # Close connection.\n",
    "\n",
    "# 1) Finde alle existierenden Dateien für heute\n",
    "existing = glob.glob(os.path.join(base_dir, pattern))\n",
    "\n",
    "# 2) Extrahiere die Versionsnummern\n",
    "versions = []\n",
    "for path in existing:\n",
    "    # filename z.B. '2025-05-20_version3_all_european_movies.json'\n",
    "    filename = os.path.basename(path)\n",
    "    # Splitten auf '_version' und dann vor dem nächsten '_' abschneiden\n",
    "    ver_str = filename.split(\"_version\")[1].split(\"_\")[0]\n",
    "    try:\n",
    "        versions.append(int(ver_str))\n",
    "    except ValueError:\n",
    "        pass\n",
    "\n",
    "# 3) Neue Version\n",
    "new_version = max(versions) + 1 if versions else 1\n",
    "\n",
    "# 4) Pfad zusammensetzen und Datei speichern\n",
    "out_path = os.path.join(\n",
    "    base_dir,\n",
    "    f\"{today}_version{new_version}_all_european_movies.json\"\n",
    ")\n",
    "\n",
    "# Beispiel: all_movies enthält deine Daten\n",
    "with open(out_path, \"w\", encoding=\"utf-8\") as f:\n",
    "    json.dump(all_movies, f, ensure_ascii=False, indent=2)\n",
    "\n",
    "print(f\"Saved {len(all_movies)} records to {out_path}\")"
   ]
  },
  {
   "cell_type": "markdown",
   "id": "b871b67673e33fa9",
   "metadata": {},
   "source": [
    "#### Datenverarbeitung aller filme: Ziel ist die Gruppierung der Filme nach genre und die durchschnittliche Bewertung pro Genre pro Jahr"
   ]
  },
  {
   "cell_type": "code",
   "execution_count": 26,
   "id": "072c0a5c-c1b2-4d8a-8499-b9795aeffa10",
   "metadata": {
    "ExecuteTime": {
     "end_time": "2025-06-18T12:28:39.307306Z",
     "start_time": "2025-06-18T12:28:38.300846Z"
    }
   },
   "outputs": [
    {
     "name": "stdout",
     "output_type": "stream",
     "text": [
      "Lade von: /home/ehrmanns/code/01_python_code/01_studium_data_science/02_semester/03_informatik_mruzek-vering/02_Hausarbeit/Netflix_Data_Analysis/data/raw/fragestellung_02/2025-05-19_version1_all_european_movies.json\n",
      "Erfolgreich 58005 Einträge geladen.\n"
     ]
    }
   ],
   "source": [
    "import json\n",
    "from pathlib import Path\n",
    "\n",
    "# von notebooks/ eine Ebene hoch in den Projekt‐Root und dann weiter\n",
    "BASE = Path().resolve().parent    # …/Netflix_Data_Analysis\n",
    "PATH = BASE / \"data\" / \"raw\" / \"fragestellung_02\" / \"2025-05-19_version1_all_european_movies.json\"\n",
    "\n",
    "print(\"Lade von:\", PATH)\n",
    "with open(PATH, \"r\", encoding=\"utf-8\") as f:\n",
    "    all_movies = json.load(f)\n",
    "print(f\"Erfolgreich {len(all_movies)} Einträge geladen.\")"
   ]
  },
  {
   "cell_type": "markdown",
   "id": "210fd3bf-e02b-4276-b8a3-a7b84dc8477a",
   "metadata": {},
   "source": [
    "#### Filter all_movie, wenn die film id mehr als ein mal vorkommt."
   ]
  },
  {
   "cell_type": "code",
   "execution_count": 27,
   "id": "fd1a83d1-47f1-4254-997b-d66207ee9bde",
   "metadata": {
    "ExecuteTime": {
     "end_time": "2025-06-18T12:28:39.307306Z",
     "start_time": "2025-06-18T12:28:38.300846Z"
    }
   },
   "outputs": [
    {
     "name": "stdout",
     "output_type": "stream",
     "text": [
      "Found 58005 not unique movies\n",
      "Found 1289 unique movies\n"
     ]
    }
   ],
   "source": [
    "# Das wird gemacht indem das erste vorkommen des films gehalten wird und alle anderen entfernt werden.\n",
    "print(f\"Found {len(all_movies)} not unique movies\")\n",
    "all_movies = [next(movie for movie in all_movies if movie[\"id\"] == id) for id in set([movie[\"id\"] for movie in all_movies])]\n",
    "print(f\"Found {len(all_movies)} unique movies\")"
   ]
  },
  {
   "cell_type": "code",
   "execution_count": 28,
   "id": "9f9a80b7-d39f-440c-a147-46a7aaef1969",
   "metadata": {
    "ExecuteTime": {
     "end_time": "2025-06-18T12:28:39.307306Z",
     "start_time": "2025-06-18T12:28:38.300846Z"
    }
   },
   "outputs": [
    {
     "data": {
      "text/html": [
       "<div>\n",
       "<style scoped>\n",
       "    .dataframe tbody tr th:only-of-type {\n",
       "        vertical-align: middle;\n",
       "    }\n",
       "\n",
       "    .dataframe tbody tr th {\n",
       "        vertical-align: top;\n",
       "    }\n",
       "\n",
       "    .dataframe thead th {\n",
       "        text-align: right;\n",
       "    }\n",
       "</style>\n",
       "<table border=\"1\" class=\"dataframe\">\n",
       "  <thead>\n",
       "    <tr style=\"text-align: right;\">\n",
       "      <th></th>\n",
       "      <th>release_date</th>\n",
       "      <th>genre_ids</th>\n",
       "      <th>avg_rating</th>\n",
       "    </tr>\n",
       "  </thead>\n",
       "  <tbody>\n",
       "    <tr>\n",
       "      <th>0</th>\n",
       "      <td>2010</td>\n",
       "      <td>12</td>\n",
       "      <td>6.329667</td>\n",
       "    </tr>\n",
       "    <tr>\n",
       "      <th>1</th>\n",
       "      <td>2010</td>\n",
       "      <td>14</td>\n",
       "      <td>6.434200</td>\n",
       "    </tr>\n",
       "    <tr>\n",
       "      <th>2</th>\n",
       "      <td>2010</td>\n",
       "      <td>16</td>\n",
       "      <td>6.650000</td>\n",
       "    </tr>\n",
       "    <tr>\n",
       "      <th>3</th>\n",
       "      <td>2010</td>\n",
       "      <td>18</td>\n",
       "      <td>6.365889</td>\n",
       "    </tr>\n",
       "    <tr>\n",
       "      <th>4</th>\n",
       "      <td>2010</td>\n",
       "      <td>27</td>\n",
       "      <td>5.758333</td>\n",
       "    </tr>\n",
       "    <tr>\n",
       "      <th>...</th>\n",
       "      <td>...</td>\n",
       "      <td>...</td>\n",
       "      <td>...</td>\n",
       "    </tr>\n",
       "    <tr>\n",
       "      <th>261</th>\n",
       "      <td>2024</td>\n",
       "      <td>9648</td>\n",
       "      <td>6.104750</td>\n",
       "    </tr>\n",
       "    <tr>\n",
       "      <th>262</th>\n",
       "      <td>2024</td>\n",
       "      <td>10402</td>\n",
       "      <td>6.665000</td>\n",
       "    </tr>\n",
       "    <tr>\n",
       "      <th>263</th>\n",
       "      <td>2024</td>\n",
       "      <td>10749</td>\n",
       "      <td>6.767444</td>\n",
       "    </tr>\n",
       "    <tr>\n",
       "      <th>264</th>\n",
       "      <td>2024</td>\n",
       "      <td>10751</td>\n",
       "      <td>7.001692</td>\n",
       "    </tr>\n",
       "    <tr>\n",
       "      <th>265</th>\n",
       "      <td>2024</td>\n",
       "      <td>10752</td>\n",
       "      <td>7.240000</td>\n",
       "    </tr>\n",
       "  </tbody>\n",
       "</table>\n",
       "<p>266 rows × 3 columns</p>\n",
       "</div>"
      ],
      "text/plain": [
       "     release_date  genre_ids  avg_rating\n",
       "0            2010         12    6.329667\n",
       "1            2010         14    6.434200\n",
       "2            2010         16    6.650000\n",
       "3            2010         18    6.365889\n",
       "4            2010         27    5.758333\n",
       "..            ...        ...         ...\n",
       "261          2024       9648    6.104750\n",
       "262          2024      10402    6.665000\n",
       "263          2024      10749    6.767444\n",
       "264          2024      10751    7.001692\n",
       "265          2024      10752    7.240000\n",
       "\n",
       "[266 rows x 3 columns]"
      ]
     },
     "execution_count": 28,
     "metadata": {},
     "output_type": "execute_result"
    }
   ],
   "source": [
    "# 2) DataFrame bauen\n",
    "df = pd.DataFrame(all_movies)\n",
    "df[\"release_date\"] = pd.to_datetime(df[\"release_date\"]).dt.year\n",
    "\n",
    "# 4) Jeden Film pro Genre aufsplitten (\"explode\")\n",
    "df = df.explode(\"genre_ids\")\n",
    "\n",
    "# 6) Gruppieren nach (year, genre_id) und Durchschnitt berechnen\n",
    "df_grouped = (\n",
    "    df\n",
    "    .groupby([\"release_date\", \"genre_ids\"])[\"vote_average\"]\n",
    "    .mean()\n",
    "    .reset_index(name=\"avg_rating\")\n",
    ")\n",
    "\n",
    "df_grouped"
   ]
  },
  {
   "cell_type": "markdown",
   "id": "57a71aa286c9c178",
   "metadata": {},
   "source": [
    "#### Datenvisualisierung"
   ]
  },
  {
   "cell_type": "markdown",
   "id": "1a7ce71c21b82350",
   "metadata": {},
   "source": [
    "##### Alle Genres_ids umwandeln in Genre Namen"
   ]
  },
  {
   "cell_type": "code",
   "execution_count": 29,
   "id": "9dc9afdc774ee962",
   "metadata": {
    "ExecuteTime": {
     "end_time": "2025-05-21T11:32:47.108287Z",
     "start_time": "2025-05-21T11:32:46.882479Z"
    }
   },
   "outputs": [],
   "source": [
    "from tmdb.genre import Genre\n",
    "import pandas as pd\n",
    "from config.config import TMDB_BEARER_TOKEN, TMDB_API_KEY\n",
    "\n",
    "PATH_TO_SAVE_GENRES = BASE / \"data/processed/fragestellung_02/all_genres.json\"\n",
    "BEARER_TOKEN = TMDB_BEARER_TOKEN # access token\n",
    "\n",
    "genre = Genre(BEARER_TOKEN)\n",
    "all_genres = genre.get_movie()\n",
    "with open(PATH_TO_SAVE_GENRES, \"w\") as file:\n",
    "    json.dump(all_genres, file)\n",
    "df_genres = pd.DataFrame(all_genres[\"genres\"])\n",
    "df_genres = df_genres[[\"id\", \"name\"]]\n",
    "df_genres.columns = [\"genre_ids\", \"genre_name\"]\n",
    "df_grouped = df_grouped.merge(df_genres, on=\"genre_ids\")"
   ]
  },
  {
   "cell_type": "markdown",
   "id": "28c1b647e9b83d1a",
   "metadata": {},
   "source": [
    "##### Visualisierung der durchschnittlichen Bewertung pro Genre pro Jahr"
   ]
  },
  {
   "cell_type": "code",
   "execution_count": 21,
   "id": "e22d5064-7699-47a7-a142-373558ff8869",
   "metadata": {
    "ExecuteTime": {
     "end_time": "2025-05-19T14:19:33.448544Z",
     "start_time": "2025-05-19T14:19:32.961969Z"
    },
    "scrolled": true
   },
   "outputs": [
    {
     "data": {
      "application/vnd.plotly.v1+json": {
       "config": {
        "plotlyServerURL": "https://plot.ly"
       },
       "data": [
        {
         "alignmentgroup": "True",
         "customdata": [
          "Adventure",
          "Adventure",
          "Adventure",
          "Adventure",
          "Adventure",
          "Adventure",
          "Adventure",
          "Adventure",
          "Adventure",
          "Adventure",
          "Adventure",
          "Adventure",
          "Adventure",
          "Adventure",
          "Adventure"
         ],
         "hovertemplate": "<b>Genre:</b> %{customdata}<br><b>Jahr:</b> %{x}<br><b>Bewertung:</b> %{y:.2f}<extra></extra>",
         "legendgroup": "Adventure",
         "marker": {
          "color": "#636efa",
          "pattern": {
           "shape": ""
          }
         },
         "name": "Adventure",
         "offsetgroup": "Adventure",
         "orientation": "v",
         "showlegend": true,
         "textposition": "auto",
         "type": "bar",
         "x": {
          "bdata": "2gcAANsHAADcBwAA3QcAAN4HAADfBwAA4AcAAOEHAADiBwAA4wcAAOQHAADlBwAA5gcAAOcHAADoBwAA",
          "dtype": "i4"
         },
         "xaxis": "x",
         "y": {
          "bdata": "nqh/I5RRGUAVZx8+w24aQHNoke18PxlAqMZLN4lBFUDvIyFyRdUaQF8bs4L+9xlAHVpkO9/PGEDdJAaBlQsbQD1rQBptihpAF14/us58G0A8waz+tlUbQD4CqXsMgBxApeLsw2doG0DSItv5fsobQH5qvHST2BpA",
          "dtype": "f8"
         },
         "yaxis": "y"
        },
        {
         "alignmentgroup": "True",
         "customdata": [
          "Fantasy",
          "Fantasy",
          "Fantasy",
          "Fantasy",
          "Fantasy",
          "Fantasy",
          "Fantasy",
          "Fantasy",
          "Fantasy",
          "Fantasy",
          "Fantasy",
          "Fantasy",
          "Fantasy",
          "Fantasy",
          "Fantasy"
         ],
         "hovertemplate": "<b>Genre:</b> %{customdata}<br><b>Jahr:</b> %{x}<br><b>Bewertung:</b> %{y:.2f}<extra></extra>",
         "legendgroup": "Fantasy",
         "marker": {
          "color": "#EF553B",
          "pattern": {
           "shape": ""
          }
         },
         "name": "Fantasy",
         "offsetgroup": "Fantasy",
         "orientation": "v",
         "showlegend": true,
         "textposition": "auto",
         "type": "bar",
         "x": {
          "bdata": "2gcAANsHAADcBwAA3QcAAN4HAADfBwAA4AcAAOEHAADiBwAA4wcAAOQHAADlBwAA5gcAAOcHAADoBwAA",
          "dtype": "i4"
         },
         "xaxis": "x",
         "y": {
          "bdata": "W7G/7J68GUCrqqqqquoYQLnbc1xMMRpA6SYxCKx8GkB56SYxCKwbQL6fGi/dBBpAtMh2vp+aGEDpbVmrY4IaQPCnxks3iRtAlkOLbOf7G0BO6DJ2RMIbQL46qTKGRR1AD4C9x55CHEB6xyk6kssbQPsfPdya0RpA",
          "dtype": "f8"
         },
         "yaxis": "y"
        },
        {
         "alignmentgroup": "True",
         "customdata": [
          "Animation",
          "Animation",
          "Animation",
          "Animation",
          "Animation",
          "Animation",
          "Animation",
          "Animation",
          "Animation",
          "Animation",
          "Animation",
          "Animation",
          "Animation",
          "Animation",
          "Animation"
         ],
         "hovertemplate": "<b>Genre:</b> %{customdata}<br><b>Jahr:</b> %{x}<br><b>Bewertung:</b> %{y:.2f}<extra></extra>",
         "legendgroup": "Animation",
         "marker": {
          "color": "#00cc96",
          "pattern": {
           "shape": ""
          }
         },
         "name": "Animation",
         "offsetgroup": "Animation",
         "orientation": "v",
         "showlegend": true,
         "textposition": "auto",
         "type": "bar",
         "x": {
          "bdata": "2gcAANsHAADcBwAA3QcAAN4HAADfBwAA4AcAAOEHAADiBwAA4wcAAOQHAADlBwAA5gcAAOcHAADoBwAA",
          "dtype": "i4"
         },
         "xaxis": "x",
         "y": {
          "bdata": "mpmZmZmZGkAjlNHbslYZQKtjggfzxBtA46WbxCAQHECmCkYldYIcQPp+arx00xhA3SQGgZUjGUDgCGX0tgwaQAwoEMVGlRxA677F/2yNHUC1pnnHKfodQCZ0GTsiYR1ASbCJhrpgHEBH4XoUrkcdQHNoke18HxxA",
          "dtype": "f8"
         },
         "yaxis": "y"
        },
        {
         "alignmentgroup": "True",
         "customdata": [
          "Drama",
          "Drama",
          "Drama",
          "Drama",
          "Drama",
          "Drama",
          "Drama",
          "Drama",
          "Drama",
          "Drama",
          "Drama",
          "Drama",
          "Drama",
          "Drama",
          "Drama"
         ],
         "hovertemplate": "<b>Genre:</b> %{customdata}<br><b>Jahr:</b> %{x}<br><b>Bewertung:</b> %{y:.2f}<extra></extra>",
         "legendgroup": "Drama",
         "marker": {
          "color": "#ab63fa",
          "pattern": {
           "shape": ""
          }
         },
         "name": "Drama",
         "offsetgroup": "Drama",
         "orientation": "v",
         "showlegend": true,
         "textposition": "auto",
         "type": "bar",
         "x": {
          "bdata": "2gcAANsHAADcBwAA3QcAAN4HAADfBwAA4AcAAOEHAADiBwAA4wcAAOQHAADlBwAA5gcAAOcHAADoBwAA",
          "dtype": "i4"
         },
         "xaxis": "x",
         "y": {
          "bdata": "f/2uk6t2GUAOw0YmEucYQGIQWDm02BlAo7HwAaLXGUBo1P4LRRwaQMDsnjwsdBlAjoTqnnspGkCMxR+in3waQC6QoPgx1hlAyyNRwEytG0Ba9bnail0bQFQJi9n0vBtAIkHIqx1WG0BpeAEsbiobQGyJtd3GPxtA",
          "dtype": "f8"
         },
         "yaxis": "y"
        },
        {
         "alignmentgroup": "True",
         "customdata": [
          "Horror",
          "Horror",
          "Horror",
          "Horror",
          "Horror",
          "Horror",
          "Horror",
          "Horror",
          "Horror",
          "Horror",
          "Horror",
          "Horror",
          "Horror",
          "Horror",
          "Horror"
         ],
         "hovertemplate": "<b>Genre:</b> %{customdata}<br><b>Jahr:</b> %{x}<br><b>Bewertung:</b> %{y:.2f}<extra></extra>",
         "legendgroup": "Horror",
         "marker": {
          "color": "#FFA15A",
          "pattern": {
           "shape": ""
          }
         },
         "name": "Horror",
         "offsetgroup": "Horror",
         "orientation": "v",
         "showlegend": true,
         "textposition": "auto",
         "type": "bar",
         "x": {
          "bdata": "2gcAANsHAADcBwAA3QcAAN4HAADfBwAA4AcAAOEHAADiBwAA4wcAAOQHAADlBwAA5gcAAOcHAADoBwAA",
          "dtype": "i4"
         },
         "xaxis": "x",
         "y": {
          "bdata": "iIiIiIgIF0CDns2qz9UWQPOLJb9YchBA5KWbxCAwFUAQn2FXgNwVQFGBUjL8phRAglFJnYAmF0B5VjQS8I0XQNejcD0KRxdACXDWPKOJGEDKcwlkDSMZQD2dycKImxhAV5LSi48jGUAgY+5aQr4ZQAsOcMMs9RhA",
          "dtype": "f8"
         },
         "yaxis": "y"
        },
        {
         "alignmentgroup": "True",
         "customdata": [
          "Action",
          "Action",
          "Action",
          "Action",
          "Action",
          "Action",
          "Action",
          "Action",
          "Action",
          "Action",
          "Action",
          "Action",
          "Action",
          "Action",
          "Action"
         ],
         "hovertemplate": "<b>Genre:</b> %{customdata}<br><b>Jahr:</b> %{x}<br><b>Bewertung:</b> %{y:.2f}<extra></extra>",
         "legendgroup": "Action",
         "marker": {
          "color": "#19d3f3",
          "pattern": {
           "shape": ""
          }
         },
         "name": "Action",
         "offsetgroup": "Action",
         "orientation": "v",
         "showlegend": true,
         "textposition": "auto",
         "type": "bar",
         "x": {
          "bdata": "2gcAANsHAADcBwAA3QcAAN4HAADfBwAA4AcAAOEHAADiBwAA4wcAAOQHAADlBwAA5gcAAOcHAADoBwAA",
          "dtype": "i4"
         },
         "xaxis": "x",
         "y": {
          "bdata": "mG4Sg8DqGEByaJHtfH8YQI8KBeDCIxlAxTfOm9s+GEAQWDm0yD4ZQDLXuo5m/RlAyWv9fe1LGEBS7MZydfsZQMc1Bvb8+RlAFhzghlmqGUCf5Xlwd9YaQDyPLFoviRtAr5ALIM4VG0CgJYu6VOgaQNb8jgAjXBpA",
          "dtype": "f8"
         },
         "yaxis": "y"
        },
        {
         "alignmentgroup": "True",
         "customdata": [
          "Comedy",
          "Comedy",
          "Comedy",
          "Comedy",
          "Comedy",
          "Comedy",
          "Comedy",
          "Comedy",
          "Comedy",
          "Comedy",
          "Comedy",
          "Comedy",
          "Comedy",
          "Comedy",
          "Comedy"
         ],
         "hovertemplate": "<b>Genre:</b> %{customdata}<br><b>Jahr:</b> %{x}<br><b>Bewertung:</b> %{y:.2f}<extra></extra>",
         "legendgroup": "Comedy",
         "marker": {
          "color": "#FF6692",
          "pattern": {
           "shape": ""
          }
         },
         "name": "Comedy",
         "offsetgroup": "Comedy",
         "orientation": "v",
         "showlegend": true,
         "textposition": "auto",
         "type": "bar",
         "x": {
          "bdata": "2gcAANsHAADcBwAA3QcAAN4HAADfBwAA4AcAAOEHAADiBwAA4wcAAOQHAADlBwAA5gcAAOcHAADoBwAA",
          "dtype": "i4"
         },
         "xaxis": "x",
         "y": {
          "bdata": "rIlnRSPBF0CJ+jdCGW0YQKESAbXASBZAZ3bJYDzcF0DUmuYdpwgZQJGOwW32WBhAYOXQItuZGUCTuxenad8YQBeQyWf/YhpAjY2NjY0NGkAZBFYOLTIaQKx9w9o37BtAcx+MXSg/GkDqJjEIrNwZQFqGONbFbRpA",
          "dtype": "f8"
         },
         "yaxis": "y"
        },
        {
         "alignmentgroup": "True",
         "customdata": [
          "Western",
          "Western",
          "Western",
          "Western",
          "Western",
          "Western"
         ],
         "hovertemplate": "<b>Genre:</b> %{customdata}<br><b>Jahr:</b> %{x}<br><b>Bewertung:</b> %{y:.2f}<extra></extra>",
         "legendgroup": "Western",
         "marker": {
          "color": "#B6E880",
          "pattern": {
           "shape": ""
          }
         },
         "name": "Western",
         "offsetgroup": "Western",
         "orientation": "v",
         "showlegend": true,
         "textposition": "auto",
         "type": "bar",
         "x": {
          "bdata": "2gcAANwHAADfBwAA4gcAAOQHAADlBwAA",
          "dtype": "i4"
         },
         "xaxis": "x",
         "y": {
          "bdata": "ukkMAiuHH0AQWDm0yPYUQClcj8L16BlAPzVeukmMHEBt5/up8dIbQAaBlUOL7BpA",
          "dtype": "f8"
         },
         "yaxis": "y"
        },
        {
         "alignmentgroup": "True",
         "customdata": [
          "Thriller",
          "Thriller",
          "Thriller",
          "Thriller",
          "Thriller",
          "Thriller",
          "Thriller",
          "Thriller",
          "Thriller",
          "Thriller",
          "Thriller",
          "Thriller",
          "Thriller",
          "Thriller",
          "Thriller"
         ],
         "hovertemplate": "<b>Genre:</b> %{customdata}<br><b>Jahr:</b> %{x}<br><b>Bewertung:</b> %{y:.2f}<extra></extra>",
         "legendgroup": "Thriller",
         "marker": {
          "color": "#FF97FF",
          "pattern": {
           "shape": ""
          }
         },
         "name": "Thriller",
         "offsetgroup": "Thriller",
         "orientation": "v",
         "showlegend": true,
         "textposition": "auto",
         "type": "bar",
         "x": {
          "bdata": "2gcAANsHAADcBwAA3QcAAN4HAADfBwAA4AcAAOEHAADiBwAA4wcAAOQHAADlBwAA5gcAAOcHAADoBwAA",
          "dtype": "i4"
         },
         "xaxis": "x",
         "y": {
          "bdata": "GEt+seQXGkA/NV66SWwXQFpkO99PDRhAp9KQc59dG0BtoNMGOi0ZQMdxHMdxnBhAV+cYkL1eGEBaZDvfT3UZQDUBzppndBhAdZMYBFaOGkBKztQXgHAaQP7UeOkmsRlAnH34DLsyGUBDPPmQYFwaQPT91HjpFhpA",
          "dtype": "f8"
         },
         "yaxis": "y"
        },
        {
         "alignmentgroup": "True",
         "customdata": [
          "Crime",
          "Crime",
          "Crime",
          "Crime",
          "Crime",
          "Crime",
          "Crime",
          "Crime",
          "Crime",
          "Crime",
          "Crime",
          "Crime",
          "Crime",
          "Crime",
          "Crime"
         ],
         "hovertemplate": "<b>Genre:</b> %{customdata}<br><b>Jahr:</b> %{x}<br><b>Bewertung:</b> %{y:.2f}<extra></extra>",
         "legendgroup": "Crime",
         "marker": {
          "color": "#FECB52",
          "pattern": {
           "shape": ""
          }
         },
         "name": "Crime",
         "offsetgroup": "Crime",
         "orientation": "v",
         "showlegend": true,
         "textposition": "auto",
         "type": "bar",
         "x": {
          "bdata": "2gcAANsHAADcBwAA3QcAAN4HAADfBwAA4AcAAOEHAADiBwAA4wcAAOQHAADlBwAA5gcAAOcHAADoBwAA",
          "dtype": "i4"
         },
         "xaxis": "x",
         "y": {
          "bdata": "rBxaZDsfGUAVZx8+wy4YQIbKDlOX2xlAqMZLN4mRGkDTClGBUjIZQCPb+X5qPB1ACKwcWmS7GkApXI/C9UgZQB7kGDKS4BhAWHCAG2apGkCqYFRSJ6AaQHNoke18vxpAg8DKoUWeGkAqX713wU0bQJvmHafoqBpA",
          "dtype": "f8"
         },
         "yaxis": "y"
        },
        {
         "alignmentgroup": "True",
         "customdata": [
          "Documentary",
          "Documentary",
          "Documentary",
          "Documentary",
          "Documentary",
          "Documentary",
          "Documentary",
          "Documentary",
          "Documentary",
          "Documentary",
          "Documentary",
          "Documentary",
          "Documentary",
          "Documentary"
         ],
         "hovertemplate": "<b>Genre:</b> %{customdata}<br><b>Jahr:</b> %{x}<br><b>Bewertung:</b> %{y:.2f}<extra></extra>",
         "legendgroup": "Documentary",
         "marker": {
          "color": "#636efa",
          "pattern": {
           "shape": ""
          }
         },
         "name": "Documentary",
         "offsetgroup": "Documentary",
         "orientation": "v",
         "showlegend": true,
         "textposition": "auto",
         "type": "bar",
         "x": {
          "bdata": "2gcAANsHAADcBwAA3QcAAN4HAADfBwAA4AcAAOEHAADiBwAA4wcAAOQHAADlBwAA5gcAAOcHAAA=",
          "dtype": "i4"
         },
         "xaxis": "x",
         "y": {
          "bdata": "OrTIdr6fG0D+1HjpJvEZQMP1KFyPQh1AXrpJDAIrHEDF3Z7jYsobQBsv3SQGoRtA8Rl2Bci9G0BmZmZmZgYaQJDC9ShczxxATmIQWDn0HEDuoiRzjnYeQECnDXTawBpALPnFkl+sG0CIz7ArQG4bQA==",
          "dtype": "f8"
         },
         "yaxis": "y"
        },
        {
         "alignmentgroup": "True",
         "customdata": [
          "Science Fiction",
          "Science Fiction",
          "Science Fiction",
          "Science Fiction",
          "Science Fiction",
          "Science Fiction",
          "Science Fiction",
          "Science Fiction",
          "Science Fiction",
          "Science Fiction",
          "Science Fiction",
          "Science Fiction",
          "Science Fiction",
          "Science Fiction",
          "Science Fiction"
         ],
         "hovertemplate": "<b>Genre:</b> %{customdata}<br><b>Jahr:</b> %{x}<br><b>Bewertung:</b> %{y:.2f}<extra></extra>",
         "legendgroup": "Science Fiction",
         "marker": {
          "color": "#EF553B",
          "pattern": {
           "shape": ""
          }
         },
         "name": "Science Fiction",
         "offsetgroup": "Science Fiction",
         "orientation": "v",
         "showlegend": true,
         "textposition": "auto",
         "type": "bar",
         "x": {
          "bdata": "2gcAANsHAADcBwAA3QcAAN4HAADfBwAA4AcAAOEHAADiBwAA4wcAAOQHAADlBwAA5gcAAOcHAADoBwAA",
          "dtype": "i4"
         },
         "xaxis": "x",
         "y": {
          "bdata": "6iYxCKzcHEDwYJ6of6MXQHUCmggbHhlACWX0tqxVGECsHFpkO/8bQIDkmVaIChlAFfoRXdsMF0Bll1f0Wc0ZQNKJqC0Z6xlAF9nO91NTGUBSuB6F61EbQE1iEFg5lBpA6iYxCKysGkDr3iFRRQgbQEs3iUFgpRlA",
          "dtype": "f8"
         },
         "yaxis": "y"
        },
        {
         "alignmentgroup": "True",
         "customdata": [
          "Mystery",
          "Mystery",
          "Mystery",
          "Mystery",
          "Mystery",
          "Mystery",
          "Mystery",
          "Mystery",
          "Mystery",
          "Mystery",
          "Mystery",
          "Mystery",
          "Mystery",
          "Mystery",
          "Mystery"
         ],
         "hovertemplate": "<b>Genre:</b> %{customdata}<br><b>Jahr:</b> %{x}<br><b>Bewertung:</b> %{y:.2f}<extra></extra>",
         "legendgroup": "Mystery",
         "marker": {
          "color": "#00cc96",
          "pattern": {
           "shape": ""
          }
         },
         "name": "Mystery",
         "offsetgroup": "Mystery",
         "orientation": "v",
         "showlegend": true,
         "textposition": "auto",
         "type": "bar",
         "x": {
          "bdata": "2gcAANsHAADcBwAA3QcAAN4HAADfBwAA4AcAAOEHAADiBwAA4wcAAOQHAADlBwAA5gcAAOcHAADoBwAA",
          "dtype": "i4"
         },
         "xaxis": "x",
         "y": {
          "bdata": "zBP1b4QyG0AijnVxG40XQFnyiyW/WBhAEoPAyqHFGUAIrBxaZLsfQJ7Nqs/V1hpAn6h/I5RRGECcxCCwcggaQBD3zz3MqRhA8tJNYhAIGkCz42dusRkaQJ7Nqs/VVhlAWmQ7309NGkCkcD0K1yMZQCUGgZVDaxhA",
          "dtype": "f8"
         },
         "yaxis": "y"
        },
        {
         "alignmentgroup": "True",
         "customdata": [
          "Music",
          "Music",
          "Music",
          "Music",
          "Music",
          "Music",
          "Music",
          "Music",
          "Music",
          "Music",
          "Music",
          "Music",
          "Music",
          "Music"
         ],
         "hovertemplate": "<b>Genre:</b> %{customdata}<br><b>Jahr:</b> %{x}<br><b>Bewertung:</b> %{y:.2f}<extra></extra>",
         "legendgroup": "Music",
         "marker": {
          "color": "#ab63fa",
          "pattern": {
           "shape": ""
          }
         },
         "name": "Music",
         "offsetgroup": "Music",
         "orientation": "v",
         "showlegend": true,
         "textposition": "auto",
         "type": "bar",
         "x": {
          "bdata": "2gcAANsHAADcBwAA3gcAAN8HAADgBwAA4QcAAOIHAADjBwAA5AcAAOUHAADmBwAA5wcAAOgHAAA=",
          "dtype": "i4"
         },
         "xaxis": "x",
         "y": {
          "bdata": "MzMzMzMzEUDn+6nx0s0WQIlBYOXQIh1AMzMzMzMzHEAD5F5zIakZQFUOLbKdbxtAwMqhRbbzGkDBPFH/RqgaQE2pOPvwmRxALdSa5h0nHUBmZmZmZmYeQG4Sg8DKYRtAEoPAyqFFGUApXI/C9agaQA==",
          "dtype": "f8"
         },
         "yaxis": "y"
        },
        {
         "alignmentgroup": "True",
         "customdata": [
          "Romance",
          "Romance",
          "Romance",
          "Romance",
          "Romance",
          "Romance",
          "Romance",
          "Romance",
          "Romance",
          "Romance",
          "Romance",
          "Romance",
          "Romance",
          "Romance",
          "Romance"
         ],
         "hovertemplate": "<b>Genre:</b> %{customdata}<br><b>Jahr:</b> %{x}<br><b>Bewertung:</b> %{y:.2f}<extra></extra>",
         "legendgroup": "Romance",
         "marker": {
          "color": "#FFA15A",
          "pattern": {
           "shape": ""
          }
         },
         "name": "Romance",
         "offsetgroup": "Romance",
         "orientation": "v",
         "showlegend": true,
         "textposition": "auto",
         "type": "bar",
         "x": {
          "bdata": "2gcAANsHAADcBwAA3QcAAN4HAADfBwAA4AcAAOEHAADiBwAA4wcAAOQHAADlBwAA5gcAAOcHAADoBwAA",
          "dtype": "i4"
         },
         "xaxis": "x",
         "y": {
          "bdata": "PXfkhFjfGECtwzuhIvoYQLByaJHtfBhAPRYc4IbZGUDZSlJ68fEXQEXY8PRKmRhASjo+fW1xGUAFVg4tsp0aQJMYBFYOrRpAd76fGi9dGUA9ncnCiNsbQJJ3MTbo7htASQwCK4dWGkAaCx8getUZQAqL2fTcERtA",
          "dtype": "f8"
         },
         "yaxis": "y"
        },
        {
         "alignmentgroup": "True",
         "customdata": [
          "Family",
          "Family",
          "Family",
          "Family",
          "Family",
          "Family",
          "Family",
          "Family",
          "Family",
          "Family",
          "Family",
          "Family",
          "Family",
          "Family",
          "Family"
         ],
         "hovertemplate": "<b>Genre:</b> %{customdata}<br><b>Jahr:</b> %{x}<br><b>Bewertung:</b> %{y:.2f}<extra></extra>",
         "legendgroup": "Family",
         "marker": {
          "color": "#19d3f3",
          "pattern": {
           "shape": ""
          }
         },
         "name": "Family",
         "offsetgroup": "Family",
         "orientation": "v",
         "showlegend": true,
         "textposition": "auto",
         "type": "bar",
         "x": {
          "bdata": "2gcAANsHAADcBwAA3QcAAN4HAADfBwAA4AcAAOEHAADiBwAA4wcAAOQHAADlBwAA5gcAAOcHAADoBwAA",
          "dtype": "i4"
         },
         "xaxis": "x",
         "y": {
          "bdata": "+zpwzohSGUBa9bnain0XQKtjggfzxBtAmpmZmZlZGEClZPjNwAcaQNejcD0KVxlAM/AhpC0sGkAYBFYOLVIaQMteNCfu9htAJzEIrBzaG0ATPJgn6n8bQAAAAAAAYBxApN++DpxzGUA0j6vX/+gbQN/F2KC7ARxA",
          "dtype": "f8"
         },
         "yaxis": "y"
        },
        {
         "alignmentgroup": "True",
         "customdata": [
          "TV Movie",
          "TV Movie",
          "TV Movie",
          "TV Movie",
          "TV Movie",
          "TV Movie",
          "TV Movie",
          "TV Movie",
          "TV Movie",
          "TV Movie",
          "TV Movie"
         ],
         "hovertemplate": "<b>Genre:</b> %{customdata}<br><b>Jahr:</b> %{x}<br><b>Bewertung:</b> %{y:.2f}<extra></extra>",
         "legendgroup": "TV Movie",
         "marker": {
          "color": "#FF6692",
          "pattern": {
           "shape": ""
          }
         },
         "name": "TV Movie",
         "offsetgroup": "TV Movie",
         "orientation": "v",
         "showlegend": true,
         "textposition": "auto",
         "type": "bar",
         "x": {
          "bdata": "2gcAANsHAADcBwAA3QcAAN4HAADfBwAA4AcAAOIHAADjBwAA5AcAAOUHAAA=",
          "dtype": "i4"
         },
         "xaxis": "x",
         "y": {
          "bdata": "Itv5fmp8HEBmZmZmZmYYQIxs5/upsRdA8tJNYhBYD0ATPJgn6l8aQPV3slremBpADAIrhxbZGUAK16NwPQobQGZmZmZmZhpAyXa+nxpvHkDfT42XbtIeQA==",
          "dtype": "f8"
         },
         "yaxis": "y"
        },
        {
         "alignmentgroup": "True",
         "customdata": [
          "History",
          "History",
          "History",
          "History",
          "History",
          "History",
          "History",
          "History",
          "History",
          "History",
          "History",
          "History",
          "History",
          "History"
         ],
         "hovertemplate": "<b>Genre:</b> %{customdata}<br><b>Jahr:</b> %{x}<br><b>Bewertung:</b> %{y:.2f}<extra></extra>",
         "legendgroup": "History",
         "marker": {
          "color": "#B6E880",
          "pattern": {
           "shape": ""
          }
         },
         "name": "History",
         "offsetgroup": "History",
         "orientation": "v",
         "showlegend": true,
         "textposition": "auto",
         "type": "bar",
         "x": {
          "bdata": "2wcAANwHAADdBwAA3gcAAN8HAADgBwAA4QcAAOIHAADjBwAA5AcAAOUHAADmBwAA5wcAAOgHAAA=",
          "dtype": "i4"
         },
         "xaxis": "x",
         "y": {
          "bdata": "16NwPQrXF0CamZmZmZkaQPT91HjpJh9AvLu7u7u7G0Dl0CLb+T4cQJhuEoPAShxA65jgwTzRGkACK4cW2Q4bQKdCpl2XjRxAtMh2vp+aHED1KFyPwvUcQPCnxks3KR1AbOf7qfHSGUDdJAaBlVMaQA==",
          "dtype": "f8"
         },
         "yaxis": "y"
        },
        {
         "alignmentgroup": "True",
         "customdata": [
          "War",
          "War",
          "War",
          "War",
          "War",
          "War",
          "War",
          "War",
          "War",
          "War",
          "War",
          "War"
         ],
         "hovertemplate": "<b>Genre:</b> %{customdata}<br><b>Jahr:</b> %{x}<br><b>Bewertung:</b> %{y:.2f}<extra></extra>",
         "legendgroup": "War",
         "marker": {
          "color": "#FF97FF",
          "pattern": {
           "shape": ""
          }
         },
         "name": "War",
         "offsetgroup": "War",
         "orientation": "v",
         "showlegend": true,
         "textposition": "auto",
         "type": "bar",
         "x": {
          "bdata": "2wcAAN0HAADeBwAA3wcAAOAHAADhBwAA4gcAAOMHAADkBwAA5gcAAOcHAADoBwAA",
          "dtype": "i4"
         },
         "xaxis": "x",
         "y": {
          "bdata": "MzMzMzOzF0D0/dR46SYfQCCwcmiRrRpAke18PzVeHkCTXyz5xRIdQHsUrkfh2hhAHVpkO99PG0CNl24Sg0AbQCSU0duyVhpAdUzwYJ6oHUDwYJ6of6McQPYoXI/C9RxA",
          "dtype": "f8"
         },
         "yaxis": "y"
        }
       ],
       "layout": {
        "barmode": "group",
        "hovermode": "closest",
        "legend": {
         "orientation": "v",
         "title": {
          "text": "Genre"
         },
         "tracegroupgap": 0,
         "x": 1.02,
         "y": 1
        },
        "template": {
         "data": {
          "bar": [
           {
            "error_x": {
             "color": "#2a3f5f"
            },
            "error_y": {
             "color": "#2a3f5f"
            },
            "marker": {
             "line": {
              "color": "#E5ECF6",
              "width": 0.5
             },
             "pattern": {
              "fillmode": "overlay",
              "size": 10,
              "solidity": 0.2
             }
            },
            "type": "bar"
           }
          ],
          "barpolar": [
           {
            "marker": {
             "line": {
              "color": "#E5ECF6",
              "width": 0.5
             },
             "pattern": {
              "fillmode": "overlay",
              "size": 10,
              "solidity": 0.2
             }
            },
            "type": "barpolar"
           }
          ],
          "carpet": [
           {
            "aaxis": {
             "endlinecolor": "#2a3f5f",
             "gridcolor": "white",
             "linecolor": "white",
             "minorgridcolor": "white",
             "startlinecolor": "#2a3f5f"
            },
            "baxis": {
             "endlinecolor": "#2a3f5f",
             "gridcolor": "white",
             "linecolor": "white",
             "minorgridcolor": "white",
             "startlinecolor": "#2a3f5f"
            },
            "type": "carpet"
           }
          ],
          "choropleth": [
           {
            "colorbar": {
             "outlinewidth": 0,
             "ticks": ""
            },
            "type": "choropleth"
           }
          ],
          "contour": [
           {
            "colorbar": {
             "outlinewidth": 0,
             "ticks": ""
            },
            "colorscale": [
             [
              0,
              "#0d0887"
             ],
             [
              0.1111111111111111,
              "#46039f"
             ],
             [
              0.2222222222222222,
              "#7201a8"
             ],
             [
              0.3333333333333333,
              "#9c179e"
             ],
             [
              0.4444444444444444,
              "#bd3786"
             ],
             [
              0.5555555555555556,
              "#d8576b"
             ],
             [
              0.6666666666666666,
              "#ed7953"
             ],
             [
              0.7777777777777778,
              "#fb9f3a"
             ],
             [
              0.8888888888888888,
              "#fdca26"
             ],
             [
              1,
              "#f0f921"
             ]
            ],
            "type": "contour"
           }
          ],
          "contourcarpet": [
           {
            "colorbar": {
             "outlinewidth": 0,
             "ticks": ""
            },
            "type": "contourcarpet"
           }
          ],
          "heatmap": [
           {
            "colorbar": {
             "outlinewidth": 0,
             "ticks": ""
            },
            "colorscale": [
             [
              0,
              "#0d0887"
             ],
             [
              0.1111111111111111,
              "#46039f"
             ],
             [
              0.2222222222222222,
              "#7201a8"
             ],
             [
              0.3333333333333333,
              "#9c179e"
             ],
             [
              0.4444444444444444,
              "#bd3786"
             ],
             [
              0.5555555555555556,
              "#d8576b"
             ],
             [
              0.6666666666666666,
              "#ed7953"
             ],
             [
              0.7777777777777778,
              "#fb9f3a"
             ],
             [
              0.8888888888888888,
              "#fdca26"
             ],
             [
              1,
              "#f0f921"
             ]
            ],
            "type": "heatmap"
           }
          ],
          "histogram": [
           {
            "marker": {
             "pattern": {
              "fillmode": "overlay",
              "size": 10,
              "solidity": 0.2
             }
            },
            "type": "histogram"
           }
          ],
          "histogram2d": [
           {
            "colorbar": {
             "outlinewidth": 0,
             "ticks": ""
            },
            "colorscale": [
             [
              0,
              "#0d0887"
             ],
             [
              0.1111111111111111,
              "#46039f"
             ],
             [
              0.2222222222222222,
              "#7201a8"
             ],
             [
              0.3333333333333333,
              "#9c179e"
             ],
             [
              0.4444444444444444,
              "#bd3786"
             ],
             [
              0.5555555555555556,
              "#d8576b"
             ],
             [
              0.6666666666666666,
              "#ed7953"
             ],
             [
              0.7777777777777778,
              "#fb9f3a"
             ],
             [
              0.8888888888888888,
              "#fdca26"
             ],
             [
              1,
              "#f0f921"
             ]
            ],
            "type": "histogram2d"
           }
          ],
          "histogram2dcontour": [
           {
            "colorbar": {
             "outlinewidth": 0,
             "ticks": ""
            },
            "colorscale": [
             [
              0,
              "#0d0887"
             ],
             [
              0.1111111111111111,
              "#46039f"
             ],
             [
              0.2222222222222222,
              "#7201a8"
             ],
             [
              0.3333333333333333,
              "#9c179e"
             ],
             [
              0.4444444444444444,
              "#bd3786"
             ],
             [
              0.5555555555555556,
              "#d8576b"
             ],
             [
              0.6666666666666666,
              "#ed7953"
             ],
             [
              0.7777777777777778,
              "#fb9f3a"
             ],
             [
              0.8888888888888888,
              "#fdca26"
             ],
             [
              1,
              "#f0f921"
             ]
            ],
            "type": "histogram2dcontour"
           }
          ],
          "mesh3d": [
           {
            "colorbar": {
             "outlinewidth": 0,
             "ticks": ""
            },
            "type": "mesh3d"
           }
          ],
          "parcoords": [
           {
            "line": {
             "colorbar": {
              "outlinewidth": 0,
              "ticks": ""
             }
            },
            "type": "parcoords"
           }
          ],
          "pie": [
           {
            "automargin": true,
            "type": "pie"
           }
          ],
          "scatter": [
           {
            "fillpattern": {
             "fillmode": "overlay",
             "size": 10,
             "solidity": 0.2
            },
            "type": "scatter"
           }
          ],
          "scatter3d": [
           {
            "line": {
             "colorbar": {
              "outlinewidth": 0,
              "ticks": ""
             }
            },
            "marker": {
             "colorbar": {
              "outlinewidth": 0,
              "ticks": ""
             }
            },
            "type": "scatter3d"
           }
          ],
          "scattercarpet": [
           {
            "marker": {
             "colorbar": {
              "outlinewidth": 0,
              "ticks": ""
             }
            },
            "type": "scattercarpet"
           }
          ],
          "scattergeo": [
           {
            "marker": {
             "colorbar": {
              "outlinewidth": 0,
              "ticks": ""
             }
            },
            "type": "scattergeo"
           }
          ],
          "scattergl": [
           {
            "marker": {
             "colorbar": {
              "outlinewidth": 0,
              "ticks": ""
             }
            },
            "type": "scattergl"
           }
          ],
          "scattermap": [
           {
            "marker": {
             "colorbar": {
              "outlinewidth": 0,
              "ticks": ""
             }
            },
            "type": "scattermap"
           }
          ],
          "scattermapbox": [
           {
            "marker": {
             "colorbar": {
              "outlinewidth": 0,
              "ticks": ""
             }
            },
            "type": "scattermapbox"
           }
          ],
          "scatterpolar": [
           {
            "marker": {
             "colorbar": {
              "outlinewidth": 0,
              "ticks": ""
             }
            },
            "type": "scatterpolar"
           }
          ],
          "scatterpolargl": [
           {
            "marker": {
             "colorbar": {
              "outlinewidth": 0,
              "ticks": ""
             }
            },
            "type": "scatterpolargl"
           }
          ],
          "scatterternary": [
           {
            "marker": {
             "colorbar": {
              "outlinewidth": 0,
              "ticks": ""
             }
            },
            "type": "scatterternary"
           }
          ],
          "surface": [
           {
            "colorbar": {
             "outlinewidth": 0,
             "ticks": ""
            },
            "colorscale": [
             [
              0,
              "#0d0887"
             ],
             [
              0.1111111111111111,
              "#46039f"
             ],
             [
              0.2222222222222222,
              "#7201a8"
             ],
             [
              0.3333333333333333,
              "#9c179e"
             ],
             [
              0.4444444444444444,
              "#bd3786"
             ],
             [
              0.5555555555555556,
              "#d8576b"
             ],
             [
              0.6666666666666666,
              "#ed7953"
             ],
             [
              0.7777777777777778,
              "#fb9f3a"
             ],
             [
              0.8888888888888888,
              "#fdca26"
             ],
             [
              1,
              "#f0f921"
             ]
            ],
            "type": "surface"
           }
          ],
          "table": [
           {
            "cells": {
             "fill": {
              "color": "#EBF0F8"
             },
             "line": {
              "color": "white"
             }
            },
            "header": {
             "fill": {
              "color": "#C8D4E3"
             },
             "line": {
              "color": "white"
             }
            },
            "type": "table"
           }
          ]
         },
         "layout": {
          "annotationdefaults": {
           "arrowcolor": "#2a3f5f",
           "arrowhead": 0,
           "arrowwidth": 1
          },
          "autotypenumbers": "strict",
          "coloraxis": {
           "colorbar": {
            "outlinewidth": 0,
            "ticks": ""
           }
          },
          "colorscale": {
           "diverging": [
            [
             0,
             "#8e0152"
            ],
            [
             0.1,
             "#c51b7d"
            ],
            [
             0.2,
             "#de77ae"
            ],
            [
             0.3,
             "#f1b6da"
            ],
            [
             0.4,
             "#fde0ef"
            ],
            [
             0.5,
             "#f7f7f7"
            ],
            [
             0.6,
             "#e6f5d0"
            ],
            [
             0.7,
             "#b8e186"
            ],
            [
             0.8,
             "#7fbc41"
            ],
            [
             0.9,
             "#4d9221"
            ],
            [
             1,
             "#276419"
            ]
           ],
           "sequential": [
            [
             0,
             "#0d0887"
            ],
            [
             0.1111111111111111,
             "#46039f"
            ],
            [
             0.2222222222222222,
             "#7201a8"
            ],
            [
             0.3333333333333333,
             "#9c179e"
            ],
            [
             0.4444444444444444,
             "#bd3786"
            ],
            [
             0.5555555555555556,
             "#d8576b"
            ],
            [
             0.6666666666666666,
             "#ed7953"
            ],
            [
             0.7777777777777778,
             "#fb9f3a"
            ],
            [
             0.8888888888888888,
             "#fdca26"
            ],
            [
             1,
             "#f0f921"
            ]
           ],
           "sequentialminus": [
            [
             0,
             "#0d0887"
            ],
            [
             0.1111111111111111,
             "#46039f"
            ],
            [
             0.2222222222222222,
             "#7201a8"
            ],
            [
             0.3333333333333333,
             "#9c179e"
            ],
            [
             0.4444444444444444,
             "#bd3786"
            ],
            [
             0.5555555555555556,
             "#d8576b"
            ],
            [
             0.6666666666666666,
             "#ed7953"
            ],
            [
             0.7777777777777778,
             "#fb9f3a"
            ],
            [
             0.8888888888888888,
             "#fdca26"
            ],
            [
             1,
             "#f0f921"
            ]
           ]
          },
          "colorway": [
           "#636efa",
           "#EF553B",
           "#00cc96",
           "#ab63fa",
           "#FFA15A",
           "#19d3f3",
           "#FF6692",
           "#B6E880",
           "#FF97FF",
           "#FECB52"
          ],
          "font": {
           "color": "#2a3f5f"
          },
          "geo": {
           "bgcolor": "white",
           "lakecolor": "white",
           "landcolor": "#E5ECF6",
           "showlakes": true,
           "showland": true,
           "subunitcolor": "white"
          },
          "hoverlabel": {
           "align": "left"
          },
          "hovermode": "closest",
          "mapbox": {
           "style": "light"
          },
          "paper_bgcolor": "white",
          "plot_bgcolor": "#E5ECF6",
          "polar": {
           "angularaxis": {
            "gridcolor": "white",
            "linecolor": "white",
            "ticks": ""
           },
           "bgcolor": "#E5ECF6",
           "radialaxis": {
            "gridcolor": "white",
            "linecolor": "white",
            "ticks": ""
           }
          },
          "scene": {
           "xaxis": {
            "backgroundcolor": "#E5ECF6",
            "gridcolor": "white",
            "gridwidth": 2,
            "linecolor": "white",
            "showbackground": true,
            "ticks": "",
            "zerolinecolor": "white"
           },
           "yaxis": {
            "backgroundcolor": "#E5ECF6",
            "gridcolor": "white",
            "gridwidth": 2,
            "linecolor": "white",
            "showbackground": true,
            "ticks": "",
            "zerolinecolor": "white"
           },
           "zaxis": {
            "backgroundcolor": "#E5ECF6",
            "gridcolor": "white",
            "gridwidth": 2,
            "linecolor": "white",
            "showbackground": true,
            "ticks": "",
            "zerolinecolor": "white"
           }
          },
          "shapedefaults": {
           "line": {
            "color": "#2a3f5f"
           }
          },
          "ternary": {
           "aaxis": {
            "gridcolor": "white",
            "linecolor": "white",
            "ticks": ""
           },
           "baxis": {
            "gridcolor": "white",
            "linecolor": "white",
            "ticks": ""
           },
           "bgcolor": "#E5ECF6",
           "caxis": {
            "gridcolor": "white",
            "linecolor": "white",
            "ticks": ""
           }
          },
          "title": {
           "x": 0.05
          },
          "xaxis": {
           "automargin": true,
           "gridcolor": "white",
           "linecolor": "white",
           "ticks": "",
           "title": {
            "standoff": 15
           },
           "zerolinecolor": "white",
           "zerolinewidth": 2
          },
          "yaxis": {
           "automargin": true,
           "gridcolor": "white",
           "linecolor": "white",
           "ticks": "",
           "title": {
            "standoff": 15
           },
           "zerolinecolor": "white",
           "zerolinewidth": 2
          }
         }
        },
        "title": {
         "text": "Durchschnittliche Bewertung pro Genre und Jahr (interaktiv)"
        },
        "xaxis": {
         "anchor": "y",
         "domain": [
          0,
          1
         ],
         "rangeslider": {
          "visible": true
         },
         "title": {
          "text": "Jahr"
         },
         "type": "category"
        },
        "yaxis": {
         "anchor": "x",
         "domain": [
          0,
          1
         ],
         "title": {
          "text": "Durchschnittliche Bewertung"
         }
        }
       }
      },
      "image/png": "[encoded data removed]"
     },
     "metadata": {},
     "output_type": "display_data"
    }
   ],
   "source": [
    "# Ganz oben, falls noch nicht geschehen\n",
    "import json\n",
    "from pathlib import Path\n",
    "import pandas as pd\n",
    "from tmdb.genre import Genre\n",
    "from config.config import TMDB_BEARER_TOKEN, TMDB_API_KEY\n",
    "import plotly.express as px\n",
    "# Basis-Pfad (muss bei dir schon definiert sein)\n",
    "BASE = Path().resolve().parent  # oder wie du es vorher hattest\n",
    "\n",
    "# 1) Genre JSON holen und speichern\n",
    "PATH_TO_SAVE_GENRES = BASE / \"data/processed/fragestellung_02/all_genres.json\"\n",
    "genre = Genre(TMDB_BEARER_TOKEN)\n",
    "all_genres = genre.get_movie()\n",
    "\n",
    "with open(PATH_TO_SAVE_GENRES, \"w\", encoding=\"utf-8\") as f:\n",
    "    json.dump(all_genres, f)\n",
    "import plotly.express as px\n",
    "\n",
    "def plot_interactive_genre(df_grouped):\n",
    "    fig = px.bar(\n",
    "        df_grouped,\n",
    "        x='release_date',\n",
    "        y='avg_rating',\n",
    "        color='genre_name',\n",
    "        barmode='group',\n",
    "        labels={\n",
    "            'release_date': 'Jahr',\n",
    "            'avg_rating': 'Durchschnittliche Bewertung',\n",
    "            'genre_name': 'Genre'\n",
    "        },\n",
    "        title='Durchschnittliche Bewertung pro Genre und Jahr (interaktiv)'\n",
    "    )\n",
    "    for trace in fig.data:\n",
    "        genre = trace.name\n",
    "        trace.customdata = [genre] * len(trace.x)\n",
    "        trace.hovertemplate = (\n",
    "            '<b>Genre:</b> %{customdata}<br>'\n",
    "            '<b>Jahr:</b> %{x}<br>'\n",
    "            '<b>Bewertung:</b> %{y:.2f}<extra></extra>'\n",
    "        )\n",
    "    fig.update_layout(\n",
    "        xaxis=dict(rangeslider=dict(visible=True), type='category'),\n",
    "        hovermode='closest',\n",
    "        legend=dict(title='Genre', orientation='v', x=1.02, y=1)\n",
    "    )\n",
    "    return fig\n",
    "\n",
    "# 2) DataFrame der Genres\n",
    "df_genres = pd.DataFrame(all_genres[\"genres\"])\n",
    "df_genres = df_genres[[\"id\", \"name\"]]\n",
    "df_genres.columns = [\"genre_ids\", \"genre_name\"]\n",
    "\n",
    "# 3) Merge in df_grouped und dabei alte genre_name-Spalte vorher entfernen\n",
    "#    (sonst bekommst Du _x und _y Suffixe)\n",
    "if \"genre_name\" in df_grouped.columns:\n",
    "    df_grouped = df_grouped.drop(columns=[\"genre_name\"])\n",
    "\n",
    "df_grouped = df_grouped.merge(\n",
    "    df_genres,\n",
    "    on=\"genre_ids\",\n",
    "    how=\"left\"\n",
    ")\n",
    "fig = plot_interactive_genre(df_grouped)\n",
    "fig.show()"
   ]
  },
  {
   "cell_type": "markdown",
   "id": "a64d54bd-04b0-40f9-9310-b2cfaa0b6b4d",
   "metadata": {},
   "source": [
    "### Heatmap der Durschnittlichen Bewertungen pro Genre und Jahr"
   ]
  },
  {
   "cell_type": "code",
   "execution_count": 22,
   "id": "fa621127e76fc2a6",
   "metadata": {
    "ExecuteTime": {
     "end_time": "2025-05-19T14:20:06.340592Z",
     "start_time": "2025-05-19T14:20:06.136281Z"
    }
   },
   "outputs": [
    {
     "data": {
      "application/vnd.plotly.v1+json": {
       "config": {
        "plotlyServerURL": "https://plot.ly"
       },
       "data": [
        {
         "coloraxis": "coloraxis",
         "hovertemplate": "<b>Genre:</b> %{y}<br><b>Jahr:</b> %{x}<br><b>Bewertung:</b> %{z:.2f}<extra></extra>",
         "name": "0",
         "type": "heatmap",
         "x": {
          "bdata": "2gcAANsHAADcBwAA3QcAAN4HAADfBwAA4AcAAOEHAADiBwAA4wcAAOQHAADlBwAA5gcAAOcHAADoBwAA",
          "dtype": "i4"
         },
         "xaxis": "x",
         "y": [
          "Action",
          "Adventure",
          "Animation",
          "Comedy",
          "Crime",
          "Documentary",
          "Drama",
          "Family",
          "Fantasy",
          "History",
          "Horror",
          "Music",
          "Mystery",
          "Romance",
          "Science Fiction",
          "TV Movie",
          "Thriller",
          "War",
          "Western"
         ],
         "yaxis": "y",
         "z": {
          "bdata": "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",
          "dtype": "f8",
          "shape": "19, 15"
         }
        }
       ],
       "layout": {
        "coloraxis": {
         "cmax": 9,
         "cmin": 5,
         "colorbar": {
          "title": {
           "text": "Durchschnittliche Bewertung"
          }
         },
         "colorscale": [
          [
           0,
           "#440154"
          ],
          [
           0.1111111111111111,
           "#482878"
          ],
          [
           0.2222222222222222,
           "#3e4989"
          ],
          [
           0.3333333333333333,
           "#31688e"
          ],
          [
           0.4444444444444444,
           "#26828e"
          ],
          [
           0.5555555555555556,
           "#1f9e89"
          ],
          [
           0.6666666666666666,
           "#35b779"
          ],
          [
           0.7777777777777778,
           "#6ece58"
          ],
          [
           0.8888888888888888,
           "#b5de2b"
          ],
          [
           1,
           "#fde725"
          ]
         ]
        },
        "template": {
         "data": {
          "bar": [
           {
            "error_x": {
             "color": "#2a3f5f"
            },
            "error_y": {
             "color": "#2a3f5f"
            },
            "marker": {
             "line": {
              "color": "#E5ECF6",
              "width": 0.5
             },
             "pattern": {
              "fillmode": "overlay",
              "size": 10,
              "solidity": 0.2
             }
            },
            "type": "bar"
           }
          ],
          "barpolar": [
           {
            "marker": {
             "line": {
              "color": "#E5ECF6",
              "width": 0.5
             },
             "pattern": {
              "fillmode": "overlay",
              "size": 10,
              "solidity": 0.2
             }
            },
            "type": "barpolar"
           }
          ],
          "carpet": [
           {
            "aaxis": {
             "endlinecolor": "#2a3f5f",
             "gridcolor": "white",
             "linecolor": "white",
             "minorgridcolor": "white",
             "startlinecolor": "#2a3f5f"
            },
            "baxis": {
             "endlinecolor": "#2a3f5f",
             "gridcolor": "white",
             "linecolor": "white",
             "minorgridcolor": "white",
             "startlinecolor": "#2a3f5f"
            },
            "type": "carpet"
           }
          ],
          "choropleth": [
           {
            "colorbar": {
             "outlinewidth": 0,
             "ticks": ""
            },
            "type": "choropleth"
           }
          ],
          "contour": [
           {
            "colorbar": {
             "outlinewidth": 0,
             "ticks": ""
            },
            "colorscale": [
             [
              0,
              "#0d0887"
             ],
             [
              0.1111111111111111,
              "#46039f"
             ],
             [
              0.2222222222222222,
              "#7201a8"
             ],
             [
              0.3333333333333333,
              "#9c179e"
             ],
             [
              0.4444444444444444,
              "#bd3786"
             ],
             [
              0.5555555555555556,
              "#d8576b"
             ],
             [
              0.6666666666666666,
              "#ed7953"
             ],
             [
              0.7777777777777778,
              "#fb9f3a"
             ],
             [
              0.8888888888888888,
              "#fdca26"
             ],
             [
              1,
              "#f0f921"
             ]
            ],
            "type": "contour"
           }
          ],
          "contourcarpet": [
           {
            "colorbar": {
             "outlinewidth": 0,
             "ticks": ""
            },
            "type": "contourcarpet"
           }
          ],
          "heatmap": [
           {
            "colorbar": {
             "outlinewidth": 0,
             "ticks": ""
            },
            "colorscale": [
             [
              0,
              "#0d0887"
             ],
             [
              0.1111111111111111,
              "#46039f"
             ],
             [
              0.2222222222222222,
              "#7201a8"
             ],
             [
              0.3333333333333333,
              "#9c179e"
             ],
             [
              0.4444444444444444,
              "#bd3786"
             ],
             [
              0.5555555555555556,
              "#d8576b"
             ],
             [
              0.6666666666666666,
              "#ed7953"
             ],
             [
              0.7777777777777778,
              "#fb9f3a"
             ],
             [
              0.8888888888888888,
              "#fdca26"
             ],
             [
              1,
              "#f0f921"
             ]
            ],
            "type": "heatmap"
           }
          ],
          "histogram": [
           {
            "marker": {
             "pattern": {
              "fillmode": "overlay",
              "size": 10,
              "solidity": 0.2
             }
            },
            "type": "histogram"
           }
          ],
          "histogram2d": [
           {
            "colorbar": {
             "outlinewidth": 0,
             "ticks": ""
            },
            "colorscale": [
             [
              0,
              "#0d0887"
             ],
             [
              0.1111111111111111,
              "#46039f"
             ],
             [
              0.2222222222222222,
              "#7201a8"
             ],
             [
              0.3333333333333333,
              "#9c179e"
             ],
             [
              0.4444444444444444,
              "#bd3786"
             ],
             [
              0.5555555555555556,
              "#d8576b"
             ],
             [
              0.6666666666666666,
              "#ed7953"
             ],
             [
              0.7777777777777778,
              "#fb9f3a"
             ],
             [
              0.8888888888888888,
              "#fdca26"
             ],
             [
              1,
              "#f0f921"
             ]
            ],
            "type": "histogram2d"
           }
          ],
          "histogram2dcontour": [
           {
            "colorbar": {
             "outlinewidth": 0,
             "ticks": ""
            },
            "colorscale": [
             [
              0,
              "#0d0887"
             ],
             [
              0.1111111111111111,
              "#46039f"
             ],
             [
              0.2222222222222222,
              "#7201a8"
             ],
             [
              0.3333333333333333,
              "#9c179e"
             ],
             [
              0.4444444444444444,
              "#bd3786"
             ],
             [
              0.5555555555555556,
              "#d8576b"
             ],
             [
              0.6666666666666666,
              "#ed7953"
             ],
             [
              0.7777777777777778,
              "#fb9f3a"
             ],
             [
              0.8888888888888888,
              "#fdca26"
             ],
             [
              1,
              "#f0f921"
             ]
            ],
            "type": "histogram2dcontour"
           }
          ],
          "mesh3d": [
           {
            "colorbar": {
             "outlinewidth": 0,
             "ticks": ""
            },
            "type": "mesh3d"
           }
          ],
          "parcoords": [
           {
            "line": {
             "colorbar": {
              "outlinewidth": 0,
              "ticks": ""
             }
            },
            "type": "parcoords"
           }
          ],
          "pie": [
           {
            "automargin": true,
            "type": "pie"
           }
          ],
          "scatter": [
           {
            "fillpattern": {
             "fillmode": "overlay",
             "size": 10,
             "solidity": 0.2
            },
            "type": "scatter"
           }
          ],
          "scatter3d": [
           {
            "line": {
             "colorbar": {
              "outlinewidth": 0,
              "ticks": ""
             }
            },
            "marker": {
             "colorbar": {
              "outlinewidth": 0,
              "ticks": ""
             }
            },
            "type": "scatter3d"
           }
          ],
          "scattercarpet": [
           {
            "marker": {
             "colorbar": {
              "outlinewidth": 0,
              "ticks": ""
             }
            },
            "type": "scattercarpet"
           }
          ],
          "scattergeo": [
           {
            "marker": {
             "colorbar": {
              "outlinewidth": 0,
              "ticks": ""
             }
            },
            "type": "scattergeo"
           }
          ],
          "scattergl": [
           {
            "marker": {
             "colorbar": {
              "outlinewidth": 0,
              "ticks": ""
             }
            },
            "type": "scattergl"
           }
          ],
          "scattermap": [
           {
            "marker": {
             "colorbar": {
              "outlinewidth": 0,
              "ticks": ""
             }
            },
            "type": "scattermap"
           }
          ],
          "scattermapbox": [
           {
            "marker": {
             "colorbar": {
              "outlinewidth": 0,
              "ticks": ""
             }
            },
            "type": "scattermapbox"
           }
          ],
          "scatterpolar": [
           {
            "marker": {
             "colorbar": {
              "outlinewidth": 0,
              "ticks": ""
             }
            },
            "type": "scatterpolar"
           }
          ],
          "scatterpolargl": [
           {
            "marker": {
             "colorbar": {
              "outlinewidth": 0,
              "ticks": ""
             }
            },
            "type": "scatterpolargl"
           }
          ],
          "scatterternary": [
           {
            "marker": {
             "colorbar": {
              "outlinewidth": 0,
              "ticks": ""
             }
            },
            "type": "scatterternary"
           }
          ],
          "surface": [
           {
            "colorbar": {
             "outlinewidth": 0,
             "ticks": ""
            },
            "colorscale": [
             [
              0,
              "#0d0887"
             ],
             [
              0.1111111111111111,
              "#46039f"
             ],
             [
              0.2222222222222222,
              "#7201a8"
             ],
             [
              0.3333333333333333,
              "#9c179e"
             ],
             [
              0.4444444444444444,
              "#bd3786"
             ],
             [
              0.5555555555555556,
              "#d8576b"
             ],
             [
              0.6666666666666666,
              "#ed7953"
             ],
             [
              0.7777777777777778,
              "#fb9f3a"
             ],
             [
              0.8888888888888888,
              "#fdca26"
             ],
             [
              1,
              "#f0f921"
             ]
            ],
            "type": "surface"
           }
          ],
          "table": [
           {
            "cells": {
             "fill": {
              "color": "#EBF0F8"
             },
             "line": {
              "color": "white"
             }
            },
            "header": {
             "fill": {
              "color": "#C8D4E3"
             },
             "line": {
              "color": "white"
             }
            },
            "type": "table"
           }
          ]
         },
         "layout": {
          "annotationdefaults": {
           "arrowcolor": "#2a3f5f",
           "arrowhead": 0,
           "arrowwidth": 1
          },
          "autotypenumbers": "strict",
          "coloraxis": {
           "colorbar": {
            "outlinewidth": 0,
            "ticks": ""
           }
          },
          "colorscale": {
           "diverging": [
            [
             0,
             "#8e0152"
            ],
            [
             0.1,
             "#c51b7d"
            ],
            [
             0.2,
             "#de77ae"
            ],
            [
             0.3,
             "#f1b6da"
            ],
            [
             0.4,
             "#fde0ef"
            ],
            [
             0.5,
             "#f7f7f7"
            ],
            [
             0.6,
             "#e6f5d0"
            ],
            [
             0.7,
             "#b8e186"
            ],
            [
             0.8,
             "#7fbc41"
            ],
            [
             0.9,
             "#4d9221"
            ],
            [
             1,
             "#276419"
            ]
           ],
           "sequential": [
            [
             0,
             "#0d0887"
            ],
            [
             0.1111111111111111,
             "#46039f"
            ],
            [
             0.2222222222222222,
             "#7201a8"
            ],
            [
             0.3333333333333333,
             "#9c179e"
            ],
            [
             0.4444444444444444,
             "#bd3786"
            ],
            [
             0.5555555555555556,
             "#d8576b"
            ],
            [
             0.6666666666666666,
             "#ed7953"
            ],
            [
             0.7777777777777778,
             "#fb9f3a"
            ],
            [
             0.8888888888888888,
             "#fdca26"
            ],
            [
             1,
             "#f0f921"
            ]
           ],
           "sequentialminus": [
            [
             0,
             "#0d0887"
            ],
            [
             0.1111111111111111,
             "#46039f"
            ],
            [
             0.2222222222222222,
             "#7201a8"
            ],
            [
             0.3333333333333333,
             "#9c179e"
            ],
            [
             0.4444444444444444,
             "#bd3786"
            ],
            [
             0.5555555555555556,
             "#d8576b"
            ],
            [
             0.6666666666666666,
             "#ed7953"
            ],
            [
             0.7777777777777778,
             "#fb9f3a"
            ],
            [
             0.8888888888888888,
             "#fdca26"
            ],
            [
             1,
             "#f0f921"
            ]
           ]
          },
          "colorway": [
           "#636efa",
           "#EF553B",
           "#00cc96",
           "#ab63fa",
           "#FFA15A",
           "#19d3f3",
           "#FF6692",
           "#B6E880",
           "#FF97FF",
           "#FECB52"
          ],
          "font": {
           "color": "#2a3f5f"
          },
          "geo": {
           "bgcolor": "white",
           "lakecolor": "white",
           "landcolor": "#E5ECF6",
           "showlakes": true,
           "showland": true,
           "subunitcolor": "white"
          },
          "hoverlabel": {
           "align": "left"
          },
          "hovermode": "closest",
          "mapbox": {
           "style": "light"
          },
          "paper_bgcolor": "white",
          "plot_bgcolor": "#E5ECF6",
          "polar": {
           "angularaxis": {
            "gridcolor": "white",
            "linecolor": "white",
            "ticks": ""
           },
           "bgcolor": "#E5ECF6",
           "radialaxis": {
            "gridcolor": "white",
            "linecolor": "white",
            "ticks": ""
           }
          },
          "scene": {
           "xaxis": {
            "backgroundcolor": "#E5ECF6",
            "gridcolor": "white",
            "gridwidth": 2,
            "linecolor": "white",
            "showbackground": true,
            "ticks": "",
            "zerolinecolor": "white"
           },
           "yaxis": {
            "backgroundcolor": "#E5ECF6",
            "gridcolor": "white",
            "gridwidth": 2,
            "linecolor": "white",
            "showbackground": true,
            "ticks": "",
            "zerolinecolor": "white"
           },
           "zaxis": {
            "backgroundcolor": "#E5ECF6",
            "gridcolor": "white",
            "gridwidth": 2,
            "linecolor": "white",
            "showbackground": true,
            "ticks": "",
            "zerolinecolor": "white"
           }
          },
          "shapedefaults": {
           "line": {
            "color": "#2a3f5f"
           }
          },
          "ternary": {
           "aaxis": {
            "gridcolor": "white",
            "linecolor": "white",
            "ticks": ""
           },
           "baxis": {
            "gridcolor": "white",
            "linecolor": "white",
            "ticks": ""
           },
           "bgcolor": "#E5ECF6",
           "caxis": {
            "gridcolor": "white",
            "linecolor": "white",
            "ticks": ""
           }
          },
          "title": {
           "x": 0.05
          },
          "xaxis": {
           "automargin": true,
           "gridcolor": "white",
           "linecolor": "white",
           "ticks": "",
           "title": {
            "standoff": 15
           },
           "zerolinecolor": "white",
           "zerolinewidth": 2
          },
          "yaxis": {
           "automargin": true,
           "gridcolor": "white",
           "linecolor": "white",
           "ticks": "",
           "title": {
            "standoff": 15
           },
           "zerolinecolor": "white",
           "zerolinewidth": 2
          }
         }
        },
        "title": {
         "text": "Heatmap der Durchschnittlichen Bewertungen pro Genre und Jahr"
        },
        "xaxis": {
         "anchor": "y",
         "constrain": "domain",
         "domain": [
          0,
          1
         ],
         "scaleanchor": "y",
         "title": {
          "text": "Jahr"
         }
        },
        "yaxis": {
         "anchor": "x",
         "autorange": "reversed",
         "constrain": "domain",
         "domain": [
          0,
          1
         ],
         "title": {
          "text": "Genre"
         }
        }
       }
      },
      "image/png": "[encoded data removed]"
     },
     "metadata": {},
     "output_type": "display_data"
    }
   ],
   "source": [
    "import plotly.express as px\n",
    "\n",
    "# Pivot: Zeilen=Jahr, Spalten=Genre\n",
    "df_pivot = df_grouped.pivot(index=\"release_date\", columns=\"genre_name\", values=\"avg_rating\")\n",
    "\n",
    "fig = px.imshow(\n",
    "    df_pivot.T,\n",
    "    labels=dict(x=\"Jahr\", y=\"Genre\", color=\"Durchschnittliche Bewertung\"),\n",
    "    x=df_pivot.index,\n",
    "    y=df_pivot.columns,\n",
    "    color_continuous_scale=\"viridis\",  # https://plotly.com/python/builtin-colorscales/\n",
    "    zmin=5,   # minimale Bewertung (blau/dunkel)\n",
    "    zmax=9,  # maximale Bewertung (gelb/hell)\n",
    "    title=\"Heatmap der Durchschnittlichen Bewertungen pro Genre und Jahr\"\n",
    ")\n",
    "\n",
    "fig.update_traces(\n",
    "    hovertemplate=\"<b>Genre:</b> %{y}<br><b>Jahr:</b> %{x}<br><b>Bewertung:</b> %{z:.2f}<extra></extra>\"\n",
    ")\n",
    "\n",
    "fig.show()\n"
   ]
  },
  {
   "cell_type": "markdown",
   "id": "55ce9c7a073b10e",
   "metadata": {},
   "source": [
    "#### Balken-Diagramm für die jeweiligen Genre-Häufigkeiten"
   ]
  },
  {
   "cell_type": "code",
   "execution_count": 31,
   "id": "d2c5fd3da2bf0b19",
   "metadata": {
    "ExecuteTime": {
     "end_time": "2025-05-21T11:33:09.820961Z",
     "start_time": "2025-05-21T11:33:08.018001Z"
    },
    "scrolled": true
   },
   "outputs": [
    {
     "name": "stdout",
     "output_type": "stream",
     "text": [
      "Found 1781 unique movies\n"
     ]
    },
    {
     "data": {
      "application/vnd.plotly.v1+json": {
       "config": {
        "plotlyServerURL": "https://plot.ly"
       },
       "data": [
        {
         "hovertemplate": "Genre=%{x}<br>Anzahl Filme=%{y}<extra></extra>",
         "legendgroup": "",
         "marker": {
          "color": "#636efa",
          "pattern": {
           "shape": ""
          }
         },
         "name": "",
         "orientation": "v",
         "showlegend": false,
         "textposition": "auto",
         "type": "bar",
         "x": [
          "Drama",
          "Comedy",
          "Action",
          "Thriller",
          "Adventure",
          "Romance",
          "Crime",
          "Fantasy",
          "Horror",
          "Family",
          "Animation",
          "Science Fiction",
          "Mystery",
          "Documentary",
          "History",
          "Music",
          "War",
          "TV Movie",
          "Western"
         ],
         "xaxis": "x",
         "y": {
          "bdata": "ygKpAtQBkAEtARYB8gDKAMQAwQCkAKQAdwBKAD8ALgAnABkADgA=",
          "dtype": "i2"
         },
         "yaxis": "y"
        }
       ],
       "layout": {
        "barmode": "relative",
        "legend": {
         "tracegroupgap": 0
        },
        "template": {
         "data": {
          "bar": [
           {
            "error_x": {
             "color": "#2a3f5f"
            },
            "error_y": {
             "color": "#2a3f5f"
            },
            "marker": {
             "line": {
              "color": "#E5ECF6",
              "width": 0.5
             },
             "pattern": {
              "fillmode": "overlay",
              "size": 10,
              "solidity": 0.2
             }
            },
            "type": "bar"
           }
          ],
          "barpolar": [
           {
            "marker": {
             "line": {
              "color": "#E5ECF6",
              "width": 0.5
             },
             "pattern": {
              "fillmode": "overlay",
              "size": 10,
              "solidity": 0.2
             }
            },
            "type": "barpolar"
           }
          ],
          "carpet": [
           {
            "aaxis": {
             "endlinecolor": "#2a3f5f",
             "gridcolor": "white",
             "linecolor": "white",
             "minorgridcolor": "white",
             "startlinecolor": "#2a3f5f"
            },
            "baxis": {
             "endlinecolor": "#2a3f5f",
             "gridcolor": "white",
             "linecolor": "white",
             "minorgridcolor": "white",
             "startlinecolor": "#2a3f5f"
            },
            "type": "carpet"
           }
          ],
          "choropleth": [
           {
            "colorbar": {
             "outlinewidth": 0,
             "ticks": ""
            },
            "type": "choropleth"
           }
          ],
          "contour": [
           {
            "colorbar": {
             "outlinewidth": 0,
             "ticks": ""
            },
            "colorscale": [
             [
              0,
              "#0d0887"
             ],
             [
              0.1111111111111111,
              "#46039f"
             ],
             [
              0.2222222222222222,
              "#7201a8"
             ],
             [
              0.3333333333333333,
              "#9c179e"
             ],
             [
              0.4444444444444444,
              "#bd3786"
             ],
             [
              0.5555555555555556,
              "#d8576b"
             ],
             [
              0.6666666666666666,
              "#ed7953"
             ],
             [
              0.7777777777777778,
              "#fb9f3a"
             ],
             [
              0.8888888888888888,
              "#fdca26"
             ],
             [
              1,
              "#f0f921"
             ]
            ],
            "type": "contour"
           }
          ],
          "contourcarpet": [
           {
            "colorbar": {
             "outlinewidth": 0,
             "ticks": ""
            },
            "type": "contourcarpet"
           }
          ],
          "heatmap": [
           {
            "colorbar": {
             "outlinewidth": 0,
             "ticks": ""
            },
            "colorscale": [
             [
              0,
              "#0d0887"
             ],
             [
              0.1111111111111111,
              "#46039f"
             ],
             [
              0.2222222222222222,
              "#7201a8"
             ],
             [
              0.3333333333333333,
              "#9c179e"
             ],
             [
              0.4444444444444444,
              "#bd3786"
             ],
             [
              0.5555555555555556,
              "#d8576b"
             ],
             [
              0.6666666666666666,
              "#ed7953"
             ],
             [
              0.7777777777777778,
              "#fb9f3a"
             ],
             [
              0.8888888888888888,
              "#fdca26"
             ],
             [
              1,
              "#f0f921"
             ]
            ],
            "type": "heatmap"
           }
          ],
          "histogram": [
           {
            "marker": {
             "pattern": {
              "fillmode": "overlay",
              "size": 10,
              "solidity": 0.2
             }
            },
            "type": "histogram"
           }
          ],
          "histogram2d": [
           {
            "colorbar": {
             "outlinewidth": 0,
             "ticks": ""
            },
            "colorscale": [
             [
              0,
              "#0d0887"
             ],
             [
              0.1111111111111111,
              "#46039f"
             ],
             [
              0.2222222222222222,
              "#7201a8"
             ],
             [
              0.3333333333333333,
              "#9c179e"
             ],
             [
              0.4444444444444444,
              "#bd3786"
             ],
             [
              0.5555555555555556,
              "#d8576b"
             ],
             [
              0.6666666666666666,
              "#ed7953"
             ],
             [
              0.7777777777777778,
              "#fb9f3a"
             ],
             [
              0.8888888888888888,
              "#fdca26"
             ],
             [
              1,
              "#f0f921"
             ]
            ],
            "type": "histogram2d"
           }
          ],
          "histogram2dcontour": [
           {
            "colorbar": {
             "outlinewidth": 0,
             "ticks": ""
            },
            "colorscale": [
             [
              0,
              "#0d0887"
             ],
             [
              0.1111111111111111,
              "#46039f"
             ],
             [
              0.2222222222222222,
              "#7201a8"
             ],
             [
              0.3333333333333333,
              "#9c179e"
             ],
             [
              0.4444444444444444,
              "#bd3786"
             ],
             [
              0.5555555555555556,
              "#d8576b"
             ],
             [
              0.6666666666666666,
              "#ed7953"
             ],
             [
              0.7777777777777778,
              "#fb9f3a"
             ],
             [
              0.8888888888888888,
              "#fdca26"
             ],
             [
              1,
              "#f0f921"
             ]
            ],
            "type": "histogram2dcontour"
           }
          ],
          "mesh3d": [
           {
            "colorbar": {
             "outlinewidth": 0,
             "ticks": ""
            },
            "type": "mesh3d"
           }
          ],
          "parcoords": [
           {
            "line": {
             "colorbar": {
              "outlinewidth": 0,
              "ticks": ""
             }
            },
            "type": "parcoords"
           }
          ],
          "pie": [
           {
            "automargin": true,
            "type": "pie"
           }
          ],
          "scatter": [
           {
            "fillpattern": {
             "fillmode": "overlay",
             "size": 10,
             "solidity": 0.2
            },
            "type": "scatter"
           }
          ],
          "scatter3d": [
           {
            "line": {
             "colorbar": {
              "outlinewidth": 0,
              "ticks": ""
             }
            },
            "marker": {
             "colorbar": {
              "outlinewidth": 0,
              "ticks": ""
             }
            },
            "type": "scatter3d"
           }
          ],
          "scattercarpet": [
           {
            "marker": {
             "colorbar": {
              "outlinewidth": 0,
              "ticks": ""
             }
            },
            "type": "scattercarpet"
           }
          ],
          "scattergeo": [
           {
            "marker": {
             "colorbar": {
              "outlinewidth": 0,
              "ticks": ""
             }
            },
            "type": "scattergeo"
           }
          ],
          "scattergl": [
           {
            "marker": {
             "colorbar": {
              "outlinewidth": 0,
              "ticks": ""
             }
            },
            "type": "scattergl"
           }
          ],
          "scattermap": [
           {
            "marker": {
             "colorbar": {
              "outlinewidth": 0,
              "ticks": ""
             }
            },
            "type": "scattermap"
           }
          ],
          "scattermapbox": [
           {
            "marker": {
             "colorbar": {
              "outlinewidth": 0,
              "ticks": ""
             }
            },
            "type": "scattermapbox"
           }
          ],
          "scatterpolar": [
           {
            "marker": {
             "colorbar": {
              "outlinewidth": 0,
              "ticks": ""
             }
            },
            "type": "scatterpolar"
           }
          ],
          "scatterpolargl": [
           {
            "marker": {
             "colorbar": {
              "outlinewidth": 0,
              "ticks": ""
             }
            },
            "type": "scatterpolargl"
           }
          ],
          "scatterternary": [
           {
            "marker": {
             "colorbar": {
              "outlinewidth": 0,
              "ticks": ""
             }
            },
            "type": "scatterternary"
           }
          ],
          "surface": [
           {
            "colorbar": {
             "outlinewidth": 0,
             "ticks": ""
            },
            "colorscale": [
             [
              0,
              "#0d0887"
             ],
             [
              0.1111111111111111,
              "#46039f"
             ],
             [
              0.2222222222222222,
              "#7201a8"
             ],
             [
              0.3333333333333333,
              "#9c179e"
             ],
             [
              0.4444444444444444,
              "#bd3786"
             ],
             [
              0.5555555555555556,
              "#d8576b"
             ],
             [
              0.6666666666666666,
              "#ed7953"
             ],
             [
              0.7777777777777778,
              "#fb9f3a"
             ],
             [
              0.8888888888888888,
              "#fdca26"
             ],
             [
              1,
              "#f0f921"
             ]
            ],
            "type": "surface"
           }
          ],
          "table": [
           {
            "cells": {
             "fill": {
              "color": "#EBF0F8"
             },
             "line": {
              "color": "white"
             }
            },
            "header": {
             "fill": {
              "color": "#C8D4E3"
             },
             "line": {
              "color": "white"
             }
            },
            "type": "table"
           }
          ]
         },
         "layout": {
          "annotationdefaults": {
           "arrowcolor": "#2a3f5f",
           "arrowhead": 0,
           "arrowwidth": 1
          },
          "autotypenumbers": "strict",
          "coloraxis": {
           "colorbar": {
            "outlinewidth": 0,
            "ticks": ""
           }
          },
          "colorscale": {
           "diverging": [
            [
             0,
             "#8e0152"
            ],
            [
             0.1,
             "#c51b7d"
            ],
            [
             0.2,
             "#de77ae"
            ],
            [
             0.3,
             "#f1b6da"
            ],
            [
             0.4,
             "#fde0ef"
            ],
            [
             0.5,
             "#f7f7f7"
            ],
            [
             0.6,
             "#e6f5d0"
            ],
            [
             0.7,
             "#b8e186"
            ],
            [
             0.8,
             "#7fbc41"
            ],
            [
             0.9,
             "#4d9221"
            ],
            [
             1,
             "#276419"
            ]
           ],
           "sequential": [
            [
             0,
             "#0d0887"
            ],
            [
             0.1111111111111111,
             "#46039f"
            ],
            [
             0.2222222222222222,
             "#7201a8"
            ],
            [
             0.3333333333333333,
             "#9c179e"
            ],
            [
             0.4444444444444444,
             "#bd3786"
            ],
            [
             0.5555555555555556,
             "#d8576b"
            ],
            [
             0.6666666666666666,
             "#ed7953"
            ],
            [
             0.7777777777777778,
             "#fb9f3a"
            ],
            [
             0.8888888888888888,
             "#fdca26"
            ],
            [
             1,
             "#f0f921"
            ]
           ],
           "sequentialminus": [
            [
             0,
             "#0d0887"
            ],
            [
             0.1111111111111111,
             "#46039f"
            ],
            [
             0.2222222222222222,
             "#7201a8"
            ],
            [
             0.3333333333333333,
             "#9c179e"
            ],
            [
             0.4444444444444444,
             "#bd3786"
            ],
            [
             0.5555555555555556,
             "#d8576b"
            ],
            [
             0.6666666666666666,
             "#ed7953"
            ],
            [
             0.7777777777777778,
             "#fb9f3a"
            ],
            [
             0.8888888888888888,
             "#fdca26"
            ],
            [
             1,
             "#f0f921"
            ]
           ]
          },
          "colorway": [
           "#636efa",
           "#EF553B",
           "#00cc96",
           "#ab63fa",
           "#FFA15A",
           "#19d3f3",
           "#FF6692",
           "#B6E880",
           "#FF97FF",
           "#FECB52"
          ],
          "font": {
           "color": "#2a3f5f"
          },
          "geo": {
           "bgcolor": "white",
           "lakecolor": "white",
           "landcolor": "#E5ECF6",
           "showlakes": true,
           "showland": true,
           "subunitcolor": "white"
          },
          "hoverlabel": {
           "align": "left"
          },
          "hovermode": "closest",
          "mapbox": {
           "style": "light"
          },
          "paper_bgcolor": "white",
          "plot_bgcolor": "#E5ECF6",
          "polar": {
           "angularaxis": {
            "gridcolor": "white",
            "linecolor": "white",
            "ticks": ""
           },
           "bgcolor": "#E5ECF6",
           "radialaxis": {
            "gridcolor": "white",
            "linecolor": "white",
            "ticks": ""
           }
          },
          "scene": {
           "xaxis": {
            "backgroundcolor": "#E5ECF6",
            "gridcolor": "white",
            "gridwidth": 2,
            "linecolor": "white",
            "showbackground": true,
            "ticks": "",
            "zerolinecolor": "white"
           },
           "yaxis": {
            "backgroundcolor": "#E5ECF6",
            "gridcolor": "white",
            "gridwidth": 2,
            "linecolor": "white",
            "showbackground": true,
            "ticks": "",
            "zerolinecolor": "white"
           },
           "zaxis": {
            "backgroundcolor": "#E5ECF6",
            "gridcolor": "white",
            "gridwidth": 2,
            "linecolor": "white",
            "showbackground": true,
            "ticks": "",
            "zerolinecolor": "white"
           }
          },
          "shapedefaults": {
           "line": {
            "color": "#2a3f5f"
           }
          },
          "ternary": {
           "aaxis": {
            "gridcolor": "white",
            "linecolor": "white",
            "ticks": ""
           },
           "baxis": {
            "gridcolor": "white",
            "linecolor": "white",
            "ticks": ""
           },
           "bgcolor": "#E5ECF6",
           "caxis": {
            "gridcolor": "white",
            "linecolor": "white",
            "ticks": ""
           }
          },
          "title": {
           "x": 0.05
          },
          "xaxis": {
           "automargin": true,
           "gridcolor": "white",
           "linecolor": "white",
           "ticks": "",
           "title": {
            "standoff": 15
           },
           "zerolinecolor": "white",
           "zerolinewidth": 2
          },
          "yaxis": {
           "automargin": true,
           "gridcolor": "white",
           "linecolor": "white",
           "ticks": "",
           "title": {
            "standoff": 15
           },
           "zerolinecolor": "white",
           "zerolinewidth": 2
          }
         }
        },
        "title": {
         "text": "Gesamt-Häufigkeit pro Genre"
        },
        "xaxis": {
         "anchor": "y",
         "domain": [
          0,
          1
         ],
         "tickangle": -45,
         "title": {
          "text": "Genre"
         }
        },
        "yaxis": {
         "anchor": "x",
         "domain": [
          0,
          1
         ],
         "title": {
          "text": "Anzahl Filme"
         }
        }
       }
      },
      "image/png": "[encoded data removed]"
     },
     "metadata": {},
     "output_type": "display_data"
    }
   ],
   "source": [
    "import json\n",
    "import pandas as pd\n",
    "import plotly.express as px\n",
    "\n",
    "# Pfad zur JSON-Datei mit allen europäischen Filmen\n",
    "dir_data = BASE / \"data/raw/fragestellung_02/2025-05-19_version2_all_european_movies.json\"\n",
    "ALL_GENRES_JSON = BASE / 'data/processed/fragestellung_02/all_genres.json'\n",
    "\n",
    "# Daten laden\n",
    "with open(dir_data, 'r', encoding='utf-8') as f:\n",
    "    all_movies = json.load(f)\n",
    "\n",
    "# Filtern aller Filme die mehr als einmal vorkommen:\n",
    "\n",
    "all_movies = [next(movie for movie in all_movies if movie[\"id\"] == id) for id in set([movie[\"id\"] for movie in all_movies])]\n",
    "print(f\"Found {len(all_movies)} unique movies\")\n",
    "\n",
    "# DataFrame erstellen und Jahr extrahieren\n",
    "df = pd.DataFrame(all_movies)\n",
    "df['release_date'] = pd.to_datetime(df['release_date']).dt.year\n",
    "\n",
    "# Genre-IDs \"exploden\"\n",
    "df = df.explode('genre_ids')\n",
    "\n",
    "# Genre-Mapping laden (TMDb Genre-Liste)\n",
    "with open(ALL_GENRES_JSON, 'r', encoding='utf-8') as f:\n",
    "    gdata = json.load(f)\n",
    "\n",
    "df_genres = pd.DataFrame(gdata['genres'])\n",
    "df_genres = df_genres.rename(columns={'id':'genre_ids','name':'genre_name'})\n",
    "\n",
    "df = df.merge(df_genres[['genre_ids','genre_name']], on='genre_ids')\n",
    "\n",
    "# Gesamt-Häufigkeiten pro Genre\n",
    "genre_counts = df['genre_name'].value_counts().reset_index()\n",
    "genre_counts.columns = ['genre_name','count']\n",
    "\n",
    "fig_total = px.bar(\n",
    "    genre_counts,\n",
    "    x='genre_name',\n",
    "    y='count',\n",
    "    title='Gesamt-Häufigkeit pro Genre',\n",
    "    labels={'genre_name':'Genre','count':'Anzahl Filme'}\n",
    ")\n",
    "fig_total.update_layout(xaxis_tickangle=-45)\n",
    "fig_total.show()\n"
   ]
  },
  {
   "cell_type": "markdown",
   "id": "5b8ed918-6cb2-47bb-9d45-0c97f71a2535",
   "metadata": {},
   "source": [
    "### Kuchendiagramm"
   ]
  },
  {
   "cell_type": "code",
   "execution_count": 43,
   "id": "3cd029e6-cfb1-4ce5-82ff-ea1e28a240ff",
   "metadata": {},
   "outputs": [
    {
     "data": {
      "application/vnd.plotly.v1+json": {
       "config": {
        "plotlyServerURL": "https://plot.ly"
       },
       "data": [
        {
         "hole": 0.4,
         "labels": [
          "Drama",
          "Comedy",
          "Action",
          "Thriller",
          "Adventure",
          "Romance",
          "Crime",
          "Fantasy",
          "Horror",
          "Family",
          "Science Fiction",
          "Animation",
          "Mystery",
          "Documentary",
          "History",
          "Music",
          "War",
          "TV Movie",
          "Western"
         ],
         "name": "Gesamt",
         "textinfo": "percent",
         "type": "pie",
         "values": {
          "bdata": "ygKpAtQBkAEtARYB8gDKAMQAwQCkAKQAdwBKAD8ALgAnABkADgA=",
          "dtype": "i2"
         }
        },
        {
         "hole": 0.4,
         "labels": [
          "Drama",
          "Comedy",
          "Action",
          "Thriller",
          "Adventure",
          "Romance",
          "Crime",
          "Fantasy",
          "Horror",
          "Family",
          "Science Fiction",
          "Animation",
          "Mystery",
          "Documentary",
          "History",
          "Music",
          "War",
          "TV Movie",
          "Western"
         ],
         "name": "1980",
         "textinfo": "percent",
         "type": "pie",
         "values": {
          "bdata": "AgMBAAEBAQEAAAEAAAEAAQAAAA==",
          "dtype": "i1"
         },
         "visible": false
        },
        {
         "hole": 0.4,
         "labels": [
          "Drama",
          "Comedy",
          "Action",
          "Thriller",
          "Adventure",
          "Romance",
          "Crime",
          "Fantasy",
          "Horror",
          "Family",
          "Science Fiction",
          "Animation",
          "Mystery",
          "Documentary",
          "History",
          "Music",
          "War",
          "TV Movie",
          "Western"
         ],
         "name": "1981",
         "textinfo": "percent",
         "type": "pie",
         "values": {
          "bdata": "AQUEAAIBAQABAAICAAAAAAAAAA==",
          "dtype": "i1"
         },
         "visible": false
        },
        {
         "hole": 0.4,
         "labels": [
          "Drama",
          "Comedy",
          "Action",
          "Thriller",
          "Adventure",
          "Romance",
          "Crime",
          "Fantasy",
          "Horror",
          "Family",
          "Science Fiction",
          "Animation",
          "Mystery",
          "Documentary",
          "History",
          "Music",
          "War",
          "TV Movie",
          "Western"
         ],
         "name": "1982",
         "textinfo": "percent",
         "type": "pie",
         "values": {
          "bdata": "AQQCAAAAAwAAAAEBAAAAAAAAAA==",
          "dtype": "i1"
         },
         "visible": false
        },
        {
         "hole": 0.4,
         "labels": [
          "Drama",
          "Comedy",
          "Action",
          "Thriller",
          "Adventure",
          "Romance",
          "Crime",
          "Fantasy",
          "Horror",
          "Family",
          "Science Fiction",
          "Animation",
          "Mystery",
          "Documentary",
          "History",
          "Music",
          "War",
          "TV Movie",
          "Western"
         ],
         "name": "1983",
         "textinfo": "percent",
         "type": "pie",
         "values": {
          "bdata": "AgUDAAIBAQAAAAEAAAAAAQAAAA==",
          "dtype": "i1"
         },
         "visible": false
        },
        {
         "hole": 0.4,
         "labels": [
          "Drama",
          "Comedy",
          "Action",
          "Thriller",
          "Adventure",
          "Romance",
          "Crime",
          "Fantasy",
          "Horror",
          "Family",
          "Science Fiction",
          "Animation",
          "Mystery",
          "Documentary",
          "History",
          "Music",
          "War",
          "TV Movie",
          "Western"
         ],
         "name": "1984",
         "textinfo": "percent",
         "type": "pie",
         "values": {
          "bdata": "AQYFAQQAAgIBAQEBAAAAAQAAAA==",
          "dtype": "i1"
         },
         "visible": false
        },
        {
         "hole": 0.4,
         "labels": [
          "Drama",
          "Comedy",
          "Action",
          "Thriller",
          "Adventure",
          "Romance",
          "Crime",
          "Fantasy",
          "Horror",
          "Family",
          "Science Fiction",
          "Animation",
          "Mystery",
          "Documentary",
          "History",
          "Music",
          "War",
          "TV Movie",
          "Western"
         ],
         "name": "1985",
         "textinfo": "percent",
         "type": "pie",
         "values": {
          "bdata": "AgMCAQEAAgAAAAEAAAABAAEAAQ==",
          "dtype": "i1"
         },
         "visible": false
        },
        {
         "hole": 0.4,
         "labels": [
          "Drama",
          "Comedy",
          "Action",
          "Thriller",
          "Adventure",
          "Romance",
          "Crime",
          "Fantasy",
          "Horror",
          "Family",
          "Science Fiction",
          "Animation",
          "Mystery",
          "Documentary",
          "History",
          "Music",
          "War",
          "TV Movie",
          "Western"
         ],
         "name": "1986",
         "textinfo": "percent",
         "type": "pie",
         "values": {
          "bdata": "AQQBAAEBAQEAAQABAAAAAAAAAA==",
          "dtype": "i1"
         },
         "visible": false
        },
        {
         "hole": 0.4,
         "labels": [
          "Drama",
          "Comedy",
          "Action",
          "Thriller",
          "Adventure",
          "Romance",
          "Crime",
          "Fantasy",
          "Horror",
          "Family",
          "Science Fiction",
          "Animation",
          "Mystery",
          "Documentary",
          "History",
          "Music",
          "War",
          "TV Movie",
          "Western"
         ],
         "name": "1987",
         "textinfo": "percent",
         "type": "pie",
         "values": {
          "bdata": "AgYBAgECAQEAAQAAAAABAAAAAQ==",
          "dtype": "i1"
         },
         "visible": false
        },
        {
         "hole": 0.4,
         "labels": [
          "Drama",
          "Comedy",
          "Action",
          "Thriller",
          "Adventure",
          "Romance",
          "Crime",
          "Fantasy",
          "Horror",
          "Family",
          "Science Fiction",
          "Animation",
          "Mystery",
          "Documentary",
          "History",
          "Music",
          "War",
          "TV Movie",
          "Western"
         ],
         "name": "1988",
         "textinfo": "percent",
         "type": "pie",
         "values": {
          "bdata": "AQMCAAAAAQEAAQEDAAAAAAEAAA==",
          "dtype": "i1"
         },
         "visible": false
        },
        {
         "hole": 0.4,
         "labels": [
          "Drama",
          "Comedy",
          "Action",
          "Thriller",
          "Adventure",
          "Romance",
          "Crime",
          "Fantasy",
          "Horror",
          "Family",
          "Science Fiction",
          "Animation",
          "Mystery",
          "Documentary",
          "History",
          "Music",
          "War",
          "TV Movie",
          "Western"
         ],
         "name": "1989",
         "textinfo": "percent",
         "type": "pie",
         "values": {
          "bdata": "AgIBAAIAAQEAAQEBAAAAAAEAAA==",
          "dtype": "i1"
         },
         "visible": false
        },
        {
         "hole": 0.4,
         "labels": [
          "Drama",
          "Comedy",
          "Action",
          "Thriller",
          "Adventure",
          "Romance",
          "Crime",
          "Fantasy",
          "Horror",
          "Family",
          "Science Fiction",
          "Animation",
          "Mystery",
          "Documentary",
          "History",
          "Music",
          "War",
          "TV Movie",
          "Western"
         ],
         "name": "1990",
         "textinfo": "percent",
         "type": "pie",
         "values": {
          "bdata": "AgIBAAEAAQAAAAEAAAAAAQAAAA==",
          "dtype": "i1"
         },
         "visible": false
        },
        {
         "hole": 0.4,
         "labels": [
          "Drama",
          "Comedy",
          "Action",
          "Thriller",
          "Adventure",
          "Romance",
          "Crime",
          "Fantasy",
          "Horror",
          "Family",
          "Science Fiction",
          "Animation",
          "Mystery",
          "Documentary",
          "History",
          "Music",
          "War",
          "TV Movie",
          "Western"
         ],
         "name": "1991",
         "textinfo": "percent",
         "type": "pie",
         "values": {
          "bdata": "AwUBAAEBAgAAAQABAAAAAAAAAA==",
          "dtype": "i1"
         },
         "visible": false
        },
        {
         "hole": 0.4,
         "labels": [
          "Drama",
          "Comedy",
          "Action",
          "Thriller",
          "Adventure",
          "Romance",
          "Crime",
          "Fantasy",
          "Horror",
          "Family",
          "Science Fiction",
          "Animation",
          "Mystery",
          "Documentary",
          "History",
          "Music",
          "War",
          "TV Movie",
          "Western"
         ],
         "name": "1992",
         "textinfo": "percent",
         "type": "pie",
         "values": {
          "bdata": "AwYBAAEEAAABAQABAAABAAAAAA==",
          "dtype": "i1"
         },
         "visible": false
        },
        {
         "hole": 0.4,
         "labels": [
          "Drama",
          "Comedy",
          "Action",
          "Thriller",
          "Adventure",
          "Romance",
          "Crime",
          "Fantasy",
          "Horror",
          "Family",
          "Science Fiction",
          "Animation",
          "Mystery",
          "Documentary",
          "History",
          "Music",
          "War",
          "TV Movie",
          "Western"
         ],
         "name": "1993",
         "textinfo": "percent",
         "type": "pie",
         "values": {
          "bdata": "BAMAAAEDAAAAAQABAQEBAAABAA==",
          "dtype": "i1"
         },
         "visible": false
        },
        {
         "hole": 0.4,
         "labels": [
          "Drama",
          "Comedy",
          "Action",
          "Thriller",
          "Adventure",
          "Romance",
          "Crime",
          "Fantasy",
          "Horror",
          "Family",
          "Science Fiction",
          "Animation",
          "Mystery",
          "Documentary",
          "History",
          "Music",
          "War",
          "TV Movie",
          "Western"
         ],
         "name": "1994",
         "textinfo": "percent",
         "type": "pie",
         "values": {
          "bdata": "BAMDAQIDAAIAAQABAAAAAAEAAQ==",
          "dtype": "i1"
         },
         "visible": false
        },
        {
         "hole": 0.4,
         "labels": [
          "Drama",
          "Comedy",
          "Action",
          "Thriller",
          "Adventure",
          "Romance",
          "Crime",
          "Fantasy",
          "Horror",
          "Family",
          "Science Fiction",
          "Animation",
          "Mystery",
          "Documentary",
          "History",
          "Music",
          "War",
          "TV Movie",
          "Western"
         ],
         "name": "1995",
         "textinfo": "percent",
         "type": "pie",
         "values": {
          "bdata": "BAUDAQEFAgAAAgABAAEAAAAAAA==",
          "dtype": "i1"
         },
         "visible": false
        },
        {
         "hole": 0.4,
         "labels": [
          "Drama",
          "Comedy",
          "Action",
          "Thriller",
          "Adventure",
          "Romance",
          "Crime",
          "Fantasy",
          "Horror",
          "Family",
          "Science Fiction",
          "Animation",
          "Mystery",
          "Documentary",
          "History",
          "Music",
          "War",
          "TV Movie",
          "Western"
         ],
         "name": "1996",
         "textinfo": "percent",
         "type": "pie",
         "values": {
          "bdata": "AwIBAgACAQEAAgAAAQAAAAAAAA==",
          "dtype": "i1"
         },
         "visible": false
        },
        {
         "hole": 0.4,
         "labels": [
          "Drama",
          "Comedy",
          "Action",
          "Thriller",
          "Adventure",
          "Romance",
          "Crime",
          "Fantasy",
          "Horror",
          "Family",
          "Science Fiction",
          "Animation",
          "Mystery",
          "Documentary",
          "History",
          "Music",
          "War",
          "TV Movie",
          "Western"
         ],
         "name": "1997",
         "textinfo": "percent",
         "type": "pie",
         "values": {
          "bdata": "BwMCBQIBAgECAQMDAwAAAAAAAA==",
          "dtype": "i1"
         },
         "visible": false
        },
        {
         "hole": 0.4,
         "labels": [
          "Drama",
          "Comedy",
          "Action",
          "Thriller",
          "Adventure",
          "Romance",
          "Crime",
          "Fantasy",
          "Horror",
          "Family",
          "Science Fiction",
          "Animation",
          "Mystery",
          "Documentary",
          "History",
          "Music",
          "War",
          "TV Movie",
          "Western"
         ],
         "name": "1998",
         "textinfo": "percent",
         "type": "pie",
         "values": {
          "bdata": "CAQEAQAFAAEBAAIBAQEBAAAAAA==",
          "dtype": "i1"
         },
         "visible": false
        },
        {
         "hole": 0.4,
         "labels": [
          "Drama",
          "Comedy",
          "Action",
          "Thriller",
          "Adventure",
          "Romance",
          "Crime",
          "Fantasy",
          "Horror",
          "Family",
          "Science Fiction",
          "Animation",
          "Mystery",
          "Documentary",
          "History",
          "Music",
          "War",
          "TV Movie",
          "Western"
         ],
         "name": "1999",
         "textinfo": "percent",
         "type": "pie",
         "values": {
          "bdata": "AwgDAgEBAwECAgEBAgAAAAAAAA==",
          "dtype": "i1"
         },
         "visible": false
        },
        {
         "hole": 0.4,
         "labels": [
          "Drama",
          "Comedy",
          "Action",
          "Thriller",
          "Adventure",
          "Romance",
          "Crime",
          "Fantasy",
          "Horror",
          "Family",
          "Science Fiction",
          "Animation",
          "Mystery",
          "Documentary",
          "History",
          "Music",
          "War",
          "TV Movie",
          "Western"
         ],
         "name": "2000",
         "textinfo": "percent",
         "type": "pie",
         "values": {
          "bdata": "BQYCAgMAAgIBAgABAAAAAAAAAA==",
          "dtype": "i1"
         },
         "visible": false
        },
        {
         "hole": 0.4,
         "labels": [
          "Drama",
          "Comedy",
          "Action",
          "Thriller",
          "Adventure",
          "Romance",
          "Crime",
          "Fantasy",
          "Horror",
          "Family",
          "Science Fiction",
          "Animation",
          "Mystery",
          "Documentary",
          "History",
          "Music",
          "War",
          "TV Movie",
          "Western"
         ],
         "name": "2001",
         "textinfo": "percent",
         "type": "pie",
         "values": {
          "bdata": "Cw8HBQQGAwQBBQICAQACAAEAAA==",
          "dtype": "i1"
         },
         "visible": false
        },
        {
         "hole": 0.4,
         "labels": [
          "Drama",
          "Comedy",
          "Action",
          "Thriller",
          "Adventure",
          "Romance",
          "Crime",
          "Fantasy",
          "Horror",
          "Family",
          "Science Fiction",
          "Animation",
          "Mystery",
          "Documentary",
          "History",
          "Music",
          "War",
          "TV Movie",
          "Western"
         ],
         "name": "2002",
         "textinfo": "percent",
         "type": "pie",
         "values": {
          "bdata": "CQkEBQQGAwQCBAICAAABAAAAAQ==",
          "dtype": "i1"
         },
         "visible": false
        },
        {
         "hole": 0.4,
         "labels": [
          "Drama",
          "Comedy",
          "Action",
          "Thriller",
          "Adventure",
          "Romance",
          "Crime",
          "Fantasy",
          "Horror",
          "Family",
          "Science Fiction",
          "Animation",
          "Mystery",
          "Documentary",
          "History",
          "Music",
          "War",
          "TV Movie",
          "Western"
         ],
         "name": "2003",
         "textinfo": "percent",
         "type": "pie",
         "values": {
          "bdata": "DxEFCAYFAwEDBwEAAQAAAAAAAA==",
          "dtype": "i1"
         },
         "visible": false
        },
        {
         "hole": 0.4,
         "labels": [
          "Drama",
          "Comedy",
          "Action",
          "Thriller",
          "Adventure",
          "Romance",
          "Crime",
          "Fantasy",
          "Horror",
          "Family",
          "Science Fiction",
          "Animation",
          "Mystery",
          "Documentary",
          "History",
          "Music",
          "War",
          "TV Movie",
          "Western"
         ],
         "name": "2004",
         "textinfo": "percent",
         "type": "pie",
         "values": {
          "bdata": "EhYGBwkECAUECAEDAwEAAQABAA==",
          "dtype": "i1"
         },
         "visible": false
        },
        {
         "hole": 0.4,
         "labels": [
          "Drama",
          "Comedy",
          "Action",
          "Thriller",
          "Adventure",
          "Romance",
          "Crime",
          "Fantasy",
          "Horror",
          "Family",
          "Science Fiction",
          "Animation",
          "Mystery",
          "Documentary",
          "History",
          "Music",
          "War",
          "TV Movie",
          "Western"
         ],
         "name": "2005",
         "textinfo": "percent",
         "type": "pie",
         "values": {
          "bdata": "EwcIDAQHBgQEAgEBBAABAAAAAA==",
          "dtype": "i1"
         },
         "visible": false
        },
        {
         "hole": 0.4,
         "labels": [
          "Drama",
          "Comedy",
          "Action",
          "Thriller",
          "Adventure",
          "Romance",
          "Crime",
          "Fantasy",
          "Horror",
          "Family",
          "Science Fiction",
          "Animation",
          "Mystery",
          "Documentary",
          "History",
          "Music",
          "War",
          "TV Movie",
          "Western"
         ],
         "name": "2006",
         "textinfo": "percent",
         "type": "pie",
         "values": {
          "bdata": "FhUGBwUHCQQDAwAEAwIAAgAAAA==",
          "dtype": "i1"
         },
         "visible": false
        },
        {
         "hole": 0.4,
         "labels": [
          "Drama",
          "Comedy",
          "Action",
          "Thriller",
          "Adventure",
          "Romance",
          "Crime",
          "Fantasy",
          "Horror",
          "Family",
          "Science Fiction",
          "Animation",
          "Mystery",
          "Documentary",
          "History",
          "Music",
          "War",
          "TV Movie",
          "Western"
         ],
         "name": "2007",
         "textinfo": "percent",
         "type": "pie",
         "values": {
          "bdata": "EBINCggHBgYFCQMCAwAAAAAAAQ==",
          "dtype": "i1"
         },
         "visible": false
        },
        {
         "hole": 0.4,
         "labels": [
          "Drama",
          "Comedy",
          "Action",
          "Thriller",
          "Adventure",
          "Romance",
          "Crime",
          "Fantasy",
          "Horror",
          "Family",
          "Science Fiction",
          "Animation",
          "Mystery",
          "Documentary",
          "History",
          "Music",
          "War",
          "TV Movie",
          "Western"
         ],
         "name": "2008",
         "textinfo": "percent",
         "type": "pie",
         "values": {
          "bdata": "EQkNDQoFCAMCBgIDAAACAAAAAA==",
          "dtype": "i1"
         },
         "visible": false
        },
        {
         "hole": 0.4,
         "labels": [
          "Drama",
          "Comedy",
          "Action",
          "Thriller",
          "Adventure",
          "Romance",
          "Crime",
          "Fantasy",
          "Horror",
          "Family",
          "Science Fiction",
          "Animation",
          "Mystery",
          "Documentary",
          "History",
          "Music",
          "War",
          "TV Movie",
          "Western"
         ],
         "name": "2009",
         "textinfo": "percent",
         "type": "pie",
         "values": {
          "bdata": "DxAGCgYDAgYFBAUDAgIBAQIAAA==",
          "dtype": "i1"
         },
         "visible": false
        },
        {
         "hole": 0.4,
         "labels": [
          "Drama",
          "Comedy",
          "Action",
          "Thriller",
          "Adventure",
          "Romance",
          "Crime",
          "Fantasy",
          "Horror",
          "Family",
          "Science Fiction",
          "Animation",
          "Mystery",
          "Documentary",
          "History",
          "Music",
          "War",
          "TV Movie",
          "Western"
         ],
         "name": "2010",
         "textinfo": "percent",
         "type": "pie",
         "values": {
          "bdata": "EhIMBgkJBAUGBQICAwIAAQACAQ==",
          "dtype": "i1"
         },
         "visible": false
        },
        {
         "hole": 0.4,
         "labels": [
          "Drama",
          "Comedy",
          "Action",
          "Thriller",
          "Adventure",
          "Romance",
          "Crime",
          "Fantasy",
          "Horror",
          "Family",
          "Science Fiction",
          "Animation",
          "Mystery",
          "Documentary",
          "History",
          "Music",
          "War",
          "TV Movie",
          "Western"
         ],
         "name": "2011",
         "textinfo": "percent",
         "type": "pie",
         "values": {
          "bdata": "HRgKCAYLAwYFBQMDBQIDAQQBAA==",
          "dtype": "i1"
         },
         "visible": false
        },
        {
         "hole": 0.4,
         "labels": [
          "Drama",
          "Comedy",
          "Action",
          "Thriller",
          "Adventure",
          "Romance",
          "Crime",
          "Fantasy",
          "Horror",
          "Family",
          "Science Fiction",
          "Animation",
          "Mystery",
          "Documentary",
          "History",
          "Music",
          "War",
          "TV Movie",
          "Western"
         ],
         "name": "2012",
         "textinfo": "percent",
         "type": "pie",
         "values": {
          "bdata": "EBUNBwYFCQcDAwUDAwMCAQACAg==",
          "dtype": "i1"
         },
         "visible": false
        },
        {
         "hole": 0.4,
         "labels": [
          "Drama",
          "Comedy",
          "Action",
          "Thriller",
          "Adventure",
          "Romance",
          "Crime",
          "Fantasy",
          "Horror",
          "Family",
          "Science Fiction",
          "Animation",
          "Mystery",
          "Documentary",
          "History",
          "Music",
          "War",
          "TV Movie",
          "Western"
         ],
         "name": "2013",
         "textinfo": "percent",
         "type": "pie",
         "values": {
          "bdata": "ExsNBwIHCAQCAgMEAQQBAAEBAA==",
          "dtype": "i1"
         },
         "visible": false
        },
        {
         "hole": 0.4,
         "labels": [
          "Drama",
          "Comedy",
          "Action",
          "Thriller",
          "Adventure",
          "Romance",
          "Crime",
          "Fantasy",
          "Horror",
          "Family",
          "Science Fiction",
          "Animation",
          "Mystery",
          "Documentary",
          "History",
          "Music",
          "War",
          "TV Movie",
          "Western"
         ],
         "name": "2014",
         "textinfo": "percent",
         "type": "pie",
         "values": {
          "bdata": "HCgQDAsLBwIGBwgFAQ4DAgIDAA==",
          "dtype": "i1"
         },
         "visible": false
        },
        {
         "hole": 0.4,
         "labels": [
          "Drama",
          "Comedy",
          "Action",
          "Thriller",
          "Adventure",
          "Romance",
          "Crime",
          "Fantasy",
          "Horror",
          "Family",
          "Science Fiction",
          "Animation",
          "Mystery",
          "Documentary",
          "History",
          "Music",
          "War",
          "TV Movie",
          "Western"
         ],
         "name": "2015",
         "textinfo": "percent",
         "type": "pie",
         "values": {
          "bdata": "KDENCQsUBQgOCAcEBQgCBgEHAg==",
          "dtype": "i1"
         },
         "visible": false
        },
        {
         "hole": 0.4,
         "labels": [
          "Drama",
          "Comedy",
          "Action",
          "Thriller",
          "Adventure",
          "Romance",
          "Crime",
          "Fantasy",
          "Horror",
          "Family",
          "Science Fiction",
          "Animation",
          "Mystery",
          "Documentary",
          "History",
          "Music",
          "War",
          "TV Movie",
          "Western"
         ],
         "name": "2016",
         "textinfo": "percent",
         "type": "pie",
         "values": {
          "bdata": "LygbGRANCQgFBwkEAwYEBgMBAA==",
          "dtype": "i1"
         },
         "visible": false
        },
        {
         "hole": 0.4,
         "labels": [
          "Drama",
          "Comedy",
          "Action",
          "Thriller",
          "Adventure",
          "Romance",
          "Crime",
          "Fantasy",
          "Horror",
          "Family",
          "Science Fiction",
          "Animation",
          "Mystery",
          "Documentary",
          "History",
          "Music",
          "War",
          "TV Movie",
          "Western"
         ],
         "name": "2017",
         "textinfo": "percent",
         "type": "pie",
         "values": {
          "bdata": "JSIXIBAHEAkSDA0MCAQDBAQAAA==",
          "dtype": "i1"
         },
         "visible": false
        },
        {
         "hole": 0.4,
         "labels": [
          "Drama",
          "Comedy",
          "Action",
          "Thriller",
          "Adventure",
          "Romance",
          "Crime",
          "Fantasy",
          "Horror",
          "Family",
          "Science Fiction",
          "Animation",
          "Mystery",
          "Documentary",
          "History",
          "Music",
          "War",
          "TV Movie",
          "Western"
         ],
         "name": "2018",
         "textinfo": "percent",
         "type": "pie",
         "values": {
          "bdata": "KB8fIhYPDQ0QBxEJCwICAwEBAQ==",
          "dtype": "i1"
         },
         "visible": false
        },
        {
         "hole": 0.4,
         "labels": [
          "Drama",
          "Comedy",
          "Action",
          "Thriller",
          "Adventure",
          "Romance",
          "Crime",
          "Fantasy",
          "Horror",
          "Family",
          "Science Fiction",
          "Animation",
          "Mystery",
          "Documentary",
          "History",
          "Music",
          "War",
          "TV Movie",
          "Western"
         ],
         "name": "2019",
         "textinfo": "percent",
         "type": "pie",
         "values": {
          "bdata": "KiIcIhEQFQoRBwgJCAILAwMBAA==",
          "dtype": "i1"
         },
         "visible": false
        },
        {
         "hole": 0.4,
         "labels": [
          "Drama",
          "Comedy",
          "Action",
          "Thriller",
          "Adventure",
          "Romance",
          "Crime",
          "Fantasy",
          "Horror",
          "Family",
          "Science Fiction",
          "Animation",
          "Mystery",
          "Documentary",
          "History",
          "Music",
          "War",
          "TV Movie",
          "Western"
         ],
         "name": "2020",
         "textinfo": "percent",
         "type": "pie",
         "values": {
          "bdata": "KCAZFhESCg4NDAkKCwkDBQMCAQ==",
          "dtype": "i1"
         },
         "visible": false
        },
        {
         "hole": 0.4,
         "labels": [
          "Drama",
          "Comedy",
          "Action",
          "Thriller",
          "Adventure",
          "Romance",
          "Crime",
          "Fantasy",
          "Horror",
          "Family",
          "Science Fiction",
          "Animation",
          "Mystery",
          "Documentary",
          "History",
          "Music",
          "War",
          "TV Movie",
          "Western"
         ],
         "name": "2021",
         "textinfo": "percent",
         "type": "pie",
         "values": {
          "bdata": "JBYhHBUNCxMSEAwVCgMDAQACAg==",
          "dtype": "i1"
         },
         "visible": false
        },
        {
         "hole": 0.4,
         "labels": [
          "Drama",
          "Comedy",
          "Action",
          "Thriller",
          "Adventure",
          "Romance",
          "Crime",
          "Fantasy",
          "Horror",
          "Family",
          "Science Fiction",
          "Animation",
          "Mystery",
          "Documentary",
          "History",
          "Music",
          "War",
          "TV Movie",
          "Western"
         ],
         "name": "2022",
         "textinfo": "percent",
         "type": "pie",
         "values": {
          "bdata": "KR8iGBgYEBELCggNCAMEAgMAAA==",
          "dtype": "i1"
         },
         "visible": false
        },
        {
         "hole": 0.4,
         "labels": [
          "Drama",
          "Comedy",
          "Action",
          "Thriller",
          "Adventure",
          "Romance",
          "Crime",
          "Fantasy",
          "Horror",
          "Family",
          "Science Fiction",
          "Animation",
          "Mystery",
          "Documentary",
          "History",
          "Music",
          "War",
          "TV Movie",
          "Western"
         ],
         "name": "2023",
         "textinfo": "percent",
         "type": "pie",
         "values": {
          "bdata": "JxojIRQTDw8KDQ0NDQMCAQMAAA==",
          "dtype": "i1"
         },
         "visible": false
        },
        {
         "hole": 0.4,
         "labels": [
          "Drama",
          "Comedy",
          "Action",
          "Thriller",
          "Adventure",
          "Romance",
          "Crime",
          "Fantasy",
          "Horror",
          "Family",
          "Science Fiction",
          "Animation",
          "Mystery",
          "Documentary",
          "History",
          "Music",
          "War",
          "TV Movie",
          "Western"
         ],
         "name": "2024",
         "textinfo": "percent",
         "type": "pie",
         "values": {
          "bdata": "Jx4sGBQJFA0ODQ4MBAAIAgQAAA==",
          "dtype": "i1"
         },
         "visible": false
        }
       ],
       "layout": {
        "height": 600,
        "legend": {
         "orientation": "v",
         "x": 1.02,
         "y": 0.5
        },
        "margin": {
         "b": 20,
         "l": 20,
         "r": 20,
         "t": 80
        },
        "template": {
         "data": {
          "bar": [
           {
            "error_x": {
             "color": "#2a3f5f"
            },
            "error_y": {
             "color": "#2a3f5f"
            },
            "marker": {
             "line": {
              "color": "#E5ECF6",
              "width": 0.5
             },
             "pattern": {
              "fillmode": "overlay",
              "size": 10,
              "solidity": 0.2
             }
            },
            "type": "bar"
           }
          ],
          "barpolar": [
           {
            "marker": {
             "line": {
              "color": "#E5ECF6",
              "width": 0.5
             },
             "pattern": {
              "fillmode": "overlay",
              "size": 10,
              "solidity": 0.2
             }
            },
            "type": "barpolar"
           }
          ],
          "carpet": [
           {
            "aaxis": {
             "endlinecolor": "#2a3f5f",
             "gridcolor": "white",
             "linecolor": "white",
             "minorgridcolor": "white",
             "startlinecolor": "#2a3f5f"
            },
            "baxis": {
             "endlinecolor": "#2a3f5f",
             "gridcolor": "white",
             "linecolor": "white",
             "minorgridcolor": "white",
             "startlinecolor": "#2a3f5f"
            },
            "type": "carpet"
           }
          ],
          "choropleth": [
           {
            "colorbar": {
             "outlinewidth": 0,
             "ticks": ""
            },
            "type": "choropleth"
           }
          ],
          "contour": [
           {
            "colorbar": {
             "outlinewidth": 0,
             "ticks": ""
            },
            "colorscale": [
             [
              0,
              "#0d0887"
             ],
             [
              0.1111111111111111,
              "#46039f"
             ],
             [
              0.2222222222222222,
              "#7201a8"
             ],
             [
              0.3333333333333333,
              "#9c179e"
             ],
             [
              0.4444444444444444,
              "#bd3786"
             ],
             [
              0.5555555555555556,
              "#d8576b"
             ],
             [
              0.6666666666666666,
              "#ed7953"
             ],
             [
              0.7777777777777778,
              "#fb9f3a"
             ],
             [
              0.8888888888888888,
              "#fdca26"
             ],
             [
              1,
              "#f0f921"
             ]
            ],
            "type": "contour"
           }
          ],
          "contourcarpet": [
           {
            "colorbar": {
             "outlinewidth": 0,
             "ticks": ""
            },
            "type": "contourcarpet"
           }
          ],
          "heatmap": [
           {
            "colorbar": {
             "outlinewidth": 0,
             "ticks": ""
            },
            "colorscale": [
             [
              0,
              "#0d0887"
             ],
             [
              0.1111111111111111,
              "#46039f"
             ],
             [
              0.2222222222222222,
              "#7201a8"
             ],
             [
              0.3333333333333333,
              "#9c179e"
             ],
             [
              0.4444444444444444,
              "#bd3786"
             ],
             [
              0.5555555555555556,
              "#d8576b"
             ],
             [
              0.6666666666666666,
              "#ed7953"
             ],
             [
              0.7777777777777778,
              "#fb9f3a"
             ],
             [
              0.8888888888888888,
              "#fdca26"
             ],
             [
              1,
              "#f0f921"
             ]
            ],
            "type": "heatmap"
           }
          ],
          "histogram": [
           {
            "marker": {
             "pattern": {
              "fillmode": "overlay",
              "size": 10,
              "solidity": 0.2
             }
            },
            "type": "histogram"
           }
          ],
          "histogram2d": [
           {
            "colorbar": {
             "outlinewidth": 0,
             "ticks": ""
            },
            "colorscale": [
             [
              0,
              "#0d0887"
             ],
             [
              0.1111111111111111,
              "#46039f"
             ],
             [
              0.2222222222222222,
              "#7201a8"
             ],
             [
              0.3333333333333333,
              "#9c179e"
             ],
             [
              0.4444444444444444,
              "#bd3786"
             ],
             [
              0.5555555555555556,
              "#d8576b"
             ],
             [
              0.6666666666666666,
              "#ed7953"
             ],
             [
              0.7777777777777778,
              "#fb9f3a"
             ],
             [
              0.8888888888888888,
              "#fdca26"
             ],
             [
              1,
              "#f0f921"
             ]
            ],
            "type": "histogram2d"
           }
          ],
          "histogram2dcontour": [
           {
            "colorbar": {
             "outlinewidth": 0,
             "ticks": ""
            },
            "colorscale": [
             [
              0,
              "#0d0887"
             ],
             [
              0.1111111111111111,
              "#46039f"
             ],
             [
              0.2222222222222222,
              "#7201a8"
             ],
             [
              0.3333333333333333,
              "#9c179e"
             ],
             [
              0.4444444444444444,
              "#bd3786"
             ],
             [
              0.5555555555555556,
              "#d8576b"
             ],
             [
              0.6666666666666666,
              "#ed7953"
             ],
             [
              0.7777777777777778,
              "#fb9f3a"
             ],
             [
              0.8888888888888888,
              "#fdca26"
             ],
             [
              1,
              "#f0f921"
             ]
            ],
            "type": "histogram2dcontour"
           }
          ],
          "mesh3d": [
           {
            "colorbar": {
             "outlinewidth": 0,
             "ticks": ""
            },
            "type": "mesh3d"
           }
          ],
          "parcoords": [
           {
            "line": {
             "colorbar": {
              "outlinewidth": 0,
              "ticks": ""
             }
            },
            "type": "parcoords"
           }
          ],
          "pie": [
           {
            "automargin": true,
            "type": "pie"
           }
          ],
          "scatter": [
           {
            "fillpattern": {
             "fillmode": "overlay",
             "size": 10,
             "solidity": 0.2
            },
            "type": "scatter"
           }
          ],
          "scatter3d": [
           {
            "line": {
             "colorbar": {
              "outlinewidth": 0,
              "ticks": ""
             }
            },
            "marker": {
             "colorbar": {
              "outlinewidth": 0,
              "ticks": ""
             }
            },
            "type": "scatter3d"
           }
          ],
          "scattercarpet": [
           {
            "marker": {
             "colorbar": {
              "outlinewidth": 0,
              "ticks": ""
             }
            },
            "type": "scattercarpet"
           }
          ],
          "scattergeo": [
           {
            "marker": {
             "colorbar": {
              "outlinewidth": 0,
              "ticks": ""
             }
            },
            "type": "scattergeo"
           }
          ],
          "scattergl": [
           {
            "marker": {
             "colorbar": {
              "outlinewidth": 0,
              "ticks": ""
             }
            },
            "type": "scattergl"
           }
          ],
          "scattermap": [
           {
            "marker": {
             "colorbar": {
              "outlinewidth": 0,
              "ticks": ""
             }
            },
            "type": "scattermap"
           }
          ],
          "scattermapbox": [
           {
            "marker": {
             "colorbar": {
              "outlinewidth": 0,
              "ticks": ""
             }
            },
            "type": "scattermapbox"
           }
          ],
          "scatterpolar": [
           {
            "marker": {
             "colorbar": {
              "outlinewidth": 0,
              "ticks": ""
             }
            },
            "type": "scatterpolar"
           }
          ],
          "scatterpolargl": [
           {
            "marker": {
             "colorbar": {
              "outlinewidth": 0,
              "ticks": ""
             }
            },
            "type": "scatterpolargl"
           }
          ],
          "scatterternary": [
           {
            "marker": {
             "colorbar": {
              "outlinewidth": 0,
              "ticks": ""
             }
            },
            "type": "scatterternary"
           }
          ],
          "surface": [
           {
            "colorbar": {
             "outlinewidth": 0,
             "ticks": ""
            },
            "colorscale": [
             [
              0,
              "#0d0887"
             ],
             [
              0.1111111111111111,
              "#46039f"
             ],
             [
              0.2222222222222222,
              "#7201a8"
             ],
             [
              0.3333333333333333,
              "#9c179e"
             ],
             [
              0.4444444444444444,
              "#bd3786"
             ],
             [
              0.5555555555555556,
              "#d8576b"
             ],
             [
              0.6666666666666666,
              "#ed7953"
             ],
             [
              0.7777777777777778,
              "#fb9f3a"
             ],
             [
              0.8888888888888888,
              "#fdca26"
             ],
             [
              1,
              "#f0f921"
             ]
            ],
            "type": "surface"
           }
          ],
          "table": [
           {
            "cells": {
             "fill": {
              "color": "#EBF0F8"
             },
             "line": {
              "color": "white"
             }
            },
            "header": {
             "fill": {
              "color": "#C8D4E3"
             },
             "line": {
              "color": "white"
             }
            },
            "type": "table"
           }
          ]
         },
         "layout": {
          "annotationdefaults": {
           "arrowcolor": "#2a3f5f",
           "arrowhead": 0,
           "arrowwidth": 1
          },
          "autotypenumbers": "strict",
          "coloraxis": {
           "colorbar": {
            "outlinewidth": 0,
            "ticks": ""
           }
          },
          "colorscale": {
           "diverging": [
            [
             0,
             "#8e0152"
            ],
            [
             0.1,
             "#c51b7d"
            ],
            [
             0.2,
             "#de77ae"
            ],
            [
             0.3,
             "#f1b6da"
            ],
            [
             0.4,
             "#fde0ef"
            ],
            [
             0.5,
             "#f7f7f7"
            ],
            [
             0.6,
             "#e6f5d0"
            ],
            [
             0.7,
             "#b8e186"
            ],
            [
             0.8,
             "#7fbc41"
            ],
            [
             0.9,
             "#4d9221"
            ],
            [
             1,
             "#276419"
            ]
           ],
           "sequential": [
            [
             0,
             "#0d0887"
            ],
            [
             0.1111111111111111,
             "#46039f"
            ],
            [
             0.2222222222222222,
             "#7201a8"
            ],
            [
             0.3333333333333333,
             "#9c179e"
            ],
            [
             0.4444444444444444,
             "#bd3786"
            ],
            [
             0.5555555555555556,
             "#d8576b"
            ],
            [
             0.6666666666666666,
             "#ed7953"
            ],
            [
             0.7777777777777778,
             "#fb9f3a"
            ],
            [
             0.8888888888888888,
             "#fdca26"
            ],
            [
             1,
             "#f0f921"
            ]
           ],
           "sequentialminus": [
            [
             0,
             "#0d0887"
            ],
            [
             0.1111111111111111,
             "#46039f"
            ],
            [
             0.2222222222222222,
             "#7201a8"
            ],
            [
             0.3333333333333333,
             "#9c179e"
            ],
            [
             0.4444444444444444,
             "#bd3786"
            ],
            [
             0.5555555555555556,
             "#d8576b"
            ],
            [
             0.6666666666666666,
             "#ed7953"
            ],
            [
             0.7777777777777778,
             "#fb9f3a"
            ],
            [
             0.8888888888888888,
             "#fdca26"
            ],
            [
             1,
             "#f0f921"
            ]
           ]
          },
          "colorway": [
           "#636efa",
           "#EF553B",
           "#00cc96",
           "#ab63fa",
           "#FFA15A",
           "#19d3f3",
           "#FF6692",
           "#B6E880",
           "#FF97FF",
           "#FECB52"
          ],
          "font": {
           "color": "#2a3f5f"
          },
          "geo": {
           "bgcolor": "white",
           "lakecolor": "white",
           "landcolor": "#E5ECF6",
           "showlakes": true,
           "showland": true,
           "subunitcolor": "white"
          },
          "hoverlabel": {
           "align": "left"
          },
          "hovermode": "closest",
          "mapbox": {
           "style": "light"
          },
          "paper_bgcolor": "white",
          "plot_bgcolor": "#E5ECF6",
          "polar": {
           "angularaxis": {
            "gridcolor": "white",
            "linecolor": "white",
            "ticks": ""
           },
           "bgcolor": "#E5ECF6",
           "radialaxis": {
            "gridcolor": "white",
            "linecolor": "white",
            "ticks": ""
           }
          },
          "scene": {
           "xaxis": {
            "backgroundcolor": "#E5ECF6",
            "gridcolor": "white",
            "gridwidth": 2,
            "linecolor": "white",
            "showbackground": true,
            "ticks": "",
            "zerolinecolor": "white"
           },
           "yaxis": {
            "backgroundcolor": "#E5ECF6",
            "gridcolor": "white",
            "gridwidth": 2,
            "linecolor": "white",
            "showbackground": true,
            "ticks": "",
            "zerolinecolor": "white"
           },
           "zaxis": {
            "backgroundcolor": "#E5ECF6",
            "gridcolor": "white",
            "gridwidth": 2,
            "linecolor": "white",
            "showbackground": true,
            "ticks": "",
            "zerolinecolor": "white"
           }
          },
          "shapedefaults": {
           "line": {
            "color": "#2a3f5f"
           }
          },
          "ternary": {
           "aaxis": {
            "gridcolor": "white",
            "linecolor": "white",
            "ticks": ""
           },
           "baxis": {
            "gridcolor": "white",
            "linecolor": "white",
            "ticks": ""
           },
           "bgcolor": "#E5ECF6",
           "caxis": {
            "gridcolor": "white",
            "linecolor": "white",
            "ticks": ""
           }
          },
          "title": {
           "x": 0.05
          },
          "xaxis": {
           "automargin": true,
           "gridcolor": "white",
           "linecolor": "white",
           "ticks": "",
           "title": {
            "standoff": 15
           },
           "zerolinecolor": "white",
           "zerolinewidth": 2
          },
          "yaxis": {
           "automargin": true,
           "gridcolor": "white",
           "linecolor": "white",
           "ticks": "",
           "title": {
            "standoff": 15
           },
           "zerolinecolor": "white",
           "zerolinewidth": 2
          }
         }
        },
        "title": {
         "text": "Anteil der Filme pro Genre (gesamt)"
        },
        "updatemenus": [
         {
          "active": 0,
          "buttons": [
           {
            "args": [
             {
              "visible": [
               true,
               false,
               false,
               false,
               false,
               false,
               false,
               false,
               false,
               false,
               false,
               false,
               false,
               false,
               false,
               false,
               false,
               false,
               false,
               false,
               false,
               false,
               false,
               false,
               false,
               false,
               false,
               false,
               false,
               false,
               false,
               false,
               false,
               false,
               false,
               false,
               false,
               false,
               false,
               false,
               false,
               false,
               false,
               false,
               false,
               false
              ]
             },
             {
              "title": "Anteil der Filme pro Genre (gesamt)"
             }
            ],
            "label": "Gesamt",
            "method": "update"
           },
           {
            "args": [
             {
              "visible": [
               false,
               true,
               false,
               false,
               false,
               false,
               false,
               false,
               false,
               false,
               false,
               false,
               false,
               false,
               false,
               false,
               false,
               false,
               false,
               false,
               false,
               false,
               false,
               false,
               false,
               false,
               false,
               false,
               false,
               false,
               false,
               false,
               false,
               false,
               false,
               false,
               false,
               false,
               false,
               false,
               false,
               false,
               false,
               false,
               false,
               false
              ]
             },
             {
              "title": "Anteil der Filme pro Genre in 1980"
             }
            ],
            "label": "1980",
            "method": "update"
           },
           {
            "args": [
             {
              "visible": [
               false,
               false,
               true,
               false,
               false,
               false,
               false,
               false,
               false,
               false,
               false,
               false,
               false,
               false,
               false,
               false,
               false,
               false,
               false,
               false,
               false,
               false,
               false,
               false,
               false,
               false,
               false,
               false,
               false,
               false,
               false,
               false,
               false,
               false,
               false,
               false,
               false,
               false,
               false,
               false,
               false,
               false,
               false,
               false,
               false,
               false
              ]
             },
             {
              "title": "Anteil der Filme pro Genre in 1981"
             }
            ],
            "label": "1981",
            "method": "update"
           },
           {
            "args": [
             {
              "visible": [
               false,
               false,
               false,
               true,
               false,
               false,
               false,
               false,
               false,
               false,
               false,
               false,
               false,
               false,
               false,
               false,
               false,
               false,
               false,
               false,
               false,
               false,
               false,
               false,
               false,
               false,
               false,
               false,
               false,
               false,
               false,
               false,
               false,
               false,
               false,
               false,
               false,
               false,
               false,
               false,
               false,
               false,
               false,
               false,
               false,
               false
              ]
             },
             {
              "title": "Anteil der Filme pro Genre in 1982"
             }
            ],
            "label": "1982",
            "method": "update"
           },
           {
            "args": [
             {
              "visible": [
               false,
               false,
               false,
               false,
               true,
               false,
               false,
               false,
               false,
               false,
               false,
               false,
               false,
               false,
               false,
               false,
               false,
               false,
               false,
               false,
               false,
               false,
               false,
               false,
               false,
               false,
               false,
               false,
               false,
               false,
               false,
               false,
               false,
               false,
               false,
               false,
               false,
               false,
               false,
               false,
               false,
               false,
               false,
               false,
               false,
               false
              ]
             },
             {
              "title": "Anteil der Filme pro Genre in 1983"
             }
            ],
            "label": "1983",
            "method": "update"
           },
           {
            "args": [
             {
              "visible": [
               false,
               false,
               false,
               false,
               false,
               true,
               false,
               false,
               false,
               false,
               false,
               false,
               false,
               false,
               false,
               false,
               false,
               false,
               false,
               false,
               false,
               false,
               false,
               false,
               false,
               false,
               false,
               false,
               false,
               false,
               false,
               false,
               false,
               false,
               false,
               false,
               false,
               false,
               false,
               false,
               false,
               false,
               false,
               false,
               false,
               false
              ]
             },
             {
              "title": "Anteil der Filme pro Genre in 1984"
             }
            ],
            "label": "1984",
            "method": "update"
           },
           {
            "args": [
             {
              "visible": [
               false,
               false,
               false,
               false,
               false,
               false,
               true,
               false,
               false,
               false,
               false,
               false,
               false,
               false,
               false,
               false,
               false,
               false,
               false,
               false,
               false,
               false,
               false,
               false,
               false,
               false,
               false,
               false,
               false,
               false,
               false,
               false,
               false,
               false,
               false,
               false,
               false,
               false,
               false,
               false,
               false,
               false,
               false,
               false,
               false,
               false
              ]
             },
             {
              "title": "Anteil der Filme pro Genre in 1985"
             }
            ],
            "label": "1985",
            "method": "update"
           },
           {
            "args": [
             {
              "visible": [
               false,
               false,
               false,
               false,
               false,
               false,
               false,
               true,
               false,
               false,
               false,
               false,
               false,
               false,
               false,
               false,
               false,
               false,
               false,
               false,
               false,
               false,
               false,
               false,
               false,
               false,
               false,
               false,
               false,
               false,
               false,
               false,
               false,
               false,
               false,
               false,
               false,
               false,
               false,
               false,
               false,
               false,
               false,
               false,
               false,
               false
              ]
             },
             {
              "title": "Anteil der Filme pro Genre in 1986"
             }
            ],
            "label": "1986",
            "method": "update"
           },
           {
            "args": [
             {
              "visible": [
               false,
               false,
               false,
               false,
               false,
               false,
               false,
               false,
               true,
               false,
               false,
               false,
               false,
               false,
               false,
               false,
               false,
               false,
               false,
               false,
               false,
               false,
               false,
               false,
               false,
               false,
               false,
               false,
               false,
               false,
               false,
               false,
               false,
               false,
               false,
               false,
               false,
               false,
               false,
               false,
               false,
               false,
               false,
               false,
               false,
               false
              ]
             },
             {
              "title": "Anteil der Filme pro Genre in 1987"
             }
            ],
            "label": "1987",
            "method": "update"
           },
           {
            "args": [
             {
              "visible": [
               false,
               false,
               false,
               false,
               false,
               false,
               false,
               false,
               false,
               true,
               false,
               false,
               false,
               false,
               false,
               false,
               false,
               false,
               false,
               false,
               false,
               false,
               false,
               false,
               false,
               false,
               false,
               false,
               false,
               false,
               false,
               false,
               false,
               false,
               false,
               false,
               false,
               false,
               false,
               false,
               false,
               false,
               false,
               false,
               false,
               false
              ]
             },
             {
              "title": "Anteil der Filme pro Genre in 1988"
             }
            ],
            "label": "1988",
            "method": "update"
           },
           {
            "args": [
             {
              "visible": [
               false,
               false,
               false,
               false,
               false,
               false,
               false,
               false,
               false,
               false,
               true,
               false,
               false,
               false,
               false,
               false,
               false,
               false,
               false,
               false,
               false,
               false,
               false,
               false,
               false,
               false,
               false,
               false,
               false,
               false,
               false,
               false,
               false,
               false,
               false,
               false,
               false,
               false,
               false,
               false,
               false,
               false,
               false,
               false,
               false,
               false
              ]
             },
             {
              "title": "Anteil der Filme pro Genre in 1989"
             }
            ],
            "label": "1989",
            "method": "update"
           },
           {
            "args": [
             {
              "visible": [
               false,
               false,
               false,
               false,
               false,
               false,
               false,
               false,
               false,
               false,
               false,
               true,
               false,
               false,
               false,
               false,
               false,
               false,
               false,
               false,
               false,
               false,
               false,
               false,
               false,
               false,
               false,
               false,
               false,
               false,
               false,
               false,
               false,
               false,
               false,
               false,
               false,
               false,
               false,
               false,
               false,
               false,
               false,
               false,
               false,
               false
              ]
             },
             {
              "title": "Anteil der Filme pro Genre in 1990"
             }
            ],
            "label": "1990",
            "method": "update"
           },
           {
            "args": [
             {
              "visible": [
               false,
               false,
               false,
               false,
               false,
               false,
               false,
               false,
               false,
               false,
               false,
               false,
               true,
               false,
               false,
               false,
               false,
               false,
               false,
               false,
               false,
               false,
               false,
               false,
               false,
               false,
               false,
               false,
               false,
               false,
               false,
               false,
               false,
               false,
               false,
               false,
               false,
               false,
               false,
               false,
               false,
               false,
               false,
               false,
               false,
               false
              ]
             },
             {
              "title": "Anteil der Filme pro Genre in 1991"
             }
            ],
            "label": "1991",
            "method": "update"
           },
           {
            "args": [
             {
              "visible": [
               false,
               false,
               false,
               false,
               false,
               false,
               false,
               false,
               false,
               false,
               false,
               false,
               false,
               true,
               false,
               false,
               false,
               false,
               false,
               false,
               false,
               false,
               false,
               false,
               false,
               false,
               false,
               false,
               false,
               false,
               false,
               false,
               false,
               false,
               false,
               false,
               false,
               false,
               false,
               false,
               false,
               false,
               false,
               false,
               false,
               false
              ]
             },
             {
              "title": "Anteil der Filme pro Genre in 1992"
             }
            ],
            "label": "1992",
            "method": "update"
           },
           {
            "args": [
             {
              "visible": [
               false,
               false,
               false,
               false,
               false,
               false,
               false,
               false,
               false,
               false,
               false,
               false,
               false,
               false,
               true,
               false,
               false,
               false,
               false,
               false,
               false,
               false,
               false,
               false,
               false,
               false,
               false,
               false,
               false,
               false,
               false,
               false,
               false,
               false,
               false,
               false,
               false,
               false,
               false,
               false,
               false,
               false,
               false,
               false,
               false,
               false
              ]
             },
             {
              "title": "Anteil der Filme pro Genre in 1993"
             }
            ],
            "label": "1993",
            "method": "update"
           },
           {
            "args": [
             {
              "visible": [
               false,
               false,
               false,
               false,
               false,
               false,
               false,
               false,
               false,
               false,
               false,
               false,
               false,
               false,
               false,
               true,
               false,
               false,
               false,
               false,
               false,
               false,
               false,
               false,
               false,
               false,
               false,
               false,
               false,
               false,
               false,
               false,
               false,
               false,
               false,
               false,
               false,
               false,
               false,
               false,
               false,
               false,
               false,
               false,
               false,
               false
              ]
             },
             {
              "title": "Anteil der Filme pro Genre in 1994"
             }
            ],
            "label": "1994",
            "method": "update"
           },
           {
            "args": [
             {
              "visible": [
               false,
               false,
               false,
               false,
               false,
               false,
               false,
               false,
               false,
               false,
               false,
               false,
               false,
               false,
               false,
               false,
               true,
               false,
               false,
               false,
               false,
               false,
               false,
               false,
               false,
               false,
               false,
               false,
               false,
               false,
               false,
               false,
               false,
               false,
               false,
               false,
               false,
               false,
               false,
               false,
               false,
               false,
               false,
               false,
               false,
               false
              ]
             },
             {
              "title": "Anteil der Filme pro Genre in 1995"
             }
            ],
            "label": "1995",
            "method": "update"
           },
           {
            "args": [
             {
              "visible": [
               false,
               false,
               false,
               false,
               false,
               false,
               false,
               false,
               false,
               false,
               false,
               false,
               false,
               false,
               false,
               false,
               false,
               true,
               false,
               false,
               false,
               false,
               false,
               false,
               false,
               false,
               false,
               false,
               false,
               false,
               false,
               false,
               false,
               false,
               false,
               false,
               false,
               false,
               false,
               false,
               false,
               false,
               false,
               false,
               false,
               false
              ]
             },
             {
              "title": "Anteil der Filme pro Genre in 1996"
             }
            ],
            "label": "1996",
            "method": "update"
           },
           {
            "args": [
             {
              "visible": [
               false,
               false,
               false,
               false,
               false,
               false,
               false,
               false,
               false,
               false,
               false,
               false,
               false,
               false,
               false,
               false,
               false,
               false,
               true,
               false,
               false,
               false,
               false,
               false,
               false,
               false,
               false,
               false,
               false,
               false,
               false,
               false,
               false,
               false,
               false,
               false,
               false,
               false,
               false,
               false,
               false,
               false,
               false,
               false,
               false,
               false
              ]
             },
             {
              "title": "Anteil der Filme pro Genre in 1997"
             }
            ],
            "label": "1997",
            "method": "update"
           },
           {
            "args": [
             {
              "visible": [
               false,
               false,
               false,
               false,
               false,
               false,
               false,
               false,
               false,
               false,
               false,
               false,
               false,
               false,
               false,
               false,
               false,
               false,
               false,
               true,
               false,
               false,
               false,
               false,
               false,
               false,
               false,
               false,
               false,
               false,
               false,
               false,
               false,
               false,
               false,
               false,
               false,
               false,
               false,
               false,
               false,
               false,
               false,
               false,
               false,
               false
              ]
             },
             {
              "title": "Anteil der Filme pro Genre in 1998"
             }
            ],
            "label": "1998",
            "method": "update"
           },
           {
            "args": [
             {
              "visible": [
               false,
               false,
               false,
               false,
               false,
               false,
               false,
               false,
               false,
               false,
               false,
               false,
               false,
               false,
               false,
               false,
               false,
               false,
               false,
               false,
               true,
               false,
               false,
               false,
               false,
               false,
               false,
               false,
               false,
               false,
               false,
               false,
               false,
               false,
               false,
               false,
               false,
               false,
               false,
               false,
               false,
               false,
               false,
               false,
               false,
               false
              ]
             },
             {
              "title": "Anteil der Filme pro Genre in 1999"
             }
            ],
            "label": "1999",
            "method": "update"
           },
           {
            "args": [
             {
              "visible": [
               false,
               false,
               false,
               false,
               false,
               false,
               false,
               false,
               false,
               false,
               false,
               false,
               false,
               false,
               false,
               false,
               false,
               false,
               false,
               false,
               false,
               true,
               false,
               false,
               false,
               false,
               false,
               false,
               false,
               false,
               false,
               false,
               false,
               false,
               false,
               false,
               false,
               false,
               false,
               false,
               false,
               false,
               false,
               false,
               false,
               false
              ]
             },
             {
              "title": "Anteil der Filme pro Genre in 2000"
             }
            ],
            "label": "2000",
            "method": "update"
           },
           {
            "args": [
             {
              "visible": [
               false,
               false,
               false,
               false,
               false,
               false,
               false,
               false,
               false,
               false,
               false,
               false,
               false,
               false,
               false,
               false,
               false,
               false,
               false,
               false,
               false,
               false,
               true,
               false,
               false,
               false,
               false,
               false,
               false,
               false,
               false,
               false,
               false,
               false,
               false,
               false,
               false,
               false,
               false,
               false,
               false,
               false,
               false,
               false,
               false,
               false
              ]
             },
             {
              "title": "Anteil der Filme pro Genre in 2001"
             }
            ],
            "label": "2001",
            "method": "update"
           },
           {
            "args": [
             {
              "visible": [
               false,
               false,
               false,
               false,
               false,
               false,
               false,
               false,
               false,
               false,
               false,
               false,
               false,
               false,
               false,
               false,
               false,
               false,
               false,
               false,
               false,
               false,
               false,
               true,
               false,
               false,
               false,
               false,
               false,
               false,
               false,
               false,
               false,
               false,
               false,
               false,
               false,
               false,
               false,
               false,
               false,
               false,
               false,
               false,
               false,
               false
              ]
             },
             {
              "title": "Anteil der Filme pro Genre in 2002"
             }
            ],
            "label": "2002",
            "method": "update"
           },
           {
            "args": [
             {
              "visible": [
               false,
               false,
               false,
               false,
               false,
               false,
               false,
               false,
               false,
               false,
               false,
               false,
               false,
               false,
               false,
               false,
               false,
               false,
               false,
               false,
               false,
               false,
               false,
               false,
               true,
               false,
               false,
               false,
               false,
               false,
               false,
               false,
               false,
               false,
               false,
               false,
               false,
               false,
               false,
               false,
               false,
               false,
               false,
               false,
               false,
               false
              ]
             },
             {
              "title": "Anteil der Filme pro Genre in 2003"
             }
            ],
            "label": "2003",
            "method": "update"
           },
           {
            "args": [
             {
              "visible": [
               false,
               false,
               false,
               false,
               false,
               false,
               false,
               false,
               false,
               false,
               false,
               false,
               false,
               false,
               false,
               false,
               false,
               false,
               false,
               false,
               false,
               false,
               false,
               false,
               false,
               true,
               false,
               false,
               false,
               false,
               false,
               false,
               false,
               false,
               false,
               false,
               false,
               false,
               false,
               false,
               false,
               false,
               false,
               false,
               false,
               false
              ]
             },
             {
              "title": "Anteil der Filme pro Genre in 2004"
             }
            ],
            "label": "2004",
            "method": "update"
           },
           {
            "args": [
             {
              "visible": [
               false,
               false,
               false,
               false,
               false,
               false,
               false,
               false,
               false,
               false,
               false,
               false,
               false,
               false,
               false,
               false,
               false,
               false,
               false,
               false,
               false,
               false,
               false,
               false,
               false,
               false,
               true,
               false,
               false,
               false,
               false,
               false,
               false,
               false,
               false,
               false,
               false,
               false,
               false,
               false,
               false,
               false,
               false,
               false,
               false,
               false
              ]
             },
             {
              "title": "Anteil der Filme pro Genre in 2005"
             }
            ],
            "label": "2005",
            "method": "update"
           },
           {
            "args": [
             {
              "visible": [
               false,
               false,
               false,
               false,
               false,
               false,
               false,
               false,
               false,
               false,
               false,
               false,
               false,
               false,
               false,
               false,
               false,
               false,
               false,
               false,
               false,
               false,
               false,
               false,
               false,
               false,
               false,
               true,
               false,
               false,
               false,
               false,
               false,
               false,
               false,
               false,
               false,
               false,
               false,
               false,
               false,
               false,
               false,
               false,
               false,
               false
              ]
             },
             {
              "title": "Anteil der Filme pro Genre in 2006"
             }
            ],
            "label": "2006",
            "method": "update"
           },
           {
            "args": [
             {
              "visible": [
               false,
               false,
               false,
               false,
               false,
               false,
               false,
               false,
               false,
               false,
               false,
               false,
               false,
               false,
               false,
               false,
               false,
               false,
               false,
               false,
               false,
               false,
               false,
               false,
               false,
               false,
               false,
               false,
               true,
               false,
               false,
               false,
               false,
               false,
               false,
               false,
               false,
               false,
               false,
               false,
               false,
               false,
               false,
               false,
               false,
               false
              ]
             },
             {
              "title": "Anteil der Filme pro Genre in 2007"
             }
            ],
            "label": "2007",
            "method": "update"
           },
           {
            "args": [
             {
              "visible": [
               false,
               false,
               false,
               false,
               false,
               false,
               false,
               false,
               false,
               false,
               false,
               false,
               false,
               false,
               false,
               false,
               false,
               false,
               false,
               false,
               false,
               false,
               false,
               false,
               false,
               false,
               false,
               false,
               false,
               true,
               false,
               false,
               false,
               false,
               false,
               false,
               false,
               false,
               false,
               false,
               false,
               false,
               false,
               false,
               false,
               false
              ]
             },
             {
              "title": "Anteil der Filme pro Genre in 2008"
             }
            ],
            "label": "2008",
            "method": "update"
           },
           {
            "args": [
             {
              "visible": [
               false,
               false,
               false,
               false,
               false,
               false,
               false,
               false,
               false,
               false,
               false,
               false,
               false,
               false,
               false,
               false,
               false,
               false,
               false,
               false,
               false,
               false,
               false,
               false,
               false,
               false,
               false,
               false,
               false,
               false,
               true,
               false,
               false,
               false,
               false,
               false,
               false,
               false,
               false,
               false,
               false,
               false,
               false,
               false,
               false,
               false
              ]
             },
             {
              "title": "Anteil der Filme pro Genre in 2009"
             }
            ],
            "label": "2009",
            "method": "update"
           },
           {
            "args": [
             {
              "visible": [
               false,
               false,
               false,
               false,
               false,
               false,
               false,
               false,
               false,
               false,
               false,
               false,
               false,
               false,
               false,
               false,
               false,
               false,
               false,
               false,
               false,
               false,
               false,
               false,
               false,
               false,
               false,
               false,
               false,
               false,
               false,
               true,
               false,
               false,
               false,
               false,
               false,
               false,
               false,
               false,
               false,
               false,
               false,
               false,
               false,
               false
              ]
             },
             {
              "title": "Anteil der Filme pro Genre in 2010"
             }
            ],
            "label": "2010",
            "method": "update"
           },
           {
            "args": [
             {
              "visible": [
               false,
               false,
               false,
               false,
               false,
               false,
               false,
               false,
               false,
               false,
               false,
               false,
               false,
               false,
               false,
               false,
               false,
               false,
               false,
               false,
               false,
               false,
               false,
               false,
               false,
               false,
               false,
               false,
               false,
               false,
               false,
               false,
               true,
               false,
               false,
               false,
               false,
               false,
               false,
               false,
               false,
               false,
               false,
               false,
               false,
               false
              ]
             },
             {
              "title": "Anteil der Filme pro Genre in 2011"
             }
            ],
            "label": "2011",
            "method": "update"
           },
           {
            "args": [
             {
              "visible": [
               false,
               false,
               false,
               false,
               false,
               false,
               false,
               false,
               false,
               false,
               false,
               false,
               false,
               false,
               false,
               false,
               false,
               false,
               false,
               false,
               false,
               false,
               false,
               false,
               false,
               false,
               false,
               false,
               false,
               false,
               false,
               false,
               false,
               true,
               false,
               false,
               false,
               false,
               false,
               false,
               false,
               false,
               false,
               false,
               false,
               false
              ]
             },
             {
              "title": "Anteil der Filme pro Genre in 2012"
             }
            ],
            "label": "2012",
            "method": "update"
           },
           {
            "args": [
             {
              "visible": [
               false,
               false,
               false,
               false,
               false,
               false,
               false,
               false,
               false,
               false,
               false,
               false,
               false,
               false,
               false,
               false,
               false,
               false,
               false,
               false,
               false,
               false,
               false,
               false,
               false,
               false,
               false,
               false,
               false,
               false,
               false,
               false,
               false,
               false,
               true,
               false,
               false,
               false,
               false,
               false,
               false,
               false,
               false,
               false,
               false,
               false
              ]
             },
             {
              "title": "Anteil der Filme pro Genre in 2013"
             }
            ],
            "label": "2013",
            "method": "update"
           },
           {
            "args": [
             {
              "visible": [
               false,
               false,
               false,
               false,
               false,
               false,
               false,
               false,
               false,
               false,
               false,
               false,
               false,
               false,
               false,
               false,
               false,
               false,
               false,
               false,
               false,
               false,
               false,
               false,
               false,
               false,
               false,
               false,
               false,
               false,
               false,
               false,
               false,
               false,
               false,
               true,
               false,
               false,
               false,
               false,
               false,
               false,
               false,
               false,
               false,
               false
              ]
             },
             {
              "title": "Anteil der Filme pro Genre in 2014"
             }
            ],
            "label": "2014",
            "method": "update"
           },
           {
            "args": [
             {
              "visible": [
               false,
               false,
               false,
               false,
               false,
               false,
               false,
               false,
               false,
               false,
               false,
               false,
               false,
               false,
               false,
               false,
               false,
               false,
               false,
               false,
               false,
               false,
               false,
               false,
               false,
               false,
               false,
               false,
               false,
               false,
               false,
               false,
               false,
               false,
               false,
               false,
               true,
               false,
               false,
               false,
               false,
               false,
               false,
               false,
               false,
               false
              ]
             },
             {
              "title": "Anteil der Filme pro Genre in 2015"
             }
            ],
            "label": "2015",
            "method": "update"
           },
           {
            "args": [
             {
              "visible": [
               false,
               false,
               false,
               false,
               false,
               false,
               false,
               false,
               false,
               false,
               false,
               false,
               false,
               false,
               false,
               false,
               false,
               false,
               false,
               false,
               false,
               false,
               false,
               false,
               false,
               false,
               false,
               false,
               false,
               false,
               false,
               false,
               false,
               false,
               false,
               false,
               false,
               true,
               false,
               false,
               false,
               false,
               false,
               false,
               false,
               false
              ]
             },
             {
              "title": "Anteil der Filme pro Genre in 2016"
             }
            ],
            "label": "2016",
            "method": "update"
           },
           {
            "args": [
             {
              "visible": [
               false,
               false,
               false,
               false,
               false,
               false,
               false,
               false,
               false,
               false,
               false,
               false,
               false,
               false,
               false,
               false,
               false,
               false,
               false,
               false,
               false,
               false,
               false,
               false,
               false,
               false,
               false,
               false,
               false,
               false,
               false,
               false,
               false,
               false,
               false,
               false,
               false,
               false,
               true,
               false,
               false,
               false,
               false,
               false,
               false,
               false
              ]
             },
             {
              "title": "Anteil der Filme pro Genre in 2017"
             }
            ],
            "label": "2017",
            "method": "update"
           },
           {
            "args": [
             {
              "visible": [
               false,
               false,
               false,
               false,
               false,
               false,
               false,
               false,
               false,
               false,
               false,
               false,
               false,
               false,
               false,
               false,
               false,
               false,
               false,
               false,
               false,
               false,
               false,
               false,
               false,
               false,
               false,
               false,
               false,
               false,
               false,
               false,
               false,
               false,
               false,
               false,
               false,
               false,
               false,
               true,
               false,
               false,
               false,
               false,
               false,
               false
              ]
             },
             {
              "title": "Anteil der Filme pro Genre in 2018"
             }
            ],
            "label": "2018",
            "method": "update"
           },
           {
            "args": [
             {
              "visible": [
               false,
               false,
               false,
               false,
               false,
               false,
               false,
               false,
               false,
               false,
               false,
               false,
               false,
               false,
               false,
               false,
               false,
               false,
               false,
               false,
               false,
               false,
               false,
               false,
               false,
               false,
               false,
               false,
               false,
               false,
               false,
               false,
               false,
               false,
               false,
               false,
               false,
               false,
               false,
               false,
               true,
               false,
               false,
               false,
               false,
               false
              ]
             },
             {
              "title": "Anteil der Filme pro Genre in 2019"
             }
            ],
            "label": "2019",
            "method": "update"
           },
           {
            "args": [
             {
              "visible": [
               false,
               false,
               false,
               false,
               false,
               false,
               false,
               false,
               false,
               false,
               false,
               false,
               false,
               false,
               false,
               false,
               false,
               false,
               false,
               false,
               false,
               false,
               false,
               false,
               false,
               false,
               false,
               false,
               false,
               false,
               false,
               false,
               false,
               false,
               false,
               false,
               false,
               false,
               false,
               false,
               false,
               true,
               false,
               false,
               false,
               false
              ]
             },
             {
              "title": "Anteil der Filme pro Genre in 2020"
             }
            ],
            "label": "2020",
            "method": "update"
           },
           {
            "args": [
             {
              "visible": [
               false,
               false,
               false,
               false,
               false,
               false,
               false,
               false,
               false,
               false,
               false,
               false,
               false,
               false,
               false,
               false,
               false,
               false,
               false,
               false,
               false,
               false,
               false,
               false,
               false,
               false,
               false,
               false,
               false,
               false,
               false,
               false,
               false,
               false,
               false,
               false,
               false,
               false,
               false,
               false,
               false,
               false,
               true,
               false,
               false,
               false
              ]
             },
             {
              "title": "Anteil der Filme pro Genre in 2021"
             }
            ],
            "label": "2021",
            "method": "update"
           },
           {
            "args": [
             {
              "visible": [
               false,
               false,
               false,
               false,
               false,
               false,
               false,
               false,
               false,
               false,
               false,
               false,
               false,
               false,
               false,
               false,
               false,
               false,
               false,
               false,
               false,
               false,
               false,
               false,
               false,
               false,
               false,
               false,
               false,
               false,
               false,
               false,
               false,
               false,
               false,
               false,
               false,
               false,
               false,
               false,
               false,
               false,
               false,
               true,
               false,
               false
              ]
             },
             {
              "title": "Anteil der Filme pro Genre in 2022"
             }
            ],
            "label": "2022",
            "method": "update"
           },
           {
            "args": [
             {
              "visible": [
               false,
               false,
               false,
               false,
               false,
               false,
               false,
               false,
               false,
               false,
               false,
               false,
               false,
               false,
               false,
               false,
               false,
               false,
               false,
               false,
               false,
               false,
               false,
               false,
               false,
               false,
               false,
               false,
               false,
               false,
               false,
               false,
               false,
               false,
               false,
               false,
               false,
               false,
               false,
               false,
               false,
               false,
               false,
               false,
               true,
               false
              ]
             },
             {
              "title": "Anteil der Filme pro Genre in 2023"
             }
            ],
            "label": "2023",
            "method": "update"
           },
           {
            "args": [
             {
              "visible": [
               false,
               false,
               false,
               false,
               false,
               false,
               false,
               false,
               false,
               false,
               false,
               false,
               false,
               false,
               false,
               false,
               false,
               false,
               false,
               false,
               false,
               false,
               false,
               false,
               false,
               false,
               false,
               false,
               false,
               false,
               false,
               false,
               false,
               false,
               false,
               false,
               false,
               false,
               false,
               false,
               false,
               false,
               false,
               false,
               false,
               true
              ]
             },
             {
              "title": "Anteil der Filme pro Genre in 2024"
             }
            ],
            "label": "2024",
            "method": "update"
           }
          ],
          "direction": "down",
          "x": 0,
          "y": 1.2
         }
        ]
       }
      },
      "image/png": "[encoded data removed]"
     },
     "metadata": {},
     "output_type": "display_data"
    }
   ],
   "source": [
    "import json\n",
    "from pathlib import Path\n",
    "import pandas as pd\n",
    "import plotly.graph_objects as go\n",
    "\n",
    "# 0. Pfade anpassen\n",
    "# Wenn Dein Notebook in notebooks/ liegt, ist BASE = Path().resolve().parent\n",
    "BASE         = Path().resolve().parent\n",
    "MOVIES_FILE  = BASE/\"data\"/\"raw\"/\"fragestellung_02\"/\"2025-05-19_version2_all_european_movies.json\"\n",
    "GENRES_FILE  = BASE/\"data\"/\"processed\"/\"fragestellung_02\"/\"all_genres.json\"\n",
    "\n",
    "# 1. Daten laden & einmalige Filme extrahieren\n",
    "with open(MOVIES_FILE, \"r\", encoding=\"utf-8\") as f:\n",
    "    movies = json.load(f)\n",
    "\n",
    "unique_movies = { m[\"id\"]: m for m in movies }.values()\n",
    "df = pd.DataFrame(unique_movies)\n",
    "\n",
    "# 2. Jahr und Genre mappen\n",
    "df[\"year\"] = pd.to_datetime(df[\"release_date\"]).dt.year\n",
    "df = df.explode(\"genre_ids\")\n",
    "\n",
    "with open(GENRES_FILE, \"r\", encoding=\"utf-8\") as f:\n",
    "    genres_data = json.load(f)[\"genres\"]\n",
    "df_genres = (\n",
    "    pd.DataFrame(genres_data)\n",
    "      .rename(columns={\"id\":\"genre_ids\",\"name\":\"genre_name\"})\n",
    ")\n",
    "df = df.merge(df_genres, on=\"genre_ids\", how=\"left\")\n",
    "\n",
    "# 3. Counts berechnen\n",
    "# Gesamt\n",
    "total_counts = df[\"genre_name\"].value_counts()\n",
    "\n",
    "# Pro Jahr\n",
    "yearly_counts = (\n",
    "    df.groupby([\"year\",\"genre_name\"])\n",
    "      .size()\n",
    "      .unstack(fill_value=0)\n",
    ")\n",
    "years = sorted(yearly_counts.index)\n",
    "\n",
    "# 4. Figure mit Dropdown aufsetzen\n",
    "fig = go.Figure()\n",
    "\n",
    "# Gesamt‐Trace (sichtbar)\n",
    "fig.add_trace(go.Pie(\n",
    "    labels=total_counts.index,\n",
    "    values=total_counts.values,\n",
    "    hole=0.4,\n",
    "    name=\"Gesamt\",\n",
    "    textinfo=\"percent\"\n",
    "))\n",
    "\n",
    "# Jahres‐Traces (zunächst unsichtbar)\n",
    "for y in years:\n",
    "    vals = yearly_counts.loc[y, total_counts.index]\n",
    "    fig.add_trace(go.Pie(\n",
    "        labels=total_counts.index,\n",
    "        values=vals.values,\n",
    "        hole=0.4,\n",
    "        name=str(y),\n",
    "        textinfo=\"percent\",\n",
    "        visible=False          # <<–– hier die Magie\n",
    "    ))\n",
    "\n",
    "# Buttons definieren\n",
    "buttons = [\n",
    "    dict(\n",
    "        label=\"Gesamt\",\n",
    "        method=\"update\",\n",
    "        args=[\n",
    "            {\"visible\": [True] + [False] * len(years)},\n",
    "            {\"title\": \"Anteil der Filme pro Genre (gesamt)\"}\n",
    "        ]\n",
    "    )\n",
    "]\n",
    "for i, y in enumerate(years):\n",
    "    vis = [False] * (len(years) + 1)\n",
    "    vis[i + 1] = True\n",
    "    buttons.append(\n",
    "        dict(\n",
    "            label=str(y),\n",
    "            method=\"update\",\n",
    "            args=[\n",
    "                {\"visible\": vis},\n",
    "                {\"title\": f\"Anteil der Filme pro Genre in {y}\"}\n",
    "            ]\n",
    "        )\n",
    "    )\n",
    "\n",
    "fig.update_layout(\n",
    "    updatemenus=[dict(\n",
    "        buttons=buttons,\n",
    "        active=0,\n",
    "        x=0, y=1.2,\n",
    "        direction=\"down\"\n",
    "    )],\n",
    "    title=\"Anteil der Filme pro Genre (gesamt)\",\n",
    "    height=600,\n",
    "    margin=dict(l=20, r=20, t=80, b=20),\n",
    "    legend=dict(orientation=\"v\", x=1.02, y=0.5)\n",
    ")\n",
    "\n",
    "fig.show()"
   ]
  },
  {
   "cell_type": "markdown",
   "id": "6d276dc6ac3b30da",
   "metadata": {},
   "source": [
    "#### Jährliche Häufigkeiten gestapelt"
   ]
  },
  {
   "cell_type": "code",
   "execution_count": 32,
   "id": "30b23dbce291c5a6",
   "metadata": {
    "ExecuteTime": {
     "end_time": "2025-05-21T11:33:33.325643Z",
     "start_time": "2025-05-21T11:33:33.227319Z"
    },
    "scrolled": true
   },
   "outputs": [
    {
     "data": {
      "application/vnd.plotly.v1+json": {
       "config": {
        "plotlyServerURL": "https://plot.ly"
       },
       "data": [
        {
         "hovertemplate": "Genre=Action<br>Jahr=%{x}<br>Anzahl Filme=%{y}<extra></extra>",
         "legendgroup": "Action",
         "marker": {
          "color": "#636efa",
          "pattern": {
           "shape": ""
          }
         },
         "name": "Action",
         "orientation": "v",
         "showlegend": true,
         "textposition": "auto",
         "type": "bar",
         "x": {
          "bdata": "vAcAAL0HAAC+BwAAvwcAAMAHAADBBwAAwgcAAMMHAADEBwAAxQcAAMYHAADHBwAAyAcAAMoHAADLBwAAzAcAAM0HAADOBwAAzwcAANAHAADRBwAA0gcAANMHAADUBwAA1QcAANYHAADXBwAA2AcAANkHAADaBwAA2wcAANwHAADdBwAA3gcAAN8HAADgBwAA4QcAAOIHAADjBwAA5AcAAOUHAADmBwAA5wcAAOgHAAA=",
          "dtype": "i4"
         },
         "xaxis": "x",
         "y": {
          "bdata": "AQQCAwUCAQECAQEBAQMDAQIEAwIHBAUGCAYNDQYMCg0NEA0bFx8cGSEiIyw=",
          "dtype": "i1"
         },
         "yaxis": "y"
        },
        {
         "hovertemplate": "Genre=Adventure<br>Jahr=%{x}<br>Anzahl Filme=%{y}<extra></extra>",
         "legendgroup": "Adventure",
         "marker": {
          "color": "#EF553B",
          "pattern": {
           "shape": ""
          }
         },
         "name": "Adventure",
         "orientation": "v",
         "showlegend": true,
         "textposition": "auto",
         "type": "bar",
         "x": {
          "bdata": "vAcAAL0HAAC/BwAAwAcAAMEHAADCBwAAwwcAAMUHAADGBwAAxwcAAMgHAADJBwAAygcAAMsHAADNBwAAzwcAANAHAADRBwAA0gcAANMHAADUBwAA1QcAANYHAADXBwAA2AcAANkHAADaBwAA2wcAANwHAADdBwAA3gcAAN8HAADgBwAA4QcAAOIHAADjBwAA5AcAAOUHAADmBwAA5wcAAOgHAAA=",
          "dtype": "i4"
         },
         "xaxis": "x",
         "y": {
          "bdata": "AQICBAEBAQIBAQEBAgECAQMEBAYJBAUICgYJBgYCCwsQEBYRERUYFBQ=",
          "dtype": "i1"
         },
         "yaxis": "y"
        },
        {
         "hovertemplate": "Genre=Comedy<br>Jahr=%{x}<br>Anzahl Filme=%{y}<extra></extra>",
         "legendgroup": "Comedy",
         "marker": {
          "color": "#00cc96",
          "pattern": {
           "shape": ""
          }
         },
         "name": "Comedy",
         "orientation": "v",
         "showlegend": true,
         "textposition": "auto",
         "type": "bar",
         "x": {
          "bdata": "vAcAAL0HAAC+BwAAvwcAAMAHAADBBwAAwgcAAMMHAADEBwAAxQcAAMYHAADHBwAAyAcAAMkHAADKBwAAywcAAMwHAADNBwAAzgcAAM8HAADQBwAA0QcAANIHAADTBwAA1AcAANUHAADWBwAA1wcAANgHAADZBwAA2gcAANsHAADcBwAA3QcAAN4HAADfBwAA4AcAAOEHAADiBwAA4wcAAOQHAADlBwAA5gcAAOcHAADoBwAA",
          "dtype": "i4"
         },
         "xaxis": "x",
         "y": {
          "bdata": "AwUEBQYDBAYDAgIFBgMDBQIDBAgGDwkRFgcVEgkQEhgVGygxKCIfIiAWHxoe",
          "dtype": "i1"
         },
         "yaxis": "y"
        },
        {
         "hovertemplate": "Genre=Crime<br>Jahr=%{x}<br>Anzahl Filme=%{y}<extra></extra>",
         "legendgroup": "Crime",
         "marker": {
          "color": "#ab63fa",
          "pattern": {
           "shape": ""
          }
         },
         "name": "Crime",
         "orientation": "v",
         "showlegend": true,
         "textposition": "auto",
         "type": "bar",
         "x": {
          "bdata": "vAcAAL0HAAC+BwAAvwcAAMAHAADBBwAAwgcAAMMHAADEBwAAxQcAAMYHAADHBwAAywcAAMwHAADNBwAAzwcAANAHAADRBwAA0gcAANMHAADUBwAA1QcAANYHAADXBwAA2AcAANkHAADaBwAA2wcAANwHAADdBwAA3gcAAN8HAADgBwAA4QcAAOIHAADjBwAA5AcAAOUHAADmBwAA5wcAAOgHAAA=",
          "dtype": "i4"
         },
         "xaxis": "x",
         "y": {
          "bdata": "AQEDAQICAQEBAQECAgECAwIDAwMIBgkGCAIEAwkIBwUJEA0VCgsQDxQ=",
          "dtype": "i1"
         },
         "yaxis": "y"
        },
        {
         "hovertemplate": "Genre=Documentary<br>Jahr=%{x}<br>Anzahl Filme=%{y}<extra></extra>",
         "legendgroup": "Documentary",
         "marker": {
          "color": "#FFA15A",
          "pattern": {
           "shape": ""
          }
         },
         "name": "Documentary",
         "orientation": "v",
         "showlegend": true,
         "textposition": "auto",
         "type": "bar",
         "x": {
          "bdata": "vAcAAMkHAADLBwAAzgcAANQHAADWBwAA2QcAANoHAADbBwAA3AcAAN0HAADeBwAA3wcAAOAHAADhBwAA4gcAAOMHAADkBwAA5QcAAOYHAADnBwAA",
          "dtype": "i4"
         },
         "xaxis": "x",
         "y": {
          "bdata": "AQEBAQECAgICAwQOCAYEAgIJAwMD",
          "dtype": "i1"
         },
         "yaxis": "y"
        },
        {
         "hovertemplate": "Genre=Drama<br>Jahr=%{x}<br>Anzahl Filme=%{y}<extra></extra>",
         "legendgroup": "Drama",
         "marker": {
          "color": "#19d3f3",
          "pattern": {
           "shape": ""
          }
         },
         "name": "Drama",
         "orientation": "v",
         "showlegend": true,
         "textposition": "auto",
         "type": "bar",
         "x": {
          "bdata": "vAcAAL0HAAC+BwAAvwcAAMAHAADBBwAAwgcAAMMHAADEBwAAxQcAAMYHAADHBwAAyAcAAMkHAADKBwAAywcAAMwHAADNBwAAzgcAAM8HAADQBwAA0QcAANIHAADTBwAA1AcAANUHAADWBwAA1wcAANgHAADZBwAA2gcAANsHAADcBwAA3QcAAN4HAADfBwAA4AcAAOEHAADiBwAA4wcAAOQHAADlBwAA5gcAAOcHAADoBwAA",
          "dtype": "i4"
         },
         "xaxis": "x",
         "y": {
          "bdata": "AgEBAgECAQIBAgIDAwQEBAMHCAMFCwkPEhMWEBEPEh0QExwoLyUoKigkKScn",
          "dtype": "i1"
         },
         "yaxis": "y"
        },
        {
         "hovertemplate": "Genre=Fantasy<br>Jahr=%{x}<br>Anzahl Filme=%{y}<extra></extra>",
         "legendgroup": "Fantasy",
         "marker": {
          "color": "#FF6692",
          "pattern": {
           "shape": ""
          }
         },
         "name": "Fantasy",
         "orientation": "v",
         "showlegend": true,
         "textposition": "auto",
         "type": "bar",
         "x": {
          "bdata": "vAcAAMAHAADCBwAAwwcAAMQHAADFBwAAygcAAMwHAADNBwAAzgcAAM8HAADQBwAA0QcAANIHAADTBwAA1AcAANUHAADWBwAA1wcAANgHAADZBwAA2gcAANsHAADcBwAA3QcAAN4HAADfBwAA4AcAAOEHAADiBwAA4wcAAOQHAADlBwAA5gcAAOcHAADoBwAA",
          "dtype": "i4"
         },
         "xaxis": "x",
         "y": {
          "bdata": "AQIBAQEBAgEBAQECBAQBBQQEBgMGBQYHBAIICAkNCg4TEQ8N",
          "dtype": "i1"
         },
         "yaxis": "y"
        },
        {
         "hovertemplate": "Genre=Music<br>Jahr=%{x}<br>Anzahl Filme=%{y}<extra></extra>",
         "legendgroup": "Music",
         "marker": {
          "color": "#B6E880",
          "pattern": {
           "shape": ""
          }
         },
         "name": "Music",
         "orientation": "v",
         "showlegend": true,
         "textposition": "auto",
         "type": "bar",
         "x": {
          "bdata": "vAcAAL8HAADABwAAxgcAANQHAADWBwAA2QcAANoHAADbBwAA3AcAAN4HAADfBwAA4AcAAOEHAADiBwAA4wcAAOQHAADlBwAA5gcAAOcHAADoBwAA",
          "dtype": "i4"
         },
         "xaxis": "x",
         "y": {
          "bdata": "AQEBAQECAQEBAQIGBgQDAwUBAgEC",
          "dtype": "i1"
         },
         "yaxis": "y"
        },
        {
         "hovertemplate": "Genre=Romance<br>Jahr=%{x}<br>Anzahl Filme=%{y}<extra></extra>",
         "legendgroup": "Romance",
         "marker": {
          "color": "#FF97FF",
          "pattern": {
           "shape": ""
          }
         },
         "name": "Romance",
         "orientation": "v",
         "showlegend": true,
         "textposition": "auto",
         "type": "bar",
         "x": {
          "bdata": "vAcAAL0HAAC/BwAAwgcAAMMHAADHBwAAyAcAAMkHAADKBwAAywcAAMwHAADNBwAAzgcAAM8HAADRBwAA0gcAANMHAADUBwAA1QcAANYHAADXBwAA2AcAANkHAADaBwAA2wcAANwHAADdBwAA3gcAAN8HAADgBwAA4QcAAOIHAADjBwAA5AcAAOUHAADmBwAA5wcAAOgHAAA=",
          "dtype": "i4"
         },
         "xaxis": "x",
         "y": {
          "bdata": "AQEBAQIBBAMDBQIBBQEGBgUEBwcHBQMJCwUHCxQNBw8QEg0YEwk=",
          "dtype": "i1"
         },
         "yaxis": "y"
        },
        {
         "hovertemplate": "Genre=Science Fiction<br>Jahr=%{x}<br>Anzahl Filme=%{y}<extra></extra>",
         "legendgroup": "Science Fiction",
         "marker": {
          "color": "#FECB52",
          "pattern": {
           "shape": ""
          }
         },
         "name": "Science Fiction",
         "orientation": "v",
         "showlegend": true,
         "textposition": "auto",
         "type": "bar",
         "x": {
          "bdata": "vAcAAL0HAAC+BwAAvwcAAMAHAADBBwAAxAcAAMUHAADGBwAAzQcAAM4HAADPBwAA0QcAANIHAADTBwAA1AcAANUHAADXBwAA2AcAANkHAADaBwAA2wcAANwHAADdBwAA3gcAAN8HAADgBwAA4QcAAOIHAADjBwAA5AcAAOUHAADmBwAA5wcAAOgHAAA=",
          "dtype": "i4"
         },
         "xaxis": "x",
         "y": {
          "bdata": "AQIBAQEBAQEBAwIBAgIBAQEDAgUCAwUDCAcJDREICQwIDQ4=",
          "dtype": "i1"
         },
         "yaxis": "y"
        },
        {
         "hovertemplate": "Genre=Animation<br>Jahr=%{x}<br>Anzahl Filme=%{y}<extra></extra>",
         "legendgroup": "Animation",
         "marker": {
          "color": "#636efa",
          "pattern": {
           "shape": ""
          }
         },
         "name": "Animation",
         "orientation": "v",
         "showlegend": true,
         "textposition": "auto",
         "type": "bar",
         "x": {
          "bdata": "vQcAAL4HAADABwAAwgcAAMQHAADFBwAAxwcAAMgHAADJBwAAygcAAMsHAADNBwAAzgcAAM8HAADQBwAA0QcAANIHAADUBwAA1QcAANYHAADXBwAA2AcAANkHAADaBwAA2wcAANwHAADdBwAA3gcAAN8HAADgBwAA4QcAAOIHAADjBwAA5AcAAOUHAADmBwAA5wcAAOgHAAA=",
          "dtype": "i4"
         },
         "xaxis": "x",
         "y": {
          "bdata": "AgEBAQMBAQEBAQEDAQEBAgIDAQQCAwMCAwMEBQQEDAkJChUNDQw=",
          "dtype": "i1"
         },
         "yaxis": "y"
        },
        {
         "hovertemplate": "Genre=Horror<br>Jahr=%{x}<br>Anzahl Filme=%{y}<extra></extra>",
         "legendgroup": "Horror",
         "marker": {
          "color": "#EF553B",
          "pattern": {
           "shape": ""
          }
         },
         "name": "Horror",
         "orientation": "v",
         "showlegend": true,
         "textposition": "auto",
         "type": "bar",
         "x": {
          "bdata": "vQcAAMAHAADIBwAAzQcAAM4HAADPBwAA0AcAANEHAADSBwAA0wcAANQHAADVBwAA1gcAANcHAADYBwAA2QcAANoHAADbBwAA3AcAAN0HAADeBwAA3wcAAOAHAADhBwAA4gcAAOMHAADkBwAA5QcAAOYHAADnBwAA6AcAAA==",
          "dtype": "i4"
         },
         "xaxis": "x",
         "y": {
          "bdata": "AQEBAgECAQECAwQEAwUCBQYFAwIGDgUSEBENEgsKDg==",
          "dtype": "i1"
         },
         "yaxis": "y"
        },
        {
         "hovertemplate": "Genre=Family<br>Jahr=%{x}<br>Anzahl Filme=%{y}<extra></extra>",
         "legendgroup": "Family",
         "marker": {
          "color": "#00cc96",
          "pattern": {
           "shape": ""
          }
         },
         "name": "Family",
         "orientation": "v",
         "showlegend": true,
         "textposition": "auto",
         "type": "bar",
         "x": {
          "bdata": "wAcAAMIHAADDBwAAxAcAAMUHAADHBwAAyAcAAMkHAADKBwAAywcAAMwHAADNBwAAzwcAANAHAADRBwAA0gcAANMHAADUBwAA1QcAANYHAADXBwAA2AcAANkHAADaBwAA2wcAANwHAADdBwAA3gcAAN8HAADgBwAA4QcAAOIHAADjBwAA5AcAAOUHAADmBwAA5wcAAOgHAAA=",
          "dtype": "i4"
         },
         "xaxis": "x",
         "y": {
          "bdata": "AQEBAQEBAQEBAgIBAgIFBAcIAgMJBgQFBQMCBwgHDAcHDBAKDQ0=",
          "dtype": "i1"
         },
         "yaxis": "y"
        },
        {
         "hovertemplate": "Genre=Thriller<br>Jahr=%{x}<br>Anzahl Filme=%{y}<extra></extra>",
         "legendgroup": "Thriller",
         "marker": {
          "color": "#ab63fa",
          "pattern": {
           "shape": ""
          }
         },
         "name": "Thriller",
         "orientation": "v",
         "showlegend": true,
         "textposition": "auto",
         "type": "bar",
         "x": {
          "bdata": "wAcAAMEHAADDBwAAygcAAMsHAADMBwAAzQcAAM4HAADPBwAA0AcAANEHAADSBwAA0wcAANQHAADVBwAA1gcAANcHAADYBwAA2QcAANoHAADbBwAA3AcAAN0HAADeBwAA3wcAAOAHAADhBwAA4gcAAOMHAADkBwAA5QcAAOYHAADnBwAA6AcAAA==",
          "dtype": "i4"
         },
         "xaxis": "x",
         "y": {
          "bdata": "AQECAQECBQECAgUFCAcMBwoNCgYIBwcMCRkgIiIWHBghGA==",
          "dtype": "i1"
         },
         "yaxis": "y"
        },
        {
         "hovertemplate": "Genre=History<br>Jahr=%{x}<br>Anzahl Filme=%{y}<extra></extra>",
         "legendgroup": "History",
         "marker": {
          "color": "#FFA15A",
          "pattern": {
           "shape": ""
          }
         },
         "name": "History",
         "orientation": "v",
         "showlegend": true,
         "textposition": "auto",
         "type": "bar",
         "x": {
          "bdata": "wQcAAMMHAADIBwAAyQcAAM4HAADRBwAA0gcAANUHAADYBwAA2QcAANsHAADcBwAA3QcAAN4HAADfBwAA4AcAAOEHAADiBwAA4wcAAOQHAADlBwAA5gcAAOcHAADoBwAA",
          "dtype": "i4"
         },
         "xaxis": "x",
         "y": {
          "bdata": "AQEBAQECAQECAQMCAQMCBAMCCwMDBAII",
          "dtype": "i1"
         },
         "yaxis": "y"
        },
        {
         "hovertemplate": "Genre=War<br>Jahr=%{x}<br>Anzahl Filme=%{y}<extra></extra>",
         "legendgroup": "War",
         "marker": {
          "color": "#19d3f3",
          "pattern": {
           "shape": ""
          }
         },
         "name": "War",
         "orientation": "v",
         "showlegend": true,
         "textposition": "auto",
         "type": "bar",
         "x": {
          "bdata": "wQcAAMQHAADFBwAAygcAANEHAADZBwAA2wcAAN0HAADeBwAA3wcAAOAHAADhBwAA4gcAAOMHAADkBwAA5gcAAOcHAADoBwAA",
          "dtype": "i4"
         },
         "xaxis": "x",
         "y": {
          "bdata": "AQEBAQECBAECAQMEAQMDAwME",
          "dtype": "i1"
         },
         "yaxis": "y"
        },
        {
         "hovertemplate": "Genre=Western<br>Jahr=%{x}<br>Anzahl Filme=%{y}<extra></extra>",
         "legendgroup": "Western",
         "marker": {
          "color": "#FF6692",
          "pattern": {
           "shape": ""
          }
         },
         "name": "Western",
         "orientation": "v",
         "showlegend": true,
         "textposition": "auto",
         "type": "bar",
         "x": {
          "bdata": "wQcAAMMHAADKBwAA0gcAANcHAADaBwAA3AcAAN8HAADiBwAA5AcAAOUHAAA=",
          "dtype": "i4"
         },
         "xaxis": "x",
         "y": {
          "bdata": "AQEBAQEBAgIBAQI=",
          "dtype": "i1"
         },
         "yaxis": "y"
        },
        {
         "hovertemplate": "Genre=Mystery<br>Jahr=%{x}<br>Anzahl Filme=%{y}<extra></extra>",
         "legendgroup": "Mystery",
         "marker": {
          "color": "#B6E880",
          "pattern": {
           "shape": ""
          }
         },
         "name": "Mystery",
         "orientation": "v",
         "showlegend": true,
         "textposition": "auto",
         "type": "bar",
         "x": {
          "bdata": "yQcAAMwHAADNBwAAzgcAAM8HAADRBwAA0wcAANQHAADVBwAA1gcAANcHAADZBwAA2gcAANsHAADcBwAA3QcAAN4HAADfBwAA4AcAAOEHAADiBwAA4wcAAOQHAADlBwAA5gcAAOcHAADoBwAA",
          "dtype": "i4"
         },
         "xaxis": "x",
         "y": {
          "bdata": "AQEDAQIBAQMEAwMCAwUDAQEFAwgLCAsKCA0E",
          "dtype": "i1"
         },
         "yaxis": "y"
        },
        {
         "hovertemplate": "Genre=TV Movie<br>Jahr=%{x}<br>Anzahl Filme=%{y}<extra></extra>",
         "legendgroup": "TV Movie",
         "marker": {
          "color": "#FF97FF",
          "pattern": {
           "shape": ""
          }
         },
         "name": "TV Movie",
         "orientation": "v",
         "showlegend": true,
         "textposition": "auto",
         "type": "bar",
         "x": {
          "bdata": "yQcAANQHAADaBwAA2wcAANwHAADdBwAA3gcAAN8HAADgBwAA4gcAAOMHAADkBwAA5QcAAA==",
          "dtype": "i4"
         },
         "xaxis": "x",
         "y": {
          "bdata": "AQECAQIBAwcBAQECAg==",
          "dtype": "i1"
         },
         "yaxis": "y"
        }
       ],
       "layout": {
        "barmode": "stack",
        "legend": {
         "title": {
          "text": "Genre"
         },
         "tracegroupgap": 0
        },
        "template": {
         "data": {
          "bar": [
           {
            "error_x": {
             "color": "#2a3f5f"
            },
            "error_y": {
             "color": "#2a3f5f"
            },
            "marker": {
             "line": {
              "color": "#E5ECF6",
              "width": 0.5
             },
             "pattern": {
              "fillmode": "overlay",
              "size": 10,
              "solidity": 0.2
             }
            },
            "type": "bar"
           }
          ],
          "barpolar": [
           {
            "marker": {
             "line": {
              "color": "#E5ECF6",
              "width": 0.5
             },
             "pattern": {
              "fillmode": "overlay",
              "size": 10,
              "solidity": 0.2
             }
            },
            "type": "barpolar"
           }
          ],
          "carpet": [
           {
            "aaxis": {
             "endlinecolor": "#2a3f5f",
             "gridcolor": "white",
             "linecolor": "white",
             "minorgridcolor": "white",
             "startlinecolor": "#2a3f5f"
            },
            "baxis": {
             "endlinecolor": "#2a3f5f",
             "gridcolor": "white",
             "linecolor": "white",
             "minorgridcolor": "white",
             "startlinecolor": "#2a3f5f"
            },
            "type": "carpet"
           }
          ],
          "choropleth": [
           {
            "colorbar": {
             "outlinewidth": 0,
             "ticks": ""
            },
            "type": "choropleth"
           }
          ],
          "contour": [
           {
            "colorbar": {
             "outlinewidth": 0,
             "ticks": ""
            },
            "colorscale": [
             [
              0,
              "#0d0887"
             ],
             [
              0.1111111111111111,
              "#46039f"
             ],
             [
              0.2222222222222222,
              "#7201a8"
             ],
             [
              0.3333333333333333,
              "#9c179e"
             ],
             [
              0.4444444444444444,
              "#bd3786"
             ],
             [
              0.5555555555555556,
              "#d8576b"
             ],
             [
              0.6666666666666666,
              "#ed7953"
             ],
             [
              0.7777777777777778,
              "#fb9f3a"
             ],
             [
              0.8888888888888888,
              "#fdca26"
             ],
             [
              1,
              "#f0f921"
             ]
            ],
            "type": "contour"
           }
          ],
          "contourcarpet": [
           {
            "colorbar": {
             "outlinewidth": 0,
             "ticks": ""
            },
            "type": "contourcarpet"
           }
          ],
          "heatmap": [
           {
            "colorbar": {
             "outlinewidth": 0,
             "ticks": ""
            },
            "colorscale": [
             [
              0,
              "#0d0887"
             ],
             [
              0.1111111111111111,
              "#46039f"
             ],
             [
              0.2222222222222222,
              "#7201a8"
             ],
             [
              0.3333333333333333,
              "#9c179e"
             ],
             [
              0.4444444444444444,
              "#bd3786"
             ],
             [
              0.5555555555555556,
              "#d8576b"
             ],
             [
              0.6666666666666666,
              "#ed7953"
             ],
             [
              0.7777777777777778,
              "#fb9f3a"
             ],
             [
              0.8888888888888888,
              "#fdca26"
             ],
             [
              1,
              "#f0f921"
             ]
            ],
            "type": "heatmap"
           }
          ],
          "histogram": [
           {
            "marker": {
             "pattern": {
              "fillmode": "overlay",
              "size": 10,
              "solidity": 0.2
             }
            },
            "type": "histogram"
           }
          ],
          "histogram2d": [
           {
            "colorbar": {
             "outlinewidth": 0,
             "ticks": ""
            },
            "colorscale": [
             [
              0,
              "#0d0887"
             ],
             [
              0.1111111111111111,
              "#46039f"
             ],
             [
              0.2222222222222222,
              "#7201a8"
             ],
             [
              0.3333333333333333,
              "#9c179e"
             ],
             [
              0.4444444444444444,
              "#bd3786"
             ],
             [
              0.5555555555555556,
              "#d8576b"
             ],
             [
              0.6666666666666666,
              "#ed7953"
             ],
             [
              0.7777777777777778,
              "#fb9f3a"
             ],
             [
              0.8888888888888888,
              "#fdca26"
             ],
             [
              1,
              "#f0f921"
             ]
            ],
            "type": "histogram2d"
           }
          ],
          "histogram2dcontour": [
           {
            "colorbar": {
             "outlinewidth": 0,
             "ticks": ""
            },
            "colorscale": [
             [
              0,
              "#0d0887"
             ],
             [
              0.1111111111111111,
              "#46039f"
             ],
             [
              0.2222222222222222,
              "#7201a8"
             ],
             [
              0.3333333333333333,
              "#9c179e"
             ],
             [
              0.4444444444444444,
              "#bd3786"
             ],
             [
              0.5555555555555556,
              "#d8576b"
             ],
             [
              0.6666666666666666,
              "#ed7953"
             ],
             [
              0.7777777777777778,
              "#fb9f3a"
             ],
             [
              0.8888888888888888,
              "#fdca26"
             ],
             [
              1,
              "#f0f921"
             ]
            ],
            "type": "histogram2dcontour"
           }
          ],
          "mesh3d": [
           {
            "colorbar": {
             "outlinewidth": 0,
             "ticks": ""
            },
            "type": "mesh3d"
           }
          ],
          "parcoords": [
           {
            "line": {
             "colorbar": {
              "outlinewidth": 0,
              "ticks": ""
             }
            },
            "type": "parcoords"
           }
          ],
          "pie": [
           {
            "automargin": true,
            "type": "pie"
           }
          ],
          "scatter": [
           {
            "fillpattern": {
             "fillmode": "overlay",
             "size": 10,
             "solidity": 0.2
            },
            "type": "scatter"
           }
          ],
          "scatter3d": [
           {
            "line": {
             "colorbar": {
              "outlinewidth": 0,
              "ticks": ""
             }
            },
            "marker": {
             "colorbar": {
              "outlinewidth": 0,
              "ticks": ""
             }
            },
            "type": "scatter3d"
           }
          ],
          "scattercarpet": [
           {
            "marker": {
             "colorbar": {
              "outlinewidth": 0,
              "ticks": ""
             }
            },
            "type": "scattercarpet"
           }
          ],
          "scattergeo": [
           {
            "marker": {
             "colorbar": {
              "outlinewidth": 0,
              "ticks": ""
             }
            },
            "type": "scattergeo"
           }
          ],
          "scattergl": [
           {
            "marker": {
             "colorbar": {
              "outlinewidth": 0,
              "ticks": ""
             }
            },
            "type": "scattergl"
           }
          ],
          "scattermap": [
           {
            "marker": {
             "colorbar": {
              "outlinewidth": 0,
              "ticks": ""
             }
            },
            "type": "scattermap"
           }
          ],
          "scattermapbox": [
           {
            "marker": {
             "colorbar": {
              "outlinewidth": 0,
              "ticks": ""
             }
            },
            "type": "scattermapbox"
           }
          ],
          "scatterpolar": [
           {
            "marker": {
             "colorbar": {
              "outlinewidth": 0,
              "ticks": ""
             }
            },
            "type": "scatterpolar"
           }
          ],
          "scatterpolargl": [
           {
            "marker": {
             "colorbar": {
              "outlinewidth": 0,
              "ticks": ""
             }
            },
            "type": "scatterpolargl"
           }
          ],
          "scatterternary": [
           {
            "marker": {
             "colorbar": {
              "outlinewidth": 0,
              "ticks": ""
             }
            },
            "type": "scatterternary"
           }
          ],
          "surface": [
           {
            "colorbar": {
             "outlinewidth": 0,
             "ticks": ""
            },
            "colorscale": [
             [
              0,
              "#0d0887"
             ],
             [
              0.1111111111111111,
              "#46039f"
             ],
             [
              0.2222222222222222,
              "#7201a8"
             ],
             [
              0.3333333333333333,
              "#9c179e"
             ],
             [
              0.4444444444444444,
              "#bd3786"
             ],
             [
              0.5555555555555556,
              "#d8576b"
             ],
             [
              0.6666666666666666,
              "#ed7953"
             ],
             [
              0.7777777777777778,
              "#fb9f3a"
             ],
             [
              0.8888888888888888,
              "#fdca26"
             ],
             [
              1,
              "#f0f921"
             ]
            ],
            "type": "surface"
           }
          ],
          "table": [
           {
            "cells": {
             "fill": {
              "color": "#EBF0F8"
             },
             "line": {
              "color": "white"
             }
            },
            "header": {
             "fill": {
              "color": "#C8D4E3"
             },
             "line": {
              "color": "white"
             }
            },
            "type": "table"
           }
          ]
         },
         "layout": {
          "annotationdefaults": {
           "arrowcolor": "#2a3f5f",
           "arrowhead": 0,
           "arrowwidth": 1
          },
          "autotypenumbers": "strict",
          "coloraxis": {
           "colorbar": {
            "outlinewidth": 0,
            "ticks": ""
           }
          },
          "colorscale": {
           "diverging": [
            [
             0,
             "#8e0152"
            ],
            [
             0.1,
             "#c51b7d"
            ],
            [
             0.2,
             "#de77ae"
            ],
            [
             0.3,
             "#f1b6da"
            ],
            [
             0.4,
             "#fde0ef"
            ],
            [
             0.5,
             "#f7f7f7"
            ],
            [
             0.6,
             "#e6f5d0"
            ],
            [
             0.7,
             "#b8e186"
            ],
            [
             0.8,
             "#7fbc41"
            ],
            [
             0.9,
             "#4d9221"
            ],
            [
             1,
             "#276419"
            ]
           ],
           "sequential": [
            [
             0,
             "#0d0887"
            ],
            [
             0.1111111111111111,
             "#46039f"
            ],
            [
             0.2222222222222222,
             "#7201a8"
            ],
            [
             0.3333333333333333,
             "#9c179e"
            ],
            [
             0.4444444444444444,
             "#bd3786"
            ],
            [
             0.5555555555555556,
             "#d8576b"
            ],
            [
             0.6666666666666666,
             "#ed7953"
            ],
            [
             0.7777777777777778,
             "#fb9f3a"
            ],
            [
             0.8888888888888888,
             "#fdca26"
            ],
            [
             1,
             "#f0f921"
            ]
           ],
           "sequentialminus": [
            [
             0,
             "#0d0887"
            ],
            [
             0.1111111111111111,
             "#46039f"
            ],
            [
             0.2222222222222222,
             "#7201a8"
            ],
            [
             0.3333333333333333,
             "#9c179e"
            ],
            [
             0.4444444444444444,
             "#bd3786"
            ],
            [
             0.5555555555555556,
             "#d8576b"
            ],
            [
             0.6666666666666666,
             "#ed7953"
            ],
            [
             0.7777777777777778,
             "#fb9f3a"
            ],
            [
             0.8888888888888888,
             "#fdca26"
            ],
            [
             1,
             "#f0f921"
            ]
           ]
          },
          "colorway": [
           "#636efa",
           "#EF553B",
           "#00cc96",
           "#ab63fa",
           "#FFA15A",
           "#19d3f3",
           "#FF6692",
           "#B6E880",
           "#FF97FF",
           "#FECB52"
          ],
          "font": {
           "color": "#2a3f5f"
          },
          "geo": {
           "bgcolor": "white",
           "lakecolor": "white",
           "landcolor": "#E5ECF6",
           "showlakes": true,
           "showland": true,
           "subunitcolor": "white"
          },
          "hoverlabel": {
           "align": "left"
          },
          "hovermode": "closest",
          "mapbox": {
           "style": "light"
          },
          "paper_bgcolor": "white",
          "plot_bgcolor": "#E5ECF6",
          "polar": {
           "angularaxis": {
            "gridcolor": "white",
            "linecolor": "white",
            "ticks": ""
           },
           "bgcolor": "#E5ECF6",
           "radialaxis": {
            "gridcolor": "white",
            "linecolor": "white",
            "ticks": ""
           }
          },
          "scene": {
           "xaxis": {
            "backgroundcolor": "#E5ECF6",
            "gridcolor": "white",
            "gridwidth": 2,
            "linecolor": "white",
            "showbackground": true,
            "ticks": "",
            "zerolinecolor": "white"
           },
           "yaxis": {
            "backgroundcolor": "#E5ECF6",
            "gridcolor": "white",
            "gridwidth": 2,
            "linecolor": "white",
            "showbackground": true,
            "ticks": "",
            "zerolinecolor": "white"
           },
           "zaxis": {
            "backgroundcolor": "#E5ECF6",
            "gridcolor": "white",
            "gridwidth": 2,
            "linecolor": "white",
            "showbackground": true,
            "ticks": "",
            "zerolinecolor": "white"
           }
          },
          "shapedefaults": {
           "line": {
            "color": "#2a3f5f"
           }
          },
          "ternary": {
           "aaxis": {
            "gridcolor": "white",
            "linecolor": "white",
            "ticks": ""
           },
           "baxis": {
            "gridcolor": "white",
            "linecolor": "white",
            "ticks": ""
           },
           "bgcolor": "#E5ECF6",
           "caxis": {
            "gridcolor": "white",
            "linecolor": "white",
            "ticks": ""
           }
          },
          "title": {
           "x": 0.05
          },
          "xaxis": {
           "automargin": true,
           "gridcolor": "white",
           "linecolor": "white",
           "ticks": "",
           "title": {
            "standoff": 15
           },
           "zerolinecolor": "white",
           "zerolinewidth": 2
          },
          "yaxis": {
           "automargin": true,
           "gridcolor": "white",
           "linecolor": "white",
           "ticks": "",
           "title": {
            "standoff": 15
           },
           "zerolinecolor": "white",
           "zerolinewidth": 2
          }
         }
        },
        "title": {
         "text": "Genre-Häufigkeit pro Jahr"
        },
        "xaxis": {
         "anchor": "y",
         "domain": [
          0,
          1
         ],
         "title": {
          "text": "Jahr"
         }
        },
        "yaxis": {
         "anchor": "x",
         "domain": [
          0,
          1
         ],
         "title": {
          "text": "Anzahl Filme"
         }
        }
       }
      },
      "image/png": "[encoded data removed]"
     },
     "metadata": {},
     "output_type": "display_data"
    }
   ],
   "source": [
    "yearly_counts = df.groupby(['release_date','genre_name']).size().reset_index(name='count')\n",
    "\n",
    "fig_yearly = px.bar(\n",
    "    yearly_counts,\n",
    "    x='release_date',\n",
    "    y='count',\n",
    "    color='genre_name',\n",
    "    barmode='stack',\n",
    "    title='Genre-Häufigkeit pro Jahr',\n",
    "    labels={'release_date':'Jahr','count':'Anzahl Filme','genre_name':'Genre'}\n",
    ")\n",
    "fig_yearly.show()"
   ]
  },
  {
   "cell_type": "code",
   "execution_count": 59,
   "id": "25288bf3-d24d-488b-9882-b482eff5c54b",
   "metadata": {},
   "outputs": [
    {
     "data": {
      "application/vnd.plotly.v1+json": {
       "config": {
        "plotlyServerURL": "https://plot.ly"
       },
       "data": [
        {
         "fillpattern": {
          "shape": ""
         },
         "groupnorm": "fraction",
         "hovertemplate": "Genre=Action<br>Jahr=%{x}<br>Anteil am Jahrestotal=%{y}<extra></extra>",
         "legendgroup": "Action",
         "line": {
          "color": "rgb(141,211,199)"
         },
         "marker": {
          "symbol": "circle"
         },
         "mode": "lines",
         "name": "Action",
         "orientation": "v",
         "showlegend": true,
         "stackgroup": "1",
         "type": "scatter",
         "x": {
          "bdata": "vAe9B74HvwfAB8EHwgfDB8QHxQfGB8cHyAfJB8oHywfMB80HzgfPB9AH0QfSB9MH1AfVB9YH1wfYB9kH2gfbB9wH3QfeB98H4AfhB+IH4wfkB+UH5gfnB+gH",
          "dtype": "i2"
         },
         "xaxis": "x",
         "y": {
          "bdata": "AQQCAwUCAQECAQEBAQADAwECBAMCBwQFBggGDQ0GDAoNDRANGxcfHBkhIiMs",
          "dtype": "i1"
         },
         "yaxis": "y"
        },
        {
         "fillpattern": {
          "shape": ""
         },
         "groupnorm": "fraction",
         "hovertemplate": "Genre=Adventure<br>Jahr=%{x}<br>Anteil am Jahrestotal=%{y}<extra></extra>",
         "legendgroup": "Adventure",
         "line": {
          "color": "rgb(255,255,179)"
         },
         "marker": {
          "symbol": "circle"
         },
         "mode": "lines",
         "name": "Adventure",
         "orientation": "v",
         "showlegend": true,
         "stackgroup": "1",
         "type": "scatter",
         "x": {
          "bdata": "vAe9B74HvwfAB8EHwgfDB8QHxQfGB8cHyAfJB8oHywfMB80HzgfPB9AH0QfSB9MH1AfVB9YH1wfYB9kH2gfbB9wH3QfeB98H4AfhB+IH4wfkB+UH5gfnB+gH",
          "dtype": "i2"
         },
         "xaxis": "x",
         "y": {
          "bdata": "AQIAAgQBAQEAAgEBAQECAQACAAEDBAQGCQQFCAoGCQYGAgsLEBAWEREVGBQU",
          "dtype": "i1"
         },
         "yaxis": "y"
        },
        {
         "fillpattern": {
          "shape": ""
         },
         "groupnorm": "fraction",
         "hovertemplate": "Genre=Comedy<br>Jahr=%{x}<br>Anteil am Jahrestotal=%{y}<extra></extra>",
         "legendgroup": "Comedy",
         "line": {
          "color": "rgb(190,186,218)"
         },
         "marker": {
          "symbol": "circle"
         },
         "mode": "lines",
         "name": "Comedy",
         "orientation": "v",
         "showlegend": true,
         "stackgroup": "1",
         "type": "scatter",
         "x": {
          "bdata": "vAe9B74HvwfAB8EHwgfDB8QHxQfGB8cHyAfJB8oHywfMB80HzgfPB9AH0QfSB9MH1AfVB9YH1wfYB9kH2gfbB9wH3QfeB98H4AfhB+IH4wfkB+UH5gfnB+gH",
          "dtype": "i2"
         },
         "xaxis": "x",
         "y": {
          "bdata": "AwUEBQYDBAYDAgIFBgMDBQIDBAgGDwkRFgcVEgkQEhgVGygxKCIfIiAWHxoe",
          "dtype": "i1"
         },
         "yaxis": "y"
        },
        {
         "fillpattern": {
          "shape": ""
         },
         "groupnorm": "fraction",
         "hovertemplate": "Genre=Crime<br>Jahr=%{x}<br>Anteil am Jahrestotal=%{y}<extra></extra>",
         "legendgroup": "Crime",
         "line": {
          "color": "rgb(251,128,114)"
         },
         "marker": {
          "symbol": "circle"
         },
         "mode": "lines",
         "name": "Crime",
         "orientation": "v",
         "showlegend": true,
         "stackgroup": "1",
         "type": "scatter",
         "x": {
          "bdata": "vAe9B74HvwfAB8EHwgfDB8QHxQfGB8cHyAfJB8oHywfMB80HzgfPB9AH0QfSB9MH1AfVB9YH1wfYB9kH2gfbB9wH3QfeB98H4AfhB+IH4wfkB+UH5gfnB+gH",
          "dtype": "i2"
         },
         "xaxis": "x",
         "y": {
          "bdata": "AQEDAQICAQEBAQECAAAAAgECAAMCAwMDCAYJBggCBAMJCAcFCRANFQoLEA8U",
          "dtype": "i1"
         },
         "yaxis": "y"
        },
        {
         "fillpattern": {
          "shape": ""
         },
         "groupnorm": "fraction",
         "hovertemplate": "Genre=Drama<br>Jahr=%{x}<br>Anteil am Jahrestotal=%{y}<extra></extra>",
         "legendgroup": "Drama",
         "line": {
          "color": "rgb(128,177,211)"
         },
         "marker": {
          "symbol": "circle"
         },
         "mode": "lines",
         "name": "Drama",
         "orientation": "v",
         "showlegend": true,
         "stackgroup": "1",
         "type": "scatter",
         "x": {
          "bdata": "vAe9B74HvwfAB8EHwgfDB8QHxQfGB8cHyAfJB8oHywfMB80HzgfPB9AH0QfSB9MH1AfVB9YH1wfYB9kH2gfbB9wH3QfeB98H4AfhB+IH4wfkB+UH5gfnB+gH",
          "dtype": "i2"
         },
         "xaxis": "x",
         "y": {
          "bdata": "AgEBAgECAQIBAgIDAwQEBAMHCAMFCwkPEhMWEBEPEh0QExwoLyUoKigkKScn",
          "dtype": "i1"
         },
         "yaxis": "y"
        },
        {
         "fillpattern": {
          "shape": ""
         },
         "groupnorm": "fraction",
         "hovertemplate": "Genre=Fantasy<br>Jahr=%{x}<br>Anteil am Jahrestotal=%{y}<extra></extra>",
         "legendgroup": "Fantasy",
         "line": {
          "color": "rgb(253,180,98)"
         },
         "marker": {
          "symbol": "circle"
         },
         "mode": "lines",
         "name": "Fantasy",
         "orientation": "v",
         "showlegend": true,
         "stackgroup": "1",
         "type": "scatter",
         "x": {
          "bdata": "vAe9B74HvwfAB8EHwgfDB8QHxQfGB8cHyAfJB8oHywfMB80HzgfPB9AH0QfSB9MH1AfVB9YH1wfYB9kH2gfbB9wH3QfeB98H4AfhB+IH4wfkB+UH5gfnB+gH",
          "dtype": "i2"
         },
         "xaxis": "x",
         "y": {
          "bdata": "AQAAAAIAAQEBAQAAAAACAAEBAQECBAQBBQQEBgMGBQYHBAIICAkNCg4TEQ8N",
          "dtype": "i1"
         },
         "yaxis": "y"
        },
        {
         "fillpattern": {
          "shape": ""
         },
         "groupnorm": "fraction",
         "hovertemplate": "Genre=Other<br>Jahr=%{x}<br>Anteil am Jahrestotal=%{y}<extra></extra>",
         "legendgroup": "Other",
         "line": {
          "color": "rgb(179,222,105)"
         },
         "marker": {
          "symbol": "circle"
         },
         "mode": "lines",
         "name": "Other",
         "orientation": "v",
         "showlegend": true,
         "stackgroup": "1",
         "type": "scatter",
         "x": {
          "bdata": "vAe9B74HvwfAB8EHwgfDB8QHxQfGB8cHyAfJB8oHywfMB80HzgfPB9AH0QfSB9MH1AfVB9YH1wfYB9kH2gfbB9wH3QfeB98H4AfhB+IH4wfkB+UH5gfnB+gH",
          "dtype": "i2"
         },
         "xaxis": "x",
         "y": {
          "bdata": "AwUCAgUEAgMGBAICBAYEBAMMBwgEDgwMFg4RFw8ZGCAbFDNAME5GRU5YPkdI",
          "dtype": "i1"
         },
         "yaxis": "y"
        },
        {
         "fillpattern": {
          "shape": ""
         },
         "groupnorm": "fraction",
         "hovertemplate": "Genre=Romance<br>Jahr=%{x}<br>Anteil am Jahrestotal=%{y}<extra></extra>",
         "legendgroup": "Romance",
         "line": {
          "color": "rgb(252,205,229)"
         },
         "marker": {
          "symbol": "circle"
         },
         "mode": "lines",
         "name": "Romance",
         "orientation": "v",
         "showlegend": true,
         "stackgroup": "1",
         "type": "scatter",
         "x": {
          "bdata": "vAe9B74HvwfAB8EHwgfDB8QHxQfGB8cHyAfJB8oHywfMB80HzgfPB9AH0QfSB9MH1AfVB9YH1wfYB9kH2gfbB9wH3QfeB98H4AfhB+IH4wfkB+UH5gfnB+gH",
          "dtype": "i2"
         },
         "xaxis": "x",
         "y": {
          "bdata": "AQEAAQAAAQIAAAABBAMDBQIBBQEABgYFBAcHBwUDCQsFBwsUDQcPEBINGBMJ",
          "dtype": "i1"
         },
         "yaxis": "y"
        },
        {
         "fillpattern": {
          "shape": ""
         },
         "groupnorm": "fraction",
         "hovertemplate": "Genre=Thriller<br>Jahr=%{x}<br>Anteil am Jahrestotal=%{y}<extra></extra>",
         "legendgroup": "Thriller",
         "line": {
          "color": "rgb(217,217,217)"
         },
         "marker": {
          "symbol": "circle"
         },
         "mode": "lines",
         "name": "Thriller",
         "orientation": "v",
         "showlegend": true,
         "stackgroup": "1",
         "type": "scatter",
         "x": {
          "bdata": "vAe9B74HvwfAB8EHwgfDB8QHxQfGB8cHyAfJB8oHywfMB80HzgfPB9AH0QfSB9MH1AfVB9YH1wfYB9kH2gfbB9wH3QfeB98H4AfhB+IH4wfkB+UH5gfnB+gH",
          "dtype": "i2"
         },
         "xaxis": "x",
         "y": {
          "bdata": "AAAAAAEBAAIAAAAAAAABAQIFAQICBQUIBwwHCg0KBggHBwwJGSAiIhYcGCEY",
          "dtype": "i1"
         },
         "yaxis": "y"
        }
       ],
       "layout": {
        "height": 600,
        "hovermode": "closest",
        "legend": {
         "orientation": "h",
         "title": {
          "text": "Genre"
         },
         "tracegroupgap": 0,
         "x": 0.02,
         "y": 1.08
        },
        "margin": {
         "b": 60,
         "l": 60,
         "r": 20,
         "t": 80
        },
        "plot_bgcolor": "white",
        "template": {
         "data": {
          "bar": [
           {
            "error_x": {
             "color": "#2a3f5f"
            },
            "error_y": {
             "color": "#2a3f5f"
            },
            "marker": {
             "line": {
              "color": "#E5ECF6",
              "width": 0.5
             },
             "pattern": {
              "fillmode": "overlay",
              "size": 10,
              "solidity": 0.2
             }
            },
            "type": "bar"
           }
          ],
          "barpolar": [
           {
            "marker": {
             "line": {
              "color": "#E5ECF6",
              "width": 0.5
             },
             "pattern": {
              "fillmode": "overlay",
              "size": 10,
              "solidity": 0.2
             }
            },
            "type": "barpolar"
           }
          ],
          "carpet": [
           {
            "aaxis": {
             "endlinecolor": "#2a3f5f",
             "gridcolor": "white",
             "linecolor": "white",
             "minorgridcolor": "white",
             "startlinecolor": "#2a3f5f"
            },
            "baxis": {
             "endlinecolor": "#2a3f5f",
             "gridcolor": "white",
             "linecolor": "white",
             "minorgridcolor": "white",
             "startlinecolor": "#2a3f5f"
            },
            "type": "carpet"
           }
          ],
          "choropleth": [
           {
            "colorbar": {
             "outlinewidth": 0,
             "ticks": ""
            },
            "type": "choropleth"
           }
          ],
          "contour": [
           {
            "colorbar": {
             "outlinewidth": 0,
             "ticks": ""
            },
            "colorscale": [
             [
              0,
              "#0d0887"
             ],
             [
              0.1111111111111111,
              "#46039f"
             ],
             [
              0.2222222222222222,
              "#7201a8"
             ],
             [
              0.3333333333333333,
              "#9c179e"
             ],
             [
              0.4444444444444444,
              "#bd3786"
             ],
             [
              0.5555555555555556,
              "#d8576b"
             ],
             [
              0.6666666666666666,
              "#ed7953"
             ],
             [
              0.7777777777777778,
              "#fb9f3a"
             ],
             [
              0.8888888888888888,
              "#fdca26"
             ],
             [
              1,
              "#f0f921"
             ]
            ],
            "type": "contour"
           }
          ],
          "contourcarpet": [
           {
            "colorbar": {
             "outlinewidth": 0,
             "ticks": ""
            },
            "type": "contourcarpet"
           }
          ],
          "heatmap": [
           {
            "colorbar": {
             "outlinewidth": 0,
             "ticks": ""
            },
            "colorscale": [
             [
              0,
              "#0d0887"
             ],
             [
              0.1111111111111111,
              "#46039f"
             ],
             [
              0.2222222222222222,
              "#7201a8"
             ],
             [
              0.3333333333333333,
              "#9c179e"
             ],
             [
              0.4444444444444444,
              "#bd3786"
             ],
             [
              0.5555555555555556,
              "#d8576b"
             ],
             [
              0.6666666666666666,
              "#ed7953"
             ],
             [
              0.7777777777777778,
              "#fb9f3a"
             ],
             [
              0.8888888888888888,
              "#fdca26"
             ],
             [
              1,
              "#f0f921"
             ]
            ],
            "type": "heatmap"
           }
          ],
          "histogram": [
           {
            "marker": {
             "pattern": {
              "fillmode": "overlay",
              "size": 10,
              "solidity": 0.2
             }
            },
            "type": "histogram"
           }
          ],
          "histogram2d": [
           {
            "colorbar": {
             "outlinewidth": 0,
             "ticks": ""
            },
            "colorscale": [
             [
              0,
              "#0d0887"
             ],
             [
              0.1111111111111111,
              "#46039f"
             ],
             [
              0.2222222222222222,
              "#7201a8"
             ],
             [
              0.3333333333333333,
              "#9c179e"
             ],
             [
              0.4444444444444444,
              "#bd3786"
             ],
             [
              0.5555555555555556,
              "#d8576b"
             ],
             [
              0.6666666666666666,
              "#ed7953"
             ],
             [
              0.7777777777777778,
              "#fb9f3a"
             ],
             [
              0.8888888888888888,
              "#fdca26"
             ],
             [
              1,
              "#f0f921"
             ]
            ],
            "type": "histogram2d"
           }
          ],
          "histogram2dcontour": [
           {
            "colorbar": {
             "outlinewidth": 0,
             "ticks": ""
            },
            "colorscale": [
             [
              0,
              "#0d0887"
             ],
             [
              0.1111111111111111,
              "#46039f"
             ],
             [
              0.2222222222222222,
              "#7201a8"
             ],
             [
              0.3333333333333333,
              "#9c179e"
             ],
             [
              0.4444444444444444,
              "#bd3786"
             ],
             [
              0.5555555555555556,
              "#d8576b"
             ],
             [
              0.6666666666666666,
              "#ed7953"
             ],
             [
              0.7777777777777778,
              "#fb9f3a"
             ],
             [
              0.8888888888888888,
              "#fdca26"
             ],
             [
              1,
              "#f0f921"
             ]
            ],
            "type": "histogram2dcontour"
           }
          ],
          "mesh3d": [
           {
            "colorbar": {
             "outlinewidth": 0,
             "ticks": ""
            },
            "type": "mesh3d"
           }
          ],
          "parcoords": [
           {
            "line": {
             "colorbar": {
              "outlinewidth": 0,
              "ticks": ""
             }
            },
            "type": "parcoords"
           }
          ],
          "pie": [
           {
            "automargin": true,
            "type": "pie"
           }
          ],
          "scatter": [
           {
            "fillpattern": {
             "fillmode": "overlay",
             "size": 10,
             "solidity": 0.2
            },
            "type": "scatter"
           }
          ],
          "scatter3d": [
           {
            "line": {
             "colorbar": {
              "outlinewidth": 0,
              "ticks": ""
             }
            },
            "marker": {
             "colorbar": {
              "outlinewidth": 0,
              "ticks": ""
             }
            },
            "type": "scatter3d"
           }
          ],
          "scattercarpet": [
           {
            "marker": {
             "colorbar": {
              "outlinewidth": 0,
              "ticks": ""
             }
            },
            "type": "scattercarpet"
           }
          ],
          "scattergeo": [
           {
            "marker": {
             "colorbar": {
              "outlinewidth": 0,
              "ticks": ""
             }
            },
            "type": "scattergeo"
           }
          ],
          "scattergl": [
           {
            "marker": {
             "colorbar": {
              "outlinewidth": 0,
              "ticks": ""
             }
            },
            "type": "scattergl"
           }
          ],
          "scattermap": [
           {
            "marker": {
             "colorbar": {
              "outlinewidth": 0,
              "ticks": ""
             }
            },
            "type": "scattermap"
           }
          ],
          "scattermapbox": [
           {
            "marker": {
             "colorbar": {
              "outlinewidth": 0,
              "ticks": ""
             }
            },
            "type": "scattermapbox"
           }
          ],
          "scatterpolar": [
           {
            "marker": {
             "colorbar": {
              "outlinewidth": 0,
              "ticks": ""
             }
            },
            "type": "scatterpolar"
           }
          ],
          "scatterpolargl": [
           {
            "marker": {
             "colorbar": {
              "outlinewidth": 0,
              "ticks": ""
             }
            },
            "type": "scatterpolargl"
           }
          ],
          "scatterternary": [
           {
            "marker": {
             "colorbar": {
              "outlinewidth": 0,
              "ticks": ""
             }
            },
            "type": "scatterternary"
           }
          ],
          "surface": [
           {
            "colorbar": {
             "outlinewidth": 0,
             "ticks": ""
            },
            "colorscale": [
             [
              0,
              "#0d0887"
             ],
             [
              0.1111111111111111,
              "#46039f"
             ],
             [
              0.2222222222222222,
              "#7201a8"
             ],
             [
              0.3333333333333333,
              "#9c179e"
             ],
             [
              0.4444444444444444,
              "#bd3786"
             ],
             [
              0.5555555555555556,
              "#d8576b"
             ],
             [
              0.6666666666666666,
              "#ed7953"
             ],
             [
              0.7777777777777778,
              "#fb9f3a"
             ],
             [
              0.8888888888888888,
              "#fdca26"
             ],
             [
              1,
              "#f0f921"
             ]
            ],
            "type": "surface"
           }
          ],
          "table": [
           {
            "cells": {
             "fill": {
              "color": "#EBF0F8"
             },
             "line": {
              "color": "white"
             }
            },
            "header": {
             "fill": {
              "color": "#C8D4E3"
             },
             "line": {
              "color": "white"
             }
            },
            "type": "table"
           }
          ]
         },
         "layout": {
          "annotationdefaults": {
           "arrowcolor": "#2a3f5f",
           "arrowhead": 0,
           "arrowwidth": 1
          },
          "autotypenumbers": "strict",
          "coloraxis": {
           "colorbar": {
            "outlinewidth": 0,
            "ticks": ""
           }
          },
          "colorscale": {
           "diverging": [
            [
             0,
             "#8e0152"
            ],
            [
             0.1,
             "#c51b7d"
            ],
            [
             0.2,
             "#de77ae"
            ],
            [
             0.3,
             "#f1b6da"
            ],
            [
             0.4,
             "#fde0ef"
            ],
            [
             0.5,
             "#f7f7f7"
            ],
            [
             0.6,
             "#e6f5d0"
            ],
            [
             0.7,
             "#b8e186"
            ],
            [
             0.8,
             "#7fbc41"
            ],
            [
             0.9,
             "#4d9221"
            ],
            [
             1,
             "#276419"
            ]
           ],
           "sequential": [
            [
             0,
             "#0d0887"
            ],
            [
             0.1111111111111111,
             "#46039f"
            ],
            [
             0.2222222222222222,
             "#7201a8"
            ],
            [
             0.3333333333333333,
             "#9c179e"
            ],
            [
             0.4444444444444444,
             "#bd3786"
            ],
            [
             0.5555555555555556,
             "#d8576b"
            ],
            [
             0.6666666666666666,
             "#ed7953"
            ],
            [
             0.7777777777777778,
             "#fb9f3a"
            ],
            [
             0.8888888888888888,
             "#fdca26"
            ],
            [
             1,
             "#f0f921"
            ]
           ],
           "sequentialminus": [
            [
             0,
             "#0d0887"
            ],
            [
             0.1111111111111111,
             "#46039f"
            ],
            [
             0.2222222222222222,
             "#7201a8"
            ],
            [
             0.3333333333333333,
             "#9c179e"
            ],
            [
             0.4444444444444444,
             "#bd3786"
            ],
            [
             0.5555555555555556,
             "#d8576b"
            ],
            [
             0.6666666666666666,
             "#ed7953"
            ],
            [
             0.7777777777777778,
             "#fb9f3a"
            ],
            [
             0.8888888888888888,
             "#fdca26"
            ],
            [
             1,
             "#f0f921"
            ]
           ]
          },
          "colorway": [
           "#636efa",
           "#EF553B",
           "#00cc96",
           "#ab63fa",
           "#FFA15A",
           "#19d3f3",
           "#FF6692",
           "#B6E880",
           "#FF97FF",
           "#FECB52"
          ],
          "font": {
           "color": "#2a3f5f"
          },
          "geo": {
           "bgcolor": "white",
           "lakecolor": "white",
           "landcolor": "#E5ECF6",
           "showlakes": true,
           "showland": true,
           "subunitcolor": "white"
          },
          "hoverlabel": {
           "align": "left"
          },
          "hovermode": "closest",
          "mapbox": {
           "style": "light"
          },
          "paper_bgcolor": "white",
          "plot_bgcolor": "#E5ECF6",
          "polar": {
           "angularaxis": {
            "gridcolor": "white",
            "linecolor": "white",
            "ticks": ""
           },
           "bgcolor": "#E5ECF6",
           "radialaxis": {
            "gridcolor": "white",
            "linecolor": "white",
            "ticks": ""
           }
          },
          "scene": {
           "xaxis": {
            "backgroundcolor": "#E5ECF6",
            "gridcolor": "white",
            "gridwidth": 2,
            "linecolor": "white",
            "showbackground": true,
            "ticks": "",
            "zerolinecolor": "white"
           },
           "yaxis": {
            "backgroundcolor": "#E5ECF6",
            "gridcolor": "white",
            "gridwidth": 2,
            "linecolor": "white",
            "showbackground": true,
            "ticks": "",
            "zerolinecolor": "white"
           },
           "zaxis": {
            "backgroundcolor": "#E5ECF6",
            "gridcolor": "white",
            "gridwidth": 2,
            "linecolor": "white",
            "showbackground": true,
            "ticks": "",
            "zerolinecolor": "white"
           }
          },
          "shapedefaults": {
           "line": {
            "color": "#2a3f5f"
           }
          },
          "ternary": {
           "aaxis": {
            "gridcolor": "white",
            "linecolor": "white",
            "ticks": ""
           },
           "baxis": {
            "gridcolor": "white",
            "linecolor": "white",
            "ticks": ""
           },
           "bgcolor": "#E5ECF6",
           "caxis": {
            "gridcolor": "white",
            "linecolor": "white",
            "ticks": ""
           }
          },
          "title": {
           "x": 0.05
          },
          "xaxis": {
           "automargin": true,
           "gridcolor": "white",
           "linecolor": "white",
           "ticks": "",
           "title": {
            "standoff": 15
           },
           "zerolinecolor": "white",
           "zerolinewidth": 2
          },
          "yaxis": {
           "automargin": true,
           "gridcolor": "white",
           "linecolor": "white",
           "ticks": "",
           "title": {
            "standoff": 15
           },
           "zerolinecolor": "white",
           "zerolinewidth": 2
          }
         }
        },
        "title": {
         "text": "Genre-Verteilung pro Jahr (Top 8 + Other)"
        },
        "width": 1000,
        "xaxis": {
         "anchor": "y",
         "domain": [
          0,
          1
         ],
         "title": {
          "text": "Jahr"
         }
        },
        "yaxis": {
         "anchor": "x",
         "domain": [
          0,
          1
         ],
         "tickformat": ".0%",
         "title": {
          "text": "Anteil am Jahrestotal"
         }
        }
       }
      },
      "image/png": "[encoded data removed]"
     },
     "metadata": {},
     "output_type": "display_data"
    }
   ],
   "source": [
    "import json\n",
    "from pathlib import Path\n",
    "import pandas as pd\n",
    "import plotly.express as px\n",
    "\n",
    "# BASE wie gehabt\n",
    "BASE = Path().resolve().parent\n",
    "\n",
    "# 1. Daten laden & Genre-Mapping mergen (wie vorher) …\n",
    "data_file   = BASE/\"data\"/\"raw\"/\"fragestellung_02\"/\"2025-05-19_version2_all_european_movies.json\"\n",
    "genres_file = BASE/\"data\"/\"processed\"/\"fragestellung_02\"/\"all_genres.json\"\n",
    "\n",
    "with open(data_file,   \"r\", encoding=\"utf-8\") as f: movies = json.load(f)\n",
    "with open(genres_file, \"r\", encoding=\"utf-8\") as f: gdata  = json.load(f)[\"genres\"]\n",
    "\n",
    "df    = pd.DataFrame({m[\"id\"]:m for m in movies}.values())\n",
    "df[\"year\"] = pd.to_datetime(df[\"release_date\"]).dt.year\n",
    "df = df.explode(\"genre_ids\")\n",
    "df_genres = pd.DataFrame(gdata).rename(columns={\"id\":\"genre_ids\",\"name\":\"genre_name\"})\n",
    "df = df.merge(df_genres[[\"genre_ids\",\"genre_name\"]], on=\"genre_ids\", how=\"left\")\n",
    "\n",
    "# 2. Top 8 Genres wählen, Rest zu “Other” zusammenfassen\n",
    "top8 = (\n",
    "    df[\"genre_name\"]\n",
    "    .value_counts()\n",
    "    .nlargest(8)\n",
    "    .index\n",
    "    .tolist()\n",
    ")\n",
    "df[\"genre_grp\"] = df[\"genre_name\"].where(df[\"genre_name\"].isin(top8), \"Other\")\n",
    "\n",
    "# 3. Jahres-×-Genre-Counts neu berechnen\n",
    "yearly = (\n",
    "    df.groupby([\"year\",\"genre_grp\"])\n",
    "      .size()\n",
    "      .reset_index(name=\"count\")\n",
    ")\n",
    "\n",
    "# lückenlos auffüllen\n",
    "years  = range(yearly.year.min(), yearly.year.max()+1)\n",
    "grps   = sorted(yearly.genre_grp.unique())\n",
    "idx    = pd.MultiIndex.from_product([years, grps], names=[\"year\",\"genre_grp\"])\n",
    "yearly = yearly.set_index([\"year\",\"genre_grp\"]).reindex(idx, fill_value=0).reset_index()\n",
    "\n",
    "# 4. Plotly 100 %-Area mit Hover-Fix & Styling\n",
    "fig = px.area(\n",
    "    yearly,\n",
    "    x=\"year\", y=\"count\", color=\"genre_grp\",\n",
    "    groupnorm=\"fraction\",\n",
    "    category_orders={\"genre_grp\": grps},\n",
    "    color_discrete_sequence=px.colors.qualitative.Set3,  # sanfte Palette\n",
    "    labels={\n",
    "      \"year\":        \"Jahr\",\n",
    "      \"count\":       \"Anteil am Jahrestotal\",\n",
    "      \"genre_grp\":   \"Genre\"\n",
    "    },\n",
    "    title=\"Genre-Verteilung pro Jahr (Top 8 + Other)\"\n",
    ")\n",
    "\n",
    "fig.update_layout(\n",
    "    hovermode=\"closest\",       # nur ein Genre-Tooltip\n",
    "    yaxis_tickformat=\".0%\",    # in %\n",
    "    height=600, width=1000,\n",
    "    margin=dict(l=60, r=20, t=80, b=60),\n",
    "    plot_bgcolor=\"white\",\n",
    "    legend=dict(\n",
    "      orientation=\"h\",\n",
    "      y=1.08, x=0.02\n",
    "    )\n",
    ")\n",
    "\n",
    "fig.show()"
   ]
  },
  {
   "cell_type": "markdown",
   "id": "e3c5f2373022e3ec",
   "metadata": {},
   "source": [
    "### Interpretation der Daten\n",
    "#### Auffälligkeiten:\n",
    "1. **Deutlicher Anstieg der Filmproduktion**\n",
    " \n",
    "Die Anzahl der Filme hat sich im Laufe der Zeit deutlich erhöht. So gab es in den 1980er-Jahren nur verhältnismäßig wenige Veröffentlichungen, während wir im 21. Jahrhundert bereits dreistellige Jahreszahlen beobachten. Beispielsweise sind für das Jahr 1980 lediglich 13 Filme in den Daten vorhanden, während es im Jahr 2024 bereits 270 sind.\n",
    "\n",
    "Mehrere Gründe könnten hierfür eine Rolle spielen:\n",
    "- Wachstum der Weltbevölkerung:\n",
    "Die deutliche Zunahme der Weltbevölkerung führt grundsätzlich zu einem größeren Absatzmarkt. Dieser Faktor alleine kann jedoch den massiven Anstieg nicht vollständig erklären.\n",
    "\n",
    "- Unvollständigkeit der Datenbank:\n",
    "Da die verwendete Datenquelle (TMDb) erst seit 2008 existiert und Community-Basiert gepflegt wird, ist es wahrscheinlich, dass ältere Filme insbesondere aus den 1980er-Jahren nicht vollständig erfasst wurden. Dies könnte die niedrigen Zahlen für frühere Jahre erklären.\n",
    "\n",
    "- Zunehmende Kommerzialisierung und Globalisierung der Filmindustrie:\n",
    "Die Globalisierung der Medienlandschaft und ein verstärkt kommerziell orientierter Markt haben dazu geführt, dass heutzutage mehr Filme produziert und weltweit vermarktet werden als früher.\n",
    "\n",
    "2. **Temporärer Ratings-Peak während der Corona-Lockdowns**\n",
    "\n",
    "In der Heatmap erkennt man, dass die durchschnittlichen Genre-Bewertungen von Anfang 2020 bis zirka 2022/2023 höher liegen als in den Jahren davor und danach. Das könnte mit den Corona-Lockdowns zusammenhängen: Durch den Wegfall zahlreicher Freizeitmöglichkeiten waren Filme und Serien häufig die einzige und daher im Vergleich unterhaltsamere Alternative. Deshalb hätten sie subjektiven Zuspruch erfahren und bessere Bewertungen erhalten haben.\n",
    "\n",
    "3. **Veränderliche, aber wiederkehrende Spitzen-Genres**\n",
    "\n",
    "Die Rangfolge der Genres schwankt zwar von Jahr zu Jahr und je nach regionalem Fokus, doch lassen sich über die Jahre hinweg immer wieder vergleichbare Top-3-Genres beobachten – namentlich Drama, Comedy und Action weisen konstant die höchsten Anteile auf."
   ]
  },
  {
   "cell_type": "markdown",
   "id": "ee7485fdae30e86d",
   "metadata": {},
   "source": [
    "![Torwart](./images/statistic_id1716_weltbevoelkerung-2024.png)"
   ]
  },
  {
   "cell_type": "markdown",
   "id": "eb43eac9a9bc6744",
   "metadata": {},
   "source": [
    "### Interpretation der Datenanalyse"
   ]
  },
  {
   "cell_type": "markdown",
   "id": "7bf4d15c0cfaa9c9",
   "metadata": {},
   "source": [
    "### Lessons Learned 02 - Analyse der Daten\n",
    "1. Größere Datenmengen sollten eventuell in Zukunft in einer lokalen Docker Mongo Datenbank gespeichert werden. Dammit kann eine Caching Funktion implementiert werden, um die Anzahl der API Aufrufe zu reduzieren.\n",
    "2. Eine genauere Analyse der Daten und das Verständnis der Daten ist entscheidend, bevor eine Visualisierung erstellt wird.\n",
    "- Beispielsweise: Weltbevölkerung im vergleich zu 1980 bis 2024 hat sich über die Jahre stark verändert. Deshalb ist eine Visualisierung der relativen Dichte pro Jahr sinnvoller als eine Visualisierung der absoluten Zahlen.\n",
    "3. Es war sehr zeitintensiv, die interaktive Ploty visualisierung zu erstellen. (lieber mehr Zeit in der Analyse investieren)"
   ]
  },
  {
   "cell_type": "markdown",
   "id": "d2851ad371ce6caf",
   "metadata": {},
   "source": [
    "## Fragestellung 3:\n",
    "### Welche Länder produzieren die meisten Filme, die auf Netflix gestreamt werden?"
   ]
  },
  {
   "cell_type": "markdown",
   "id": "2d2d90e6b3dd6f5d",
   "metadata": {},
   "source": [
    "#### Alle verfügbaren Länder auflisten, zählen und abspeichern"
   ]
  },
  {
   "cell_type": "code",
   "execution_count": 3,
   "id": "cb8994cf4512147a",
   "metadata": {
    "ExecuteTime": {
     "end_time": "2025-06-18T12:37:42.513578Z",
     "start_time": "2025-06-18T12:37:42.300273Z"
    }
   },
   "outputs": [
    {
     "name": "stdout",
     "output_type": "stream",
     "text": [
      "There are '251' number of countries available\n"
     ]
    }
   ],
   "source": [
    "# Alle verfügbaren Länder auflisten, zählen und abspeichern\n",
    "import pandas as pd\n",
    "from config.config import TMDB_BEARER_TOKEN, TMDB_API_KEY\n",
    "from tmdb.configuration import Configuration\n",
    "import json\n",
    "\n",
    "BEARER_TOKEN = TMDB_BEARER_TOKEN # access token\n",
    "PATH_TO_ALL_AVAILABLE_COUNTRIES = \"./data/raw/fragestellung_03/2025-05-31_all_available_countries.json\"\n",
    "configuration = Configuration(TMDB_BEARER_TOKEN)\n",
    "all_countries = configuration.get_countries()\n",
    "\n",
    "\n",
    "with open(PATH_TO_ALL_AVAILABLE_COUNTRIES, \"w\") as file:\n",
    "    json.dump(all_countries, file, ensure_ascii=False, indent=2)\n",
    "\n",
    "print(f\"There are '{len(all_countries)}' number of countries available\")\n"
   ]
  },
  {
   "cell_type": "markdown",
   "id": "97bf3cd0ba792b77",
   "metadata": {},
   "source": [
    "### Top 10.000 Filme aus dem Discover Endpunkt abfragen und lokal als JSON-Datei abspeichern"
   ]
  },
  {
   "cell_type": "code",
   "execution_count": 2,
   "id": "465cdd31df7baf74",
   "metadata": {},
   "outputs": [
    {
     "name": "stdout",
     "output_type": "stream",
     "text": [
      "Progress: 500/500 (100.0%)\n",
      "Saved 10000 records to ./data/raw/fragestellung_03/2025-06-10_version1_all_country_movies.json\n"
     ]
    }
   ],
   "source": [
    "from config.config import TMDB_BEARER_TOKEN\n",
    "import json\n",
    "import os\n",
    "import glob\n",
    "from datetime import date\n",
    "import logging\n",
    "\n",
    "# Logger definieren\n",
    "logger = logging.getLogger(__name__)\n",
    "logger.setLevel(logging.WARNING)\n",
    "\n",
    "PATH_TO_ALL_AVAILABLE_COUNTRIES = \"./data/raw/fragestellung_03/2025-05-31_all_available_countries.json\"\n",
    "\n",
    "with open(PATH_TO_ALL_AVAILABLE_COUNTRIES, \"r\") as file:\n",
    "    all_countries_data = json.load(file)\n",
    "\n",
    "discover = Discover(TMDB_BEARER_TOKEN)\n",
    "all_movies = []\n",
    "# Variables for file formatting\n",
    "today = date.today().isoformat()\n",
    "base_dir = \"./data/raw/fragestellung_03\"\n",
    "pattern = f\"{today}_version*_all_country_movies.json\"\n",
    "\n",
    "pages = 500\n",
    "total_requests = pages\n",
    "current = 0\n",
    "\n",
    "all_movies = []\n",
    "for page in range(1, pages + 1):  # Top 10 000 Filme\n",
    "    response = discover.safe_get_movies(region=\"\",\n",
    "                                        sort_by=\"popularity.desc\",\n",
    "                                        with_watch_providers=\"8|175|1796\",\n",
    "                                        page=page,\n",
    "                                        delay=0.005)\n",
    "\n",
    "    if not response or \"results\" not in response:\n",
    "        logger.warning(f\"Kein Ergebnis für Page {page} – übersprungen.\")\n",
    "        continue\n",
    "    all_movies.extend(response[\"results\"])\n",
    "    # Fortschritt aktualisieren\n",
    "    current += 1\n",
    "    percent = (current / total_requests) * 100\n",
    "    print(f\"\\rProgress: {current}/{total_requests} ({percent:.1f}%)\", end=\"\")\n",
    "\n",
    "discover.close() # Close connection.\n",
    "\n",
    "# 1) Finde alle existierenden Dateien für heute\n",
    "existing = glob.glob(os.path.join(base_dir, pattern))\n",
    "\n",
    "# 2) Extrahiere die Versionsnummern\n",
    "versions = []\n",
    "for path in existing:\n",
    "    # filename z.B. '2025-05-20_version3_all_european_movies.json'\n",
    "    filename = os.path.basename(path)\n",
    "    # Splitten auf '_version' und dann vor dem nächsten '_' abschneiden\n",
    "    ver_str = filename.split(\"_version\")[1].split(\"_\")[0]\n",
    "    try:\n",
    "        versions.append(int(ver_str))\n",
    "    except ValueError:\n",
    "        pass\n",
    "\n",
    "# 3) Neue Version\n",
    "new_version = max(versions) + 1 if versions else 1\n",
    "\n",
    "# 4) Pfad zusammensetzen und Datei speichern\n",
    "out_path = os.path.join(\n",
    "    base_dir,\n",
    "    f\"{today}_version{new_version}_all_country_movies.json\"\n",
    ")\n",
    "\n",
    "# Beispiel: all_movies enthält deine Daten\n",
    "with open(out_path, \"w\", encoding=\"utf-8\") as f:\n",
    "    json.dump(all_movies, f, ensure_ascii=False, indent=2)\n",
    "\n",
    "print(f\"\\nSaved {len(all_movies)} records to {out_path}\")"
   ]
  },
  {
   "cell_type": "markdown",
   "id": "9ef3ef6e32ea435e",
   "metadata": {},
   "source": [
    "### Mit den Top 10.000 Film `id`'s den Details-Endpunkt abfragen und die Produktionsländer je Film erhalten."
   ]
  },
  {
   "cell_type": "code",
   "execution_count": 5,
   "id": "443f0ebf6740154f",
   "metadata": {
    "ExecuteTime": {
     "end_time": "2025-06-10T18:32:26.632499Z",
     "start_time": "2025-06-10T18:31:50.437021Z"
    }
   },
   "outputs": [
    {
     "name": "stdout",
     "output_type": "stream",
     "text": [
      "Found 8736 unique movies\n",
      "[WARN] HTTPError für ID 1199974 (1/2): [Errno 9] Bad file descriptor\n",
      "    Warte 0.00s vor dem nächsten Versuch …\n"
     ]
    },
    {
     "name": "stderr",
     "output_type": "stream",
     "text": [
      "\n",
      "KeyboardInterrupt\n",
      "\n",
      "Exception ignored in: <function tqdm.__del__ at 0x10cea0cc0>\n",
      "Traceback (most recent call last):\n",
      "  File \"/Users/xey/.pyenv/versions/3.13.3/lib/python3.13/site-packages/tqdm/std.py\", line 1148, in __del__\n",
      "    self.close()\n",
      "  File \"/Users/xey/.pyenv/versions/3.13.3/lib/python3.13/site-packages/tqdm/notebook.py\", line 279, in close\n",
      "    self.disp(bar_style='danger', check_delay=False)\n",
      "AttributeError: 'tqdm_notebook' object has no attribute 'disp'\n"
     ]
    }
   ],
   "source": [
    "import json\n",
    "import pandas as pd\n",
    "from tmdb.detail import Detail\n",
    "from config.config import TMDB_BEARER_TOKEN\n",
    "from concurrent.futures import ThreadPoolExecutor, as_completed\n",
    "from tqdm.notebook import tqdm\n",
    "\n",
    "# 1) Lade und filtere Filme (10 000 IDs)\n",
    "PATH = \"./data/raw/fragestellung_03/2025-06-10_version1_all_country_movies.json\"\n",
    "with open(PATH, \"r\", encoding=\"utf-8\") as f:\n",
    "    all_movies = json.load(f)\n",
    "seen = set()\n",
    "unique_movies = []\n",
    "for m in all_movies:\n",
    "    mid = m[\"id\"]\n",
    "    if mid not in seen:\n",
    "        seen.add(mid)\n",
    "        unique_movies.append(m)\n",
    "\n",
    "print(f\"Found {len(unique_movies)} unique movies\")\n",
    "\n",
    "# 2) Instanziiere den Detail-Client\n",
    "detail_client = Detail(TMDB_BEARER_TOKEN)\n",
    "\n",
    "# 3) Hilfsfunktion für einen einzelnen Movie-Call\n",
    "def fetch_countries(movie):\n",
    "    movie_id = movie[\"id\"]\n",
    "    info = detail_client.safe_get_movie_details(\n",
    "        movie_id,\n",
    "        retries=2,         # 1 Retry bei Fehler\n",
    "        delay=0.0          # kein Delay bei Erfolg\n",
    "    )\n",
    "    result = []\n",
    "    for c in info.get(\"production_countries\", []):\n",
    "        result.append({\n",
    "            \"movie_id\":     movie_id,\n",
    "            \"iso_3166_1\":   c.get(\"iso_3166_1\"),\n",
    "            \"country_name\": c.get(\"name\"),\n",
    "            \"title\": info.get(\"title\"),\n",
    "            \"original_title\": info.get(\"original_title\"),\n",
    "            \"popularity\": info.get(\"popularity\"),\n",
    "            \"vote_average\": info.get(\"vote_average\"),\n",
    "            \"release_date\": info.get(\"release_date\")\n",
    "        })\n",
    "    return result\n",
    "\n",
    "# 4) Starte ThreadPoolExecutor\n",
    "rows = []\n",
    "MAX_THREADS = 20  # 20 Threads → ~10–15 Requests/s, genug Spielraum unter 50/s\n",
    "with ThreadPoolExecutor(max_workers=MAX_THREADS) as executor:\n",
    "    futures = { executor.submit(fetch_countries, movie): movie[\"id\"]\n",
    "                for movie in unique_movies }\n",
    "\n",
    "    # tqdm zeigt Fortschritt für alle 10 000 Futures\n",
    "    for future in tqdm(as_completed(futures), total=len(futures),\n",
    "                       desc=\"Lade Details\", unit=\"film\"):\n",
    "        try:\n",
    "            countries = future.result()\n",
    "            if countries:\n",
    "                rows.extend(countries)\n",
    "        except Exception as e:\n",
    "            print(f\"Exception {e}\")\n",
    "            continue\n",
    "\n",
    "detail_client.close()\n",
    "\n",
    "# 5) Speichere rows (movie_id→country) in JSON\n",
    "import os, glob\n",
    "from datetime import date\n",
    "\n",
    "today    = date.today().isoformat()\n",
    "base_dir = \"./data/raw/fragestellung_03\"\n",
    "pattern  = f\"{today}_version*_all_details_to_top_10_000_movies.json\"\n",
    "\n",
    "existing = glob.glob(os.path.join(base_dir, pattern))\n",
    "versions = []\n",
    "for path in existing:\n",
    "    fn = os.path.basename(path)\n",
    "    ver_str = fn.split(\"_version\")[1].split(\"_\")[0]\n",
    "    versions.append(int(ver_str))\n",
    "new_version = max(versions) + 1 if versions else 1\n",
    "\n",
    "out_path = os.path.join(\n",
    "    base_dir,\n",
    "    f\"{today}_version{new_version}_all_details_to_top_10_000_movies.json\"\n",
    ")\n",
    "with open(out_path, \"w\", encoding=\"utf-8\") as f:\n",
    "    json.dump(rows, f, ensure_ascii=False, indent=2)\n",
    "\n",
    "print(f\"Saved {len(rows)} entries to {out_path}\")\n",
    "\n",
    "# 6) DataFrame und Anzeige\n"
   ]
  },
  {
   "cell_type": "markdown",
   "id": "d862e92bc1bb0f9d",
   "metadata": {},
   "source": [
    "### Eine simple Tabelle aller Daten mit DataFrame bereitstellen"
   ]
  },
  {
   "cell_type": "code",
   "execution_count": 49,
   "id": "d419c2710ad16dfd",
   "metadata": {
    "ExecuteTime": {
     "end_time": "2025-06-10T18:22:41.603022Z",
     "start_time": "2025-06-10T18:22:40.123660Z"
    }
   },
   "outputs": [
    {
     "name": "stdout",
     "output_type": "stream",
     "text": [
      "\n",
      "Movie -> Production Countries\n"
     ]
    },
    {
     "data": {
      "text/html": [
       "<div>\n",
       "<style scoped>\n",
       "    .dataframe tbody tr th:only-of-type {\n",
       "        vertical-align: middle;\n",
       "    }\n",
       "\n",
       "    .dataframe tbody tr th {\n",
       "        vertical-align: top;\n",
       "    }\n",
       "\n",
       "    .dataframe thead th {\n",
       "        text-align: right;\n",
       "    }\n",
       "</style>\n",
       "<table border=\"1\" class=\"dataframe\">\n",
       "  <thead>\n",
       "    <tr style=\"text-align: right;\">\n",
       "      <th></th>\n",
       "      <th>movie_id</th>\n",
       "      <th>iso_3166_1</th>\n",
       "      <th>country_name</th>\n",
       "      <th>title</th>\n",
       "      <th>original_title</th>\n",
       "      <th>popularity</th>\n",
       "      <th>vote_average</th>\n",
       "      <th>release_date</th>\n",
       "    </tr>\n",
       "  </thead>\n",
       "  <tbody>\n",
       "    <tr>\n",
       "      <th>0</th>\n",
       "      <td>1197306</td>\n",
       "      <td>GB</td>\n",
       "      <td>United Kingdom</td>\n",
       "      <td>A Working Man</td>\n",
       "      <td>A Working Man</td>\n",
       "      <td>226.3793</td>\n",
       "      <td>6.690</td>\n",
       "      <td>2025-03-26</td>\n",
       "    </tr>\n",
       "    <tr>\n",
       "      <th>1</th>\n",
       "      <td>1197306</td>\n",
       "      <td>US</td>\n",
       "      <td>United States of America</td>\n",
       "      <td>A Working Man</td>\n",
       "      <td>A Working Man</td>\n",
       "      <td>226.3793</td>\n",
       "      <td>6.690</td>\n",
       "      <td>2025-03-26</td>\n",
       "    </tr>\n",
       "    <tr>\n",
       "      <th>2</th>\n",
       "      <td>1232546</td>\n",
       "      <td>US</td>\n",
       "      <td>United States of America</td>\n",
       "      <td>Until Dawn</td>\n",
       "      <td>Until Dawn</td>\n",
       "      <td>109.4014</td>\n",
       "      <td>6.527</td>\n",
       "      <td>2025-04-23</td>\n",
       "    </tr>\n",
       "    <tr>\n",
       "      <th>3</th>\n",
       "      <td>676685</td>\n",
       "      <td>DK</td>\n",
       "      <td>Denmark</td>\n",
       "      <td>Panda Bear in Africa</td>\n",
       "      <td>Pandabeer in Afrika</td>\n",
       "      <td>54.5978</td>\n",
       "      <td>6.630</td>\n",
       "      <td>2024-03-15</td>\n",
       "    </tr>\n",
       "    <tr>\n",
       "      <th>4</th>\n",
       "      <td>676685</td>\n",
       "      <td>EE</td>\n",
       "      <td>Estonia</td>\n",
       "      <td>Panda Bear in Africa</td>\n",
       "      <td>Pandabeer in Afrika</td>\n",
       "      <td>54.5978</td>\n",
       "      <td>6.630</td>\n",
       "      <td>2024-03-15</td>\n",
       "    </tr>\n",
       "    <tr>\n",
       "      <th>...</th>\n",
       "      <td>...</td>\n",
       "      <td>...</td>\n",
       "      <td>...</td>\n",
       "      <td>...</td>\n",
       "      <td>...</td>\n",
       "      <td>...</td>\n",
       "      <td>...</td>\n",
       "      <td>...</td>\n",
       "    </tr>\n",
       "    <tr>\n",
       "      <th>13715</th>\n",
       "      <td>48938</td>\n",
       "      <td>HK</td>\n",
       "      <td>Hong Kong</td>\n",
       "      <td>Young and Dangerous 2</td>\n",
       "      <td>古惑仔2之猛龍過江</td>\n",
       "      <td>2.3356</td>\n",
       "      <td>6.500</td>\n",
       "      <td>1996-03-30</td>\n",
       "    </tr>\n",
       "    <tr>\n",
       "      <th>13716</th>\n",
       "      <td>859010</td>\n",
       "      <td>JP</td>\n",
       "      <td>Japan</td>\n",
       "      <td>Super Sentai Strongest Battle Director's Cut</td>\n",
       "      <td>スーパー戦隊最強バトル！！ ディレクターズカット版</td>\n",
       "      <td>1.6619</td>\n",
       "      <td>9.000</td>\n",
       "      <td>2019-07-10</td>\n",
       "    </tr>\n",
       "    <tr>\n",
       "      <th>13717</th>\n",
       "      <td>623520</td>\n",
       "      <td>CA</td>\n",
       "      <td>Canada</td>\n",
       "      <td>Z</td>\n",
       "      <td>Z</td>\n",
       "      <td>2.2901</td>\n",
       "      <td>6.600</td>\n",
       "      <td>2019-09-19</td>\n",
       "    </tr>\n",
       "    <tr>\n",
       "      <th>13718</th>\n",
       "      <td>10863</td>\n",
       "      <td>GB</td>\n",
       "      <td>United Kingdom</td>\n",
       "      <td>Eye of the Needle</td>\n",
       "      <td>Eye of the Needle</td>\n",
       "      <td>2.1598</td>\n",
       "      <td>6.600</td>\n",
       "      <td>1981-07-24</td>\n",
       "    </tr>\n",
       "    <tr>\n",
       "      <th>13719</th>\n",
       "      <td>10863</td>\n",
       "      <td>US</td>\n",
       "      <td>United States of America</td>\n",
       "      <td>Eye of the Needle</td>\n",
       "      <td>Eye of the Needle</td>\n",
       "      <td>2.1598</td>\n",
       "      <td>6.600</td>\n",
       "      <td>1981-07-24</td>\n",
       "    </tr>\n",
       "  </tbody>\n",
       "</table>\n",
       "<p>13720 rows × 8 columns</p>\n",
       "</div>"
      ],
      "text/plain": [
       "       movie_id iso_3166_1              country_name  \\\n",
       "0       1197306         GB            United Kingdom   \n",
       "1       1197306         US  United States of America   \n",
       "2       1232546         US  United States of America   \n",
       "3        676685         DK                   Denmark   \n",
       "4        676685         EE                   Estonia   \n",
       "...         ...        ...                       ...   \n",
       "13715     48938         HK                 Hong Kong   \n",
       "13716    859010         JP                     Japan   \n",
       "13717    623520         CA                    Canada   \n",
       "13718     10863         GB            United Kingdom   \n",
       "13719     10863         US  United States of America   \n",
       "\n",
       "                                              title  \\\n",
       "0                                     A Working Man   \n",
       "1                                     A Working Man   \n",
       "2                                        Until Dawn   \n",
       "3                              Panda Bear in Africa   \n",
       "4                              Panda Bear in Africa   \n",
       "...                                             ...   \n",
       "13715                         Young and Dangerous 2   \n",
       "13716  Super Sentai Strongest Battle Director's Cut   \n",
       "13717                                             Z   \n",
       "13718                             Eye of the Needle   \n",
       "13719                             Eye of the Needle   \n",
       "\n",
       "                  original_title  popularity  vote_average release_date  \n",
       "0                  A Working Man    226.3793         6.690   2025-03-26  \n",
       "1                  A Working Man    226.3793         6.690   2025-03-26  \n",
       "2                     Until Dawn    109.4014         6.527   2025-04-23  \n",
       "3            Pandabeer in Afrika     54.5978         6.630   2024-03-15  \n",
       "4            Pandabeer in Afrika     54.5978         6.630   2024-03-15  \n",
       "...                          ...         ...           ...          ...  \n",
       "13715                  古惑仔2之猛龍過江      2.3356         6.500   1996-03-30  \n",
       "13716  スーパー戦隊最強バトル！！ ディレクターズカット版      1.6619         9.000   2019-07-10  \n",
       "13717                          Z      2.2901         6.600   2019-09-19  \n",
       "13718          Eye of the Needle      2.1598         6.600   1981-07-24  \n",
       "13719          Eye of the Needle      2.1598         6.600   1981-07-24  \n",
       "\n",
       "[13720 rows x 8 columns]"
      ]
     },
     "execution_count": 49,
     "metadata": {},
     "output_type": "execute_result"
    }
   ],
   "source": [
    "import pandas as pd\n",
    "import json\n",
    "PATH_TO_DETAIL_DATA_JSON = \"./data/raw/fragestellung_03/2025-06-10_version1_all_details_to_top_10_000_movies.json\"\n",
    "with open(PATH_TO_DETAIL_DATA_JSON, \"r\") as file:\n",
    "    movie_details_data = json.load(file)\n",
    "\n",
    "df = pd.DataFrame(movie_details_data)\n",
    "print(\"\\nMovie -> Production Countries\")\n",
    "df"
   ]
  },
  {
   "cell_type": "markdown",
   "id": "2c81b2d699479b3e",
   "metadata": {},
   "source": [
    "### Geo-Daten extrahieren"
   ]
  },
  {
   "cell_type": "code",
   "execution_count": 51,
   "id": "806947e965c84aef",
   "metadata": {
    "ExecuteTime": {
     "end_time": "2025-06-18T13:12:40.756068Z",
     "start_time": "2025-06-18T13:12:40.485814Z"
    }
   },
   "outputs": [
    {
     "name": "stdout",
     "output_type": "stream",
     "text": [
      "GeoJSON Unterstützte Länder Codes： ['AFG', 'AGO', 'ALB', 'ARE', 'ARG', 'ARM', 'ATA', 'ATF', 'AUS', 'AUT', 'AZE', 'BDI', 'BEL', 'BEN', 'BFA', 'BGD', 'BGR', 'BHS', 'BIH', 'BLR', 'BLZ', 'BOL', 'BRA', 'BRN', 'BTN', 'BWA', 'CAF', 'CAN', 'CHE', 'CHL', 'CHN', 'CIV', 'CMR', 'COD', 'COG', 'COL', 'CRI', 'CUB', '-99', 'CYP', 'CZE', 'DEU', 'DJI', 'DNK', 'DOM', 'DZA', 'ECU', 'EGY', 'ERI', 'ESP', 'EST', 'ETH', 'FIN', 'FJI', 'FLK', 'FRA', 'GAB', 'GBR', 'GEO', 'GHA', 'GIN', 'GMB', 'GNB', 'GNQ', 'GRC', 'GRL', 'GTM', 'GUY', 'HND', 'HRV', 'HTI', 'HUN', 'IDN', 'IND', 'IRL', 'IRN', 'IRQ', 'ISL', 'ISR', 'ITA', 'JAM', 'JOR', 'JPN', 'KAZ', 'KEN', 'KGZ', 'KHM', 'KOR', '-99', 'KWT', 'LAO', 'LBN', 'LBR', 'LBY', 'LKA', 'LSO', 'LTU', 'LUX', 'LVA', 'MAR', 'MDA', 'MDG', 'MEX', 'MKD', 'MLI', 'MMR', 'MNE', 'MNG', 'MOZ', 'MRT', 'MWI', 'MYS', 'NAM', 'NCL', 'NER', 'NGA', 'NIC', 'NLD', 'NOR', 'NPL', 'NZL', 'OMN', 'PAK', 'PAN', 'PER', 'PHL', 'PNG', 'POL', 'PRI', 'PRK', 'PRT', 'PRY', 'QAT', 'ROU', 'RUS', 'RWA', '-99', 'SAU', 'SDN', 'SDS', 'SEN', 'SLB', 'SLE', 'SLV', '-99', 'SOM', 'SRB', 'SUR', 'SVK', 'SVN', 'SWE', 'SWZ', 'SYR', 'TCD', 'TGO', 'THA', 'TJK', 'TKM', 'TLS', 'TTO', 'TUN', 'TUR', 'TWN', 'TZA', 'UGA', 'UKR', 'URY', 'USA', 'UZB', 'VEN', 'VNM', 'VUT', 'PSE', 'YEM', 'ZAF', 'ZMB', 'ZWE']\n",
      "Anzahl Länder: 177\n"
     ]
    }
   ],
   "source": [
    "import requests\n",
    "\n",
    "url = 'https://raw.githubusercontent.com/python-visualization/folium/main/examples/data/world-countries.json'\n",
    "response = requests.get(url)\n",
    "world_geo = response.json()  # dict\n",
    "\n",
    "geo_ids = [feature['id'] for feature in world_geo['features']]\n",
    "print(\"GeoJSON Unterstützte Länder Codes：\", geo_ids)\n",
    "print(f\"Anzahl Länder: {len(geo_ids)}\")\n"
   ]
  },
  {
   "cell_type": "markdown",
   "id": "86ec77534390eecc",
   "metadata": {},
   "source": [
    "### Dashboard visualisierung"
   ]
  },
  {
   "cell_type": "code",
   "execution_count": 66,
   "id": "5e55952eb9c76cea",
   "metadata": {
    "ExecuteTime": {
     "end_time": "2025-06-18T13:16:41.069440Z",
     "start_time": "2025-06-18T13:16:40.153628Z"
    },
    "collapsed": true,
    "jupyter": {
     "outputs_hidden": true
    },
    "scrolled": true
   },
   "outputs": [
    {
     "name": "stdout",
     "output_type": "stream",
     "text": [
      "Optimierte Karte wurde gespeichert: ./movie_map_optimizedv2.html - im Browser öffnen zum Anschauen\n"
     ]
    }
   ],
   "source": [
    "import json\n",
    "import pandas as pd\n",
    "import pycountry\n",
    "import folium\n",
    "import requests\n",
    "\n",
    "# 1. JSON-Datei einlesen\n",
    "BASE = Path().resolve().parent\n",
    "file_path = BASE / \"data/raw/fragestellung_03/2025-06-10_version1_all_details_to_top_10_000_movies.json'\n",
    "with open(file_path, 'r', encoding='utf-8') as f:\n",
    "    movies = json.load(f)\n",
    "\n",
    "# 2. In DataFrame umwandeln\n",
    "df = pd.DataFrame(movies)\n",
    "\n",
    "# 3. Anzahl der Filme pro Land zählen, Ländercodes von alpha-2 auf alpha-3 umwandeln\n",
    "country_counts = df['iso_3166_1'].value_counts().reset_index()\n",
    "country_counts.columns = ['alpha_2', 'movie_count']\n",
    "\n",
    "def alpha2_to_alpha3(alpha2):\n",
    "    try:\n",
    "        return pycountry.countries.get(alpha_2=alpha2).alpha_3\n",
    "    except:\n",
    "        return None\n",
    "\n",
    "country_counts['alpha_3'] = country_counts['alpha_2'].apply(alpha2_to_alpha3)\n",
    "country_counts = country_counts.dropna(subset=['alpha_3'])\n",
    "\n",
    "# 4. Vereinfachtes Welt-GeoJSON laden (Natural Earth Version)\n",
    "geojson_url = 'https://raw.githubusercontent.com/johan/world.geo.json/master/countries.geo.json'\n",
    "response = requests.get(geojson_url)\n",
    "world_geo = response.json()\n",
    "\n",
    "# 5. Entfernen von Regionen mit ungewöhnlichen Grenzen (z.B. Antarktis)\n",
    "excluded_countries = ['USA']  # Beispiel: Antarktis ausschließen\n",
    "world_geo['features'] = [f for f in world_geo['features'] if f['id'] not in excluded_countries]\n",
    "\n",
    "# 6. Karte erstellen, Anzeige auf Nordamerika zentrieren und Zoom einstellen\n",
    "m = folium.Map(\n",
    "    location=[40, -100],  # Mitte USA\n",
    "    zoom_start=3,\n",
    "    max_bounds=True  # Kartenbegrenzung aktivieren, damit man nicht zu weit scrollt\n",
    ")\n",
    "\n",
    "# 7. Choropleth-Karte hinzufügen (Farbskala nach Filmanzahl)\n",
    "choropleth = folium.Choropleth(\n",
    "    geo_data=world_geo,\n",
    "    name='Filmverteilung nach Ländern',\n",
    "    data=country_counts,\n",
    "    columns=['alpha_3', 'movie_count'],\n",
    "    key_on='feature.id',  # Entspricht dem alpha-3 Code im GeoJSON\n",
    "    fill_color='YlGnBu',\n",
    "    fill_opacity=0.7,\n",
    "    line_opacity=0.3,\n",
    "    legend_name='Anzahl der Filme',\n",
    "    nan_fill_color='white'\n",
    ").add_to(m)\n",
    "\n",
    "# 8. Tooltip mit Ländername und Filmanzahl hinzufügen\n",
    "for feature in choropleth.geojson.data['features']:\n",
    "    alpha3 = feature['id']\n",
    "    count = country_counts.loc[country_counts['alpha_3'] == alpha3, 'movie_count']\n",
    "    feature['properties']['movie_count'] = int(count.values[0]) if not count.empty else 0\n",
    "\n",
    "folium.GeoJsonTooltip(\n",
    "    fields=['name', 'movie_count'],\n",
    "    aliases=['Land:', 'Anzahl Filme:'],\n",
    "    localize=True\n",
    ").add_to(choropleth.geojson)\n",
    "\n",
    "# 9. Layer Control hinzufügen (um zwischen Ebenen umzuschalten)\n",
    "folium.LayerControl().add_to(m)\n",
    "\n",
    "# 10. Karte als HTML speichern\n",
    "output_file = './movie_map_optimizedv2.html'\n",
    "m.save(output_file)\n",
    "print(f\"Optimierte Karte wurde gespeichert: {output_file} - im Browser öffnen zum Anschauen\")"
   ]
  },
  {
   "cell_type": "markdown",
   "id": "fcdb6239-8504-4d9c-a076-f2a49d4d7152",
   "metadata": {},
   "source": [
    "### Alternative Choroplethenkarte/Flächenkartogramm darstellung"
   ]
  },
  {
   "cell_type": "code",
   "execution_count": 106,
   "id": "0f6c9deb-412b-4e92-acf2-73baac31077d",
   "metadata": {},
   "outputs": [
    {
     "name": "stdout",
     "output_type": "stream",
     "text": [
      "Karte wurde erfolgreich gespeichert unter: /home/ehrmanns/code/01_python_code/01_studium_data_science/02_semester/03_informatik_mruzek-vering/02_Hausarbeit/Netflix_Data_Analysis/data/processed/fragestellung_03/netflix_produktionslaender_karte_final.html\n"
     ]
    }
   ],
   "source": [
    "# Importieren der notwendigen Bibliotheken\n",
    "import json\n",
    "from pathlib import Path\n",
    "import pandas as pd\n",
    "import pycountry\n",
    "import folium\n",
    "import requests\n",
    "import numpy as np\n",
    "\n",
    "# --- 1-5: DATENVORBEREITUNG (Diese Schritte sind korrekt und bleiben unverändert) ---\n",
    "BASE = Path().resolve().parent\n",
    "try:\n",
    "    file_path = BASE / \"data/raw/fragestellung_03/2025-06-10_version1_all_details_to_top_10_000_movies.json\"\n",
    "    with open(file_path, 'r', encoding='utf-8') as f:\n",
    "        data = json.load(f)\n",
    "except FileNotFoundError:\n",
    "    print(f\"FEHLER: Die Datei wurde nicht unter '{file_path.resolve()}' gefunden.\")\n",
    "    data = [{\"movie_id\": 1,\"iso_3166_1\": \"US\",\"country_name\": \"United States of America\"}, {\"movie_id\": 2,\"iso_3166_1\": \"HK\",\"country_name\": \"Hong Kong\"}]\n",
    "\n",
    "df = pd.DataFrame(data)[[\"movie_id\", \"iso_3166_1\", \"country_name\"]].dropna()\n",
    "df.columns = [\"movie_id\", \"alpha_2\", \"country_name\"]\n",
    "AGG_MAP = {\"HK\": \"CN\", \"MO\": \"CN\", \"PR\": \"US\"}\n",
    "df[\"alpha_2\"] = df[\"alpha_2\"].replace(AGG_MAP)\n",
    "try:\n",
    "    china_name = pycountry.countries.get(alpha_2='CN').name\n",
    "    df.loc[df['alpha_2'] == 'CN', 'country_name'] = china_name\n",
    "except (AttributeError, KeyError):\n",
    "    df.loc[df['alpha_2'] == 'CN', 'country_name'] = 'China'\n",
    "def to_alpha_3(a2):\n",
    "    try: return pycountry.countries.get(alpha_2=a2).alpha_3\n",
    "    except: return None\n",
    "df['alpha_3'] = df['alpha_2'].apply(to_alpha_3)\n",
    "df = df.dropna(subset=[\"alpha_3\"])\n",
    "country_counts = df.groupby(\"alpha_3\").agg(movie_count=('movie_id', 'nunique'), country_name=('country_name', 'first')).reset_index()\n",
    "WORLD_GEOJSON_URL = \"https://raw.githubusercontent.com/python-visualization/folium-example-data/main/world_countries.json\"\n",
    "world_geo = requests.get(WORLD_GEOJSON_URL).json()\n",
    "data_dict = country_counts.set_index('alpha_3').to_dict('index')\n",
    "\n",
    "# GeoJSON wird für die Tooltips angereichert.\n",
    "for feature in world_geo['features']:\n",
    "    country_id = feature['id']\n",
    "    country_data = data_dict.get(country_id)\n",
    "    if country_data:\n",
    "        feature['properties']['movie_count'] = country_data['movie_count']\n",
    "        feature['properties']['country_name'] = country_data['country_name']\n",
    "    else:\n",
    "        feature['properties']['movie_count'] = \"Keine Daten\"\n",
    "        feature['properties']['country_name'] = feature['properties']['name']\n",
    "\n",
    "\n",
    "# --- 6. KARTE ERSTELLEN (Stabiler und einfacher Ansatz) ---\n",
    "\n",
    "# Schritt 1: Erstelle die Basiskarte.\n",
    "# \"CartoDB Voyager\" hat blaue Ozeane UND Länderbezeichnungen. Dies ist die permanente Grundlage.\n",
    "m = folium.Map(location=[30, 0], zoom_start=2)\n",
    "\n",
    "\n",
    "# Schritt 2: Definiere die Spalten für die Datenbindung. Wichtig für den Tooltip.\n",
    "data_columns = [\"alpha_3\", \"movie_count\", \"country_name\"]\n",
    "\n",
    "\n",
    "# Schritt 3: Erstelle die Daten-Layer als schaltbare Overlays.\n",
    "# 'overlay=True' ist der Schlüssel, damit sie als Checkboxen erscheinen und die Karte nicht verdecken.\n",
    "\n",
    "# Layer \"Mit USA\"\n",
    "choropleth_with_usa = folium.Choropleth(\n",
    "    geo_data=world_geo, # Angereichertes GeoJSON für Tooltips\n",
    "    name=\"Anzahl Filme (mit USA)\",\n",
    "    data=country_counts,\n",
    "    columns=data_columns, # Wichtig, damit Tooltip auf 'country_name' zugreifen kann\n",
    "    key_on=\"feature.id\",\n",
    "    fill_color=\"Spectral\",\n",
    "    nan_fill_color=\"white\",  # Länder ohne Daten sind weiß\n",
    "    legend_name=\"Filme pro Land (mit USA)\",\n",
    "    overlay=True, # WICHTIG: Definiert dies als Overlay (Checkbox)\n",
    "    control=True,\n",
    "    show=True\n",
    ").add_to(m)\n",
    "\n",
    "# Tooltip für diesen Layer\n",
    "folium.GeoJsonTooltip(\n",
    "    fields=[\"country_name\", \"movie_count\"],\n",
    "    aliases=[\"Land:\", \"Anzahl Filme:\"],\n",
    "    sticky=True,\n",
    "    localize=True\n",
    ").add_to(choropleth_with_usa.geojson)\n",
    "\n",
    "# Layer \"Ohne USA\"\n",
    "cc_no_usa = country_counts[country_counts[\"alpha_3\"] != \"USA\"]\n",
    "choropleth_without_usa = folium.Choropleth(\n",
    "    geo_data=world_geo,\n",
    "    name=\"Anzahl Filme (ohne USA)\",\n",
    "    data=cc_no_usa,\n",
    "    columns=data_columns,\n",
    "    key_on=\"feature.id\",\n",
    "    fill_color=\"GnBu\",\n",
    "    nan_fill_color=\"white\", # Länder ohne Daten sind weiß\n",
    "    legend_name=\"Filme pro Land (ohne USA)\",\n",
    "    overlay=True, # WICHTIG: Definiert dies als Overlay (Checkbox)\n",
    "    control=True,\n",
    "    show=False\n",
    ").add_to(m)\n",
    "\n",
    "# Tooltip für diesen Layer\n",
    "folium.GeoJsonTooltip(\n",
    "    fields=[\"country_name\", \"movie_count\"],\n",
    "    aliases=[\"Land:\", \"Anzahl Filme:\"],\n",
    "    sticky=True,\n",
    "    localize=True\n",
    ").add_to(choropleth_without_usa.geojson)\n",
    "\n",
    "\n",
    "# Schritt 4: Füge die Layer-Steuerung hinzu.\n",
    "folium.LayerControl(collapsed=False).add_to(m)\n",
    "\n",
    "# --- 7. KARTE SPEICHERN ---\n",
    "output_dir = BASE / \"data\" / \"processed\" / \"fragestellung_03\"\n",
    "output_dir.mkdir(parents=True, exist_ok=True)\n",
    "output_path = output_dir / \"netflix_produktionslaender_karte_final.html\"\n",
    "\n",
    "m.save(output_path)\n",
    "print(f\"Karte wurde erfolgreich gespeichert unter: {output_path.resolve()}\")"
   ]
  },
  {
   "cell_type": "markdown",
   "id": "a7ce195b-c696-48b7-8a11-020912067f86",
   "metadata": {},
   "source": [
    "### Interpretation der Daten\n",
    "\n",
    "#### Auffälligkeiten:\n",
    "\n",
    "1. **Große Dominanz der USA bei der Filmproduktion**\n",
    "\n",
    "Bei der Analyse fällt sofort auf, dass die USA extrem viele Filme produzieren. Fast die Hälfte (ca. 45 %) der Netflix-Filme in unserer Stichprobe kommt aus den Vereinigten Staaten. Zum Vergleich: Das zweitplatzierte Großbritannien schafft es gerade mal auf knapp 9 %, und Japan liegt mit etwa 6 % noch etwas weiter dahinter. Diese Zahlen zeigen deutlich, wie stark Hollywood und amerikanische Studios den Netflix-Markt dominieren.\n",
    "\n",
    "2. **Starke Rolle asiatischer und europäischer Länder**\n",
    "\n",
    "Neben den USA spielen aber auch asiatische und europäische Länder eine wichtige Rolle. Besonders Japan, Südkorea, Indien und Hongkong fallen dabei positiv auf, was wahrscheinlich an der zunehmenden Popularität von Anime und K-Dramen liegt. Auch Europa ist stark vertreten: Großbritannien, Frankreich, Deutschland, Italien und Spanien produzieren zusammen etwa ein Fünftel aller Netflix-Filme. Das zeigt, dass Netflix international breit aufgestellt ist und viele Inhalte außerhalb der USA produziert.\n",
    "\n",
    "3. **Mögliche Schwachstellen in der Datenerhebung**\n",
    "\n",
    "Allerdings gibt es auch einige Schwachstellen in unserer Datenerhebung. Zum Beispiel könnte die hohe Anzahl amerikanischer Filme zum Teil auch daran liegen, dass die TMDb-Datenbank englischsprachige Blockbuster bevorzugt. Außerdem haben wir Filme mit mehreren Produktionsländern mehrfach gezählt, was Länder mit vielen Koproduktionen eventuell bevorteilt. Solche methodischen Probleme müssen wir bei der Interpretation der Ergebnisse berücksichtigen.\n",
    "\n"
   ]
  },
  {
   "cell_type": "markdown",
   "id": "e4438573-9fe2-41f2-a473-9c2413514dc7",
   "metadata": {},
   "source": [
    "![top10_netflix_production_countries](./images/top10_netflix_production_countries.png)"
   ]
  }
 ],
 "metadata": {
  "kernelspec": {
   "display_name": "Python 3.13.3",
   "language": "python",
   "name": "netflix_data_analysis"
  },
  "language_info": {
   "codemirror_mode": {
    "name": "ipython",
    "version": 3
   },
   "file_extension": ".py",
   "mimetype": "text/x-python",
   "name": "python",
   "nbconvert_exporter": "python",
   "pygments_lexer": "ipython3",
   "version": "3.13.3"
  },
  "toc-autonumbering": false,
  "toc-showmarkdowntxt": false,
  "widgets": {
   "application/vnd.jupyter.widget-state+json": {
    "state": {},
    "version_major": 2,
    "version_minor": 0
   }
  }
 },
 "nbformat": 4,
 "nbformat_minor": 5
}
