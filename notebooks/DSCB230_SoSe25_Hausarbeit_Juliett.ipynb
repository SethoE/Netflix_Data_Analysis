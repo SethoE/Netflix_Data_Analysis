{
 "cells": [
  {
   "cell_type": "markdown",
   "id": "59085cf8-0967-453b-b882-dc6d67beb7e7",
   "metadata": {},
   "source": [
    "**DSCB230 Sommersemester 2025**\n",
    "# Hausarbeit - Datenauswertung am Beispiel eines Business-Anwendungsfalls\n",
    "Data Science Portfolioprojekt"
   ]
  },
  {
   "cell_type": "markdown",
   "id": "cdcc7e8a-5a90-4dee-9c4e-cd8191efc2ef",
   "metadata": {},
   "source": [
    "## Lernziele\n",
    "Das Ziel dieser Hausarbeit ist der begleitete Aufbau eines Portfolios an Projekten. Eine überzeugende Arbeitsprobe ist für potenzielle Arbeitgeber ein wichtigeres Kriterium als der Lebenslauf.\n",
    "\n",
    "In diesem Modul lernen Sie, wie Sie Arbeitgeber mit Ihren Arbeitsproben im Bereich Data Analytics und Data Science überzeugen können und welche Schwerpunkte für Sie geeignet sind. Gemeinsam mit Ihrem Dozenten wählen Sie geeignete Datensätze und Fragestellungen aus. Anschließend erarbeiten Sie daraus einzeln oder in Kleingruppen ein Projekt für Ihr Bewerbungsportfolio.\n",
    "\n",
    "__Im Überblick:__\n",
    "\n",
    "1. Eigenständiges Auswählen und professionelles Umsetzen von Data-Analytics- und Data-Science-Projekten\n",
    "2. Strukturierte Umsetzung von Projekten\n",
    "3. Sammeln von Erfahrungen in der arbeitsteiligen Gruppenarbeit\n",
    "4. Erheben und Realisieren von Anforderungen\n",
    "5. Durchführen einer Datenauswertung\n",
    "6. Lokales Erzeugen und Veröffentlichen von Projekten\n",
    "7. Präsentieren von Ergebnissen und Diskussion unter Verwendung von Fachsprache (Kolloquium)\n"
   ]
  },
  {
   "cell_type": "markdown",
   "id": "28da700c-e714-447a-933a-1c67c1e4d169",
   "metadata": {},
   "source": [
    "## Lehrinhalte\n",
    "1. Gegenseitiges Kennenlernen\n",
    "2. Ablauf und Einblick in die Bausteine\n",
    "3. Auswahl eines Datenprojektes:\n",
    "    - Grundlagen guter Projekte\n",
    "    - Beispielprojekte in Data Analytics und Data Science\n",
    "    - Quellen geeigneter Datensätze\n",
    "    - Lizenzen von Datensätzen\n",
    "    - Aufwandsabschätzung von Datenprojekten\n",
    "4. Setup der Arbeitsumgebung\n",
    "    - Lokale Installation von Python und benötigten Modulen\n",
    "    - Einführung in Git\n",
    "    - Kurzeinführung in GitHub\n",
    "5. Strukturiertes Arbeiten in Datenteams\n",
    "    - Data Analytics Workflow\n",
    "    - Data Science Workflow\n",
    "4. Beginn der Portfolioarbeit\n",
    "    - Vorbereitung und Kick-off\n",
    "    - Einteilung in Teams und Zuweisung zu vorgeschlagenen Projekten\n",
    "    - Erstellen eines Projektplans und Verteilung der Aufgaben\n",
    "5. Strukturierte Umsetzung der Hausarbeit\n",
    "    - Sprint-Reviews\n",
    "    - Business Case eruieren\n",
    "    - Datenerfassung und Datenvorverarbeitung durchführen\n",
    "    - Analyse der Daten\n",
    "    - Datenvisualisierung\n",
    "    - Storytelling\n",
    "6. Präsentieren von Ergebnissen und Diskussion unter Verwendung von Fachsprache (Kolloquium)\n",
    "    - Abschluss der Projektarbeit\n",
    "    - Erzeugen der Abschlusspräsentation\n",
    "    - Halten der Abschlusspräsentation vor den anderen Teams und dem Dozent"
   ]
  },
  {
   "cell_type": "markdown",
   "id": "68929315-1123-471b-80ac-55dbe38d4575",
   "metadata": {},
   "source": [
    "## Ablauf im Überblick\n",
    "- Gruppeneinteilung\n",
    "- Kick-off\n",
    "- Statusmeetings\n",
    "- Präsentation der Ergebnisse inkl. Lessons Learned\n",
    "- Abgabe in ILIAS"
   ]
  },
  {
   "cell_type": "markdown",
   "id": "08a5d9d6-5ea3-4534-ac7f-418ca3dbbf6e",
   "metadata": {},
   "source": [
    "### Kick-off (Projekt-Start)\n",
    "\n",
    "Ziele: Lernziele besprechen. Erwartungen klarstellen. Durchführung besprechen."
   ]
  },
  {
   "metadata": {},
   "cell_type": "markdown",
   "source": [
    "### Lessons Learned (Projekt-Review)\n",
    "\n",
    "Ziele: Gewonnene Erkenntnisse für die Beurteilung der Arbeitsergebnisse festhalten.\n",
    "\n",
    "Vorbereitung: Die Gruppe setzt sich zusammen, um wertvolle Erfahrungen zu identifizieren, sie zu analysieren und aus ihnen zu lernen.\n",
    "\n",
    "__Leitfragen:__\n",
    "- Was waren die angenehmsten Dinge?\n",
    "- Welches Problem bzw. welche Probleme sind aufgetreten?\n",
    "- Wie wurde mit Problemen und Unklarheiten umgegangen?\n",
    "- Welche Lösung wurde verwendet?\n",
    "- Welche Probleme konnten, nach eigenem Ermessen, besonders gut gelöst werden?\n",
    "- Welche Ergebnisse der Datenauswertung waren überraschend?\n",
    "- Welche Erkenntnisse konnten durch die Datenauswertung gewonnen werden?\n",
    "- Welche ihrer Erwartungen an die Erkenntnisse der Datenauswertung weichen ab?\n",
    "- Wie bewerten Sie selbst ihre Ergebnisse?\n",
    "- Welche Erwartung an die Hausarbeit wurde nicht erfüllt?"
   ],
   "id": "0ddc70c6-3c59-425f-8263-79ca535a1962"
  },
  {
   "metadata": {},
   "cell_type": "markdown",
   "source": [
    "### Statusmeetings (Sprint-Reviews)\n",
    "\n",
    "Ziel: Es geht hauptsächlich um die Art und Weise der Zusammenarbeit, um Herausforderungen und Verbesserungsmöglichkeiten.\n",
    "\n",
    "__Leitfragen:__\n",
    "- Dinge, die gut gelungen sind.\n",
    "- Dinge, die weniger gut gelaufen sind.\n",
    "- Dinge, die man direkt stoppen sollte.\n",
    "- Aspekte, die man ausprobieren könnte."
   ],
   "id": "99ac9d8d-cd6f-4e4e-aaf7-3c7bc5d5dd38"
  },
  {
   "metadata": {},
   "cell_type": "markdown",
   "source": [
    "## Aufgabenstellung\n",
    "\n",
    "- Führen Sie eine Datenauswertung durch.\n",
    "- Orientieren Sie sich an den Beispielen und den Übungen aus der Vorlesung.\n",
    "- Dokumentieren Sie Ihre Arbeit in diesem Jupter Notebook. Abweichungen in andere Tools oder Anwendungen sind in Absprache mit dem Dozent möglich.\n",
    "- Verwenden Sie die [Markdown](https://www.markdownguide.org/cheat-sheet/)-Syntax, um Ihre Arbeit leserlich zu gestalten."
   ],
   "id": "a0786cf7-b241-4f10-a7af-08eb0a07b7f7"
  },
  {
   "cell_type": "markdown",
   "id": "54d1fd8f-461e-4d1a-bcee-c81d92ed488e",
   "metadata": {},
   "source": [
    "## Abschlusspräsentation\n",
    "\n",
    "- Termine, siehe Gruppeneinteilung\n",
    "- Dauer ca. 20 min\n",
    "- Ablauf:\n",
    "    - Gruppe präsentiert ihre Datenauswertung im Plenum\n",
    "    - Mündliche Wiedergabe der __vorbereiteten__ Lessons Learned\n",
    "    - Erstellung einer Komposition von 1-4 Abbildungen (400 x 400 px, .png) der aussagekräftigsten Visualisierungen für das Archiv der Hausarbeiten\n",
    "    - Upload aller Dokumete in ILIAS als Zip-Archiv mit der Bezeichnung `DSCB230_SoSe25_Hausarbeit_Gruppenname.zip`\n"
   ]
  },
  {
   "cell_type": "markdown",
   "id": "17e6b63f-2f04-4b47-bd44-dd5ea2832fd8",
   "metadata": {
    "tags": []
   },
   "source": [
    "## Bewertung\n",
    "\n",
    "Maximal 9 Punkte (10% der Klausurpunkte) als Startwert für die Klausur. Die Punkte erhalten alle Gruppenmitglieder. Sollte eine differenzierte Bewertung gewünscht sein, sprechen Sie bitte den Dozent an.\n",
    "\n",
    "__Kriterien:__\n",
    "\n",
    "| Nr. | Kategorie                                        | Bewertungskriterium                                                                                         |\n",
    "|----:|:-------------------------------------------------|:------------------------------------------------------------------------------------------------------------|\n",
    "|  1  | Teamarbeit und Organisation                      | Aufgabenaufteilung                                                                                          |\n",
    "|  2  | Teamarbeit und Organisation                      | Domänenwissen                                                                                               |\n",
    "|  3  | Teamarbeit und Organisation                      | Fachsprache + Fachbegriffe                                                                                  |\n",
    "|  4  | Teamarbeit und Organisation                      | Lessons Learned                                                                                             |\n",
    "|  5  | Teamarbeit und Organisation                      | Nächste Schritte                                                                                            |\n",
    "|  6  | Teamarbeit und Organisation                      | Projektorganisation                                                                                         |\n",
    "|  7  | Teamarbeit und Organisation                      | Teamfähigkeit                                                                                               |\n",
    "|  8  | Struktur und Organisation                        | Gliederung: Ist die Arbeit sinnvoll gegliedert und folgen die Abschnitte einer klaren Struktur?             |\n",
    "|  9  | Struktur und Organisation                        | Klarheit und Verständlichkeit: Ist die Hausarbeit klar und verständlich geschrieben?                        |\n",
    "| 10  | Struktur und Organisation                        | Kohärenz und Logik: Wie gut sind die Argumente strukturiert und logisch aufgebaut?                          |\n",
    "| 11  | Struktur und Organisation                        | Zielgerichtetheit: Sind die Ziele der Arbeit klar definiert und erreicht?                                   |\n",
    "| 12  | Technische Aspekte der Datenverarbeitung und -analyse | Ausreisseridentifikation                                                                               |\n",
    "| 13  | Technische Aspekte der Datenverarbeitung und -analyse | Beachtung der Vorlage (.ipynb)                                                                         |\n",
    "| 14  | Technische Aspekte der Datenverarbeitung und -analyse | Data Cleaning                                                                                          |\n",
    "| 15  | Technische Aspekte der Datenverarbeitung und -analyse | Data Engineering                                                                                       |\n",
    "| 16  | Technische Aspekte der Datenverarbeitung und -analyse | Datenaktualität (Reload/Refresh)                                                                       |\n",
    "| 17  | Technische Aspekte der Datenverarbeitung und -analyse | Datenanalyse (Plots, Dashboard, etc.)                                                                  |\n",
    "| 18  | Technische Aspekte der Datenverarbeitung und -analyse | Datenanalyse inkl. Interaktion, Filter                                                                 |\n",
    "| 19  | Technische Aspekte der Datenverarbeitung und -analyse | Datenvisualisierung                                                                                    |\n",
    "| 20  | Technische Aspekte der Datenverarbeitung und -analyse | Fragestellung + Findings                                                                               |\n",
    "| 21  | Technische Aspekte der Datenverarbeitung und -analyse | Python Bibliotheken                                                                                    |\n",
    "| 22  | Kommunikation und Präsentation                  | Argumentationsfähigkeit                                                                                      |\n",
    "| 23  | Kommunikation und Präsentation                  | Erklärungsfähigkeit                                                                                          |\n",
    "| 24  | Kommunikation und Präsentation                  | Medienkompetenz Präsentation                                                                                 |\n",
    "| 25  | Kommunikation und Präsentation                  | Storytelling                                                                                                 |\n",
    "| 26  | Inhaltliche Qualität                            | Literaturrecherche: Wie gut ist die relevante Literatur recherchiert und eingebunden?                        |\n",
    "| 27  | Inhaltliche Qualität                            | Methodik: Angemessenheit und Korrektheit der gewählten Methoden zur Datenanalyse.                            |\n",
    "| 28  | Inhaltliche Qualität                            | Originalität der Fragestellung: Ist die Fragestellung innovativ und relevant?                                |\n",
    "| 29  | Inhaltliche Qualität                            | Tiefe der Analyse: Wie detailliert und fundiert ist die Analyse der Daten?                                   |\n",
    "| 30  | Präsentationsqualität                           | Präsentationsstil: Wie gut ist der Vortragsstil? Z.B. Sprechgeschwindigkeit, Betonung, Körperhaltung.        |\n",
    "| 31  | Präsentationsqualität                           | Publikumsinteraktion: Fähigkeit, auf Fragen und Rückmeldungen des Publikums einzugehen.                      |\n",
    "| 32  | Präsentationsqualität                           | Visuelle Hilfsmittel: Nutzung und Qualität von Präsentationsfolien und anderen visuellen Hilfsmitteln.       |\n",
    "| 33  | Präsentationsqualität                           | Zeitmanagement: Einhaltung der vorgegebenen Präsentationszeit.                                               |\n",
    "| 34  | Sprachliche und stilistische Aspekte            | Formale Anforderungen: Einhaltung von Zitierregeln, Formatvorgaben und wissenschaftlichem Schreibstil.       |\n",
    "| 35  | Sprachliche und stilistische Aspekte            | Sprachqualität: Rechtschreibung, Grammatik und Stil.                                                         |\n",
    "| 36  | Reflexion und Weiterentwicklung                 | Selbstreflexion: Fähigkeit, die eigene Arbeit kritisch zu reflektieren.                                      |\n",
    "| 37  | Reflexion und Weiterentwicklung                 | Weiterentwicklungspotenzial: Vorschläge für zukünftige Forschung oder Projektentwicklungen.                  |\n"
   ]
  },
  {
   "cell_type": "markdown",
   "id": "6568db5d-3f71-476b-8a65-2c4ae6c0d625",
   "metadata": {},
   "source": [
    "## Vorlage für Ihr Jupyter Notebook\n",
    "Sie können die folgende Inhaltsstruktur verwenden oder sich daran orientieren. Kopieren Sie den Inhalt in ein neues Jupyter Notebook."
   ]
  },
  {
   "cell_type": "markdown",
   "id": "aaec91a7-5b05-44c0-98f0-7f73a9461f89",
   "metadata": {},
   "source": [
    "**DSCB230 Sommersemester 2025**\n",
    "\n",
    "# Titel: Analyse von Netflix\n",
    "## – Nutzerverhalten und Angebot (Genres, Beliebtheit, Veröffentlichungsdatum, Verfügbarkeit)"
   ]
  },
  {
   "cell_type": "markdown",
   "id": "69b205aa-24e5-4d1a-a410-9cebab4c0844",
   "metadata": {},
   "source": [
    "Gruppe | Studierende 1   | Studierende 2  | Studierende 3 |\n",
    "------ |-----------------|----------------| ------ |\n",
    "`Gruppenname` | `Vorname Name`  | `Vorname Name` | `Vorname Name` |\n",
    "`Juliett` | `Setho Ehrmann` | `Enyan Xia`    |"
   ]
  },
  {
   "cell_type": "markdown",
   "id": "1f379b61-3b1f-469a-a873-5021229aa033",
   "metadata": {},
   "source": [
    "## Business Case"
   ]
  },
  {
   "metadata": {},
   "cell_type": "markdown",
   "source": [
    "Ziel unseres Projekts ist es, Filme und Serien die Netflix anbietet, zu analysieren und Zusammenhänge und mögliche Korrelationen in diesem Kontext festzustellen. Wichtig zu beachten ist, dass Netflix spezifische Informationen wie Nutzerverhalten, oder Ranking der Filme/Serien für uns nicht öffentlich verfügbar ist und deshalb würden wir diese Informationen mit externen Datenquellen ersetzen.\n",
    "Bezug auf das Angebot an Filmen und Serien zu analysieren. Dabei möchten wir untersuchen, ob sich bestimmte Muster hinsichtlich\n",
    "Genre, Beliebtheit, Veröffentlichungsdatum oder Streaming-Verfügbarkeit erkennen lassen, und wie diese mit dem Verhalten oder den Präferenzen der Nutzer korrelieren könnten."
   ],
   "id": "a74538b4f218062a"
  },
  {
   "cell_type": "markdown",
   "id": "903810eb-3de1-4efc-8167-1dfe6584e5ac",
   "metadata": {},
   "source": [
    "## Fragestellungen 1:\n",
    "\n",
    "1. Welche Serien auf Netflix sind aktuell am beliebtesten?\n",
    "2. In welchen Ländern werden die meisten Netflix Filme/Serien angeboten (Top 10)?"
   ]
  },
  {
   "cell_type": "markdown",
   "id": "ec75d1c5-3c7b-4488-8db6-c003a3cde4ed",
   "metadata": {},
   "source": "### Datenerfassung und Datenvorverarbeitung"
  },
  {
   "metadata": {},
   "cell_type": "markdown",
   "source": [
    "### Fragestellung:\n",
    "### 1. Welche Serien auf Netflix sind aktuell am beliebtesten (Top 10)?"
   ],
   "id": "79734d70fab97017"
  },
  {
   "metadata": {
    "ExecuteTime": {
     "end_time": "2025-04-27T13:20:26.457504Z",
     "start_time": "2025-04-27T13:20:26.080576Z"
    }
   },
   "cell_type": "code",
   "source": [
    "import pandas as pd\n",
    "from config.config import TMDB_BEARER_TOKEN, TMDB_API_KEY\n",
    "from tmdb.discover import Discover\n",
    "BEARER_TOKEN = TMDB_BEARER_TOKEN # access token\n",
    "\n",
    "discover = Discover(BEARER_TOKEN)\n",
    "\n",
    "response = discover.get_movies()\n",
    "discover.close() # Close connection\n",
    "\n",
    "movies = response[\"results\"]\n",
    "df_movies = pd.DataFrame(movies)\n",
    "# Get top 10 movies\n",
    "top_10_movies = df_movies[[\"title\", \"popularity\", \"vote_average\"]].head(10)\n",
    "# Add ranking from 1 to 10\n",
    "top_10_movies.index = range(1, 11)\n",
    "\n",
    "print(top_10_movies)\n",
    "\n"
   ],
   "id": "9ecdd5b61660c325",
   "outputs": [
    {
     "name": "stdout",
     "output_type": "stream",
     "text": [
      "                            title  popularity  vote_average\n",
      "1          Bullet Train Explosion    352.3333         6.400\n",
      "2                           Havoc    497.0919         6.755\n",
      "3          Spider-Man: Homecoming    110.0856         7.331\n",
      "4                        iHostage     83.6155         6.110\n",
      "5                            Deva     75.7272         6.100\n",
      "6                   Counterattack     71.7856         8.378\n",
      "7   Transformers: The Last Knight     80.0067         6.053\n",
      "8                  The Karate Kid     66.8263         6.546\n",
      "9          Underworld: Blood Wars     67.0134         5.900\n",
      "10                         Amaran     52.0752         7.372\n"
     ]
    }
   ],
   "execution_count": 3
  },
  {
   "metadata": {},
   "cell_type": "markdown",
   "source": "![Torwart](./images/top10_en_global_films__0_square.jpg)",
   "id": "501b09ff2dd7bad1"
  },
  {
   "cell_type": "markdown",
   "id": "ff9815a5-47fb-4234-8b82-f11f28ac15d7",
   "metadata": {},
   "source": "### Analyse der Daten"
  },
  {
   "cell_type": "markdown",
   "id": "508ffc83-a105-4a99-863b-36962f17f30c",
   "metadata": {},
   "source": "Die Beliebtheit der Filme in TMDb korrelieren nicht mit den Filmen oder Serien auf Netflix. Wir haben überprüft, ob die Top-10 Filme auf TMDb sich mit den von Netflix Top-10 übereinstimmen über der offiziellen Seite (https://www.netflix.com/tudum/top10). Es hat sich herausgestellt, dass es keine Korrelation zwischen diesen Daten gab."
  },
  {
   "cell_type": "markdown",
   "id": "2899c25b-ea8e-4a36-be86-b9dc9368f6b3",
   "metadata": {},
   "source": [
    "### Lessons Learned 01 - Erster Datenzugriff auf Netflix-Inhalte über TMDb API\n",
    "Wir sollten JustWatch API für echtzeitige Länderverfügbarkeitsdaten bevorzugen, ergänzt durch TMDb für Metadaten. Web-Scraping der Netflix Daten geht nicht (rechtliche Risiken). Mögliche wären auch UnoGS über RapidAPI für Netflix-spezifische Daten, jedoch kosten diese Dienste Geld.\n",
    "1. Daten sind nicht immer aktuell oder einschränkungsfrei\n",
    "2. Regionale Einschränkungen sind entscheidend\n",
    "3. Die Bedeutung von präzisen API-Filtern\n",
    "4. Massendaten erfordern effizientes Vorgehen\n",
    "5. Daten verstehen kommt vor Daten analysieren"
   ]
  },
  {
   "metadata": {
    "ExecuteTime": {
     "end_time": "2025-04-30T11:53:36.919592Z",
     "start_time": "2025-04-30T11:53:36.198106Z"
    }
   },
   "cell_type": "code",
   "source": [
    "import pandas as pd\n",
    "from config.config import TMDB_BEARER_TOKEN, TMDB_API_KEY\n",
    "from tmdb.discover import Discover\n",
    "\n",
    "BEARER_TOKEN = TMDB_BEARER_TOKEN # access token\n",
    "\n",
    "discover = Discover(TMDB_BEARER_TOKEN)\n",
    "\n",
    "all_serien_nach_einkommen_sortiert = discover.get_movies(sort_by=\"revenue.asc\")\n",
    "\n",
    "\n",
    "df_movies = pd.DataFrame(all_serien_nach_einkommen_sortiert[\"results\"])\n",
    "# Get top 10 movies\n",
    "top_10_movies = df_movies[[\"original_language\", \"title\", \"popularity\", \"vote_average\"]].head(10)\n",
    "# Add ranking from 1 to 10\n",
    "top_10_movies.index = range(1, 11)\n",
    "\n",
    "print(top_10_movies)\n",
    "\n"
   ],
   "id": "abaa02764089d981",
   "outputs": [
    {
     "name": "stdout",
     "output_type": "stream",
     "text": [
      "   original_language                                              title  \\\n",
      "1                 ja                                          ゴジラ-1.0／C   \n",
      "2                 en                                 What Are the Odds?   \n",
      "3                 en                        Tim Dillon: I'm Your Mother   \n",
      "4                 en                                   A Queen’s Runway   \n",
      "5                 en                                       The Platform   \n",
      "6                 en  Behind the Curtain: Stranger Things: The First...   \n",
      "7                 en             Oklahoma City Bombing: American Terror   \n",
      "8                 en                       Kill Tony: Kill or Be Killed   \n",
      "9                 it                                 Making The Leopard   \n",
      "10                en                                  Meet the Khumalos   \n",
      "\n",
      "    popularity  vote_average  \n",
      "1       0.0338         0.000  \n",
      "2       0.1844         0.000  \n",
      "3       2.8225         5.750  \n",
      "4       2.3033         7.000  \n",
      "5       0.3497         0.000  \n",
      "6       7.6817         8.000  \n",
      "7       7.6981         7.333  \n",
      "8       6.1626         6.375  \n",
      "9       0.7414         0.000  \n",
      "10     30.0560         5.292  \n"
     ]
    }
   ],
   "execution_count": 6
  },
  {
   "metadata": {},
   "cell_type": "markdown",
   "source": [
    "## Fragestellung 2:\n",
    "### 2. Wie unterscheiden sich die durchschnittlichen TMDb-Bewertungen, zu Netflix Filmen, von Spielfilm-Genres in Europa zwischen 2010 und 2024"
   ],
   "id": "9fbaaadd38fea3a5"
  },
  {
   "metadata": {},
   "cell_type": "markdown",
   "source": "#### Alle Europäischen Länderkürzel bekommen",
   "id": "aeaa116a21be4c0a"
  },
  {
   "metadata": {
    "ExecuteTime": {
     "end_time": "2025-05-18T11:21:50.936358Z",
     "start_time": "2025-05-18T11:21:50.921444Z"
    }
   },
   "cell_type": "code",
   "source": [
    "# Open the file in read mode\n",
    "path_to_countries_file = \"./data/raw/european_countries.txt\"\n",
    "path_to_save_all_country_codes = \"./data/processed/all_european_country_codes.txt\"\n",
    "all_european_country_codes = []\n",
    "with open(path_to_countries_file, 'r', encoding=\"utf-8\") as file:\n",
    "    # Read each line in the file\n",
    "    for line in file:\n",
    "        # Print each line\n",
    "        all_european_country_codes.append(line.strip().split(\" – \")[0])\n",
    "\n",
    "print(all_european_country_codes)\n",
    "with open(path_to_save_all_country_codes, \"w\") as file:\n",
    "    file.write(\"\\n\".join(all_european_country_codes))\n",
    "\n",
    "\n",
    "\n"
   ],
   "id": "1fddf83565681c87",
   "outputs": [
    {
     "name": "stdout",
     "output_type": "stream",
     "text": [
      "['AL', 'AD', 'AM', 'AT', 'AZ', 'BA', 'BE', 'BG', 'BY', 'CH', 'CY', 'CZ', 'DE', 'DK', 'EE', 'ES', 'FI', 'FR', 'GB', 'GE', 'GR', 'HR', 'HU', 'IE', 'IS', 'IT', 'KZ', 'LI', 'LT', 'LU', 'LV', 'MC', 'MD', 'ME', 'MK', 'MT', 'NL', 'NO', 'PL', 'PT', 'RO', 'RS', 'RU', 'SE', 'SI', 'SK', 'SM', 'TR', 'UA', 'VA']\n"
     ]
    }
   ],
   "execution_count": 5
  },
  {
   "metadata": {},
   "cell_type": "markdown",
   "source": "#### Validieren das alle EU-Länderkürzel in der TMDB API enthalten sind",
   "id": "5a42b6f62a9ec2a8"
  },
  {
   "metadata": {
    "ExecuteTime": {
     "end_time": "2025-05-19T10:52:00.267383Z",
     "start_time": "2025-05-19T10:52:00.066183Z"
    }
   },
   "cell_type": "code",
   "source": [
    "import pandas as pd\n",
    "from config.config import TMDB_BEARER_TOKEN, TMDB_API_KEY\n",
    "from tmdb.discover import Discover\n",
    "from tmdb.configuration import Configuration\n",
    "\n",
    "PATH_TO_PROCESSED_EUROPAN_COUNTRIES = \"./data/processed/all_european_country_codes.txt\"\n",
    "BEARER_TOKEN = TMDB_BEARER_TOKEN # access token\n",
    "\n",
    "configuration = Configuration(TMDB_BEARER_TOKEN)\n",
    "all_countries = configuration.get_countries()\n",
    "\n",
    "all_european_country_codes = []\n",
    "with open(PATH_TO_PROCESSED_EUROPAN_COUNTRIES, \"r\") as file:\n",
    "    all_european_country_codes = file.read().splitlines()\n",
    "\n",
    "\n",
    "counter = 0\n",
    "for country in all_countries:\n",
    "    if country[\"iso_3166_1\"] not in all_european_country_codes:\n",
    "        pass\n",
    "    else:\n",
    "        counter += 1\n",
    "\n",
    "print(f\"Found {counter} of {len(all_european_country_codes)} countries in TMDB API\")"
   ],
   "id": "8dcc08aa4baa8b9c",
   "outputs": [
    {
     "name": "stdout",
     "output_type": "stream",
     "text": [
      "Found 45 of 45 countries in TMDB API\n"
     ]
    }
   ],
   "execution_count": 23
  },
  {
   "metadata": {},
   "cell_type": "markdown",
   "source": "#### Alle Top 100 Filme in Europa (2010-2024) holen\n",
   "id": "310806c06f17b9d0"
  },
  {
   "metadata": {
    "ExecuteTime": {
     "end_time": "2025-05-31T10:05:37.989584Z",
     "start_time": "2025-05-31T10:05:37.950554Z"
    }
   },
   "cell_type": "code",
   "source": [
    "import pandas as pd\n",
    "from config.config import TMDB_BEARER_TOKEN, TMDB_API_KEY\n",
    "from tmdb.discover import Discover\n",
    "from tmdb.configuration import Configuration\n",
    "import json\n",
    "import os\n",
    "import glob\n",
    "from datetime import date\n",
    "\n",
    "PATH_TO_PROCESSED_EUROPAN_COUNTRIES = \"./data/processed/all_european_country_codes.txt\"\n",
    "BEARER_TOKEN = TMDB_BEARER_TOKEN # access token\n",
    "\n",
    "# Variables for file formatting\n",
    "today = date.today().isoformat()\n",
    "base_dir = \"./data/raw/fragestellung_02\"\n",
    "pattern = f\"{today}_version*_all_european_movies.json\"\n",
    "\n",
    "\n",
    "all_european_country_codes = []\n",
    "with open(PATH_TO_PROCESSED_EUROPAN_COUNTRIES, \"r\") as file:\n",
    "    all_european_country_codes = file.read().splitlines()\n",
    "\n",
    "discover = Discover(TMDB_BEARER_TOKEN)\n",
    "all_movies = []\n",
    "\n",
    "# Years to consider\n",
    "START_YEAR = 1980\n",
    "END_YEAR = 2025\n",
    "\n",
    "years = list(range(START_YEAR, END_YEAR))  # 2010 bis 2024\n",
    "pages_per_year = 5\n",
    "total_requests = len(all_european_country_codes) * len(years) * pages_per_year\n",
    "current = 0\n",
    "\n",
    "for country in all_european_country_codes:\n",
    "    for year in range(START_YEAR, END_YEAR):\n",
    "        for page in range(1, 6):  # Top 100 pro Jahr (20 Filme pro Seite)\n",
    "            params = {\n",
    "                \"with_watch_providers\": \"8|175|1796\",\n",
    "                \"primary_release_date.gte\": f\"{year}-01-01\",\n",
    "                \"primary_release_date.lte\": f\"{year}-12-31\",\n",
    "                \"vote_count.gte\": 10,\n",
    "                \"page\": page\n",
    "            }\n",
    "            response = discover.safe_get_movies(watch_region=country, sort_by=\"popularity.desc\", params=params, delay=0.1)\n",
    "            all_movies.extend(response[\"results\"])\n",
    "\n",
    "             # Fortschritt aktualisieren\n",
    "            current += 1\n",
    "            percent = (current / total_requests) * 100\n",
    "            print(f\"\\rProgress: {current}/{total_requests} ({percent:.1f}%)\", end=\"\")\n",
    "\n",
    "discover.close() # Close connection.\n",
    "\n",
    "# 1) Finde alle existierenden Dateien für heute\n",
    "existing = glob.glob(os.path.join(base_dir, pattern))\n",
    "\n",
    "# 2) Extrahiere die Versionsnummern\n",
    "versions = []\n",
    "for path in existing:\n",
    "    # filename z.B. '2025-05-20_version3_all_european_movies.json'\n",
    "    filename = os.path.basename(path)\n",
    "    # Splitten auf '_version' und dann vor dem nächsten '_' abschneiden\n",
    "    ver_str = filename.split(\"_version\")[1].split(\"_\")[0]\n",
    "    try:\n",
    "        versions.append(int(ver_str))\n",
    "    except ValueError:\n",
    "        pass\n",
    "\n",
    "# 3) Neue Version\n",
    "new_version = max(versions) + 1 if versions else 1\n",
    "\n",
    "# 4) Pfad zusammensetzen und Datei speichern\n",
    "out_path = os.path.join(\n",
    "    base_dir,\n",
    "    f\"{today}_version{new_version}_all_european_movies.json\"\n",
    ")\n",
    "\n",
    "# Beispiel: all_movies enthält deine Daten\n",
    "with open(out_path, \"w\", encoding=\"utf-8\") as f:\n",
    "    json.dump(all_movies, f, ensure_ascii=False, indent=2)\n",
    "\n",
    "print(f\"Saved {len(all_movies)} records to {out_path}\")"
   ],
   "id": "71ab28d2908f7848",
   "outputs": [],
   "execution_count": 3
  },
  {
   "metadata": {},
   "cell_type": "markdown",
   "source": "#### Datenverarbeitung aller filme: Ziel ist die Gruppierung der Filme nach genre und die durchschnittliche Bewertung pro Genre pro Jahr",
   "id": "b871b67673e33fa9"
  },
  {
   "metadata": {
    "ExecuteTime": {
     "end_time": "2025-05-21T11:31:01.236220Z",
     "start_time": "2025-05-21T11:30:59.987363Z"
    }
   },
   "cell_type": "code",
   "source": [
    "import json\n",
    "import pandas as pd\n",
    "PATH_TO_ALL_COUNTRY_MOVIES = \"./data/raw/fragestellung_02/2025-05-19_version1_all_european_movies.json\"\n",
    "\n",
    "\n",
    "with open(PATH_TO_ALL_COUNTRY_MOVIES, \"r\") as file:\n",
    "    all_movies = json.load(file)\n",
    "\n",
    "# Filter all_movie, wenn die film id mehr als ein mal vorkommt. Das wird gemacht indem das erste vorkommen des films gehalten wird und alle anderen entfernt werden.\n",
    "all_movies = [next(movie for movie in all_movies if movie[\"id\"] == id) for id in set([movie[\"id\"] for movie in all_movies])]\n",
    "print(f\"Found {len(all_movies)} unique movies\")\n",
    "\n",
    "\n",
    "# 2) DataFrame bauen\n",
    "df = pd.DataFrame(all_movies)\n",
    "df[\"release_date\"] = pd.to_datetime(df[\"release_date\"]).dt.year\n",
    "\n",
    "# 4) Jeden Film pro Genre aufsplitten (\"explode\")\n",
    "df = df.explode(\"genre_ids\")\n",
    "\n",
    "# 6) Gruppieren nach (year, genre_id) und Durchschnitt berechnen\n",
    "df_grouped = (\n",
    "    df\n",
    "    .groupby([\"release_date\", \"genre_ids\"])[\"vote_average\"]\n",
    "    .mean()\n",
    "    .reset_index(name=\"avg_rating\")\n",
    ")\n",
    "\n",
    "df_grouped\n"
   ],
   "id": "dc78c222a829d03e",
   "outputs": [
    {
     "name": "stdout",
     "output_type": "stream",
     "text": [
      "Found 1289 unique movies\n"
     ]
    },
    {
     "data": {
      "text/plain": [
       "     release_date  genre_ids  avg_rating\n",
       "0            2010         12    6.329667\n",
       "1            2010         14    6.434200\n",
       "2            2010         16    6.650000\n",
       "3            2010         18    6.365889\n",
       "4            2010         27    5.758333\n",
       "..            ...        ...         ...\n",
       "261          2024       9648    6.104750\n",
       "262          2024      10402    6.665000\n",
       "263          2024      10749    6.767444\n",
       "264          2024      10751    7.001692\n",
       "265          2024      10752    7.240000\n",
       "\n",
       "[266 rows x 3 columns]"
      ],
      "text/html": [
       "<div>\n",
       "<style scoped>\n",
       "    .dataframe tbody tr th:only-of-type {\n",
       "        vertical-align: middle;\n",
       "    }\n",
       "\n",
       "    .dataframe tbody tr th {\n",
       "        vertical-align: top;\n",
       "    }\n",
       "\n",
       "    .dataframe thead th {\n",
       "        text-align: right;\n",
       "    }\n",
       "</style>\n",
       "<table border=\"1\" class=\"dataframe\">\n",
       "  <thead>\n",
       "    <tr style=\"text-align: right;\">\n",
       "      <th></th>\n",
       "      <th>release_date</th>\n",
       "      <th>genre_ids</th>\n",
       "      <th>avg_rating</th>\n",
       "    </tr>\n",
       "  </thead>\n",
       "  <tbody>\n",
       "    <tr>\n",
       "      <th>0</th>\n",
       "      <td>2010</td>\n",
       "      <td>12</td>\n",
       "      <td>6.329667</td>\n",
       "    </tr>\n",
       "    <tr>\n",
       "      <th>1</th>\n",
       "      <td>2010</td>\n",
       "      <td>14</td>\n",
       "      <td>6.434200</td>\n",
       "    </tr>\n",
       "    <tr>\n",
       "      <th>2</th>\n",
       "      <td>2010</td>\n",
       "      <td>16</td>\n",
       "      <td>6.650000</td>\n",
       "    </tr>\n",
       "    <tr>\n",
       "      <th>3</th>\n",
       "      <td>2010</td>\n",
       "      <td>18</td>\n",
       "      <td>6.365889</td>\n",
       "    </tr>\n",
       "    <tr>\n",
       "      <th>4</th>\n",
       "      <td>2010</td>\n",
       "      <td>27</td>\n",
       "      <td>5.758333</td>\n",
       "    </tr>\n",
       "    <tr>\n",
       "      <th>...</th>\n",
       "      <td>...</td>\n",
       "      <td>...</td>\n",
       "      <td>...</td>\n",
       "    </tr>\n",
       "    <tr>\n",
       "      <th>261</th>\n",
       "      <td>2024</td>\n",
       "      <td>9648</td>\n",
       "      <td>6.104750</td>\n",
       "    </tr>\n",
       "    <tr>\n",
       "      <th>262</th>\n",
       "      <td>2024</td>\n",
       "      <td>10402</td>\n",
       "      <td>6.665000</td>\n",
       "    </tr>\n",
       "    <tr>\n",
       "      <th>263</th>\n",
       "      <td>2024</td>\n",
       "      <td>10749</td>\n",
       "      <td>6.767444</td>\n",
       "    </tr>\n",
       "    <tr>\n",
       "      <th>264</th>\n",
       "      <td>2024</td>\n",
       "      <td>10751</td>\n",
       "      <td>7.001692</td>\n",
       "    </tr>\n",
       "    <tr>\n",
       "      <th>265</th>\n",
       "      <td>2024</td>\n",
       "      <td>10752</td>\n",
       "      <td>7.240000</td>\n",
       "    </tr>\n",
       "  </tbody>\n",
       "</table>\n",
       "<p>266 rows × 3 columns</p>\n",
       "</div>"
      ]
     },
     "execution_count": 1,
     "metadata": {},
     "output_type": "execute_result"
    }
   ],
   "execution_count": 1
  },
  {
   "metadata": {},
   "cell_type": "markdown",
   "source": "#### Datenvisualisierung",
   "id": "57a71aa286c9c178"
  },
  {
   "metadata": {},
   "cell_type": "markdown",
   "source": "##### Alle Genres_ids umwandeln in Genre Namen",
   "id": "1a7ce71c21b82350"
  },
  {
   "metadata": {
    "ExecuteTime": {
     "end_time": "2025-05-21T11:32:47.108287Z",
     "start_time": "2025-05-21T11:32:46.882479Z"
    }
   },
   "cell_type": "code",
   "source": [
    "from tmdb.genre import Genre\n",
    "import pandas as pd\n",
    "from config.config import TMDB_BEARER_TOKEN, TMDB_API_KEY\n",
    "\n",
    "PATH_TO_SAVE_GENRES = \"./data/processed/fragestellung_02/all_genres.json\"\n",
    "BEARER_TOKEN = TMDB_BEARER_TOKEN # access token\n",
    "\n",
    "genre = Genre(BEARER_TOKEN)\n",
    "all_genres = genre.get_movie()\n",
    "with open(PATH_TO_SAVE_GENRES, \"w\") as file:\n",
    "    json.dump(all_genres, file)\n",
    "df_genres = pd.DataFrame(all_genres[\"genres\"])\n",
    "df_genres = df_genres[[\"id\", \"name\"]]\n",
    "df_genres.columns = [\"genre_ids\", \"genre_name\"]\n",
    "df_grouped = df_grouped.merge(df_genres, on=\"genre_ids\")"
   ],
   "id": "9dc9afdc774ee962",
   "outputs": [],
   "execution_count": 3
  },
  {
   "metadata": {},
   "cell_type": "markdown",
   "source": "##### Visualisierung der durchschnittlichen Bewertung pro Genre pro Jahr",
   "id": "28c1b647e9b83d1a"
  },
  {
   "metadata": {
    "ExecuteTime": {
     "end_time": "2025-05-19T14:19:33.448544Z",
     "start_time": "2025-05-19T14:19:32.961969Z"
    }
   },
   "cell_type": "code",
   "source": [
    "import pandas as pd\n",
    "import plotly.express as px\n",
    "\n",
    "# Wir erstellen einen DataFrame pro Genre-Trace und übergeben genre_name als customdata in jedem Trace.\n",
    "\n",
    "def plot_interactive_genre(df_grouped):\n",
    "    fig = px.bar(\n",
    "        df_grouped,\n",
    "        x='release_date',\n",
    "        y='avg_rating',\n",
    "        color='genre_name',\n",
    "        barmode='group',\n",
    "\n",
    "        labels={\n",
    "            'year': 'Jahr',\n",
    "            'avg_rating': 'Durchschnittliche Bewertung',\n",
    "            'genre_name': 'Genre'\n",
    "        },\n",
    "        title='Durchschnittliche Bewertung pro Genre und Jahr (interaktiv)'\n",
    "    )\n",
    "\n",
    "    # Für jeden Trace: setze custom data individuell\n",
    "    for trace in fig.data:\n",
    "        # Der Name des Trace ist bereits der Genre-Name\n",
    "        genre = trace.name\n",
    "        # custom data: eine Spalte mit Genre-Namen, gleiche Länge wie x\n",
    "        trace.customdata = [genre] * len(trace.x)\n",
    "        # Hover template mit Nutzung von custom data\n",
    "        trace.hovertemplate = (\n",
    "            '<b>Genre:</b> %{customdata}<br>'\n",
    "            '<b>Jahr:</b> %{x}<br>'\n",
    "            '<b>Bewertung:</b> %{y:.2f}<extra></extra>'\n",
    "        )\n",
    "\n",
    "    fig.update_layout(\n",
    "        xaxis=dict(rangeslider=dict(visible=True), type='category'),\n",
    "        hovermode='closest',\n",
    "        legend=dict(title='Genre', orientation='v', x=1.02, y=1)\n",
    "    )\n",
    "    return fig\n",
    "\n",
    "# Anwendung:\n",
    "fig = plot_interactive_genre(df_grouped)\n",
    "fig.show()\n"
   ],
   "id": "6639278a19a20013",
   "outputs": [
    {
     "data": {
      "application/vnd.plotly.v1+json": {
       "data": [
        {
         "alignmentgroup": "True",
         "hovertemplate": "<b>Genre:</b> %{customdata}<br><b>Jahr:</b> %{x}<br><b>Bewertung:</b> %{y:.2f}<extra></extra>",
         "legendgroup": "Adventure",
         "marker": {
          "color": "#636efa",
          "pattern": {
           "shape": ""
          }
         },
         "name": "Adventure",
         "offsetgroup": "Adventure",
         "orientation": "v",
         "showlegend": true,
         "textposition": "auto",
         "x": {
          "dtype": "i4",
          "bdata": "2gcAANsHAADcBwAA3QcAAN4HAADfBwAA4AcAAOEHAADiBwAA4wcAAOQHAADlBwAA5gcAAOcHAADoBwAA"
         },
         "xaxis": "x",
         "y": {
          "dtype": "f8",
          "bdata": "nqh/I5RRGUAVZx8+w24aQHNoke18PxlAqMZLN4lBFUDuIyFyRdUaQF8bs4L+9xlAHFpkO9/PGEDeJAaBlQsbQD5rQBptihpAFl4/us58G0A8waz+tlUbQD4CqXsMgBxApeLsw2doG0DRItv5fsobQH9qvHST2BpA"
         },
         "yaxis": "y",
         "type": "bar",
         "customdata": [
          "Adventure",
          "Adventure",
          "Adventure",
          "Adventure",
          "Adventure",
          "Adventure",
          "Adventure",
          "Adventure",
          "Adventure",
          "Adventure",
          "Adventure",
          "Adventure",
          "Adventure",
          "Adventure",
          "Adventure"
         ]
        },
        {
         "alignmentgroup": "True",
         "hovertemplate": "<b>Genre:</b> %{customdata}<br><b>Jahr:</b> %{x}<br><b>Bewertung:</b> %{y:.2f}<extra></extra>",
         "legendgroup": "Fantasy",
         "marker": {
          "color": "#EF553B",
          "pattern": {
           "shape": ""
          }
         },
         "name": "Fantasy",
         "offsetgroup": "Fantasy",
         "orientation": "v",
         "showlegend": true,
         "textposition": "auto",
         "x": {
          "dtype": "i4",
          "bdata": "2gcAANsHAADcBwAA3QcAAN4HAADfBwAA4AcAAOEHAADiBwAA4wcAAOQHAADlBwAA5gcAAOcHAADoBwAA"
         },
         "xaxis": "x",
         "y": {
          "dtype": "f8",
          "bdata": "W7G/7J68GUCrqqqqquoYQLjbc1xMMRpA6SYxCKx8GkB56SYxCKwbQL+fGi/dBBpAtch2vp+aGEDpbVmrY4IaQO+nxks3iRtAlUOLbOf7G0BO6DJ2RMIbQL86qTKGRR1AD4C9x55CHEB7xyk6kssbQPsfPdya0RpA"
         },
         "yaxis": "y",
         "type": "bar",
         "customdata": [
          "Fantasy",
          "Fantasy",
          "Fantasy",
          "Fantasy",
          "Fantasy",
          "Fantasy",
          "Fantasy",
          "Fantasy",
          "Fantasy",
          "Fantasy",
          "Fantasy",
          "Fantasy",
          "Fantasy",
          "Fantasy",
          "Fantasy"
         ]
        },
        {
         "alignmentgroup": "True",
         "hovertemplate": "<b>Genre:</b> %{customdata}<br><b>Jahr:</b> %{x}<br><b>Bewertung:</b> %{y:.2f}<extra></extra>",
         "legendgroup": "Animation",
         "marker": {
          "color": "#00cc96",
          "pattern": {
           "shape": ""
          }
         },
         "name": "Animation",
         "offsetgroup": "Animation",
         "orientation": "v",
         "showlegend": true,
         "textposition": "auto",
         "x": {
          "dtype": "i4",
          "bdata": "2gcAANsHAADcBwAA3QcAAN4HAADfBwAA4AcAAOEHAADiBwAA4wcAAOQHAADlBwAA5gcAAOcHAADoBwAA"
         },
         "xaxis": "x",
         "y": {
          "dtype": "f8",
          "bdata": "mpmZmZmZGkAjlNHbslYZQKxjggfzxBtA5KWbxCAQHECmCkYldYIcQPp+arx00xhA3iQGgZUjGUDgCGX0tgwaQA0oEMVGlRxA677F/2yNHUC1pnnHKfodQCd0GTsiYR1ASrCJhrpgHEBH4XoUrkcdQHNoke18HxxA"
         },
         "yaxis": "y",
         "type": "bar",
         "customdata": [
          "Animation",
          "Animation",
          "Animation",
          "Animation",
          "Animation",
          "Animation",
          "Animation",
          "Animation",
          "Animation",
          "Animation",
          "Animation",
          "Animation",
          "Animation",
          "Animation",
          "Animation"
         ]
        },
        {
         "alignmentgroup": "True",
         "hovertemplate": "<b>Genre:</b> %{customdata}<br><b>Jahr:</b> %{x}<br><b>Bewertung:</b> %{y:.2f}<extra></extra>",
         "legendgroup": "Drama",
         "marker": {
          "color": "#ab63fa",
          "pattern": {
           "shape": ""
          }
         },
         "name": "Drama",
         "offsetgroup": "Drama",
         "orientation": "v",
         "showlegend": true,
         "textposition": "auto",
         "x": {
          "dtype": "i4",
          "bdata": "2gcAANsHAADcBwAA3QcAAN4HAADfBwAA4AcAAOEHAADiBwAA4wcAAOQHAADlBwAA5gcAAOcHAADoBwAA"
         },
         "xaxis": "x",
         "y": {
          "dtype": "f8",
          "bdata": "f/2uk6t2GUAOw0YmEucYQGIQWDm02BlAo7HwAaLXGUBo1P4LRRwaQL/snjwsdBlAjoTqnnspGkCNxR+in3waQC6QoPgx1hlAyyNRwEytG0Ba9bnail0bQFQJi9n0vBtAI0HIqx1WG0BpeAEsbiobQG2Jtd3GPxtA"
         },
         "yaxis": "y",
         "type": "bar",
         "customdata": [
          "Drama",
          "Drama",
          "Drama",
          "Drama",
          "Drama",
          "Drama",
          "Drama",
          "Drama",
          "Drama",
          "Drama",
          "Drama",
          "Drama",
          "Drama",
          "Drama",
          "Drama"
         ]
        },
        {
         "alignmentgroup": "True",
         "hovertemplate": "<b>Genre:</b> %{customdata}<br><b>Jahr:</b> %{x}<br><b>Bewertung:</b> %{y:.2f}<extra></extra>",
         "legendgroup": "Horror",
         "marker": {
          "color": "#FFA15A",
          "pattern": {
           "shape": ""
          }
         },
         "name": "Horror",
         "offsetgroup": "Horror",
         "orientation": "v",
         "showlegend": true,
         "textposition": "auto",
         "x": {
          "dtype": "i4",
          "bdata": "2gcAANsHAADcBwAA3QcAAN4HAADfBwAA4AcAAOEHAADiBwAA4wcAAOQHAADlBwAA5gcAAOcHAADoBwAA"
         },
         "xaxis": "x",
         "y": {
          "dtype": "f8",
          "bdata": "iYiIiIgIF0CEns2qz9UWQPOLJb9YchBA5KWbxCAwFUAQn2FXgNwVQFGBUjL8phRAg1FJnYAmF0B4VjQS8I0XQNejcD0KRxdACXDWPKOJGEDLcwlkDSMZQD2dycKImxhAV5LSi48jGUAgY+5aQr4ZQAsOcMMs9RhA"
         },
         "yaxis": "y",
         "type": "bar",
         "customdata": [
          "Horror",
          "Horror",
          "Horror",
          "Horror",
          "Horror",
          "Horror",
          "Horror",
          "Horror",
          "Horror",
          "Horror",
          "Horror",
          "Horror",
          "Horror",
          "Horror",
          "Horror"
         ]
        },
        {
         "alignmentgroup": "True",
         "hovertemplate": "<b>Genre:</b> %{customdata}<br><b>Jahr:</b> %{x}<br><b>Bewertung:</b> %{y:.2f}<extra></extra>",
         "legendgroup": "Action",
         "marker": {
          "color": "#19d3f3",
          "pattern": {
           "shape": ""
          }
         },
         "name": "Action",
         "offsetgroup": "Action",
         "orientation": "v",
         "showlegend": true,
         "textposition": "auto",
         "x": {
          "dtype": "i4",
          "bdata": "2gcAANsHAADcBwAA3QcAAN4HAADfBwAA4AcAAOEHAADiBwAA4wcAAOQHAADlBwAA5gcAAOcHAADoBwAA"
         },
         "xaxis": "x",
         "y": {
          "dtype": "f8",
          "bdata": "mG4Sg8DqGEBzaJHtfH8YQI8KBeDCIxlAxDfOm9s+GEAQWDm0yD4ZQDLXuo5m/RlAyWv9fe1LGEBS7MZydfsZQMY1Bvb8+RlAFhzghlmqGUCf5Xlwd9YaQDyPLFoviRtAr5ALIM4VG0CfJYu6VOgaQNb8jgAjXBpA"
         },
         "yaxis": "y",
         "type": "bar",
         "customdata": [
          "Action",
          "Action",
          "Action",
          "Action",
          "Action",
          "Action",
          "Action",
          "Action",
          "Action",
          "Action",
          "Action",
          "Action",
          "Action",
          "Action",
          "Action"
         ]
        },
        {
         "alignmentgroup": "True",
         "hovertemplate": "<b>Genre:</b> %{customdata}<br><b>Jahr:</b> %{x}<br><b>Bewertung:</b> %{y:.2f}<extra></extra>",
         "legendgroup": "Comedy",
         "marker": {
          "color": "#FF6692",
          "pattern": {
           "shape": ""
          }
         },
         "name": "Comedy",
         "offsetgroup": "Comedy",
         "orientation": "v",
         "showlegend": true,
         "textposition": "auto",
         "x": {
          "dtype": "i4",
          "bdata": "2gcAANsHAADcBwAA3QcAAN4HAADfBwAA4AcAAOEHAADiBwAA4wcAAOQHAADlBwAA5gcAAOcHAADoBwAA"
         },
         "xaxis": "x",
         "y": {
          "dtype": "f8",
          "bdata": "q4lnRSPBF0CJ+jdCGW0YQKESAbXASBZAZ3bJYDzcF0DUmuYdpwgZQJGOwW32WBhAYeXQItuZGUCSuxenad8YQBaQyWf/YhpAjo2NjY0NGkAYBFYOLTIaQKx9w9o37BtAch+MXSg/GkDqJjEIrNwZQFmGONbFbRpA"
         },
         "yaxis": "y",
         "type": "bar",
         "customdata": [
          "Comedy",
          "Comedy",
          "Comedy",
          "Comedy",
          "Comedy",
          "Comedy",
          "Comedy",
          "Comedy",
          "Comedy",
          "Comedy",
          "Comedy",
          "Comedy",
          "Comedy",
          "Comedy",
          "Comedy"
         ]
        },
        {
         "alignmentgroup": "True",
         "hovertemplate": "<b>Genre:</b> %{customdata}<br><b>Jahr:</b> %{x}<br><b>Bewertung:</b> %{y:.2f}<extra></extra>",
         "legendgroup": "Western",
         "marker": {
          "color": "#B6E880",
          "pattern": {
           "shape": ""
          }
         },
         "name": "Western",
         "offsetgroup": "Western",
         "orientation": "v",
         "showlegend": true,
         "textposition": "auto",
         "x": {
          "dtype": "i4",
          "bdata": "2gcAANwHAADfBwAA4gcAAOQHAADlBwAA"
         },
         "xaxis": "x",
         "y": {
          "dtype": "f8",
          "bdata": "ukkMAiuHH0AQWDm0yPYUQClcj8L16BlAPzVeukmMHEBu5/up8dIbQAaBlUOL7BpA"
         },
         "yaxis": "y",
         "type": "bar",
         "customdata": [
          "Western",
          "Western",
          "Western",
          "Western",
          "Western",
          "Western"
         ]
        },
        {
         "alignmentgroup": "True",
         "hovertemplate": "<b>Genre:</b> %{customdata}<br><b>Jahr:</b> %{x}<br><b>Bewertung:</b> %{y:.2f}<extra></extra>",
         "legendgroup": "Thriller",
         "marker": {
          "color": "#FF97FF",
          "pattern": {
           "shape": ""
          }
         },
         "name": "Thriller",
         "offsetgroup": "Thriller",
         "orientation": "v",
         "showlegend": true,
         "textposition": "auto",
         "x": {
          "dtype": "i4",
          "bdata": "2gcAANsHAADcBwAA3QcAAN4HAADfBwAA4AcAAOEHAADiBwAA4wcAAOQHAADlBwAA5gcAAOcHAADoBwAA"
         },
         "xaxis": "x",
         "y": {
          "dtype": "f8",
          "bdata": "GEt+seQXGkBANV66SWwXQFpkO99PDRhAp9KQc59dG0BtoNMGOi0ZQMdxHMdxnBhAWOcYkL1eGEBaZDvfT3UZQDQBzppndBhAdZMYBFaOGkBKztQXgHAaQP7UeOkmsRlAnH34DLsyGUBDPPmQYFwaQPT91HjpFhpA"
         },
         "yaxis": "y",
         "type": "bar",
         "customdata": [
          "Thriller",
          "Thriller",
          "Thriller",
          "Thriller",
          "Thriller",
          "Thriller",
          "Thriller",
          "Thriller",
          "Thriller",
          "Thriller",
          "Thriller",
          "Thriller",
          "Thriller",
          "Thriller",
          "Thriller"
         ]
        },
        {
         "alignmentgroup": "True",
         "hovertemplate": "<b>Genre:</b> %{customdata}<br><b>Jahr:</b> %{x}<br><b>Bewertung:</b> %{y:.2f}<extra></extra>",
         "legendgroup": "Crime",
         "marker": {
          "color": "#FECB52",
          "pattern": {
           "shape": ""
          }
         },
         "name": "Crime",
         "offsetgroup": "Crime",
         "orientation": "v",
         "showlegend": true,
         "textposition": "auto",
         "x": {
          "dtype": "i4",
          "bdata": "2gcAANsHAADcBwAA3QcAAN4HAADfBwAA4AcAAOEHAADiBwAA4wcAAOQHAADlBwAA5gcAAOcHAADoBwAA"
         },
         "xaxis": "x",
         "y": {
          "dtype": "f8",
          "bdata": "rBxaZDsfGUAVZx8+wy4YQIbKDlOX2xlAqMZLN4mRGkDTClGBUjIZQCLb+X5qPB1ACawcWmS7GkApXI/C9UgZQB7kGDKS4BhAWXCAG2apGkCrYFRSJ6AaQHNoke18vxpAg8DKoUWeGkAqX713wU0bQJvmHafoqBpA"
         },
         "yaxis": "y",
         "type": "bar",
         "customdata": [
          "Crime",
          "Crime",
          "Crime",
          "Crime",
          "Crime",
          "Crime",
          "Crime",
          "Crime",
          "Crime",
          "Crime",
          "Crime",
          "Crime",
          "Crime",
          "Crime",
          "Crime"
         ]
        },
        {
         "alignmentgroup": "True",
         "hovertemplate": "<b>Genre:</b> %{customdata}<br><b>Jahr:</b> %{x}<br><b>Bewertung:</b> %{y:.2f}<extra></extra>",
         "legendgroup": "Documentary",
         "marker": {
          "color": "#636efa",
          "pattern": {
           "shape": ""
          }
         },
         "name": "Documentary",
         "offsetgroup": "Documentary",
         "orientation": "v",
         "showlegend": true,
         "textposition": "auto",
         "x": {
          "dtype": "i4",
          "bdata": "2gcAANsHAADcBwAA3QcAAN4HAADfBwAA4AcAAOEHAADiBwAA4wcAAOQHAADlBwAA5gcAAOcHAAA="
         },
         "xaxis": "x",
         "y": {
          "dtype": "f8",
          "bdata": "OrTIdr6fG0D/1HjpJvEZQML1KFyPQh1AXrpJDAIrHEDF3Z7jYsobQBsv3SQGoRtA8Rl2Bci9G0BmZmZmZgYaQJDC9ShczxxATWIQWDn0HEDuoiRzjnYeQECnDXTawBpALfnFkl+sG0CIz7ArQG4bQA=="
         },
         "yaxis": "y",
         "type": "bar",
         "customdata": [
          "Documentary",
          "Documentary",
          "Documentary",
          "Documentary",
          "Documentary",
          "Documentary",
          "Documentary",
          "Documentary",
          "Documentary",
          "Documentary",
          "Documentary",
          "Documentary",
          "Documentary",
          "Documentary"
         ]
        },
        {
         "alignmentgroup": "True",
         "hovertemplate": "<b>Genre:</b> %{customdata}<br><b>Jahr:</b> %{x}<br><b>Bewertung:</b> %{y:.2f}<extra></extra>",
         "legendgroup": "Science Fiction",
         "marker": {
          "color": "#EF553B",
          "pattern": {
           "shape": ""
          }
         },
         "name": "Science Fiction",
         "offsetgroup": "Science Fiction",
         "orientation": "v",
         "showlegend": true,
         "textposition": "auto",
         "x": {
          "dtype": "i4",
          "bdata": "2gcAANsHAADcBwAA3QcAAN4HAADfBwAA4AcAAOEHAADiBwAA4wcAAOQHAADlBwAA5gcAAOcHAADoBwAA"
         },
         "xaxis": "x",
         "y": {
          "dtype": "f8",
          "bdata": "6yYxCKzcHEDwYJ6of6MXQHUCmggbHhlACWX0tqxVGECsHFpkO/8bQIDkmVaIChlAFfoRXdsMF0Bll1f0Wc0ZQNKJqC0Z6xlAF9nO91NTGUBSuB6F61EbQE5iEFg5lBpA6SYxCKysGkDr3iFRRQgbQEw3iUFgpRlA"
         },
         "yaxis": "y",
         "type": "bar",
         "customdata": [
          "Science Fiction",
          "Science Fiction",
          "Science Fiction",
          "Science Fiction",
          "Science Fiction",
          "Science Fiction",
          "Science Fiction",
          "Science Fiction",
          "Science Fiction",
          "Science Fiction",
          "Science Fiction",
          "Science Fiction",
          "Science Fiction",
          "Science Fiction",
          "Science Fiction"
         ]
        },
        {
         "alignmentgroup": "True",
         "hovertemplate": "<b>Genre:</b> %{customdata}<br><b>Jahr:</b> %{x}<br><b>Bewertung:</b> %{y:.2f}<extra></extra>",
         "legendgroup": "Mystery",
         "marker": {
          "color": "#00cc96",
          "pattern": {
           "shape": ""
          }
         },
         "name": "Mystery",
         "offsetgroup": "Mystery",
         "orientation": "v",
         "showlegend": true,
         "textposition": "auto",
         "x": {
          "dtype": "i4",
          "bdata": "2gcAANsHAADcBwAA3QcAAN4HAADfBwAA4AcAAOEHAADiBwAA4wcAAOQHAADlBwAA5gcAAOcHAADoBwAA"
         },
         "xaxis": "x",
         "y": {
          "dtype": "f8",
          "bdata": "zBP1b4QyG0AijnVxG40XQFnyiyW/WBhAEoPAyqHFGUAJrBxaZLsfQJ7Nqs/V1hpAnqh/I5RRGECcxCCwcggaQBD3zz3MqRhA8tJNYhAIGkCz42dusRkaQJ7Nqs/VVhlAWmQ7309NGkCkcD0K1yMZQCUGgZVDaxhA"
         },
         "yaxis": "y",
         "type": "bar",
         "customdata": [
          "Mystery",
          "Mystery",
          "Mystery",
          "Mystery",
          "Mystery",
          "Mystery",
          "Mystery",
          "Mystery",
          "Mystery",
          "Mystery",
          "Mystery",
          "Mystery",
          "Mystery",
          "Mystery",
          "Mystery"
         ]
        },
        {
         "alignmentgroup": "True",
         "hovertemplate": "<b>Genre:</b> %{customdata}<br><b>Jahr:</b> %{x}<br><b>Bewertung:</b> %{y:.2f}<extra></extra>",
         "legendgroup": "Music",
         "marker": {
          "color": "#ab63fa",
          "pattern": {
           "shape": ""
          }
         },
         "name": "Music",
         "offsetgroup": "Music",
         "orientation": "v",
         "showlegend": true,
         "textposition": "auto",
         "x": {
          "dtype": "i4",
          "bdata": "2gcAANsHAADcBwAA3gcAAN8HAADgBwAA4QcAAOIHAADjBwAA5AcAAOUHAADmBwAA5wcAAOgHAAA="
         },
         "xaxis": "x",
         "y": {
          "dtype": "f8",
          "bdata": "MzMzMzMzEUDm+6nx0s0WQIlBYOXQIh1AMzMzMzMzHEAD5F5zIakZQFYOLbKdbxtAwMqhRbbzGkDBPFH/RqgaQE2pOPvwmRxALNSa5h0nHUBmZmZmZmYeQG8Sg8DKYRtAEoPAyqFFGUApXI/C9agaQA=="
         },
         "yaxis": "y",
         "type": "bar",
         "customdata": [
          "Music",
          "Music",
          "Music",
          "Music",
          "Music",
          "Music",
          "Music",
          "Music",
          "Music",
          "Music",
          "Music",
          "Music",
          "Music",
          "Music"
         ]
        },
        {
         "alignmentgroup": "True",
         "hovertemplate": "<b>Genre:</b> %{customdata}<br><b>Jahr:</b> %{x}<br><b>Bewertung:</b> %{y:.2f}<extra></extra>",
         "legendgroup": "Romance",
         "marker": {
          "color": "#FFA15A",
          "pattern": {
           "shape": ""
          }
         },
         "name": "Romance",
         "offsetgroup": "Romance",
         "orientation": "v",
         "showlegend": true,
         "textposition": "auto",
         "x": {
          "dtype": "i4",
          "bdata": "2gcAANsHAADcBwAA3QcAAN4HAADfBwAA4AcAAOEHAADiBwAA4wcAAOQHAADlBwAA5gcAAOcHAADoBwAA"
         },
         "xaxis": "x",
         "y": {
          "dtype": "f8",
          "bdata": "PXfkhFjfGECtwzuhIvoYQLByaJHtfBhAPBYc4IbZGUDYSlJ68fEXQETY8PRKmRhASjo+fW1xGUADVg4tsp0aQJMYBFYOrRpAd76fGi9dGUA9ncnCiNsbQJN3MTbo7htASgwCK4dWGkAaCx8getUZQAmL2fTcERtA"
         },
         "yaxis": "y",
         "type": "bar",
         "customdata": [
          "Romance",
          "Romance",
          "Romance",
          "Romance",
          "Romance",
          "Romance",
          "Romance",
          "Romance",
          "Romance",
          "Romance",
          "Romance",
          "Romance",
          "Romance",
          "Romance",
          "Romance"
         ]
        },
        {
         "alignmentgroup": "True",
         "hovertemplate": "<b>Genre:</b> %{customdata}<br><b>Jahr:</b> %{x}<br><b>Bewertung:</b> %{y:.2f}<extra></extra>",
         "legendgroup": "Family",
         "marker": {
          "color": "#19d3f3",
          "pattern": {
           "shape": ""
          }
         },
         "name": "Family",
         "offsetgroup": "Family",
         "orientation": "v",
         "showlegend": true,
         "textposition": "auto",
         "x": {
          "dtype": "i4",
          "bdata": "2gcAANsHAADcBwAA3QcAAN4HAADfBwAA4AcAAOEHAADiBwAA4wcAAOQHAADlBwAA5gcAAOcHAADoBwAA"
         },
         "xaxis": "x",
         "y": {
          "dtype": "f8",
          "bdata": "+zpwzohSGUBa9bnain0XQKxjggfzxBtAmpmZmZlZGECkZPjNwAcaQNejcD0KVxlANPAhpC0sGkAZBFYOLVIaQMteNCfu9htAJjEIrBzaG0ATPJgn6n8bQAAAAAAAYBxApN++DpxzGUA0j6vX/+gbQN7F2KC7ARxA"
         },
         "yaxis": "y",
         "type": "bar",
         "customdata": [
          "Family",
          "Family",
          "Family",
          "Family",
          "Family",
          "Family",
          "Family",
          "Family",
          "Family",
          "Family",
          "Family",
          "Family",
          "Family",
          "Family",
          "Family"
         ]
        },
        {
         "alignmentgroup": "True",
         "hovertemplate": "<b>Genre:</b> %{customdata}<br><b>Jahr:</b> %{x}<br><b>Bewertung:</b> %{y:.2f}<extra></extra>",
         "legendgroup": "TV Movie",
         "marker": {
          "color": "#FF6692",
          "pattern": {
           "shape": ""
          }
         },
         "name": "TV Movie",
         "offsetgroup": "TV Movie",
         "orientation": "v",
         "showlegend": true,
         "textposition": "auto",
         "x": {
          "dtype": "i4",
          "bdata": "2gcAANsHAADcBwAA3QcAAN4HAADfBwAA4AcAAOIHAADjBwAA5AcAAOUHAAA="
         },
         "xaxis": "x",
         "y": {
          "dtype": "f8",
          "bdata": "Itv5fmp8HEBmZmZmZmYYQIts5/upsRdA8tJNYhBYD0ATPJgn6l8aQPV3slremBpACwIrhxbZGUAK16NwPQobQGZmZmZmZhpAyXa+nxpvHkDfT42XbtIeQA=="
         },
         "yaxis": "y",
         "type": "bar",
         "customdata": [
          "TV Movie",
          "TV Movie",
          "TV Movie",
          "TV Movie",
          "TV Movie",
          "TV Movie",
          "TV Movie",
          "TV Movie",
          "TV Movie",
          "TV Movie",
          "TV Movie"
         ]
        },
        {
         "alignmentgroup": "True",
         "hovertemplate": "<b>Genre:</b> %{customdata}<br><b>Jahr:</b> %{x}<br><b>Bewertung:</b> %{y:.2f}<extra></extra>",
         "legendgroup": "History",
         "marker": {
          "color": "#B6E880",
          "pattern": {
           "shape": ""
          }
         },
         "name": "History",
         "offsetgroup": "History",
         "orientation": "v",
         "showlegend": true,
         "textposition": "auto",
         "x": {
          "dtype": "i4",
          "bdata": "2wcAANwHAADdBwAA3gcAAN8HAADgBwAA4QcAAOIHAADjBwAA5AcAAOUHAADmBwAA5wcAAOgHAAA="
         },
         "xaxis": "x",
         "y": {
          "dtype": "f8",
          "bdata": "16NwPQrXF0CamZmZmZkaQPX91HjpJh9AvLu7u7u7G0Dl0CLb+T4cQJhuEoPAShxA65jgwTzRGkABK4cW2Q4bQKhCpl2XjRxAtMh2vp+aHED2KFyPwvUcQO+nxks3KR1AbOf7qfHSGUDcJAaBlVMaQA=="
         },
         "yaxis": "y",
         "type": "bar",
         "customdata": [
          "History",
          "History",
          "History",
          "History",
          "History",
          "History",
          "History",
          "History",
          "History",
          "History",
          "History",
          "History",
          "History",
          "History"
         ]
        },
        {
         "alignmentgroup": "True",
         "hovertemplate": "<b>Genre:</b> %{customdata}<br><b>Jahr:</b> %{x}<br><b>Bewertung:</b> %{y:.2f}<extra></extra>",
         "legendgroup": "War",
         "marker": {
          "color": "#FF97FF",
          "pattern": {
           "shape": ""
          }
         },
         "name": "War",
         "offsetgroup": "War",
         "orientation": "v",
         "showlegend": true,
         "textposition": "auto",
         "x": {
          "dtype": "i4",
          "bdata": "2wcAAN0HAADeBwAA3wcAAOAHAADhBwAA4gcAAOMHAADkBwAA5gcAAOcHAADoBwAA"
         },
         "xaxis": "x",
         "y": {
          "dtype": "f8",
          "bdata": "MzMzMzOzF0D1/dR46SYfQCGwcmiRrRpAke18PzVeHkCTXyz5xRIdQHoUrkfh2hhAHFpkO99PG0CNl24Sg0AbQCSU0duyVhpAdkzwYJ6oHUDwYJ6of6McQPYoXI/C9RxA"
         },
         "yaxis": "y",
         "type": "bar",
         "customdata": [
          "War",
          "War",
          "War",
          "War",
          "War",
          "War",
          "War",
          "War",
          "War",
          "War",
          "War",
          "War"
         ]
        }
       ],
       "layout": {
        "template": {
         "data": {
          "histogram2dcontour": [
           {
            "type": "histogram2dcontour",
            "colorbar": {
             "outlinewidth": 0,
             "ticks": ""
            },
            "colorscale": [
             [
              0.0,
              "#0d0887"
             ],
             [
              0.1111111111111111,
              "#46039f"
             ],
             [
              0.2222222222222222,
              "#7201a8"
             ],
             [
              0.3333333333333333,
              "#9c179e"
             ],
             [
              0.4444444444444444,
              "#bd3786"
             ],
             [
              0.5555555555555556,
              "#d8576b"
             ],
             [
              0.6666666666666666,
              "#ed7953"
             ],
             [
              0.7777777777777778,
              "#fb9f3a"
             ],
             [
              0.8888888888888888,
              "#fdca26"
             ],
             [
              1.0,
              "#f0f921"
             ]
            ]
           }
          ],
          "choropleth": [
           {
            "type": "choropleth",
            "colorbar": {
             "outlinewidth": 0,
             "ticks": ""
            }
           }
          ],
          "histogram2d": [
           {
            "type": "histogram2d",
            "colorbar": {
             "outlinewidth": 0,
             "ticks": ""
            },
            "colorscale": [
             [
              0.0,
              "#0d0887"
             ],
             [
              0.1111111111111111,
              "#46039f"
             ],
             [
              0.2222222222222222,
              "#7201a8"
             ],
             [
              0.3333333333333333,
              "#9c179e"
             ],
             [
              0.4444444444444444,
              "#bd3786"
             ],
             [
              0.5555555555555556,
              "#d8576b"
             ],
             [
              0.6666666666666666,
              "#ed7953"
             ],
             [
              0.7777777777777778,
              "#fb9f3a"
             ],
             [
              0.8888888888888888,
              "#fdca26"
             ],
             [
              1.0,
              "#f0f921"
             ]
            ]
           }
          ],
          "heatmap": [
           {
            "type": "heatmap",
            "colorbar": {
             "outlinewidth": 0,
             "ticks": ""
            },
            "colorscale": [
             [
              0.0,
              "#0d0887"
             ],
             [
              0.1111111111111111,
              "#46039f"
             ],
             [
              0.2222222222222222,
              "#7201a8"
             ],
             [
              0.3333333333333333,
              "#9c179e"
             ],
             [
              0.4444444444444444,
              "#bd3786"
             ],
             [
              0.5555555555555556,
              "#d8576b"
             ],
             [
              0.6666666666666666,
              "#ed7953"
             ],
             [
              0.7777777777777778,
              "#fb9f3a"
             ],
             [
              0.8888888888888888,
              "#fdca26"
             ],
             [
              1.0,
              "#f0f921"
             ]
            ]
           }
          ],
          "contourcarpet": [
           {
            "type": "contourcarpet",
            "colorbar": {
             "outlinewidth": 0,
             "ticks": ""
            }
           }
          ],
          "contour": [
           {
            "type": "contour",
            "colorbar": {
             "outlinewidth": 0,
             "ticks": ""
            },
            "colorscale": [
             [
              0.0,
              "#0d0887"
             ],
             [
              0.1111111111111111,
              "#46039f"
             ],
             [
              0.2222222222222222,
              "#7201a8"
             ],
             [
              0.3333333333333333,
              "#9c179e"
             ],
             [
              0.4444444444444444,
              "#bd3786"
             ],
             [
              0.5555555555555556,
              "#d8576b"
             ],
             [
              0.6666666666666666,
              "#ed7953"
             ],
             [
              0.7777777777777778,
              "#fb9f3a"
             ],
             [
              0.8888888888888888,
              "#fdca26"
             ],
             [
              1.0,
              "#f0f921"
             ]
            ]
           }
          ],
          "surface": [
           {
            "type": "surface",
            "colorbar": {
             "outlinewidth": 0,
             "ticks": ""
            },
            "colorscale": [
             [
              0.0,
              "#0d0887"
             ],
             [
              0.1111111111111111,
              "#46039f"
             ],
             [
              0.2222222222222222,
              "#7201a8"
             ],
             [
              0.3333333333333333,
              "#9c179e"
             ],
             [
              0.4444444444444444,
              "#bd3786"
             ],
             [
              0.5555555555555556,
              "#d8576b"
             ],
             [
              0.6666666666666666,
              "#ed7953"
             ],
             [
              0.7777777777777778,
              "#fb9f3a"
             ],
             [
              0.8888888888888888,
              "#fdca26"
             ],
             [
              1.0,
              "#f0f921"
             ]
            ]
           }
          ],
          "mesh3d": [
           {
            "type": "mesh3d",
            "colorbar": {
             "outlinewidth": 0,
             "ticks": ""
            }
           }
          ],
          "scatter": [
           {
            "marker": {
             "line": {
              "color": "#283442"
             }
            },
            "type": "scatter"
           }
          ],
          "parcoords": [
           {
            "type": "parcoords",
            "line": {
             "colorbar": {
              "outlinewidth": 0,
              "ticks": ""
             }
            }
           }
          ],
          "scatterpolargl": [
           {
            "type": "scatterpolargl",
            "marker": {
             "colorbar": {
              "outlinewidth": 0,
              "ticks": ""
             }
            }
           }
          ],
          "bar": [
           {
            "error_x": {
             "color": "#f2f5fa"
            },
            "error_y": {
             "color": "#f2f5fa"
            },
            "marker": {
             "line": {
              "color": "rgb(17,17,17)",
              "width": 0.5
             },
             "pattern": {
              "fillmode": "overlay",
              "size": 10,
              "solidity": 0.2
             }
            },
            "type": "bar"
           }
          ],
          "scattergeo": [
           {
            "type": "scattergeo",
            "marker": {
             "colorbar": {
              "outlinewidth": 0,
              "ticks": ""
             }
            }
           }
          ],
          "scatterpolar": [
           {
            "type": "scatterpolar",
            "marker": {
             "colorbar": {
              "outlinewidth": 0,
              "ticks": ""
             }
            }
           }
          ],
          "histogram": [
           {
            "marker": {
             "pattern": {
              "fillmode": "overlay",
              "size": 10,
              "solidity": 0.2
             }
            },
            "type": "histogram"
           }
          ],
          "scattergl": [
           {
            "marker": {
             "line": {
              "color": "#283442"
             }
            },
            "type": "scattergl"
           }
          ],
          "scatter3d": [
           {
            "type": "scatter3d",
            "line": {
             "colorbar": {
              "outlinewidth": 0,
              "ticks": ""
             }
            },
            "marker": {
             "colorbar": {
              "outlinewidth": 0,
              "ticks": ""
             }
            }
           }
          ],
          "scattermap": [
           {
            "type": "scattermap",
            "marker": {
             "colorbar": {
              "outlinewidth": 0,
              "ticks": ""
             }
            }
           }
          ],
          "scattermapbox": [
           {
            "type": "scattermapbox",
            "marker": {
             "colorbar": {
              "outlinewidth": 0,
              "ticks": ""
             }
            }
           }
          ],
          "scatterternary": [
           {
            "type": "scatterternary",
            "marker": {
             "colorbar": {
              "outlinewidth": 0,
              "ticks": ""
             }
            }
           }
          ],
          "scattercarpet": [
           {
            "type": "scattercarpet",
            "marker": {
             "colorbar": {
              "outlinewidth": 0,
              "ticks": ""
             }
            }
           }
          ],
          "carpet": [
           {
            "aaxis": {
             "endlinecolor": "#A2B1C6",
             "gridcolor": "#506784",
             "linecolor": "#506784",
             "minorgridcolor": "#506784",
             "startlinecolor": "#A2B1C6"
            },
            "baxis": {
             "endlinecolor": "#A2B1C6",
             "gridcolor": "#506784",
             "linecolor": "#506784",
             "minorgridcolor": "#506784",
             "startlinecolor": "#A2B1C6"
            },
            "type": "carpet"
           }
          ],
          "table": [
           {
            "cells": {
             "fill": {
              "color": "#506784"
             },
             "line": {
              "color": "rgb(17,17,17)"
             }
            },
            "header": {
             "fill": {
              "color": "#2a3f5f"
             },
             "line": {
              "color": "rgb(17,17,17)"
             }
            },
            "type": "table"
           }
          ],
          "barpolar": [
           {
            "marker": {
             "line": {
              "color": "rgb(17,17,17)",
              "width": 0.5
             },
             "pattern": {
              "fillmode": "overlay",
              "size": 10,
              "solidity": 0.2
             }
            },
            "type": "barpolar"
           }
          ],
          "pie": [
           {
            "automargin": true,
            "type": "pie"
           }
          ]
         },
         "layout": {
          "autotypenumbers": "strict",
          "colorway": [
           "#636efa",
           "#EF553B",
           "#00cc96",
           "#ab63fa",
           "#FFA15A",
           "#19d3f3",
           "#FF6692",
           "#B6E880",
           "#FF97FF",
           "#FECB52"
          ],
          "font": {
           "color": "#f2f5fa"
          },
          "hovermode": "closest",
          "hoverlabel": {
           "align": "left"
          },
          "paper_bgcolor": "rgb(17,17,17)",
          "plot_bgcolor": "rgb(17,17,17)",
          "polar": {
           "bgcolor": "rgb(17,17,17)",
           "angularaxis": {
            "gridcolor": "#506784",
            "linecolor": "#506784",
            "ticks": ""
           },
           "radialaxis": {
            "gridcolor": "#506784",
            "linecolor": "#506784",
            "ticks": ""
           }
          },
          "ternary": {
           "bgcolor": "rgb(17,17,17)",
           "aaxis": {
            "gridcolor": "#506784",
            "linecolor": "#506784",
            "ticks": ""
           },
           "baxis": {
            "gridcolor": "#506784",
            "linecolor": "#506784",
            "ticks": ""
           },
           "caxis": {
            "gridcolor": "#506784",
            "linecolor": "#506784",
            "ticks": ""
           }
          },
          "coloraxis": {
           "colorbar": {
            "outlinewidth": 0,
            "ticks": ""
           }
          },
          "colorscale": {
           "sequential": [
            [
             0.0,
             "#0d0887"
            ],
            [
             0.1111111111111111,
             "#46039f"
            ],
            [
             0.2222222222222222,
             "#7201a8"
            ],
            [
             0.3333333333333333,
             "#9c179e"
            ],
            [
             0.4444444444444444,
             "#bd3786"
            ],
            [
             0.5555555555555556,
             "#d8576b"
            ],
            [
             0.6666666666666666,
             "#ed7953"
            ],
            [
             0.7777777777777778,
             "#fb9f3a"
            ],
            [
             0.8888888888888888,
             "#fdca26"
            ],
            [
             1.0,
             "#f0f921"
            ]
           ],
           "sequentialminus": [
            [
             0.0,
             "#0d0887"
            ],
            [
             0.1111111111111111,
             "#46039f"
            ],
            [
             0.2222222222222222,
             "#7201a8"
            ],
            [
             0.3333333333333333,
             "#9c179e"
            ],
            [
             0.4444444444444444,
             "#bd3786"
            ],
            [
             0.5555555555555556,
             "#d8576b"
            ],
            [
             0.6666666666666666,
             "#ed7953"
            ],
            [
             0.7777777777777778,
             "#fb9f3a"
            ],
            [
             0.8888888888888888,
             "#fdca26"
            ],
            [
             1.0,
             "#f0f921"
            ]
           ],
           "diverging": [
            [
             0,
             "#8e0152"
            ],
            [
             0.1,
             "#c51b7d"
            ],
            [
             0.2,
             "#de77ae"
            ],
            [
             0.3,
             "#f1b6da"
            ],
            [
             0.4,
             "#fde0ef"
            ],
            [
             0.5,
             "#f7f7f7"
            ],
            [
             0.6,
             "#e6f5d0"
            ],
            [
             0.7,
             "#b8e186"
            ],
            [
             0.8,
             "#7fbc41"
            ],
            [
             0.9,
             "#4d9221"
            ],
            [
             1,
             "#276419"
            ]
           ]
          },
          "xaxis": {
           "gridcolor": "#283442",
           "linecolor": "#506784",
           "ticks": "",
           "title": {
            "standoff": 15
           },
           "zerolinecolor": "#283442",
           "automargin": true,
           "zerolinewidth": 2
          },
          "yaxis": {
           "gridcolor": "#283442",
           "linecolor": "#506784",
           "ticks": "",
           "title": {
            "standoff": 15
           },
           "zerolinecolor": "#283442",
           "automargin": true,
           "zerolinewidth": 2
          },
          "scene": {
           "xaxis": {
            "backgroundcolor": "rgb(17,17,17)",
            "gridcolor": "#506784",
            "linecolor": "#506784",
            "showbackground": true,
            "ticks": "",
            "zerolinecolor": "#C8D4E3",
            "gridwidth": 2
           },
           "yaxis": {
            "backgroundcolor": "rgb(17,17,17)",
            "gridcolor": "#506784",
            "linecolor": "#506784",
            "showbackground": true,
            "ticks": "",
            "zerolinecolor": "#C8D4E3",
            "gridwidth": 2
           },
           "zaxis": {
            "backgroundcolor": "rgb(17,17,17)",
            "gridcolor": "#506784",
            "linecolor": "#506784",
            "showbackground": true,
            "ticks": "",
            "zerolinecolor": "#C8D4E3",
            "gridwidth": 2
           }
          },
          "shapedefaults": {
           "line": {
            "color": "#f2f5fa"
           }
          },
          "annotationdefaults": {
           "arrowcolor": "#f2f5fa",
           "arrowhead": 0,
           "arrowwidth": 1
          },
          "geo": {
           "bgcolor": "rgb(17,17,17)",
           "landcolor": "rgb(17,17,17)",
           "subunitcolor": "#506784",
           "showland": true,
           "showlakes": true,
           "lakecolor": "rgb(17,17,17)"
          },
          "title": {
           "x": 0.05
          },
          "updatemenudefaults": {
           "bgcolor": "#506784",
           "borderwidth": 0
          },
          "sliderdefaults": {
           "bgcolor": "#C8D4E3",
           "borderwidth": 1,
           "bordercolor": "rgb(17,17,17)",
           "tickwidth": 0
          },
          "mapbox": {
           "style": "dark"
          }
         }
        },
        "xaxis": {
         "anchor": "y",
         "domain": [
          0.0,
          1.0
         ],
         "title": {
          "text": "release_date"
         },
         "rangeslider": {
          "visible": true
         },
         "type": "category"
        },
        "yaxis": {
         "anchor": "x",
         "domain": [
          0.0,
          1.0
         ],
         "title": {
          "text": "Durchschnittliche Bewertung"
         }
        },
        "legend": {
         "title": {
          "text": "Genre"
         },
         "tracegroupgap": 0,
         "orientation": "v",
         "x": 1.02,
         "y": 1
        },
        "title": {
         "text": "Durchschnittliche Bewertung pro Genre und Jahr (interaktiv)"
        },
        "barmode": "group",
        "hovermode": "closest"
       },
       "config": {
        "plotlyServerURL": "https://plot.ly"
       }
      }
     },
     "metadata": {},
     "output_type": "display_data"
    }
   ],
   "execution_count": 19
  },
  {
   "metadata": {
    "ExecuteTime": {
     "end_time": "2025-05-19T14:20:06.340592Z",
     "start_time": "2025-05-19T14:20:06.136281Z"
    }
   },
   "cell_type": "code",
   "source": [
    "import plotly.express as px\n",
    "\n",
    "# Pivot: Zeilen=Jahr, Spalten=Genre\n",
    "df_pivot = df_grouped.pivot(index=\"release_date\", columns=\"genre_name\", values=\"avg_rating\")\n",
    "\n",
    "fig = px.imshow(\n",
    "    df_pivot.T,\n",
    "    labels=dict(x=\"Jahr\", y=\"Genre\", color=\"Durchschnittliche Bewertung\"),\n",
    "    x=df_pivot.index,\n",
    "    y=df_pivot.columns,\n",
    "    color_continuous_scale=\"viridis\",  # https://plotly.com/python/builtin-colorscales/\n",
    "    zmin=6,   # minimale Bewertung (blau/dunkel)\n",
    "    zmax=8,  # maximale Bewertung (gelb/hell)\n",
    "    title=\"Heatmap der Durchschnittlichen Bewertungen pro Genre und Jahr\"\n",
    ")\n",
    "\n",
    "fig.update_traces(\n",
    "    hovertemplate=\"<b>Genre:</b> %{y}<br><b>Jahr:</b> %{x}<br><b>Bewertung:</b> %{z:.2f}<extra></extra>\"\n",
    ")\n",
    "\n",
    "fig.show()\n"
   ],
   "id": "fa621127e76fc2a6",
   "outputs": [
    {
     "data": {
      "application/vnd.plotly.v1+json": {
       "data": [
        {
         "coloraxis": "coloraxis",
         "name": "0",
         "x": {
          "dtype": "i4",
          "bdata": "2gcAANsHAADcBwAA3QcAAN4HAADfBwAA4AcAAOEHAADiBwAA4wcAAOQHAADlBwAA5gcAAOcHAADoBwAA"
         },
         "y": [
          "Action",
          "Adventure",
          "Animation",
          "Comedy",
          "Crime",
          "Documentary",
          "Drama",
          "Family",
          "Fantasy",
          "History",
          "Horror",
          "Music",
          "Mystery",
          "Romance",
          "Science Fiction",
          "TV Movie",
          "Thriller",
          "War",
          "Western"
         ],
         "z": {
          "dtype": "f8",
          "bdata": "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",
          "shape": "19, 15"
         },
         "type": "heatmap",
         "xaxis": "x",
         "yaxis": "y",
         "hovertemplate": "<b>Genre:</b> %{y}<br><b>Jahr:</b> %{x}<br><b>Bewertung:</b> %{z:.2f}<extra></extra>"
        }
       ],
       "layout": {
        "template": {
         "data": {
          "histogram2dcontour": [
           {
            "type": "histogram2dcontour",
            "colorbar": {
             "outlinewidth": 0,
             "ticks": ""
            },
            "colorscale": [
             [
              0.0,
              "#0d0887"
             ],
             [
              0.1111111111111111,
              "#46039f"
             ],
             [
              0.2222222222222222,
              "#7201a8"
             ],
             [
              0.3333333333333333,
              "#9c179e"
             ],
             [
              0.4444444444444444,
              "#bd3786"
             ],
             [
              0.5555555555555556,
              "#d8576b"
             ],
             [
              0.6666666666666666,
              "#ed7953"
             ],
             [
              0.7777777777777778,
              "#fb9f3a"
             ],
             [
              0.8888888888888888,
              "#fdca26"
             ],
             [
              1.0,
              "#f0f921"
             ]
            ]
           }
          ],
          "choropleth": [
           {
            "type": "choropleth",
            "colorbar": {
             "outlinewidth": 0,
             "ticks": ""
            }
           }
          ],
          "histogram2d": [
           {
            "type": "histogram2d",
            "colorbar": {
             "outlinewidth": 0,
             "ticks": ""
            },
            "colorscale": [
             [
              0.0,
              "#0d0887"
             ],
             [
              0.1111111111111111,
              "#46039f"
             ],
             [
              0.2222222222222222,
              "#7201a8"
             ],
             [
              0.3333333333333333,
              "#9c179e"
             ],
             [
              0.4444444444444444,
              "#bd3786"
             ],
             [
              0.5555555555555556,
              "#d8576b"
             ],
             [
              0.6666666666666666,
              "#ed7953"
             ],
             [
              0.7777777777777778,
              "#fb9f3a"
             ],
             [
              0.8888888888888888,
              "#fdca26"
             ],
             [
              1.0,
              "#f0f921"
             ]
            ]
           }
          ],
          "heatmap": [
           {
            "type": "heatmap",
            "colorbar": {
             "outlinewidth": 0,
             "ticks": ""
            },
            "colorscale": [
             [
              0.0,
              "#0d0887"
             ],
             [
              0.1111111111111111,
              "#46039f"
             ],
             [
              0.2222222222222222,
              "#7201a8"
             ],
             [
              0.3333333333333333,
              "#9c179e"
             ],
             [
              0.4444444444444444,
              "#bd3786"
             ],
             [
              0.5555555555555556,
              "#d8576b"
             ],
             [
              0.6666666666666666,
              "#ed7953"
             ],
             [
              0.7777777777777778,
              "#fb9f3a"
             ],
             [
              0.8888888888888888,
              "#fdca26"
             ],
             [
              1.0,
              "#f0f921"
             ]
            ]
           }
          ],
          "contourcarpet": [
           {
            "type": "contourcarpet",
            "colorbar": {
             "outlinewidth": 0,
             "ticks": ""
            }
           }
          ],
          "contour": [
           {
            "type": "contour",
            "colorbar": {
             "outlinewidth": 0,
             "ticks": ""
            },
            "colorscale": [
             [
              0.0,
              "#0d0887"
             ],
             [
              0.1111111111111111,
              "#46039f"
             ],
             [
              0.2222222222222222,
              "#7201a8"
             ],
             [
              0.3333333333333333,
              "#9c179e"
             ],
             [
              0.4444444444444444,
              "#bd3786"
             ],
             [
              0.5555555555555556,
              "#d8576b"
             ],
             [
              0.6666666666666666,
              "#ed7953"
             ],
             [
              0.7777777777777778,
              "#fb9f3a"
             ],
             [
              0.8888888888888888,
              "#fdca26"
             ],
             [
              1.0,
              "#f0f921"
             ]
            ]
           }
          ],
          "surface": [
           {
            "type": "surface",
            "colorbar": {
             "outlinewidth": 0,
             "ticks": ""
            },
            "colorscale": [
             [
              0.0,
              "#0d0887"
             ],
             [
              0.1111111111111111,
              "#46039f"
             ],
             [
              0.2222222222222222,
              "#7201a8"
             ],
             [
              0.3333333333333333,
              "#9c179e"
             ],
             [
              0.4444444444444444,
              "#bd3786"
             ],
             [
              0.5555555555555556,
              "#d8576b"
             ],
             [
              0.6666666666666666,
              "#ed7953"
             ],
             [
              0.7777777777777778,
              "#fb9f3a"
             ],
             [
              0.8888888888888888,
              "#fdca26"
             ],
             [
              1.0,
              "#f0f921"
             ]
            ]
           }
          ],
          "mesh3d": [
           {
            "type": "mesh3d",
            "colorbar": {
             "outlinewidth": 0,
             "ticks": ""
            }
           }
          ],
          "scatter": [
           {
            "marker": {
             "line": {
              "color": "#283442"
             }
            },
            "type": "scatter"
           }
          ],
          "parcoords": [
           {
            "type": "parcoords",
            "line": {
             "colorbar": {
              "outlinewidth": 0,
              "ticks": ""
             }
            }
           }
          ],
          "scatterpolargl": [
           {
            "type": "scatterpolargl",
            "marker": {
             "colorbar": {
              "outlinewidth": 0,
              "ticks": ""
             }
            }
           }
          ],
          "bar": [
           {
            "error_x": {
             "color": "#f2f5fa"
            },
            "error_y": {
             "color": "#f2f5fa"
            },
            "marker": {
             "line": {
              "color": "rgb(17,17,17)",
              "width": 0.5
             },
             "pattern": {
              "fillmode": "overlay",
              "size": 10,
              "solidity": 0.2
             }
            },
            "type": "bar"
           }
          ],
          "scattergeo": [
           {
            "type": "scattergeo",
            "marker": {
             "colorbar": {
              "outlinewidth": 0,
              "ticks": ""
             }
            }
           }
          ],
          "scatterpolar": [
           {
            "type": "scatterpolar",
            "marker": {
             "colorbar": {
              "outlinewidth": 0,
              "ticks": ""
             }
            }
           }
          ],
          "histogram": [
           {
            "marker": {
             "pattern": {
              "fillmode": "overlay",
              "size": 10,
              "solidity": 0.2
             }
            },
            "type": "histogram"
           }
          ],
          "scattergl": [
           {
            "marker": {
             "line": {
              "color": "#283442"
             }
            },
            "type": "scattergl"
           }
          ],
          "scatter3d": [
           {
            "type": "scatter3d",
            "line": {
             "colorbar": {
              "outlinewidth": 0,
              "ticks": ""
             }
            },
            "marker": {
             "colorbar": {
              "outlinewidth": 0,
              "ticks": ""
             }
            }
           }
          ],
          "scattermap": [
           {
            "type": "scattermap",
            "marker": {
             "colorbar": {
              "outlinewidth": 0,
              "ticks": ""
             }
            }
           }
          ],
          "scattermapbox": [
           {
            "type": "scattermapbox",
            "marker": {
             "colorbar": {
              "outlinewidth": 0,
              "ticks": ""
             }
            }
           }
          ],
          "scatterternary": [
           {
            "type": "scatterternary",
            "marker": {
             "colorbar": {
              "outlinewidth": 0,
              "ticks": ""
             }
            }
           }
          ],
          "scattercarpet": [
           {
            "type": "scattercarpet",
            "marker": {
             "colorbar": {
              "outlinewidth": 0,
              "ticks": ""
             }
            }
           }
          ],
          "carpet": [
           {
            "aaxis": {
             "endlinecolor": "#A2B1C6",
             "gridcolor": "#506784",
             "linecolor": "#506784",
             "minorgridcolor": "#506784",
             "startlinecolor": "#A2B1C6"
            },
            "baxis": {
             "endlinecolor": "#A2B1C6",
             "gridcolor": "#506784",
             "linecolor": "#506784",
             "minorgridcolor": "#506784",
             "startlinecolor": "#A2B1C6"
            },
            "type": "carpet"
           }
          ],
          "table": [
           {
            "cells": {
             "fill": {
              "color": "#506784"
             },
             "line": {
              "color": "rgb(17,17,17)"
             }
            },
            "header": {
             "fill": {
              "color": "#2a3f5f"
             },
             "line": {
              "color": "rgb(17,17,17)"
             }
            },
            "type": "table"
           }
          ],
          "barpolar": [
           {
            "marker": {
             "line": {
              "color": "rgb(17,17,17)",
              "width": 0.5
             },
             "pattern": {
              "fillmode": "overlay",
              "size": 10,
              "solidity": 0.2
             }
            },
            "type": "barpolar"
           }
          ],
          "pie": [
           {
            "automargin": true,
            "type": "pie"
           }
          ]
         },
         "layout": {
          "autotypenumbers": "strict",
          "colorway": [
           "#636efa",
           "#EF553B",
           "#00cc96",
           "#ab63fa",
           "#FFA15A",
           "#19d3f3",
           "#FF6692",
           "#B6E880",
           "#FF97FF",
           "#FECB52"
          ],
          "font": {
           "color": "#f2f5fa"
          },
          "hovermode": "closest",
          "hoverlabel": {
           "align": "left"
          },
          "paper_bgcolor": "rgb(17,17,17)",
          "plot_bgcolor": "rgb(17,17,17)",
          "polar": {
           "bgcolor": "rgb(17,17,17)",
           "angularaxis": {
            "gridcolor": "#506784",
            "linecolor": "#506784",
            "ticks": ""
           },
           "radialaxis": {
            "gridcolor": "#506784",
            "linecolor": "#506784",
            "ticks": ""
           }
          },
          "ternary": {
           "bgcolor": "rgb(17,17,17)",
           "aaxis": {
            "gridcolor": "#506784",
            "linecolor": "#506784",
            "ticks": ""
           },
           "baxis": {
            "gridcolor": "#506784",
            "linecolor": "#506784",
            "ticks": ""
           },
           "caxis": {
            "gridcolor": "#506784",
            "linecolor": "#506784",
            "ticks": ""
           }
          },
          "coloraxis": {
           "colorbar": {
            "outlinewidth": 0,
            "ticks": ""
           }
          },
          "colorscale": {
           "sequential": [
            [
             0.0,
             "#0d0887"
            ],
            [
             0.1111111111111111,
             "#46039f"
            ],
            [
             0.2222222222222222,
             "#7201a8"
            ],
            [
             0.3333333333333333,
             "#9c179e"
            ],
            [
             0.4444444444444444,
             "#bd3786"
            ],
            [
             0.5555555555555556,
             "#d8576b"
            ],
            [
             0.6666666666666666,
             "#ed7953"
            ],
            [
             0.7777777777777778,
             "#fb9f3a"
            ],
            [
             0.8888888888888888,
             "#fdca26"
            ],
            [
             1.0,
             "#f0f921"
            ]
           ],
           "sequentialminus": [
            [
             0.0,
             "#0d0887"
            ],
            [
             0.1111111111111111,
             "#46039f"
            ],
            [
             0.2222222222222222,
             "#7201a8"
            ],
            [
             0.3333333333333333,
             "#9c179e"
            ],
            [
             0.4444444444444444,
             "#bd3786"
            ],
            [
             0.5555555555555556,
             "#d8576b"
            ],
            [
             0.6666666666666666,
             "#ed7953"
            ],
            [
             0.7777777777777778,
             "#fb9f3a"
            ],
            [
             0.8888888888888888,
             "#fdca26"
            ],
            [
             1.0,
             "#f0f921"
            ]
           ],
           "diverging": [
            [
             0,
             "#8e0152"
            ],
            [
             0.1,
             "#c51b7d"
            ],
            [
             0.2,
             "#de77ae"
            ],
            [
             0.3,
             "#f1b6da"
            ],
            [
             0.4,
             "#fde0ef"
            ],
            [
             0.5,
             "#f7f7f7"
            ],
            [
             0.6,
             "#e6f5d0"
            ],
            [
             0.7,
             "#b8e186"
            ],
            [
             0.8,
             "#7fbc41"
            ],
            [
             0.9,
             "#4d9221"
            ],
            [
             1,
             "#276419"
            ]
           ]
          },
          "xaxis": {
           "gridcolor": "#283442",
           "linecolor": "#506784",
           "ticks": "",
           "title": {
            "standoff": 15
           },
           "zerolinecolor": "#283442",
           "automargin": true,
           "zerolinewidth": 2
          },
          "yaxis": {
           "gridcolor": "#283442",
           "linecolor": "#506784",
           "ticks": "",
           "title": {
            "standoff": 15
           },
           "zerolinecolor": "#283442",
           "automargin": true,
           "zerolinewidth": 2
          },
          "scene": {
           "xaxis": {
            "backgroundcolor": "rgb(17,17,17)",
            "gridcolor": "#506784",
            "linecolor": "#506784",
            "showbackground": true,
            "ticks": "",
            "zerolinecolor": "#C8D4E3",
            "gridwidth": 2
           },
           "yaxis": {
            "backgroundcolor": "rgb(17,17,17)",
            "gridcolor": "#506784",
            "linecolor": "#506784",
            "showbackground": true,
            "ticks": "",
            "zerolinecolor": "#C8D4E3",
            "gridwidth": 2
           },
           "zaxis": {
            "backgroundcolor": "rgb(17,17,17)",
            "gridcolor": "#506784",
            "linecolor": "#506784",
            "showbackground": true,
            "ticks": "",
            "zerolinecolor": "#C8D4E3",
            "gridwidth": 2
           }
          },
          "shapedefaults": {
           "line": {
            "color": "#f2f5fa"
           }
          },
          "annotationdefaults": {
           "arrowcolor": "#f2f5fa",
           "arrowhead": 0,
           "arrowwidth": 1
          },
          "geo": {
           "bgcolor": "rgb(17,17,17)",
           "landcolor": "rgb(17,17,17)",
           "subunitcolor": "#506784",
           "showland": true,
           "showlakes": true,
           "lakecolor": "rgb(17,17,17)"
          },
          "title": {
           "x": 0.05
          },
          "updatemenudefaults": {
           "bgcolor": "#506784",
           "borderwidth": 0
          },
          "sliderdefaults": {
           "bgcolor": "#C8D4E3",
           "borderwidth": 1,
           "bordercolor": "rgb(17,17,17)",
           "tickwidth": 0
          },
          "mapbox": {
           "style": "dark"
          }
         }
        },
        "xaxis": {
         "anchor": "y",
         "domain": [
          0.0,
          1.0
         ],
         "scaleanchor": "y",
         "constrain": "domain",
         "title": {
          "text": "Jahr"
         }
        },
        "yaxis": {
         "anchor": "x",
         "domain": [
          0.0,
          1.0
         ],
         "autorange": "reversed",
         "constrain": "domain",
         "title": {
          "text": "Genre"
         }
        },
        "coloraxis": {
         "colorbar": {
          "title": {
           "text": "Durchschnittliche Bewertung"
          }
         },
         "colorscale": [
          [
           0.0,
           "#440154"
          ],
          [
           0.1111111111111111,
           "#482878"
          ],
          [
           0.2222222222222222,
           "#3e4989"
          ],
          [
           0.3333333333333333,
           "#31688e"
          ],
          [
           0.4444444444444444,
           "#26828e"
          ],
          [
           0.5555555555555556,
           "#1f9e89"
          ],
          [
           0.6666666666666666,
           "#35b779"
          ],
          [
           0.7777777777777778,
           "#6ece58"
          ],
          [
           0.8888888888888888,
           "#b5de2b"
          ],
          [
           1.0,
           "#fde725"
          ]
         ],
         "cmin": 6,
         "cmax": 8
        },
        "title": {
         "text": "Heatmap der Durchschnittlichen Bewertungen pro Genre und Jahr"
        }
       },
       "config": {
        "plotlyServerURL": "https://plot.ly"
       }
      }
     },
     "metadata": {},
     "output_type": "display_data"
    }
   ],
   "execution_count": 20
  },
  {
   "metadata": {},
   "cell_type": "markdown",
   "source": "#### Genre-Häufigkeiten",
   "id": "55ce9c7a073b10e"
  },
  {
   "metadata": {
    "ExecuteTime": {
     "end_time": "2025-05-21T11:33:09.820961Z",
     "start_time": "2025-05-21T11:33:08.018001Z"
    }
   },
   "cell_type": "code",
   "source": [
    "import json\n",
    "import pandas as pd\n",
    "import plotly.express as px\n",
    "\n",
    "# Pfad zur JSON-Datei mit allen europäischen Filmen\n",
    "dir_data = \"./data/raw/fragestellung_02/2025-05-19_version2_all_european_movies.json\"\n",
    "\n",
    "# Daten laden\n",
    "with open(dir_data, 'r', encoding='utf-8') as f:\n",
    "    all_movies = json.load(f)\n",
    "\n",
    "# Filtern aller Filme die mehr als einmal vorkommen:\n",
    "\n",
    "all_movies = [next(movie for movie in all_movies if movie[\"id\"] == id) for id in set([movie[\"id\"] for movie in all_movies])]\n",
    "print(f\"Found {len(all_movies)} unique movies\")\n",
    "\n",
    "# DataFrame erstellen und Jahr extrahieren\n",
    "df = pd.DataFrame(all_movies)\n",
    "df['release_date'] = pd.to_datetime(df['release_date']).dt.year\n",
    "\n",
    "# Genre-IDs \"exploden\"\n",
    "df = df.explode('genre_ids')\n",
    "\n",
    "# Genre-Mapping laden (TMDb Genre-Liste)\n",
    "with open('./data/processed/fragestellung_02/all_genres.json', 'r', encoding='utf-8') as f:\n",
    "    gdata = json.load(f)\n",
    "\n",
    "df_genres = pd.DataFrame(gdata['genres'])\n",
    "df_genres = df_genres.rename(columns={'id':'genre_ids','name':'genre_name'})\n",
    "\n",
    "df = df.merge(df_genres[['genre_ids','genre_name']], on='genre_ids')\n",
    "\n",
    "# Gesamt-Häufigkeiten pro Genre\n",
    "genre_counts = df['genre_name'].value_counts().reset_index()\n",
    "genre_counts.columns = ['genre_name','count']\n",
    "\n",
    "fig_total = px.bar(\n",
    "    genre_counts,\n",
    "    x='genre_name',\n",
    "    y='count',\n",
    "    title='Gesamt-Häufigkeit pro Genre',\n",
    "    labels={'genre_name':'Genre','count':'Anzahl Filme'}\n",
    ")\n",
    "fig_total.update_layout(xaxis_tickangle=-45)\n",
    "fig_total.show()\n"
   ],
   "id": "d2c5fd3da2bf0b19",
   "outputs": [
    {
     "name": "stdout",
     "output_type": "stream",
     "text": [
      "Found 1781 unique movies\n"
     ]
    },
    {
     "data": {
      "application/vnd.plotly.v1+json": {
       "data": [
        {
         "hovertemplate": "Genre=%{x}<br>Anzahl Filme=%{y}<extra></extra>",
         "legendgroup": "",
         "marker": {
          "color": "#636efa",
          "pattern": {
           "shape": ""
          }
         },
         "name": "",
         "orientation": "v",
         "showlegend": false,
         "textposition": "auto",
         "x": [
          "Drama",
          "Comedy",
          "Action",
          "Thriller",
          "Adventure",
          "Romance",
          "Crime",
          "Fantasy",
          "Horror",
          "Family",
          "Animation",
          "Science Fiction",
          "Mystery",
          "Documentary",
          "History",
          "Music",
          "War",
          "TV Movie",
          "Western"
         ],
         "xaxis": "x",
         "y": {
          "dtype": "i2",
          "bdata": "ygKpAtQBkAEtARYB8gDKAMQAwQCkAKQAdwBKAD8ALgAnABkADgA="
         },
         "yaxis": "y",
         "type": "bar"
        }
       ],
       "layout": {
        "template": {
         "data": {
          "histogram2dcontour": [
           {
            "type": "histogram2dcontour",
            "colorbar": {
             "outlinewidth": 0,
             "ticks": ""
            },
            "colorscale": [
             [
              0.0,
              "#0d0887"
             ],
             [
              0.1111111111111111,
              "#46039f"
             ],
             [
              0.2222222222222222,
              "#7201a8"
             ],
             [
              0.3333333333333333,
              "#9c179e"
             ],
             [
              0.4444444444444444,
              "#bd3786"
             ],
             [
              0.5555555555555556,
              "#d8576b"
             ],
             [
              0.6666666666666666,
              "#ed7953"
             ],
             [
              0.7777777777777778,
              "#fb9f3a"
             ],
             [
              0.8888888888888888,
              "#fdca26"
             ],
             [
              1.0,
              "#f0f921"
             ]
            ]
           }
          ],
          "choropleth": [
           {
            "type": "choropleth",
            "colorbar": {
             "outlinewidth": 0,
             "ticks": ""
            }
           }
          ],
          "histogram2d": [
           {
            "type": "histogram2d",
            "colorbar": {
             "outlinewidth": 0,
             "ticks": ""
            },
            "colorscale": [
             [
              0.0,
              "#0d0887"
             ],
             [
              0.1111111111111111,
              "#46039f"
             ],
             [
              0.2222222222222222,
              "#7201a8"
             ],
             [
              0.3333333333333333,
              "#9c179e"
             ],
             [
              0.4444444444444444,
              "#bd3786"
             ],
             [
              0.5555555555555556,
              "#d8576b"
             ],
             [
              0.6666666666666666,
              "#ed7953"
             ],
             [
              0.7777777777777778,
              "#fb9f3a"
             ],
             [
              0.8888888888888888,
              "#fdca26"
             ],
             [
              1.0,
              "#f0f921"
             ]
            ]
           }
          ],
          "heatmap": [
           {
            "type": "heatmap",
            "colorbar": {
             "outlinewidth": 0,
             "ticks": ""
            },
            "colorscale": [
             [
              0.0,
              "#0d0887"
             ],
             [
              0.1111111111111111,
              "#46039f"
             ],
             [
              0.2222222222222222,
              "#7201a8"
             ],
             [
              0.3333333333333333,
              "#9c179e"
             ],
             [
              0.4444444444444444,
              "#bd3786"
             ],
             [
              0.5555555555555556,
              "#d8576b"
             ],
             [
              0.6666666666666666,
              "#ed7953"
             ],
             [
              0.7777777777777778,
              "#fb9f3a"
             ],
             [
              0.8888888888888888,
              "#fdca26"
             ],
             [
              1.0,
              "#f0f921"
             ]
            ]
           }
          ],
          "contourcarpet": [
           {
            "type": "contourcarpet",
            "colorbar": {
             "outlinewidth": 0,
             "ticks": ""
            }
           }
          ],
          "contour": [
           {
            "type": "contour",
            "colorbar": {
             "outlinewidth": 0,
             "ticks": ""
            },
            "colorscale": [
             [
              0.0,
              "#0d0887"
             ],
             [
              0.1111111111111111,
              "#46039f"
             ],
             [
              0.2222222222222222,
              "#7201a8"
             ],
             [
              0.3333333333333333,
              "#9c179e"
             ],
             [
              0.4444444444444444,
              "#bd3786"
             ],
             [
              0.5555555555555556,
              "#d8576b"
             ],
             [
              0.6666666666666666,
              "#ed7953"
             ],
             [
              0.7777777777777778,
              "#fb9f3a"
             ],
             [
              0.8888888888888888,
              "#fdca26"
             ],
             [
              1.0,
              "#f0f921"
             ]
            ]
           }
          ],
          "surface": [
           {
            "type": "surface",
            "colorbar": {
             "outlinewidth": 0,
             "ticks": ""
            },
            "colorscale": [
             [
              0.0,
              "#0d0887"
             ],
             [
              0.1111111111111111,
              "#46039f"
             ],
             [
              0.2222222222222222,
              "#7201a8"
             ],
             [
              0.3333333333333333,
              "#9c179e"
             ],
             [
              0.4444444444444444,
              "#bd3786"
             ],
             [
              0.5555555555555556,
              "#d8576b"
             ],
             [
              0.6666666666666666,
              "#ed7953"
             ],
             [
              0.7777777777777778,
              "#fb9f3a"
             ],
             [
              0.8888888888888888,
              "#fdca26"
             ],
             [
              1.0,
              "#f0f921"
             ]
            ]
           }
          ],
          "mesh3d": [
           {
            "type": "mesh3d",
            "colorbar": {
             "outlinewidth": 0,
             "ticks": ""
            }
           }
          ],
          "scatter": [
           {
            "marker": {
             "line": {
              "color": "#283442"
             }
            },
            "type": "scatter"
           }
          ],
          "parcoords": [
           {
            "type": "parcoords",
            "line": {
             "colorbar": {
              "outlinewidth": 0,
              "ticks": ""
             }
            }
           }
          ],
          "scatterpolargl": [
           {
            "type": "scatterpolargl",
            "marker": {
             "colorbar": {
              "outlinewidth": 0,
              "ticks": ""
             }
            }
           }
          ],
          "bar": [
           {
            "error_x": {
             "color": "#f2f5fa"
            },
            "error_y": {
             "color": "#f2f5fa"
            },
            "marker": {
             "line": {
              "color": "rgb(17,17,17)",
              "width": 0.5
             },
             "pattern": {
              "fillmode": "overlay",
              "size": 10,
              "solidity": 0.2
             }
            },
            "type": "bar"
           }
          ],
          "scattergeo": [
           {
            "type": "scattergeo",
            "marker": {
             "colorbar": {
              "outlinewidth": 0,
              "ticks": ""
             }
            }
           }
          ],
          "scatterpolar": [
           {
            "type": "scatterpolar",
            "marker": {
             "colorbar": {
              "outlinewidth": 0,
              "ticks": ""
             }
            }
           }
          ],
          "histogram": [
           {
            "marker": {
             "pattern": {
              "fillmode": "overlay",
              "size": 10,
              "solidity": 0.2
             }
            },
            "type": "histogram"
           }
          ],
          "scattergl": [
           {
            "marker": {
             "line": {
              "color": "#283442"
             }
            },
            "type": "scattergl"
           }
          ],
          "scatter3d": [
           {
            "type": "scatter3d",
            "line": {
             "colorbar": {
              "outlinewidth": 0,
              "ticks": ""
             }
            },
            "marker": {
             "colorbar": {
              "outlinewidth": 0,
              "ticks": ""
             }
            }
           }
          ],
          "scattermap": [
           {
            "type": "scattermap",
            "marker": {
             "colorbar": {
              "outlinewidth": 0,
              "ticks": ""
             }
            }
           }
          ],
          "scattermapbox": [
           {
            "type": "scattermapbox",
            "marker": {
             "colorbar": {
              "outlinewidth": 0,
              "ticks": ""
             }
            }
           }
          ],
          "scatterternary": [
           {
            "type": "scatterternary",
            "marker": {
             "colorbar": {
              "outlinewidth": 0,
              "ticks": ""
             }
            }
           }
          ],
          "scattercarpet": [
           {
            "type": "scattercarpet",
            "marker": {
             "colorbar": {
              "outlinewidth": 0,
              "ticks": ""
             }
            }
           }
          ],
          "carpet": [
           {
            "aaxis": {
             "endlinecolor": "#A2B1C6",
             "gridcolor": "#506784",
             "linecolor": "#506784",
             "minorgridcolor": "#506784",
             "startlinecolor": "#A2B1C6"
            },
            "baxis": {
             "endlinecolor": "#A2B1C6",
             "gridcolor": "#506784",
             "linecolor": "#506784",
             "minorgridcolor": "#506784",
             "startlinecolor": "#A2B1C6"
            },
            "type": "carpet"
           }
          ],
          "table": [
           {
            "cells": {
             "fill": {
              "color": "#506784"
             },
             "line": {
              "color": "rgb(17,17,17)"
             }
            },
            "header": {
             "fill": {
              "color": "#2a3f5f"
             },
             "line": {
              "color": "rgb(17,17,17)"
             }
            },
            "type": "table"
           }
          ],
          "barpolar": [
           {
            "marker": {
             "line": {
              "color": "rgb(17,17,17)",
              "width": 0.5
             },
             "pattern": {
              "fillmode": "overlay",
              "size": 10,
              "solidity": 0.2
             }
            },
            "type": "barpolar"
           }
          ],
          "pie": [
           {
            "automargin": true,
            "type": "pie"
           }
          ]
         },
         "layout": {
          "autotypenumbers": "strict",
          "colorway": [
           "#636efa",
           "#EF553B",
           "#00cc96",
           "#ab63fa",
           "#FFA15A",
           "#19d3f3",
           "#FF6692",
           "#B6E880",
           "#FF97FF",
           "#FECB52"
          ],
          "font": {
           "color": "#f2f5fa"
          },
          "hovermode": "closest",
          "hoverlabel": {
           "align": "left"
          },
          "paper_bgcolor": "rgb(17,17,17)",
          "plot_bgcolor": "rgb(17,17,17)",
          "polar": {
           "bgcolor": "rgb(17,17,17)",
           "angularaxis": {
            "gridcolor": "#506784",
            "linecolor": "#506784",
            "ticks": ""
           },
           "radialaxis": {
            "gridcolor": "#506784",
            "linecolor": "#506784",
            "ticks": ""
           }
          },
          "ternary": {
           "bgcolor": "rgb(17,17,17)",
           "aaxis": {
            "gridcolor": "#506784",
            "linecolor": "#506784",
            "ticks": ""
           },
           "baxis": {
            "gridcolor": "#506784",
            "linecolor": "#506784",
            "ticks": ""
           },
           "caxis": {
            "gridcolor": "#506784",
            "linecolor": "#506784",
            "ticks": ""
           }
          },
          "coloraxis": {
           "colorbar": {
            "outlinewidth": 0,
            "ticks": ""
           }
          },
          "colorscale": {
           "sequential": [
            [
             0.0,
             "#0d0887"
            ],
            [
             0.1111111111111111,
             "#46039f"
            ],
            [
             0.2222222222222222,
             "#7201a8"
            ],
            [
             0.3333333333333333,
             "#9c179e"
            ],
            [
             0.4444444444444444,
             "#bd3786"
            ],
            [
             0.5555555555555556,
             "#d8576b"
            ],
            [
             0.6666666666666666,
             "#ed7953"
            ],
            [
             0.7777777777777778,
             "#fb9f3a"
            ],
            [
             0.8888888888888888,
             "#fdca26"
            ],
            [
             1.0,
             "#f0f921"
            ]
           ],
           "sequentialminus": [
            [
             0.0,
             "#0d0887"
            ],
            [
             0.1111111111111111,
             "#46039f"
            ],
            [
             0.2222222222222222,
             "#7201a8"
            ],
            [
             0.3333333333333333,
             "#9c179e"
            ],
            [
             0.4444444444444444,
             "#bd3786"
            ],
            [
             0.5555555555555556,
             "#d8576b"
            ],
            [
             0.6666666666666666,
             "#ed7953"
            ],
            [
             0.7777777777777778,
             "#fb9f3a"
            ],
            [
             0.8888888888888888,
             "#fdca26"
            ],
            [
             1.0,
             "#f0f921"
            ]
           ],
           "diverging": [
            [
             0,
             "#8e0152"
            ],
            [
             0.1,
             "#c51b7d"
            ],
            [
             0.2,
             "#de77ae"
            ],
            [
             0.3,
             "#f1b6da"
            ],
            [
             0.4,
             "#fde0ef"
            ],
            [
             0.5,
             "#f7f7f7"
            ],
            [
             0.6,
             "#e6f5d0"
            ],
            [
             0.7,
             "#b8e186"
            ],
            [
             0.8,
             "#7fbc41"
            ],
            [
             0.9,
             "#4d9221"
            ],
            [
             1,
             "#276419"
            ]
           ]
          },
          "xaxis": {
           "gridcolor": "#283442",
           "linecolor": "#506784",
           "ticks": "",
           "title": {
            "standoff": 15
           },
           "zerolinecolor": "#283442",
           "automargin": true,
           "zerolinewidth": 2
          },
          "yaxis": {
           "gridcolor": "#283442",
           "linecolor": "#506784",
           "ticks": "",
           "title": {
            "standoff": 15
           },
           "zerolinecolor": "#283442",
           "automargin": true,
           "zerolinewidth": 2
          },
          "scene": {
           "xaxis": {
            "backgroundcolor": "rgb(17,17,17)",
            "gridcolor": "#506784",
            "linecolor": "#506784",
            "showbackground": true,
            "ticks": "",
            "zerolinecolor": "#C8D4E3",
            "gridwidth": 2
           },
           "yaxis": {
            "backgroundcolor": "rgb(17,17,17)",
            "gridcolor": "#506784",
            "linecolor": "#506784",
            "showbackground": true,
            "ticks": "",
            "zerolinecolor": "#C8D4E3",
            "gridwidth": 2
           },
           "zaxis": {
            "backgroundcolor": "rgb(17,17,17)",
            "gridcolor": "#506784",
            "linecolor": "#506784",
            "showbackground": true,
            "ticks": "",
            "zerolinecolor": "#C8D4E3",
            "gridwidth": 2
           }
          },
          "shapedefaults": {
           "line": {
            "color": "#f2f5fa"
           }
          },
          "annotationdefaults": {
           "arrowcolor": "#f2f5fa",
           "arrowhead": 0,
           "arrowwidth": 1
          },
          "geo": {
           "bgcolor": "rgb(17,17,17)",
           "landcolor": "rgb(17,17,17)",
           "subunitcolor": "#506784",
           "showland": true,
           "showlakes": true,
           "lakecolor": "rgb(17,17,17)"
          },
          "title": {
           "x": 0.05
          },
          "updatemenudefaults": {
           "bgcolor": "#506784",
           "borderwidth": 0
          },
          "sliderdefaults": {
           "bgcolor": "#C8D4E3",
           "borderwidth": 1,
           "bordercolor": "rgb(17,17,17)",
           "tickwidth": 0
          },
          "mapbox": {
           "style": "dark"
          }
         }
        },
        "xaxis": {
         "anchor": "y",
         "domain": [
          0.0,
          1.0
         ],
         "title": {
          "text": "Genre"
         },
         "tickangle": -45
        },
        "yaxis": {
         "anchor": "x",
         "domain": [
          0.0,
          1.0
         ],
         "title": {
          "text": "Anzahl Filme"
         }
        },
        "legend": {
         "tracegroupgap": 0
        },
        "title": {
         "text": "Gesamt-Häufigkeit pro Genre"
        },
        "barmode": "relative"
       },
       "config": {
        "plotlyServerURL": "https://plot.ly"
       }
      }
     },
     "metadata": {},
     "output_type": "display_data"
    }
   ],
   "execution_count": 4
  },
  {
   "metadata": {},
   "cell_type": "markdown",
   "source": "#### Jährliche Häufigkeiten gestapelt",
   "id": "6d276dc6ac3b30da"
  },
  {
   "metadata": {
    "ExecuteTime": {
     "end_time": "2025-05-21T11:33:33.325643Z",
     "start_time": "2025-05-21T11:33:33.227319Z"
    }
   },
   "cell_type": "code",
   "source": [
    "yearly_counts = df.groupby(['release_date','genre_name']).size().reset_index(name='count')\n",
    "\n",
    "fig_yearly = px.bar(\n",
    "    yearly_counts,\n",
    "    x='release_date',\n",
    "    y='count',\n",
    "    color='genre_name',\n",
    "    barmode='stack',\n",
    "    title='Genre-Häufigkeit pro Jahr',\n",
    "    labels={'release_date':'Jahr','count':'Anzahl Filme','genre_name':'Genre'}\n",
    ")\n",
    "fig_yearly.show()\n",
    "\n",
    "# fig_yearly = px.line(\n",
    "#     yearly_counts,\n",
    "#     x='release_date',\n",
    "#     y='count',\n",
    "#     color='genre_name',\n",
    "#     title='Genre-Häufigkeit pro Jahr',\n",
    "#     labels={'release_date':'Jahr','count':'Anzahl Filme','genre_name':'Genre'}\n",
    "# )\n",
    "# fig_yearly.update_layout(\n",
    "#     xaxis_title='Jahr',\n",
    "#     yaxis_title='Anzahl Filme',\n",
    "#     legend_title='Genre',\n",
    "#     hovermode='closest'  # Zeigt nur den nächsten Datenpunkt\n",
    "# )\n",
    "#\n",
    "# fig_yearly.update_traces(\n",
    "#     mode='lines+markers',\n",
    "#     hovertemplate='<b>Genre:</b> %{customdata}<br>' +\n",
    "#                   '<b>Jahr:</b> %{x}<br>' +\n",
    "#                   '<b>Anzahl:</b> %{y}<extra></extra>'\n",
    "# )\n",
    "#\n",
    "# for trace in fig_yearly.data:\n",
    "#     trace.customdata = [trace.name] * len(trace.x)\n",
    "#\n",
    "# fig_yearly.show()\n",
    "\n"
   ],
   "id": "30b23dbce291c5a6",
   "outputs": [
    {
     "data": {
      "application/vnd.plotly.v1+json": {
       "data": [
        {
         "hovertemplate": "Genre=Action<br>Jahr=%{x}<br>Anzahl Filme=%{y}<extra></extra>",
         "legendgroup": "Action",
         "marker": {
          "color": "#636efa",
          "pattern": {
           "shape": ""
          }
         },
         "name": "Action",
         "orientation": "v",
         "showlegend": true,
         "textposition": "auto",
         "x": {
          "dtype": "i4",
          "bdata": "vAcAAL0HAAC+BwAAvwcAAMAHAADBBwAAwgcAAMMHAADEBwAAxQcAAMYHAADHBwAAyAcAAMoHAADLBwAAzAcAAM0HAADOBwAAzwcAANAHAADRBwAA0gcAANMHAADUBwAA1QcAANYHAADXBwAA2AcAANkHAADaBwAA2wcAANwHAADdBwAA3gcAAN8HAADgBwAA4QcAAOIHAADjBwAA5AcAAOUHAADmBwAA5wcAAOgHAAA="
         },
         "xaxis": "x",
         "y": {
          "dtype": "i1",
          "bdata": "AQQCAwUCAQECAQEBAQMDAQIEAwIHBAUGCAYNDQYMCg0NEA0bFx8cGSEiIyw="
         },
         "yaxis": "y",
         "type": "bar"
        },
        {
         "hovertemplate": "Genre=Adventure<br>Jahr=%{x}<br>Anzahl Filme=%{y}<extra></extra>",
         "legendgroup": "Adventure",
         "marker": {
          "color": "#EF553B",
          "pattern": {
           "shape": ""
          }
         },
         "name": "Adventure",
         "orientation": "v",
         "showlegend": true,
         "textposition": "auto",
         "x": {
          "dtype": "i4",
          "bdata": "vAcAAL0HAAC/BwAAwAcAAMEHAADCBwAAwwcAAMUHAADGBwAAxwcAAMgHAADJBwAAygcAAMsHAADNBwAAzwcAANAHAADRBwAA0gcAANMHAADUBwAA1QcAANYHAADXBwAA2AcAANkHAADaBwAA2wcAANwHAADdBwAA3gcAAN8HAADgBwAA4QcAAOIHAADjBwAA5AcAAOUHAADmBwAA5wcAAOgHAAA="
         },
         "xaxis": "x",
         "y": {
          "dtype": "i1",
          "bdata": "AQICBAEBAQIBAQEBAgECAQMEBAYJBAUICgYJBgYCCwsQEBYRERUYFBQ="
         },
         "yaxis": "y",
         "type": "bar"
        },
        {
         "hovertemplate": "Genre=Comedy<br>Jahr=%{x}<br>Anzahl Filme=%{y}<extra></extra>",
         "legendgroup": "Comedy",
         "marker": {
          "color": "#00cc96",
          "pattern": {
           "shape": ""
          }
         },
         "name": "Comedy",
         "orientation": "v",
         "showlegend": true,
         "textposition": "auto",
         "x": {
          "dtype": "i4",
          "bdata": "vAcAAL0HAAC+BwAAvwcAAMAHAADBBwAAwgcAAMMHAADEBwAAxQcAAMYHAADHBwAAyAcAAMkHAADKBwAAywcAAMwHAADNBwAAzgcAAM8HAADQBwAA0QcAANIHAADTBwAA1AcAANUHAADWBwAA1wcAANgHAADZBwAA2gcAANsHAADcBwAA3QcAAN4HAADfBwAA4AcAAOEHAADiBwAA4wcAAOQHAADlBwAA5gcAAOcHAADoBwAA"
         },
         "xaxis": "x",
         "y": {
          "dtype": "i1",
          "bdata": "AwUEBQYDBAYDAgIFBgMDBQIDBAgGDwkRFgcVEgkQEhgVGygxKCIfIiAWHxoe"
         },
         "yaxis": "y",
         "type": "bar"
        },
        {
         "hovertemplate": "Genre=Crime<br>Jahr=%{x}<br>Anzahl Filme=%{y}<extra></extra>",
         "legendgroup": "Crime",
         "marker": {
          "color": "#ab63fa",
          "pattern": {
           "shape": ""
          }
         },
         "name": "Crime",
         "orientation": "v",
         "showlegend": true,
         "textposition": "auto",
         "x": {
          "dtype": "i4",
          "bdata": "vAcAAL0HAAC+BwAAvwcAAMAHAADBBwAAwgcAAMMHAADEBwAAxQcAAMYHAADHBwAAywcAAMwHAADNBwAAzwcAANAHAADRBwAA0gcAANMHAADUBwAA1QcAANYHAADXBwAA2AcAANkHAADaBwAA2wcAANwHAADdBwAA3gcAAN8HAADgBwAA4QcAAOIHAADjBwAA5AcAAOUHAADmBwAA5wcAAOgHAAA="
         },
         "xaxis": "x",
         "y": {
          "dtype": "i1",
          "bdata": "AQEDAQICAQEBAQECAgECAwIDAwMIBgkGCAIEAwkIBwUJEA0VCgsQDxQ="
         },
         "yaxis": "y",
         "type": "bar"
        },
        {
         "hovertemplate": "Genre=Documentary<br>Jahr=%{x}<br>Anzahl Filme=%{y}<extra></extra>",
         "legendgroup": "Documentary",
         "marker": {
          "color": "#FFA15A",
          "pattern": {
           "shape": ""
          }
         },
         "name": "Documentary",
         "orientation": "v",
         "showlegend": true,
         "textposition": "auto",
         "x": {
          "dtype": "i4",
          "bdata": "vAcAAMkHAADLBwAAzgcAANQHAADWBwAA2QcAANoHAADbBwAA3AcAAN0HAADeBwAA3wcAAOAHAADhBwAA4gcAAOMHAADkBwAA5QcAAOYHAADnBwAA"
         },
         "xaxis": "x",
         "y": {
          "dtype": "i1",
          "bdata": "AQEBAQECAgICAwQOCAYEAgIJAwMD"
         },
         "yaxis": "y",
         "type": "bar"
        },
        {
         "hovertemplate": "Genre=Drama<br>Jahr=%{x}<br>Anzahl Filme=%{y}<extra></extra>",
         "legendgroup": "Drama",
         "marker": {
          "color": "#19d3f3",
          "pattern": {
           "shape": ""
          }
         },
         "name": "Drama",
         "orientation": "v",
         "showlegend": true,
         "textposition": "auto",
         "x": {
          "dtype": "i4",
          "bdata": "vAcAAL0HAAC+BwAAvwcAAMAHAADBBwAAwgcAAMMHAADEBwAAxQcAAMYHAADHBwAAyAcAAMkHAADKBwAAywcAAMwHAADNBwAAzgcAAM8HAADQBwAA0QcAANIHAADTBwAA1AcAANUHAADWBwAA1wcAANgHAADZBwAA2gcAANsHAADcBwAA3QcAAN4HAADfBwAA4AcAAOEHAADiBwAA4wcAAOQHAADlBwAA5gcAAOcHAADoBwAA"
         },
         "xaxis": "x",
         "y": {
          "dtype": "i1",
          "bdata": "AgEBAgECAQIBAgIDAwQEBAMHCAMFCwkPEhMWEBEPEh0QExwoLyUoKigkKScn"
         },
         "yaxis": "y",
         "type": "bar"
        },
        {
         "hovertemplate": "Genre=Fantasy<br>Jahr=%{x}<br>Anzahl Filme=%{y}<extra></extra>",
         "legendgroup": "Fantasy",
         "marker": {
          "color": "#FF6692",
          "pattern": {
           "shape": ""
          }
         },
         "name": "Fantasy",
         "orientation": "v",
         "showlegend": true,
         "textposition": "auto",
         "x": {
          "dtype": "i4",
          "bdata": "vAcAAMAHAADCBwAAwwcAAMQHAADFBwAAygcAAMwHAADNBwAAzgcAAM8HAADQBwAA0QcAANIHAADTBwAA1AcAANUHAADWBwAA1wcAANgHAADZBwAA2gcAANsHAADcBwAA3QcAAN4HAADfBwAA4AcAAOEHAADiBwAA4wcAAOQHAADlBwAA5gcAAOcHAADoBwAA"
         },
         "xaxis": "x",
         "y": {
          "dtype": "i1",
          "bdata": "AQIBAQEBAgEBAQECBAQBBQQEBgMGBQYHBAIICAkNCg4TEQ8N"
         },
         "yaxis": "y",
         "type": "bar"
        },
        {
         "hovertemplate": "Genre=Music<br>Jahr=%{x}<br>Anzahl Filme=%{y}<extra></extra>",
         "legendgroup": "Music",
         "marker": {
          "color": "#B6E880",
          "pattern": {
           "shape": ""
          }
         },
         "name": "Music",
         "orientation": "v",
         "showlegend": true,
         "textposition": "auto",
         "x": {
          "dtype": "i4",
          "bdata": "vAcAAL8HAADABwAAxgcAANQHAADWBwAA2QcAANoHAADbBwAA3AcAAN4HAADfBwAA4AcAAOEHAADiBwAA4wcAAOQHAADlBwAA5gcAAOcHAADoBwAA"
         },
         "xaxis": "x",
         "y": {
          "dtype": "i1",
          "bdata": "AQEBAQECAQEBAQIGBgQDAwUBAgEC"
         },
         "yaxis": "y",
         "type": "bar"
        },
        {
         "hovertemplate": "Genre=Romance<br>Jahr=%{x}<br>Anzahl Filme=%{y}<extra></extra>",
         "legendgroup": "Romance",
         "marker": {
          "color": "#FF97FF",
          "pattern": {
           "shape": ""
          }
         },
         "name": "Romance",
         "orientation": "v",
         "showlegend": true,
         "textposition": "auto",
         "x": {
          "dtype": "i4",
          "bdata": "vAcAAL0HAAC/BwAAwgcAAMMHAADHBwAAyAcAAMkHAADKBwAAywcAAMwHAADNBwAAzgcAAM8HAADRBwAA0gcAANMHAADUBwAA1QcAANYHAADXBwAA2AcAANkHAADaBwAA2wcAANwHAADdBwAA3gcAAN8HAADgBwAA4QcAAOIHAADjBwAA5AcAAOUHAADmBwAA5wcAAOgHAAA="
         },
         "xaxis": "x",
         "y": {
          "dtype": "i1",
          "bdata": "AQEBAQIBBAMDBQIBBQEGBgUEBwcHBQMJCwUHCxQNBw8QEg0YEwk="
         },
         "yaxis": "y",
         "type": "bar"
        },
        {
         "hovertemplate": "Genre=Science Fiction<br>Jahr=%{x}<br>Anzahl Filme=%{y}<extra></extra>",
         "legendgroup": "Science Fiction",
         "marker": {
          "color": "#FECB52",
          "pattern": {
           "shape": ""
          }
         },
         "name": "Science Fiction",
         "orientation": "v",
         "showlegend": true,
         "textposition": "auto",
         "x": {
          "dtype": "i4",
          "bdata": "vAcAAL0HAAC+BwAAvwcAAMAHAADBBwAAxAcAAMUHAADGBwAAzQcAAM4HAADPBwAA0QcAANIHAADTBwAA1AcAANUHAADXBwAA2AcAANkHAADaBwAA2wcAANwHAADdBwAA3gcAAN8HAADgBwAA4QcAAOIHAADjBwAA5AcAAOUHAADmBwAA5wcAAOgHAAA="
         },
         "xaxis": "x",
         "y": {
          "dtype": "i1",
          "bdata": "AQIBAQEBAQEBAwIBAgIBAQEDAgUCAwUDCAcJDREICQwIDQ4="
         },
         "yaxis": "y",
         "type": "bar"
        },
        {
         "hovertemplate": "Genre=Animation<br>Jahr=%{x}<br>Anzahl Filme=%{y}<extra></extra>",
         "legendgroup": "Animation",
         "marker": {
          "color": "#636efa",
          "pattern": {
           "shape": ""
          }
         },
         "name": "Animation",
         "orientation": "v",
         "showlegend": true,
         "textposition": "auto",
         "x": {
          "dtype": "i4",
          "bdata": "vQcAAL4HAADABwAAwgcAAMQHAADFBwAAxwcAAMgHAADJBwAAygcAAMsHAADNBwAAzgcAAM8HAADQBwAA0QcAANIHAADUBwAA1QcAANYHAADXBwAA2AcAANkHAADaBwAA2wcAANwHAADdBwAA3gcAAN8HAADgBwAA4QcAAOIHAADjBwAA5AcAAOUHAADmBwAA5wcAAOgHAAA="
         },
         "xaxis": "x",
         "y": {
          "dtype": "i1",
          "bdata": "AgEBAQMBAQEBAQEDAQEBAgIDAQQCAwMCAwMEBQQEDAkJChUNDQw="
         },
         "yaxis": "y",
         "type": "bar"
        },
        {
         "hovertemplate": "Genre=Horror<br>Jahr=%{x}<br>Anzahl Filme=%{y}<extra></extra>",
         "legendgroup": "Horror",
         "marker": {
          "color": "#EF553B",
          "pattern": {
           "shape": ""
          }
         },
         "name": "Horror",
         "orientation": "v",
         "showlegend": true,
         "textposition": "auto",
         "x": {
          "dtype": "i4",
          "bdata": "vQcAAMAHAADIBwAAzQcAAM4HAADPBwAA0AcAANEHAADSBwAA0wcAANQHAADVBwAA1gcAANcHAADYBwAA2QcAANoHAADbBwAA3AcAAN0HAADeBwAA3wcAAOAHAADhBwAA4gcAAOMHAADkBwAA5QcAAOYHAADnBwAA6AcAAA=="
         },
         "xaxis": "x",
         "y": {
          "dtype": "i1",
          "bdata": "AQEBAgECAQECAwQEAwUCBQYFAwIGDgUSEBENEgsKDg=="
         },
         "yaxis": "y",
         "type": "bar"
        },
        {
         "hovertemplate": "Genre=Family<br>Jahr=%{x}<br>Anzahl Filme=%{y}<extra></extra>",
         "legendgroup": "Family",
         "marker": {
          "color": "#00cc96",
          "pattern": {
           "shape": ""
          }
         },
         "name": "Family",
         "orientation": "v",
         "showlegend": true,
         "textposition": "auto",
         "x": {
          "dtype": "i4",
          "bdata": "wAcAAMIHAADDBwAAxAcAAMUHAADHBwAAyAcAAMkHAADKBwAAywcAAMwHAADNBwAAzwcAANAHAADRBwAA0gcAANMHAADUBwAA1QcAANYHAADXBwAA2AcAANkHAADaBwAA2wcAANwHAADdBwAA3gcAAN8HAADgBwAA4QcAAOIHAADjBwAA5AcAAOUHAADmBwAA5wcAAOgHAAA="
         },
         "xaxis": "x",
         "y": {
          "dtype": "i1",
          "bdata": "AQEBAQEBAQEBAgIBAgIFBAcIAgMJBgQFBQMCBwgHDAcHDBAKDQ0="
         },
         "yaxis": "y",
         "type": "bar"
        },
        {
         "hovertemplate": "Genre=Thriller<br>Jahr=%{x}<br>Anzahl Filme=%{y}<extra></extra>",
         "legendgroup": "Thriller",
         "marker": {
          "color": "#ab63fa",
          "pattern": {
           "shape": ""
          }
         },
         "name": "Thriller",
         "orientation": "v",
         "showlegend": true,
         "textposition": "auto",
         "x": {
          "dtype": "i4",
          "bdata": "wAcAAMEHAADDBwAAygcAAMsHAADMBwAAzQcAAM4HAADPBwAA0AcAANEHAADSBwAA0wcAANQHAADVBwAA1gcAANcHAADYBwAA2QcAANoHAADbBwAA3AcAAN0HAADeBwAA3wcAAOAHAADhBwAA4gcAAOMHAADkBwAA5QcAAOYHAADnBwAA6AcAAA=="
         },
         "xaxis": "x",
         "y": {
          "dtype": "i1",
          "bdata": "AQECAQECBQECAgUFCAcMBwoNCgYIBwcMCRkgIiIWHBghGA=="
         },
         "yaxis": "y",
         "type": "bar"
        },
        {
         "hovertemplate": "Genre=History<br>Jahr=%{x}<br>Anzahl Filme=%{y}<extra></extra>",
         "legendgroup": "History",
         "marker": {
          "color": "#FFA15A",
          "pattern": {
           "shape": ""
          }
         },
         "name": "History",
         "orientation": "v",
         "showlegend": true,
         "textposition": "auto",
         "x": {
          "dtype": "i4",
          "bdata": "wQcAAMMHAADIBwAAyQcAAM4HAADRBwAA0gcAANUHAADYBwAA2QcAANsHAADcBwAA3QcAAN4HAADfBwAA4AcAAOEHAADiBwAA4wcAAOQHAADlBwAA5gcAAOcHAADoBwAA"
         },
         "xaxis": "x",
         "y": {
          "dtype": "i1",
          "bdata": "AQEBAQECAQECAQMCAQMCBAMCCwMDBAII"
         },
         "yaxis": "y",
         "type": "bar"
        },
        {
         "hovertemplate": "Genre=War<br>Jahr=%{x}<br>Anzahl Filme=%{y}<extra></extra>",
         "legendgroup": "War",
         "marker": {
          "color": "#19d3f3",
          "pattern": {
           "shape": ""
          }
         },
         "name": "War",
         "orientation": "v",
         "showlegend": true,
         "textposition": "auto",
         "x": {
          "dtype": "i4",
          "bdata": "wQcAAMQHAADFBwAAygcAANEHAADZBwAA2wcAAN0HAADeBwAA3wcAAOAHAADhBwAA4gcAAOMHAADkBwAA5gcAAOcHAADoBwAA"
         },
         "xaxis": "x",
         "y": {
          "dtype": "i1",
          "bdata": "AQEBAQECBAECAQMEAQMDAwME"
         },
         "yaxis": "y",
         "type": "bar"
        },
        {
         "hovertemplate": "Genre=Western<br>Jahr=%{x}<br>Anzahl Filme=%{y}<extra></extra>",
         "legendgroup": "Western",
         "marker": {
          "color": "#FF6692",
          "pattern": {
           "shape": ""
          }
         },
         "name": "Western",
         "orientation": "v",
         "showlegend": true,
         "textposition": "auto",
         "x": {
          "dtype": "i4",
          "bdata": "wQcAAMMHAADKBwAA0gcAANcHAADaBwAA3AcAAN8HAADiBwAA5AcAAOUHAAA="
         },
         "xaxis": "x",
         "y": {
          "dtype": "i1",
          "bdata": "AQEBAQEBAgIBAQI="
         },
         "yaxis": "y",
         "type": "bar"
        },
        {
         "hovertemplate": "Genre=Mystery<br>Jahr=%{x}<br>Anzahl Filme=%{y}<extra></extra>",
         "legendgroup": "Mystery",
         "marker": {
          "color": "#B6E880",
          "pattern": {
           "shape": ""
          }
         },
         "name": "Mystery",
         "orientation": "v",
         "showlegend": true,
         "textposition": "auto",
         "x": {
          "dtype": "i4",
          "bdata": "yQcAAMwHAADNBwAAzgcAAM8HAADRBwAA0wcAANQHAADVBwAA1gcAANcHAADZBwAA2gcAANsHAADcBwAA3QcAAN4HAADfBwAA4AcAAOEHAADiBwAA4wcAAOQHAADlBwAA5gcAAOcHAADoBwAA"
         },
         "xaxis": "x",
         "y": {
          "dtype": "i1",
          "bdata": "AQEDAQIBAQMEAwMCAwUDAQEFAwgLCAsKCA0E"
         },
         "yaxis": "y",
         "type": "bar"
        },
        {
         "hovertemplate": "Genre=TV Movie<br>Jahr=%{x}<br>Anzahl Filme=%{y}<extra></extra>",
         "legendgroup": "TV Movie",
         "marker": {
          "color": "#FF97FF",
          "pattern": {
           "shape": ""
          }
         },
         "name": "TV Movie",
         "orientation": "v",
         "showlegend": true,
         "textposition": "auto",
         "x": {
          "dtype": "i4",
          "bdata": "yQcAANQHAADaBwAA2wcAANwHAADdBwAA3gcAAN8HAADgBwAA4gcAAOMHAADkBwAA5QcAAA=="
         },
         "xaxis": "x",
         "y": {
          "dtype": "i1",
          "bdata": "AQECAQIBAwcBAQECAg=="
         },
         "yaxis": "y",
         "type": "bar"
        }
       ],
       "layout": {
        "template": {
         "data": {
          "histogram2dcontour": [
           {
            "type": "histogram2dcontour",
            "colorbar": {
             "outlinewidth": 0,
             "ticks": ""
            },
            "colorscale": [
             [
              0.0,
              "#0d0887"
             ],
             [
              0.1111111111111111,
              "#46039f"
             ],
             [
              0.2222222222222222,
              "#7201a8"
             ],
             [
              0.3333333333333333,
              "#9c179e"
             ],
             [
              0.4444444444444444,
              "#bd3786"
             ],
             [
              0.5555555555555556,
              "#d8576b"
             ],
             [
              0.6666666666666666,
              "#ed7953"
             ],
             [
              0.7777777777777778,
              "#fb9f3a"
             ],
             [
              0.8888888888888888,
              "#fdca26"
             ],
             [
              1.0,
              "#f0f921"
             ]
            ]
           }
          ],
          "choropleth": [
           {
            "type": "choropleth",
            "colorbar": {
             "outlinewidth": 0,
             "ticks": ""
            }
           }
          ],
          "histogram2d": [
           {
            "type": "histogram2d",
            "colorbar": {
             "outlinewidth": 0,
             "ticks": ""
            },
            "colorscale": [
             [
              0.0,
              "#0d0887"
             ],
             [
              0.1111111111111111,
              "#46039f"
             ],
             [
              0.2222222222222222,
              "#7201a8"
             ],
             [
              0.3333333333333333,
              "#9c179e"
             ],
             [
              0.4444444444444444,
              "#bd3786"
             ],
             [
              0.5555555555555556,
              "#d8576b"
             ],
             [
              0.6666666666666666,
              "#ed7953"
             ],
             [
              0.7777777777777778,
              "#fb9f3a"
             ],
             [
              0.8888888888888888,
              "#fdca26"
             ],
             [
              1.0,
              "#f0f921"
             ]
            ]
           }
          ],
          "heatmap": [
           {
            "type": "heatmap",
            "colorbar": {
             "outlinewidth": 0,
             "ticks": ""
            },
            "colorscale": [
             [
              0.0,
              "#0d0887"
             ],
             [
              0.1111111111111111,
              "#46039f"
             ],
             [
              0.2222222222222222,
              "#7201a8"
             ],
             [
              0.3333333333333333,
              "#9c179e"
             ],
             [
              0.4444444444444444,
              "#bd3786"
             ],
             [
              0.5555555555555556,
              "#d8576b"
             ],
             [
              0.6666666666666666,
              "#ed7953"
             ],
             [
              0.7777777777777778,
              "#fb9f3a"
             ],
             [
              0.8888888888888888,
              "#fdca26"
             ],
             [
              1.0,
              "#f0f921"
             ]
            ]
           }
          ],
          "contourcarpet": [
           {
            "type": "contourcarpet",
            "colorbar": {
             "outlinewidth": 0,
             "ticks": ""
            }
           }
          ],
          "contour": [
           {
            "type": "contour",
            "colorbar": {
             "outlinewidth": 0,
             "ticks": ""
            },
            "colorscale": [
             [
              0.0,
              "#0d0887"
             ],
             [
              0.1111111111111111,
              "#46039f"
             ],
             [
              0.2222222222222222,
              "#7201a8"
             ],
             [
              0.3333333333333333,
              "#9c179e"
             ],
             [
              0.4444444444444444,
              "#bd3786"
             ],
             [
              0.5555555555555556,
              "#d8576b"
             ],
             [
              0.6666666666666666,
              "#ed7953"
             ],
             [
              0.7777777777777778,
              "#fb9f3a"
             ],
             [
              0.8888888888888888,
              "#fdca26"
             ],
             [
              1.0,
              "#f0f921"
             ]
            ]
           }
          ],
          "surface": [
           {
            "type": "surface",
            "colorbar": {
             "outlinewidth": 0,
             "ticks": ""
            },
            "colorscale": [
             [
              0.0,
              "#0d0887"
             ],
             [
              0.1111111111111111,
              "#46039f"
             ],
             [
              0.2222222222222222,
              "#7201a8"
             ],
             [
              0.3333333333333333,
              "#9c179e"
             ],
             [
              0.4444444444444444,
              "#bd3786"
             ],
             [
              0.5555555555555556,
              "#d8576b"
             ],
             [
              0.6666666666666666,
              "#ed7953"
             ],
             [
              0.7777777777777778,
              "#fb9f3a"
             ],
             [
              0.8888888888888888,
              "#fdca26"
             ],
             [
              1.0,
              "#f0f921"
             ]
            ]
           }
          ],
          "mesh3d": [
           {
            "type": "mesh3d",
            "colorbar": {
             "outlinewidth": 0,
             "ticks": ""
            }
           }
          ],
          "scatter": [
           {
            "marker": {
             "line": {
              "color": "#283442"
             }
            },
            "type": "scatter"
           }
          ],
          "parcoords": [
           {
            "type": "parcoords",
            "line": {
             "colorbar": {
              "outlinewidth": 0,
              "ticks": ""
             }
            }
           }
          ],
          "scatterpolargl": [
           {
            "type": "scatterpolargl",
            "marker": {
             "colorbar": {
              "outlinewidth": 0,
              "ticks": ""
             }
            }
           }
          ],
          "bar": [
           {
            "error_x": {
             "color": "#f2f5fa"
            },
            "error_y": {
             "color": "#f2f5fa"
            },
            "marker": {
             "line": {
              "color": "rgb(17,17,17)",
              "width": 0.5
             },
             "pattern": {
              "fillmode": "overlay",
              "size": 10,
              "solidity": 0.2
             }
            },
            "type": "bar"
           }
          ],
          "scattergeo": [
           {
            "type": "scattergeo",
            "marker": {
             "colorbar": {
              "outlinewidth": 0,
              "ticks": ""
             }
            }
           }
          ],
          "scatterpolar": [
           {
            "type": "scatterpolar",
            "marker": {
             "colorbar": {
              "outlinewidth": 0,
              "ticks": ""
             }
            }
           }
          ],
          "histogram": [
           {
            "marker": {
             "pattern": {
              "fillmode": "overlay",
              "size": 10,
              "solidity": 0.2
             }
            },
            "type": "histogram"
           }
          ],
          "scattergl": [
           {
            "marker": {
             "line": {
              "color": "#283442"
             }
            },
            "type": "scattergl"
           }
          ],
          "scatter3d": [
           {
            "type": "scatter3d",
            "line": {
             "colorbar": {
              "outlinewidth": 0,
              "ticks": ""
             }
            },
            "marker": {
             "colorbar": {
              "outlinewidth": 0,
              "ticks": ""
             }
            }
           }
          ],
          "scattermap": [
           {
            "type": "scattermap",
            "marker": {
             "colorbar": {
              "outlinewidth": 0,
              "ticks": ""
             }
            }
           }
          ],
          "scattermapbox": [
           {
            "type": "scattermapbox",
            "marker": {
             "colorbar": {
              "outlinewidth": 0,
              "ticks": ""
             }
            }
           }
          ],
          "scatterternary": [
           {
            "type": "scatterternary",
            "marker": {
             "colorbar": {
              "outlinewidth": 0,
              "ticks": ""
             }
            }
           }
          ],
          "scattercarpet": [
           {
            "type": "scattercarpet",
            "marker": {
             "colorbar": {
              "outlinewidth": 0,
              "ticks": ""
             }
            }
           }
          ],
          "carpet": [
           {
            "aaxis": {
             "endlinecolor": "#A2B1C6",
             "gridcolor": "#506784",
             "linecolor": "#506784",
             "minorgridcolor": "#506784",
             "startlinecolor": "#A2B1C6"
            },
            "baxis": {
             "endlinecolor": "#A2B1C6",
             "gridcolor": "#506784",
             "linecolor": "#506784",
             "minorgridcolor": "#506784",
             "startlinecolor": "#A2B1C6"
            },
            "type": "carpet"
           }
          ],
          "table": [
           {
            "cells": {
             "fill": {
              "color": "#506784"
             },
             "line": {
              "color": "rgb(17,17,17)"
             }
            },
            "header": {
             "fill": {
              "color": "#2a3f5f"
             },
             "line": {
              "color": "rgb(17,17,17)"
             }
            },
            "type": "table"
           }
          ],
          "barpolar": [
           {
            "marker": {
             "line": {
              "color": "rgb(17,17,17)",
              "width": 0.5
             },
             "pattern": {
              "fillmode": "overlay",
              "size": 10,
              "solidity": 0.2
             }
            },
            "type": "barpolar"
           }
          ],
          "pie": [
           {
            "automargin": true,
            "type": "pie"
           }
          ]
         },
         "layout": {
          "autotypenumbers": "strict",
          "colorway": [
           "#636efa",
           "#EF553B",
           "#00cc96",
           "#ab63fa",
           "#FFA15A",
           "#19d3f3",
           "#FF6692",
           "#B6E880",
           "#FF97FF",
           "#FECB52"
          ],
          "font": {
           "color": "#f2f5fa"
          },
          "hovermode": "closest",
          "hoverlabel": {
           "align": "left"
          },
          "paper_bgcolor": "rgb(17,17,17)",
          "plot_bgcolor": "rgb(17,17,17)",
          "polar": {
           "bgcolor": "rgb(17,17,17)",
           "angularaxis": {
            "gridcolor": "#506784",
            "linecolor": "#506784",
            "ticks": ""
           },
           "radialaxis": {
            "gridcolor": "#506784",
            "linecolor": "#506784",
            "ticks": ""
           }
          },
          "ternary": {
           "bgcolor": "rgb(17,17,17)",
           "aaxis": {
            "gridcolor": "#506784",
            "linecolor": "#506784",
            "ticks": ""
           },
           "baxis": {
            "gridcolor": "#506784",
            "linecolor": "#506784",
            "ticks": ""
           },
           "caxis": {
            "gridcolor": "#506784",
            "linecolor": "#506784",
            "ticks": ""
           }
          },
          "coloraxis": {
           "colorbar": {
            "outlinewidth": 0,
            "ticks": ""
           }
          },
          "colorscale": {
           "sequential": [
            [
             0.0,
             "#0d0887"
            ],
            [
             0.1111111111111111,
             "#46039f"
            ],
            [
             0.2222222222222222,
             "#7201a8"
            ],
            [
             0.3333333333333333,
             "#9c179e"
            ],
            [
             0.4444444444444444,
             "#bd3786"
            ],
            [
             0.5555555555555556,
             "#d8576b"
            ],
            [
             0.6666666666666666,
             "#ed7953"
            ],
            [
             0.7777777777777778,
             "#fb9f3a"
            ],
            [
             0.8888888888888888,
             "#fdca26"
            ],
            [
             1.0,
             "#f0f921"
            ]
           ],
           "sequentialminus": [
            [
             0.0,
             "#0d0887"
            ],
            [
             0.1111111111111111,
             "#46039f"
            ],
            [
             0.2222222222222222,
             "#7201a8"
            ],
            [
             0.3333333333333333,
             "#9c179e"
            ],
            [
             0.4444444444444444,
             "#bd3786"
            ],
            [
             0.5555555555555556,
             "#d8576b"
            ],
            [
             0.6666666666666666,
             "#ed7953"
            ],
            [
             0.7777777777777778,
             "#fb9f3a"
            ],
            [
             0.8888888888888888,
             "#fdca26"
            ],
            [
             1.0,
             "#f0f921"
            ]
           ],
           "diverging": [
            [
             0,
             "#8e0152"
            ],
            [
             0.1,
             "#c51b7d"
            ],
            [
             0.2,
             "#de77ae"
            ],
            [
             0.3,
             "#f1b6da"
            ],
            [
             0.4,
             "#fde0ef"
            ],
            [
             0.5,
             "#f7f7f7"
            ],
            [
             0.6,
             "#e6f5d0"
            ],
            [
             0.7,
             "#b8e186"
            ],
            [
             0.8,
             "#7fbc41"
            ],
            [
             0.9,
             "#4d9221"
            ],
            [
             1,
             "#276419"
            ]
           ]
          },
          "xaxis": {
           "gridcolor": "#283442",
           "linecolor": "#506784",
           "ticks": "",
           "title": {
            "standoff": 15
           },
           "zerolinecolor": "#283442",
           "automargin": true,
           "zerolinewidth": 2
          },
          "yaxis": {
           "gridcolor": "#283442",
           "linecolor": "#506784",
           "ticks": "",
           "title": {
            "standoff": 15
           },
           "zerolinecolor": "#283442",
           "automargin": true,
           "zerolinewidth": 2
          },
          "scene": {
           "xaxis": {
            "backgroundcolor": "rgb(17,17,17)",
            "gridcolor": "#506784",
            "linecolor": "#506784",
            "showbackground": true,
            "ticks": "",
            "zerolinecolor": "#C8D4E3",
            "gridwidth": 2
           },
           "yaxis": {
            "backgroundcolor": "rgb(17,17,17)",
            "gridcolor": "#506784",
            "linecolor": "#506784",
            "showbackground": true,
            "ticks": "",
            "zerolinecolor": "#C8D4E3",
            "gridwidth": 2
           },
           "zaxis": {
            "backgroundcolor": "rgb(17,17,17)",
            "gridcolor": "#506784",
            "linecolor": "#506784",
            "showbackground": true,
            "ticks": "",
            "zerolinecolor": "#C8D4E3",
            "gridwidth": 2
           }
          },
          "shapedefaults": {
           "line": {
            "color": "#f2f5fa"
           }
          },
          "annotationdefaults": {
           "arrowcolor": "#f2f5fa",
           "arrowhead": 0,
           "arrowwidth": 1
          },
          "geo": {
           "bgcolor": "rgb(17,17,17)",
           "landcolor": "rgb(17,17,17)",
           "subunitcolor": "#506784",
           "showland": true,
           "showlakes": true,
           "lakecolor": "rgb(17,17,17)"
          },
          "title": {
           "x": 0.05
          },
          "updatemenudefaults": {
           "bgcolor": "#506784",
           "borderwidth": 0
          },
          "sliderdefaults": {
           "bgcolor": "#C8D4E3",
           "borderwidth": 1,
           "bordercolor": "rgb(17,17,17)",
           "tickwidth": 0
          },
          "mapbox": {
           "style": "dark"
          }
         }
        },
        "xaxis": {
         "anchor": "y",
         "domain": [
          0.0,
          1.0
         ],
         "title": {
          "text": "Jahr"
         }
        },
        "yaxis": {
         "anchor": "x",
         "domain": [
          0.0,
          1.0
         ],
         "title": {
          "text": "Anzahl Filme"
         }
        },
        "legend": {
         "title": {
          "text": "Genre"
         },
         "tracegroupgap": 0
        },
        "title": {
         "text": "Genre-Häufigkeit pro Jahr"
        },
        "barmode": "stack"
       },
       "config": {
        "plotlyServerURL": "https://plot.ly"
       }
      }
     },
     "metadata": {},
     "output_type": "display_data"
    }
   ],
   "execution_count": 5
  },
  {
   "metadata": {},
   "cell_type": "markdown",
   "source": "![Torwart](./images/statistic_id1716_weltbevoelkerung-2024.png)",
   "id": "ee7485fdae30e86d"
  },
  {
   "metadata": {},
   "cell_type": "markdown",
   "source": "#### Relative Dichte (normiert pro Jahr)",
   "id": "5ddcdf1540ec9246"
  },
  {
   "metadata": {},
   "cell_type": "markdown",
   "source": [
    "### Lessons Learned 02 - Analyse der Daten\n",
    "1. Größere Datenmengen sollten eventuell in Zukunft in einer lokalen Docker Mongo Datenbank gespeichert werden. Dammit kann eine Caching Funktion implementiert werden, um die Anzahl der API Aufrufe zu reduzieren.\n",
    "2. Eine genauere Analyse der Daten und das Verständnis der Daten ist entscheidend, bevor eine Visualisierung erstellt wird.\n",
    "- Beispielsweise: Weltbevölkerung im vergleich zu 1980 bis 2024 hat sich über die Jahre stark verändert. Deshalb ist eine Visualisierung der relativen Dichte pro Jahr sinnvoller als eine Visualisierung der absoluten Zahlen.\n",
    "3. Es war sehr zeitintensiv, die interaktive Ploty visualisierung zu erstellen. (lieber mehr Zeit in der Analyse investieren)"
   ],
   "id": "7bf4d15c0cfaa9c9"
  },
  {
   "metadata": {},
   "cell_type": "markdown",
   "source": [
    "## Fragestellung 3:\n",
    "### Welche Länder produzieren die meisten Filme, die auf Netflix gestreamt werden pro Kopf?"
   ],
   "id": "d2851ad371ce6caf"
  },
  {
   "metadata": {},
   "cell_type": "markdown",
   "source": "#### Alle verfügbaren Länder auflisten, zählen und abspeichern",
   "id": "2d2d90e6b3dd6f5d"
  },
  {
   "metadata": {
    "ExecuteTime": {
     "end_time": "2025-05-31T09:54:25.864556Z",
     "start_time": "2025-05-31T09:54:25.728632Z"
    }
   },
   "cell_type": "code",
   "source": [
    "# Alle verfügbaren Länder auflisten, zählen und abspeichern\n",
    "import pandas as pd\n",
    "from config.config import TMDB_BEARER_TOKEN, TMDB_API_KEY\n",
    "from tmdb.configuration import Configuration\n",
    "import json\n",
    "\n",
    "BEARER_TOKEN = TMDB_BEARER_TOKEN # access token\n",
    "PATH_TO_ALL_AVAILABLE_COUNTRIES = \"./data/raw/fragestellung_03/2025-05-31_all_available_countries.json\"\n",
    "configuration = Configuration(TMDB_BEARER_TOKEN)\n",
    "all_countries = configuration.get_countries()\n",
    "\n",
    "\n",
    "with open(PATH_TO_ALL_AVAILABLE_COUNTRIES, \"w\") as file:\n",
    "    json.dump(all_countries, file, ensure_ascii=False, indent=2)\n",
    "\n",
    "print(f\"There are '{len(all_countries)}' number of countries available\")\n"
   ],
   "id": "cb8994cf4512147a",
   "outputs": [
    {
     "name": "stdout",
     "output_type": "stream",
     "text": [
      "There are '251' number of countries available\n"
     ]
    }
   ],
   "execution_count": 2
  },
  {
   "metadata": {},
   "cell_type": "markdown",
   "source": "### Top 10.000 Filme aus dem Discover Endpunkt abfragen und lokal als JSON-Datei abspeichern",
   "id": "97bf3cd0ba792b77"
  },
  {
   "metadata": {
    "ExecuteTime": {
     "end_time": "2025-05-31T19:51:27.857834Z",
     "start_time": "2025-05-31T19:51:26.321665Z"
    }
   },
   "cell_type": "code",
   "source": [
    "from tmdb.discover import Discover\n",
    "from config.config import TMDB_BEARER_TOKEN\n",
    "import json\n",
    "import os\n",
    "import glob\n",
    "from datetime import date\n",
    "import logging\n",
    "\n",
    "# Logger definieren\n",
    "logger = logging.getLogger(__name__)\n",
    "logger.setLevel(logging.WARNING)\n",
    "\n",
    "PATH_TO_ALL_AVAILABLE_COUNTRIES = \"./data/raw/fragestellung_03/2025-05-31_all_available_countries.json\"\n",
    "\n",
    "with open(PATH_TO_ALL_AVAILABLE_COUNTRIES, \"r\") as file:\n",
    "    all_countries_data = json.load(file)\n",
    "\n",
    "discover = Discover(TMDB_BEARER_TOKEN)\n",
    "all_movies = []\n",
    "# Variables for file formatting\n",
    "today = date.today().isoformat()\n",
    "base_dir = \"./data/raw/fragestellung_03\"\n",
    "pattern = f\"{today}_version*_all_country_movies.json\"\n",
    "\n",
    "pages = 500\n",
    "total_requests = pages\n",
    "current = 0\n",
    "\n",
    "all_movies = []\n",
    "for page in range(1, pages + 1):  # Top 10 000 Filme\n",
    "    response = discover.safe_get_movies(region=\"\",\n",
    "                                        sort_by=\"popularity.desc\",\n",
    "                                        with_watch_providers=\"8|175|1796\",\n",
    "                                        page=page,\n",
    "                                        delay=0.005)\n",
    "\n",
    "    if not response or \"results\" not in response:\n",
    "        logger.warning(f\"Kein Ergebnis für Page {page} – übersprungen.\")\n",
    "        continue\n",
    "    all_movies.extend(response[\"results\"])\n",
    "    # Fortschritt aktualisieren\n",
    "    current += 1\n",
    "    percent = (current / total_requests) * 100\n",
    "    print(f\"\\rProgress: {current}/{total_requests} ({percent:.1f}%)\", end=\"\")\n",
    "\n",
    "discover.close() # Close connection.\n",
    "\n",
    "# 1) Finde alle existierenden Dateien für heute\n",
    "existing = glob.glob(os.path.join(base_dir, pattern))\n",
    "\n",
    "# 2) Extrahiere die Versionsnummern\n",
    "versions = []\n",
    "for path in existing:\n",
    "    # filename z.B. '2025-05-20_version3_all_european_movies.json'\n",
    "    filename = os.path.basename(path)\n",
    "    # Splitten auf '_version' und dann vor dem nächsten '_' abschneiden\n",
    "    ver_str = filename.split(\"_version\")[1].split(\"_\")[0]\n",
    "    try:\n",
    "        versions.append(int(ver_str))\n",
    "    except ValueError:\n",
    "        pass\n",
    "\n",
    "# 3) Neue Version\n",
    "new_version = max(versions) + 1 if versions else 1\n",
    "\n",
    "# 4) Pfad zusammensetzen und Datei speichern\n",
    "out_path = os.path.join(\n",
    "    base_dir,\n",
    "    f\"{today}_version{new_version}_all_country_movies.json\"\n",
    ")\n",
    "\n",
    "# Beispiel: all_movies enthält deine Daten\n",
    "with open(out_path, \"w\", encoding=\"utf-8\") as f:\n",
    "    json.dump(all_movies, f, ensure_ascii=False, indent=2)\n",
    "\n",
    "print(f\"\\nSaved {len(all_movies)} records to {out_path}\")"
   ],
   "id": "465cdd31df7baf74",
   "outputs": [
    {
     "name": "stdout",
     "output_type": "stream",
     "text": [
      "Progress: 38/500 (7.6%)"
     ]
    },
    {
     "ename": "KeyboardInterrupt",
     "evalue": "",
     "output_type": "error",
     "traceback": [
      "\u001B[31m---------------------------------------------------------------------------\u001B[39m",
      "\u001B[31mKeyboardInterrupt\u001B[39m                         Traceback (most recent call last)",
      "\u001B[36mCell\u001B[39m\u001B[36m \u001B[39m\u001B[32mIn[1]\u001B[39m\u001B[32m, line 31\u001B[39m\n\u001B[32m     29\u001B[39m all_movies = []\n\u001B[32m     30\u001B[39m \u001B[38;5;28;01mfor\u001B[39;00m page \u001B[38;5;129;01min\u001B[39;00m \u001B[38;5;28mrange\u001B[39m(\u001B[32m1\u001B[39m, pages + \u001B[32m1\u001B[39m):  \u001B[38;5;66;03m# Top 10 000 Filme\u001B[39;00m\n\u001B[32m---> \u001B[39m\u001B[32m31\u001B[39m     response = \u001B[43mdiscover\u001B[49m\u001B[43m.\u001B[49m\u001B[43msafe_get_movies\u001B[49m\u001B[43m(\u001B[49m\u001B[43mregion\u001B[49m\u001B[43m=\u001B[49m\u001B[33;43m\"\u001B[39;49m\u001B[33;43m\"\u001B[39;49m\u001B[43m,\u001B[49m\n\u001B[32m     32\u001B[39m \u001B[43m                                        \u001B[49m\u001B[43msort_by\u001B[49m\u001B[43m=\u001B[49m\u001B[33;43m\"\u001B[39;49m\u001B[33;43mpopularity.desc\u001B[39;49m\u001B[33;43m\"\u001B[39;49m\u001B[43m,\u001B[49m\n\u001B[32m     33\u001B[39m \u001B[43m                                        \u001B[49m\u001B[43mwith_watch_providers\u001B[49m\u001B[43m=\u001B[49m\u001B[33;43m\"\u001B[39;49m\u001B[33;43m8|175|1796\u001B[39;49m\u001B[33;43m\"\u001B[39;49m\u001B[43m,\u001B[49m\n\u001B[32m     34\u001B[39m \u001B[43m                                        \u001B[49m\u001B[43mpage\u001B[49m\u001B[43m=\u001B[49m\u001B[43mpage\u001B[49m\u001B[43m,\u001B[49m\n\u001B[32m     35\u001B[39m \u001B[43m                                        \u001B[49m\u001B[43mdelay\u001B[49m\u001B[43m=\u001B[49m\u001B[32;43m0.005\u001B[39;49m\u001B[43m)\u001B[49m\n\u001B[32m     37\u001B[39m     \u001B[38;5;28;01mif\u001B[39;00m \u001B[38;5;129;01mnot\u001B[39;00m response \u001B[38;5;129;01mor\u001B[39;00m \u001B[33m\"\u001B[39m\u001B[33mresults\u001B[39m\u001B[33m\"\u001B[39m \u001B[38;5;129;01mnot\u001B[39;00m \u001B[38;5;129;01min\u001B[39;00m response:\n\u001B[32m     38\u001B[39m         logger.warning(\u001B[33mf\u001B[39m\u001B[33m\"\u001B[39m\u001B[33mKein Ergebnis für Page \u001B[39m\u001B[38;5;132;01m{\u001B[39;00mpage\u001B[38;5;132;01m}\u001B[39;00m\u001B[33m – übersprungen.\u001B[39m\u001B[33m\"\u001B[39m)\n",
      "\u001B[36mFile \u001B[39m\u001B[32m~/code/01_Python_Code/01_Studium_Data_Science/02 - Semester/03_Informatik (Mruzek-Vering)/02_Hausarbeit/Netflix_Data_Analysis/tmdb/discover.py:60\u001B[39m, in \u001B[36mDiscover.safe_get_movies\u001B[39m\u001B[34m(self, region, sort_by, with_watch_providers, retries, delay, backoff_factor, page, **kwargs)\u001B[39m\n\u001B[32m     58\u001B[39m current_delay = delay\n\u001B[32m     59\u001B[39m \u001B[38;5;28;01mfor\u001B[39;00m attempt \u001B[38;5;129;01min\u001B[39;00m \u001B[38;5;28mrange\u001B[39m(\u001B[32m1\u001B[39m, retries + \u001B[32m1\u001B[39m):\n\u001B[32m---> \u001B[39m\u001B[32m60\u001B[39m     response = \u001B[38;5;28;43mself\u001B[39;49m\u001B[43m.\u001B[49m\u001B[43mget_request\u001B[49m\u001B[43m(\u001B[49m\u001B[38;5;28;43mself\u001B[39;49m\u001B[43m.\u001B[49m\u001B[43mENDPOINTS\u001B[49m\u001B[43m.\u001B[49m\u001B[43mget\u001B[49m\u001B[43m(\u001B[49m\u001B[33;43m\"\u001B[39;49m\u001B[33;43mmovie\u001B[39;49m\u001B[33;43m\"\u001B[39;49m\u001B[43m)\u001B[49m\u001B[43m,\u001B[49m\u001B[43m \u001B[49m\u001B[43mparams\u001B[49m\u001B[43m)\u001B[49m\n\u001B[32m     62\u001B[39m     \u001B[38;5;66;03m# Wenn wir ein valides Ergebnis haben (nicht {}), geben wir es zurück\u001B[39;00m\n\u001B[32m     63\u001B[39m     \u001B[38;5;28;01mif\u001B[39;00m response \u001B[38;5;129;01mand\u001B[39;00m response != {}:\n\u001B[32m     64\u001B[39m         \u001B[38;5;66;03m# kurz pausieren, um sicher unter TMDb-Limit zu bleiben\u001B[39;00m\n",
      "\u001B[36mFile \u001B[39m\u001B[32m~/code/01_Python_Code/01_Studium_Data_Science/02 - Semester/03_Informatik (Mruzek-Vering)/02_Hausarbeit/Netflix_Data_Analysis/tmdb/tmdb_base.py:26\u001B[39m, in \u001B[36mTMDbbase.get_request\u001B[39m\u001B[34m(self, endpoint, params, api_version)\u001B[39m\n\u001B[32m     24\u001B[39m \u001B[38;5;250m\u001B[39m\u001B[33;03m\"\"\"Creates a get request and returns JSON response if status code is 200\"\"\"\u001B[39;00m\n\u001B[32m     25\u001B[39m url = \u001B[33mf\u001B[39m\u001B[33m\"\u001B[39m\u001B[38;5;132;01m{\u001B[39;00m\u001B[38;5;28mself\u001B[39m.BASE_URL.get(api_version)\u001B[38;5;132;01m}\u001B[39;00m\u001B[38;5;132;01m{\u001B[39;00mendpoint\u001B[38;5;132;01m}\u001B[39;00m\u001B[33m\"\u001B[39m\n\u001B[32m---> \u001B[39m\u001B[32m26\u001B[39m response = \u001B[38;5;28;43mself\u001B[39;49m\u001B[43m.\u001B[49m\u001B[43mclient\u001B[49m\u001B[43m.\u001B[49m\u001B[43mget\u001B[49m\u001B[43m(\u001B[49m\u001B[43murl\u001B[49m\u001B[43m,\u001B[49m\u001B[43m \u001B[49m\u001B[43mparams\u001B[49m\u001B[43m=\u001B[49m\u001B[43mparams\u001B[49m\u001B[43m)\u001B[49m\n\u001B[32m     28\u001B[39m \u001B[38;5;28;01mif\u001B[39;00m response.status_code == \u001B[32m200\u001B[39m:\n\u001B[32m     29\u001B[39m     \u001B[38;5;28;01mreturn\u001B[39;00m response.json()\n",
      "\u001B[36mFile \u001B[39m\u001B[32m~/code/01_Python_Code/01_Studium_Data_Science/02 - Semester/03_Informatik (Mruzek-Vering)/02_Hausarbeit/Netflix_Data_Analysis/.venv/lib/python3.13/site-packages/httpx/_client.py:1053\u001B[39m, in \u001B[36mClient.get\u001B[39m\u001B[34m(self, url, params, headers, cookies, auth, follow_redirects, timeout, extensions)\u001B[39m\n\u001B[32m   1036\u001B[39m \u001B[38;5;28;01mdef\u001B[39;00m\u001B[38;5;250m \u001B[39m\u001B[34mget\u001B[39m(\n\u001B[32m   1037\u001B[39m     \u001B[38;5;28mself\u001B[39m,\n\u001B[32m   1038\u001B[39m     url: URL | \u001B[38;5;28mstr\u001B[39m,\n\u001B[32m   (...)\u001B[39m\u001B[32m   1046\u001B[39m     extensions: RequestExtensions | \u001B[38;5;28;01mNone\u001B[39;00m = \u001B[38;5;28;01mNone\u001B[39;00m,\n\u001B[32m   1047\u001B[39m ) -> Response:\n\u001B[32m   1048\u001B[39m \u001B[38;5;250m    \u001B[39m\u001B[33;03m\"\"\"\u001B[39;00m\n\u001B[32m   1049\u001B[39m \u001B[33;03m    Send a `GET` request.\u001B[39;00m\n\u001B[32m   1050\u001B[39m \n\u001B[32m   1051\u001B[39m \u001B[33;03m    **Parameters**: See `httpx.request`.\u001B[39;00m\n\u001B[32m   1052\u001B[39m \u001B[33;03m    \"\"\"\u001B[39;00m\n\u001B[32m-> \u001B[39m\u001B[32m1053\u001B[39m     \u001B[38;5;28;01mreturn\u001B[39;00m \u001B[38;5;28;43mself\u001B[39;49m\u001B[43m.\u001B[49m\u001B[43mrequest\u001B[49m\u001B[43m(\u001B[49m\n\u001B[32m   1054\u001B[39m \u001B[43m        \u001B[49m\u001B[33;43m\"\u001B[39;49m\u001B[33;43mGET\u001B[39;49m\u001B[33;43m\"\u001B[39;49m\u001B[43m,\u001B[49m\n\u001B[32m   1055\u001B[39m \u001B[43m        \u001B[49m\u001B[43murl\u001B[49m\u001B[43m,\u001B[49m\n\u001B[32m   1056\u001B[39m \u001B[43m        \u001B[49m\u001B[43mparams\u001B[49m\u001B[43m=\u001B[49m\u001B[43mparams\u001B[49m\u001B[43m,\u001B[49m\n\u001B[32m   1057\u001B[39m \u001B[43m        \u001B[49m\u001B[43mheaders\u001B[49m\u001B[43m=\u001B[49m\u001B[43mheaders\u001B[49m\u001B[43m,\u001B[49m\n\u001B[32m   1058\u001B[39m \u001B[43m        \u001B[49m\u001B[43mcookies\u001B[49m\u001B[43m=\u001B[49m\u001B[43mcookies\u001B[49m\u001B[43m,\u001B[49m\n\u001B[32m   1059\u001B[39m \u001B[43m        \u001B[49m\u001B[43mauth\u001B[49m\u001B[43m=\u001B[49m\u001B[43mauth\u001B[49m\u001B[43m,\u001B[49m\n\u001B[32m   1060\u001B[39m \u001B[43m        \u001B[49m\u001B[43mfollow_redirects\u001B[49m\u001B[43m=\u001B[49m\u001B[43mfollow_redirects\u001B[49m\u001B[43m,\u001B[49m\n\u001B[32m   1061\u001B[39m \u001B[43m        \u001B[49m\u001B[43mtimeout\u001B[49m\u001B[43m=\u001B[49m\u001B[43mtimeout\u001B[49m\u001B[43m,\u001B[49m\n\u001B[32m   1062\u001B[39m \u001B[43m        \u001B[49m\u001B[43mextensions\u001B[49m\u001B[43m=\u001B[49m\u001B[43mextensions\u001B[49m\u001B[43m,\u001B[49m\n\u001B[32m   1063\u001B[39m \u001B[43m    \u001B[49m\u001B[43m)\u001B[49m\n",
      "\u001B[36mFile \u001B[39m\u001B[32m~/code/01_Python_Code/01_Studium_Data_Science/02 - Semester/03_Informatik (Mruzek-Vering)/02_Hausarbeit/Netflix_Data_Analysis/.venv/lib/python3.13/site-packages/httpx/_client.py:825\u001B[39m, in \u001B[36mClient.request\u001B[39m\u001B[34m(self, method, url, content, data, files, json, params, headers, cookies, auth, follow_redirects, timeout, extensions)\u001B[39m\n\u001B[32m    810\u001B[39m     warnings.warn(message, \u001B[38;5;167;01mDeprecationWarning\u001B[39;00m, stacklevel=\u001B[32m2\u001B[39m)\n\u001B[32m    812\u001B[39m request = \u001B[38;5;28mself\u001B[39m.build_request(\n\u001B[32m    813\u001B[39m     method=method,\n\u001B[32m    814\u001B[39m     url=url,\n\u001B[32m   (...)\u001B[39m\u001B[32m    823\u001B[39m     extensions=extensions,\n\u001B[32m    824\u001B[39m )\n\u001B[32m--> \u001B[39m\u001B[32m825\u001B[39m \u001B[38;5;28;01mreturn\u001B[39;00m \u001B[38;5;28;43mself\u001B[39;49m\u001B[43m.\u001B[49m\u001B[43msend\u001B[49m\u001B[43m(\u001B[49m\u001B[43mrequest\u001B[49m\u001B[43m,\u001B[49m\u001B[43m \u001B[49m\u001B[43mauth\u001B[49m\u001B[43m=\u001B[49m\u001B[43mauth\u001B[49m\u001B[43m,\u001B[49m\u001B[43m \u001B[49m\u001B[43mfollow_redirects\u001B[49m\u001B[43m=\u001B[49m\u001B[43mfollow_redirects\u001B[49m\u001B[43m)\u001B[49m\n",
      "\u001B[36mFile \u001B[39m\u001B[32m~/code/01_Python_Code/01_Studium_Data_Science/02 - Semester/03_Informatik (Mruzek-Vering)/02_Hausarbeit/Netflix_Data_Analysis/.venv/lib/python3.13/site-packages/httpx/_client.py:914\u001B[39m, in \u001B[36mClient.send\u001B[39m\u001B[34m(self, request, stream, auth, follow_redirects)\u001B[39m\n\u001B[32m    910\u001B[39m \u001B[38;5;28mself\u001B[39m._set_timeout(request)\n\u001B[32m    912\u001B[39m auth = \u001B[38;5;28mself\u001B[39m._build_request_auth(request, auth)\n\u001B[32m--> \u001B[39m\u001B[32m914\u001B[39m response = \u001B[38;5;28;43mself\u001B[39;49m\u001B[43m.\u001B[49m\u001B[43m_send_handling_auth\u001B[49m\u001B[43m(\u001B[49m\n\u001B[32m    915\u001B[39m \u001B[43m    \u001B[49m\u001B[43mrequest\u001B[49m\u001B[43m,\u001B[49m\n\u001B[32m    916\u001B[39m \u001B[43m    \u001B[49m\u001B[43mauth\u001B[49m\u001B[43m=\u001B[49m\u001B[43mauth\u001B[49m\u001B[43m,\u001B[49m\n\u001B[32m    917\u001B[39m \u001B[43m    \u001B[49m\u001B[43mfollow_redirects\u001B[49m\u001B[43m=\u001B[49m\u001B[43mfollow_redirects\u001B[49m\u001B[43m,\u001B[49m\n\u001B[32m    918\u001B[39m \u001B[43m    \u001B[49m\u001B[43mhistory\u001B[49m\u001B[43m=\u001B[49m\u001B[43m[\u001B[49m\u001B[43m]\u001B[49m\u001B[43m,\u001B[49m\n\u001B[32m    919\u001B[39m \u001B[43m\u001B[49m\u001B[43m)\u001B[49m\n\u001B[32m    920\u001B[39m \u001B[38;5;28;01mtry\u001B[39;00m:\n\u001B[32m    921\u001B[39m     \u001B[38;5;28;01mif\u001B[39;00m \u001B[38;5;129;01mnot\u001B[39;00m stream:\n",
      "\u001B[36mFile \u001B[39m\u001B[32m~/code/01_Python_Code/01_Studium_Data_Science/02 - Semester/03_Informatik (Mruzek-Vering)/02_Hausarbeit/Netflix_Data_Analysis/.venv/lib/python3.13/site-packages/httpx/_client.py:942\u001B[39m, in \u001B[36mClient._send_handling_auth\u001B[39m\u001B[34m(self, request, auth, follow_redirects, history)\u001B[39m\n\u001B[32m    939\u001B[39m request = \u001B[38;5;28mnext\u001B[39m(auth_flow)\n\u001B[32m    941\u001B[39m \u001B[38;5;28;01mwhile\u001B[39;00m \u001B[38;5;28;01mTrue\u001B[39;00m:\n\u001B[32m--> \u001B[39m\u001B[32m942\u001B[39m     response = \u001B[38;5;28;43mself\u001B[39;49m\u001B[43m.\u001B[49m\u001B[43m_send_handling_redirects\u001B[49m\u001B[43m(\u001B[49m\n\u001B[32m    943\u001B[39m \u001B[43m        \u001B[49m\u001B[43mrequest\u001B[49m\u001B[43m,\u001B[49m\n\u001B[32m    944\u001B[39m \u001B[43m        \u001B[49m\u001B[43mfollow_redirects\u001B[49m\u001B[43m=\u001B[49m\u001B[43mfollow_redirects\u001B[49m\u001B[43m,\u001B[49m\n\u001B[32m    945\u001B[39m \u001B[43m        \u001B[49m\u001B[43mhistory\u001B[49m\u001B[43m=\u001B[49m\u001B[43mhistory\u001B[49m\u001B[43m,\u001B[49m\n\u001B[32m    946\u001B[39m \u001B[43m    \u001B[49m\u001B[43m)\u001B[49m\n\u001B[32m    947\u001B[39m     \u001B[38;5;28;01mtry\u001B[39;00m:\n\u001B[32m    948\u001B[39m         \u001B[38;5;28;01mtry\u001B[39;00m:\n",
      "\u001B[36mFile \u001B[39m\u001B[32m~/code/01_Python_Code/01_Studium_Data_Science/02 - Semester/03_Informatik (Mruzek-Vering)/02_Hausarbeit/Netflix_Data_Analysis/.venv/lib/python3.13/site-packages/httpx/_client.py:979\u001B[39m, in \u001B[36mClient._send_handling_redirects\u001B[39m\u001B[34m(self, request, follow_redirects, history)\u001B[39m\n\u001B[32m    976\u001B[39m \u001B[38;5;28;01mfor\u001B[39;00m hook \u001B[38;5;129;01min\u001B[39;00m \u001B[38;5;28mself\u001B[39m._event_hooks[\u001B[33m\"\u001B[39m\u001B[33mrequest\u001B[39m\u001B[33m\"\u001B[39m]:\n\u001B[32m    977\u001B[39m     hook(request)\n\u001B[32m--> \u001B[39m\u001B[32m979\u001B[39m response = \u001B[38;5;28;43mself\u001B[39;49m\u001B[43m.\u001B[49m\u001B[43m_send_single_request\u001B[49m\u001B[43m(\u001B[49m\u001B[43mrequest\u001B[49m\u001B[43m)\u001B[49m\n\u001B[32m    980\u001B[39m \u001B[38;5;28;01mtry\u001B[39;00m:\n\u001B[32m    981\u001B[39m     \u001B[38;5;28;01mfor\u001B[39;00m hook \u001B[38;5;129;01min\u001B[39;00m \u001B[38;5;28mself\u001B[39m._event_hooks[\u001B[33m\"\u001B[39m\u001B[33mresponse\u001B[39m\u001B[33m\"\u001B[39m]:\n",
      "\u001B[36mFile \u001B[39m\u001B[32m~/code/01_Python_Code/01_Studium_Data_Science/02 - Semester/03_Informatik (Mruzek-Vering)/02_Hausarbeit/Netflix_Data_Analysis/.venv/lib/python3.13/site-packages/httpx/_client.py:1014\u001B[39m, in \u001B[36mClient._send_single_request\u001B[39m\u001B[34m(self, request)\u001B[39m\n\u001B[32m   1009\u001B[39m     \u001B[38;5;28;01mraise\u001B[39;00m \u001B[38;5;167;01mRuntimeError\u001B[39;00m(\n\u001B[32m   1010\u001B[39m         \u001B[33m\"\u001B[39m\u001B[33mAttempted to send an async request with a sync Client instance.\u001B[39m\u001B[33m\"\u001B[39m\n\u001B[32m   1011\u001B[39m     )\n\u001B[32m   1013\u001B[39m \u001B[38;5;28;01mwith\u001B[39;00m request_context(request=request):\n\u001B[32m-> \u001B[39m\u001B[32m1014\u001B[39m     response = \u001B[43mtransport\u001B[49m\u001B[43m.\u001B[49m\u001B[43mhandle_request\u001B[49m\u001B[43m(\u001B[49m\u001B[43mrequest\u001B[49m\u001B[43m)\u001B[49m\n\u001B[32m   1016\u001B[39m \u001B[38;5;28;01massert\u001B[39;00m \u001B[38;5;28misinstance\u001B[39m(response.stream, SyncByteStream)\n\u001B[32m   1018\u001B[39m response.request = request\n",
      "\u001B[36mFile \u001B[39m\u001B[32m~/code/01_Python_Code/01_Studium_Data_Science/02 - Semester/03_Informatik (Mruzek-Vering)/02_Hausarbeit/Netflix_Data_Analysis/.venv/lib/python3.13/site-packages/httpx/_transports/default.py:250\u001B[39m, in \u001B[36mHTTPTransport.handle_request\u001B[39m\u001B[34m(self, request)\u001B[39m\n\u001B[32m    237\u001B[39m req = httpcore.Request(\n\u001B[32m    238\u001B[39m     method=request.method,\n\u001B[32m    239\u001B[39m     url=httpcore.URL(\n\u001B[32m   (...)\u001B[39m\u001B[32m    247\u001B[39m     extensions=request.extensions,\n\u001B[32m    248\u001B[39m )\n\u001B[32m    249\u001B[39m \u001B[38;5;28;01mwith\u001B[39;00m map_httpcore_exceptions():\n\u001B[32m--> \u001B[39m\u001B[32m250\u001B[39m     resp = \u001B[38;5;28;43mself\u001B[39;49m\u001B[43m.\u001B[49m\u001B[43m_pool\u001B[49m\u001B[43m.\u001B[49m\u001B[43mhandle_request\u001B[49m\u001B[43m(\u001B[49m\u001B[43mreq\u001B[49m\u001B[43m)\u001B[49m\n\u001B[32m    252\u001B[39m \u001B[38;5;28;01massert\u001B[39;00m \u001B[38;5;28misinstance\u001B[39m(resp.stream, typing.Iterable)\n\u001B[32m    254\u001B[39m \u001B[38;5;28;01mreturn\u001B[39;00m Response(\n\u001B[32m    255\u001B[39m     status_code=resp.status,\n\u001B[32m    256\u001B[39m     headers=resp.headers,\n\u001B[32m    257\u001B[39m     stream=ResponseStream(resp.stream),\n\u001B[32m    258\u001B[39m     extensions=resp.extensions,\n\u001B[32m    259\u001B[39m )\n",
      "\u001B[36mFile \u001B[39m\u001B[32m~/code/01_Python_Code/01_Studium_Data_Science/02 - Semester/03_Informatik (Mruzek-Vering)/02_Hausarbeit/Netflix_Data_Analysis/.venv/lib/python3.13/site-packages/httpcore/_sync/connection_pool.py:256\u001B[39m, in \u001B[36mConnectionPool.handle_request\u001B[39m\u001B[34m(self, request)\u001B[39m\n\u001B[32m    253\u001B[39m         closing = \u001B[38;5;28mself\u001B[39m._assign_requests_to_connections()\n\u001B[32m    255\u001B[39m     \u001B[38;5;28mself\u001B[39m._close_connections(closing)\n\u001B[32m--> \u001B[39m\u001B[32m256\u001B[39m     \u001B[38;5;28;01mraise\u001B[39;00m exc \u001B[38;5;28;01mfrom\u001B[39;00m\u001B[38;5;250m \u001B[39m\u001B[38;5;28;01mNone\u001B[39;00m\n\u001B[32m    258\u001B[39m \u001B[38;5;66;03m# Return the response. Note that in this case we still have to manage\u001B[39;00m\n\u001B[32m    259\u001B[39m \u001B[38;5;66;03m# the point at which the response is closed.\u001B[39;00m\n\u001B[32m    260\u001B[39m \u001B[38;5;28;01massert\u001B[39;00m \u001B[38;5;28misinstance\u001B[39m(response.stream, typing.Iterable)\n",
      "\u001B[36mFile \u001B[39m\u001B[32m~/code/01_Python_Code/01_Studium_Data_Science/02 - Semester/03_Informatik (Mruzek-Vering)/02_Hausarbeit/Netflix_Data_Analysis/.venv/lib/python3.13/site-packages/httpcore/_sync/connection_pool.py:236\u001B[39m, in \u001B[36mConnectionPool.handle_request\u001B[39m\u001B[34m(self, request)\u001B[39m\n\u001B[32m    232\u001B[39m connection = pool_request.wait_for_connection(timeout=timeout)\n\u001B[32m    234\u001B[39m \u001B[38;5;28;01mtry\u001B[39;00m:\n\u001B[32m    235\u001B[39m     \u001B[38;5;66;03m# Send the request on the assigned connection.\u001B[39;00m\n\u001B[32m--> \u001B[39m\u001B[32m236\u001B[39m     response = \u001B[43mconnection\u001B[49m\u001B[43m.\u001B[49m\u001B[43mhandle_request\u001B[49m\u001B[43m(\u001B[49m\n\u001B[32m    237\u001B[39m \u001B[43m        \u001B[49m\u001B[43mpool_request\u001B[49m\u001B[43m.\u001B[49m\u001B[43mrequest\u001B[49m\n\u001B[32m    238\u001B[39m \u001B[43m    \u001B[49m\u001B[43m)\u001B[49m\n\u001B[32m    239\u001B[39m \u001B[38;5;28;01mexcept\u001B[39;00m ConnectionNotAvailable:\n\u001B[32m    240\u001B[39m     \u001B[38;5;66;03m# In some cases a connection may initially be available to\u001B[39;00m\n\u001B[32m    241\u001B[39m     \u001B[38;5;66;03m# handle a request, but then become unavailable.\u001B[39;00m\n\u001B[32m    242\u001B[39m     \u001B[38;5;66;03m#\u001B[39;00m\n\u001B[32m    243\u001B[39m     \u001B[38;5;66;03m# In this case we clear the connection and try again.\u001B[39;00m\n\u001B[32m    244\u001B[39m     pool_request.clear_connection()\n",
      "\u001B[36mFile \u001B[39m\u001B[32m~/code/01_Python_Code/01_Studium_Data_Science/02 - Semester/03_Informatik (Mruzek-Vering)/02_Hausarbeit/Netflix_Data_Analysis/.venv/lib/python3.13/site-packages/httpcore/_sync/connection.py:103\u001B[39m, in \u001B[36mHTTPConnection.handle_request\u001B[39m\u001B[34m(self, request)\u001B[39m\n\u001B[32m    100\u001B[39m     \u001B[38;5;28mself\u001B[39m._connect_failed = \u001B[38;5;28;01mTrue\u001B[39;00m\n\u001B[32m    101\u001B[39m     \u001B[38;5;28;01mraise\u001B[39;00m exc\n\u001B[32m--> \u001B[39m\u001B[32m103\u001B[39m \u001B[38;5;28;01mreturn\u001B[39;00m \u001B[38;5;28;43mself\u001B[39;49m\u001B[43m.\u001B[49m\u001B[43m_connection\u001B[49m\u001B[43m.\u001B[49m\u001B[43mhandle_request\u001B[49m\u001B[43m(\u001B[49m\u001B[43mrequest\u001B[49m\u001B[43m)\u001B[49m\n",
      "\u001B[36mFile \u001B[39m\u001B[32m~/code/01_Python_Code/01_Studium_Data_Science/02 - Semester/03_Informatik (Mruzek-Vering)/02_Hausarbeit/Netflix_Data_Analysis/.venv/lib/python3.13/site-packages/httpcore/_sync/http11.py:136\u001B[39m, in \u001B[36mHTTP11Connection.handle_request\u001B[39m\u001B[34m(self, request)\u001B[39m\n\u001B[32m    134\u001B[39m     \u001B[38;5;28;01mwith\u001B[39;00m Trace(\u001B[33m\"\u001B[39m\u001B[33mresponse_closed\u001B[39m\u001B[33m\"\u001B[39m, logger, request) \u001B[38;5;28;01mas\u001B[39;00m trace:\n\u001B[32m    135\u001B[39m         \u001B[38;5;28mself\u001B[39m._response_closed()\n\u001B[32m--> \u001B[39m\u001B[32m136\u001B[39m \u001B[38;5;28;01mraise\u001B[39;00m exc\n",
      "\u001B[36mFile \u001B[39m\u001B[32m~/code/01_Python_Code/01_Studium_Data_Science/02 - Semester/03_Informatik (Mruzek-Vering)/02_Hausarbeit/Netflix_Data_Analysis/.venv/lib/python3.13/site-packages/httpcore/_sync/http11.py:106\u001B[39m, in \u001B[36mHTTP11Connection.handle_request\u001B[39m\u001B[34m(self, request)\u001B[39m\n\u001B[32m     95\u001B[39m     \u001B[38;5;28;01mpass\u001B[39;00m\n\u001B[32m     97\u001B[39m \u001B[38;5;28;01mwith\u001B[39;00m Trace(\n\u001B[32m     98\u001B[39m     \u001B[33m\"\u001B[39m\u001B[33mreceive_response_headers\u001B[39m\u001B[33m\"\u001B[39m, logger, request, kwargs\n\u001B[32m     99\u001B[39m ) \u001B[38;5;28;01mas\u001B[39;00m trace:\n\u001B[32m    100\u001B[39m     (\n\u001B[32m    101\u001B[39m         http_version,\n\u001B[32m    102\u001B[39m         status,\n\u001B[32m    103\u001B[39m         reason_phrase,\n\u001B[32m    104\u001B[39m         headers,\n\u001B[32m    105\u001B[39m         trailing_data,\n\u001B[32m--> \u001B[39m\u001B[32m106\u001B[39m     ) = \u001B[38;5;28;43mself\u001B[39;49m\u001B[43m.\u001B[49m\u001B[43m_receive_response_headers\u001B[49m\u001B[43m(\u001B[49m\u001B[43m*\u001B[49m\u001B[43m*\u001B[49m\u001B[43mkwargs\u001B[49m\u001B[43m)\u001B[49m\n\u001B[32m    107\u001B[39m     trace.return_value = (\n\u001B[32m    108\u001B[39m         http_version,\n\u001B[32m    109\u001B[39m         status,\n\u001B[32m    110\u001B[39m         reason_phrase,\n\u001B[32m    111\u001B[39m         headers,\n\u001B[32m    112\u001B[39m     )\n\u001B[32m    114\u001B[39m network_stream = \u001B[38;5;28mself\u001B[39m._network_stream\n",
      "\u001B[36mFile \u001B[39m\u001B[32m~/code/01_Python_Code/01_Studium_Data_Science/02 - Semester/03_Informatik (Mruzek-Vering)/02_Hausarbeit/Netflix_Data_Analysis/.venv/lib/python3.13/site-packages/httpcore/_sync/http11.py:177\u001B[39m, in \u001B[36mHTTP11Connection._receive_response_headers\u001B[39m\u001B[34m(self, request)\u001B[39m\n\u001B[32m    174\u001B[39m timeout = timeouts.get(\u001B[33m\"\u001B[39m\u001B[33mread\u001B[39m\u001B[33m\"\u001B[39m, \u001B[38;5;28;01mNone\u001B[39;00m)\n\u001B[32m    176\u001B[39m \u001B[38;5;28;01mwhile\u001B[39;00m \u001B[38;5;28;01mTrue\u001B[39;00m:\n\u001B[32m--> \u001B[39m\u001B[32m177\u001B[39m     event = \u001B[38;5;28;43mself\u001B[39;49m\u001B[43m.\u001B[49m\u001B[43m_receive_event\u001B[49m\u001B[43m(\u001B[49m\u001B[43mtimeout\u001B[49m\u001B[43m=\u001B[49m\u001B[43mtimeout\u001B[49m\u001B[43m)\u001B[49m\n\u001B[32m    178\u001B[39m     \u001B[38;5;28;01mif\u001B[39;00m \u001B[38;5;28misinstance\u001B[39m(event, h11.Response):\n\u001B[32m    179\u001B[39m         \u001B[38;5;28;01mbreak\u001B[39;00m\n",
      "\u001B[36mFile \u001B[39m\u001B[32m~/code/01_Python_Code/01_Studium_Data_Science/02 - Semester/03_Informatik (Mruzek-Vering)/02_Hausarbeit/Netflix_Data_Analysis/.venv/lib/python3.13/site-packages/httpcore/_sync/http11.py:217\u001B[39m, in \u001B[36mHTTP11Connection._receive_event\u001B[39m\u001B[34m(self, timeout)\u001B[39m\n\u001B[32m    214\u001B[39m     event = \u001B[38;5;28mself\u001B[39m._h11_state.next_event()\n\u001B[32m    216\u001B[39m \u001B[38;5;28;01mif\u001B[39;00m event \u001B[38;5;129;01mis\u001B[39;00m h11.NEED_DATA:\n\u001B[32m--> \u001B[39m\u001B[32m217\u001B[39m     data = \u001B[38;5;28;43mself\u001B[39;49m\u001B[43m.\u001B[49m\u001B[43m_network_stream\u001B[49m\u001B[43m.\u001B[49m\u001B[43mread\u001B[49m\u001B[43m(\u001B[49m\n\u001B[32m    218\u001B[39m \u001B[43m        \u001B[49m\u001B[38;5;28;43mself\u001B[39;49m\u001B[43m.\u001B[49m\u001B[43mREAD_NUM_BYTES\u001B[49m\u001B[43m,\u001B[49m\u001B[43m \u001B[49m\u001B[43mtimeout\u001B[49m\u001B[43m=\u001B[49m\u001B[43mtimeout\u001B[49m\n\u001B[32m    219\u001B[39m \u001B[43m    \u001B[49m\u001B[43m)\u001B[49m\n\u001B[32m    221\u001B[39m     \u001B[38;5;66;03m# If we feed this case through h11 we'll raise an exception like:\u001B[39;00m\n\u001B[32m    222\u001B[39m     \u001B[38;5;66;03m#\u001B[39;00m\n\u001B[32m    223\u001B[39m     \u001B[38;5;66;03m#     httpcore.RemoteProtocolError: can't handle event type\u001B[39;00m\n\u001B[32m   (...)\u001B[39m\u001B[32m    227\u001B[39m     \u001B[38;5;66;03m# perspective. Instead we handle this case distinctly and treat\u001B[39;00m\n\u001B[32m    228\u001B[39m     \u001B[38;5;66;03m# it as a ConnectError.\u001B[39;00m\n\u001B[32m    229\u001B[39m     \u001B[38;5;28;01mif\u001B[39;00m data == \u001B[33mb\u001B[39m\u001B[33m\"\u001B[39m\u001B[33m\"\u001B[39m \u001B[38;5;129;01mand\u001B[39;00m \u001B[38;5;28mself\u001B[39m._h11_state.their_state == h11.SEND_RESPONSE:\n",
      "\u001B[36mFile \u001B[39m\u001B[32m~/code/01_Python_Code/01_Studium_Data_Science/02 - Semester/03_Informatik (Mruzek-Vering)/02_Hausarbeit/Netflix_Data_Analysis/.venv/lib/python3.13/site-packages/httpcore/_backends/sync.py:128\u001B[39m, in \u001B[36mSyncStream.read\u001B[39m\u001B[34m(self, max_bytes, timeout)\u001B[39m\n\u001B[32m    126\u001B[39m \u001B[38;5;28;01mwith\u001B[39;00m map_exceptions(exc_map):\n\u001B[32m    127\u001B[39m     \u001B[38;5;28mself\u001B[39m._sock.settimeout(timeout)\n\u001B[32m--> \u001B[39m\u001B[32m128\u001B[39m     \u001B[38;5;28;01mreturn\u001B[39;00m \u001B[38;5;28;43mself\u001B[39;49m\u001B[43m.\u001B[49m\u001B[43m_sock\u001B[49m\u001B[43m.\u001B[49m\u001B[43mrecv\u001B[49m\u001B[43m(\u001B[49m\u001B[43mmax_bytes\u001B[49m\u001B[43m)\u001B[49m\n",
      "\u001B[36mFile \u001B[39m\u001B[32m~/.pyenv/versions/3.13.3/lib/python3.13/ssl.py:1285\u001B[39m, in \u001B[36mSSLSocket.recv\u001B[39m\u001B[34m(self, buflen, flags)\u001B[39m\n\u001B[32m   1281\u001B[39m     \u001B[38;5;28;01mif\u001B[39;00m flags != \u001B[32m0\u001B[39m:\n\u001B[32m   1282\u001B[39m         \u001B[38;5;28;01mraise\u001B[39;00m \u001B[38;5;167;01mValueError\u001B[39;00m(\n\u001B[32m   1283\u001B[39m             \u001B[33m\"\u001B[39m\u001B[33mnon-zero flags not allowed in calls to recv() on \u001B[39m\u001B[38;5;132;01m%s\u001B[39;00m\u001B[33m\"\u001B[39m %\n\u001B[32m   1284\u001B[39m             \u001B[38;5;28mself\u001B[39m.\u001B[34m__class__\u001B[39m)\n\u001B[32m-> \u001B[39m\u001B[32m1285\u001B[39m     \u001B[38;5;28;01mreturn\u001B[39;00m \u001B[38;5;28;43mself\u001B[39;49m\u001B[43m.\u001B[49m\u001B[43mread\u001B[49m\u001B[43m(\u001B[49m\u001B[43mbuflen\u001B[49m\u001B[43m)\u001B[49m\n\u001B[32m   1286\u001B[39m \u001B[38;5;28;01melse\u001B[39;00m:\n\u001B[32m   1287\u001B[39m     \u001B[38;5;28;01mreturn\u001B[39;00m \u001B[38;5;28msuper\u001B[39m().recv(buflen, flags)\n",
      "\u001B[36mFile \u001B[39m\u001B[32m~/.pyenv/versions/3.13.3/lib/python3.13/ssl.py:1140\u001B[39m, in \u001B[36mSSLSocket.read\u001B[39m\u001B[34m(self, len, buffer)\u001B[39m\n\u001B[32m   1138\u001B[39m         \u001B[38;5;28;01mreturn\u001B[39;00m \u001B[38;5;28mself\u001B[39m._sslobj.read(\u001B[38;5;28mlen\u001B[39m, buffer)\n\u001B[32m   1139\u001B[39m     \u001B[38;5;28;01melse\u001B[39;00m:\n\u001B[32m-> \u001B[39m\u001B[32m1140\u001B[39m         \u001B[38;5;28;01mreturn\u001B[39;00m \u001B[38;5;28;43mself\u001B[39;49m\u001B[43m.\u001B[49m\u001B[43m_sslobj\u001B[49m\u001B[43m.\u001B[49m\u001B[43mread\u001B[49m\u001B[43m(\u001B[49m\u001B[38;5;28;43mlen\u001B[39;49m\u001B[43m)\u001B[49m\n\u001B[32m   1141\u001B[39m \u001B[38;5;28;01mexcept\u001B[39;00m SSLError \u001B[38;5;28;01mas\u001B[39;00m x:\n\u001B[32m   1142\u001B[39m     \u001B[38;5;28;01mif\u001B[39;00m x.args[\u001B[32m0\u001B[39m] == SSL_ERROR_EOF \u001B[38;5;129;01mand\u001B[39;00m \u001B[38;5;28mself\u001B[39m.suppress_ragged_eofs:\n",
      "\u001B[31mKeyboardInterrupt\u001B[39m: "
     ]
    }
   ],
   "execution_count": 1
  },
  {
   "metadata": {},
   "cell_type": "markdown",
   "source": "### Mit den Top 10.000 Film `id`'s den Details-Endpunkt abfragen und die Produktionsländer je Film erhalten.",
   "id": "3e9ce80914c3f692"
  },
  {
   "metadata": {
    "ExecuteTime": {
     "end_time": "2025-06-01T05:57:50.963218Z",
     "start_time": "2025-06-01T05:56:57.213572Z"
    }
   },
   "cell_type": "code",
   "source": [
    "import json\n",
    "import pandas as pd\n",
    "from tmdb.detail import Detail\n",
    "from config.config import TMDB_BEARER_TOKEN\n",
    "from concurrent.futures import ThreadPoolExecutor, as_completed\n",
    "from tqdm.notebook import tqdm\n",
    "\n",
    "# 1) Lade und filtere Filme (10 000 IDs)\n",
    "PATH = \"./data/raw/fragestellung_03/2025-05-31_version4_all_country_movies.json\"\n",
    "with open(PATH, \"r\", encoding=\"utf-8\") as f:\n",
    "    all_movies = json.load(f)\n",
    "seen = set()\n",
    "unique_movies = []\n",
    "for m in all_movies:\n",
    "    mid = m[\"id\"]\n",
    "    if mid not in seen:\n",
    "        seen.add(mid)\n",
    "        unique_movies.append(m)\n",
    "\n",
    "print(f\"Found {len(unique_movies)} unique movies\")\n",
    "\n",
    "# 2) Instanziiere den Detail-Client\n",
    "detail_client = Detail(TMDB_BEARER_TOKEN)\n",
    "\n",
    "# 3) Hilfsfunktion für einen einzelnen Movie-Call\n",
    "def fetch_countries(movie):\n",
    "    movie_id = movie[\"id\"]\n",
    "    info = detail_client.safe_get_movie_details(\n",
    "        movie_id,\n",
    "        retries=2,         # 1 Retry bei Fehler\n",
    "        delay=0.0          # kein Delay bei Erfolg\n",
    "    )\n",
    "    result = []\n",
    "    for c in info.get(\"production_countries\", []):\n",
    "        result.append({\n",
    "            \"movie_id\":     movie_id,\n",
    "            \"iso_3166_1\":   c.get(\"iso_3166_1\"),\n",
    "            \"country_name\": c.get(\"name\"),\n",
    "            \"title\": info.get(\"title\"),\n",
    "            \"original_title\": info.get(\"original_title\"),\n",
    "            \"popularity\": info.get(\"popularity\"),\n",
    "            \"vote_average\": info.get(\"vote_average\"),\n",
    "            \"release_date\": info.get(\"release_date\")\n",
    "        })\n",
    "    return result\n",
    "\n",
    "# 4) Starte ThreadPoolExecutor\n",
    "rows = []\n",
    "MAX_THREADS = 20  # 20 Threads → ~10–15 Requests/s, genug Spielraum unter 50/s\n",
    "with ThreadPoolExecutor(max_workers=MAX_THREADS) as executor:\n",
    "    futures = { executor.submit(fetch_countries, movie): movie[\"id\"]\n",
    "                for movie in unique_movies }\n",
    "\n",
    "    # tqdm zeigt Fortschritt für alle 10 000 Futures\n",
    "    for future in tqdm(as_completed(futures), total=len(futures),\n",
    "                       desc=\"Lade Details\", unit=\"film\"):\n",
    "        try:\n",
    "            countries = future.result()\n",
    "            if countries:\n",
    "                rows.extend(countries)\n",
    "        except Exception as e:\n",
    "            print(f\"Exception {e}\")\n",
    "            continue\n",
    "\n",
    "detail_client.close()\n",
    "\n",
    "# 5) Speichere rows (movie_id→country) in JSON\n",
    "import os, glob\n",
    "from datetime import date\n",
    "\n",
    "today    = date.today().isoformat()\n",
    "base_dir = \"./data/raw/fragestellung_03\"\n",
    "pattern  = f\"{today}_version*_all_details_to_top_10_000_movies.json\"\n",
    "\n",
    "existing = glob.glob(os.path.join(base_dir, pattern))\n",
    "versions = []\n",
    "for path in existing:\n",
    "    fn = os.path.basename(path)\n",
    "    ver_str = fn.split(\"_version\")[1].split(\"_\")[0]\n",
    "    versions.append(int(ver_str))\n",
    "new_version = max(versions) + 1 if versions else 1\n",
    "\n",
    "out_path = os.path.join(\n",
    "    base_dir,\n",
    "    f\"{today}_version{new_version}_all_details_to_top_10_000_movies.json\"\n",
    ")\n",
    "with open(out_path, \"w\", encoding=\"utf-8\") as f:\n",
    "    json.dump(rows, f, ensure_ascii=False, indent=2)\n",
    "\n",
    "print(f\"Saved {len(rows)} entries to {out_path}\")\n",
    "\n",
    "# 6) DataFrame und Anzeige\n"
   ],
   "id": "443f0ebf6740154f",
   "outputs": [
    {
     "name": "stdout",
     "output_type": "stream",
     "text": [
      "Found 10000 unique movies\n"
     ]
    },
    {
     "data": {
      "text/plain": [
       "Lade Details:   0%|          | 0/10000 [00:00<?, ?film/s]"
      ],
      "application/vnd.jupyter.widget-view+json": {
       "version_major": 2,
       "version_minor": 0,
       "model_id": "871ef15b55434e11b9c6710159b53128"
      }
     },
     "metadata": {},
     "output_type": "display_data"
    },
    {
     "name": "stdout",
     "output_type": "stream",
     "text": [
      "Saved 13728 entries to ./data/raw/fragestellung_03/2025-06-01_version2_all_details_to_top_10_000_movies.json\n"
     ]
    }
   ],
   "execution_count": 3
  },
  {
   "metadata": {},
   "cell_type": "markdown",
   "source": "### Eine simple Tabelle aller Daten mit DataFrame bereitstellen",
   "id": "d862e92bc1bb0f9d"
  },
  {
   "metadata": {
    "ExecuteTime": {
     "end_time": "2025-06-01T05:59:03.205439Z",
     "start_time": "2025-06-01T05:59:03.082614Z"
    }
   },
   "cell_type": "code",
   "source": [
    "import pandas as pd\n",
    "import json\n",
    "PATH_TO_DETAIL_DATA_JSON = \"./data/raw/fragestellung_03/2025-06-01_version2_all_details_to_top_10_000_movies.json\"\n",
    "with open(PATH_TO_DETAIL_DATA_JSON, \"r\") as file:\n",
    "    movie_details_data = json.load(file)\n",
    "\n",
    "df = pd.DataFrame(movie_details_data)\n",
    "print(\"\\nMovie -> Production Countries\")\n",
    "df"
   ],
   "id": "d419c2710ad16dfd",
   "outputs": [
    {
     "name": "stdout",
     "output_type": "stream",
     "text": [
      "\n",
      "Movie → Production Countries\n"
     ]
    },
    {
     "data": {
      "text/plain": [
       "       movie_id iso_3166_1              country_name  \\\n",
       "0        324544         DE                   Germany   \n",
       "1        324544         CH               Switzerland   \n",
       "2       1241436         GB            United Kingdom   \n",
       "3       1241436         US  United States of America   \n",
       "4        897160         KR               South Korea   \n",
       "...         ...        ...                       ...   \n",
       "13723    338768         US  United States of America   \n",
       "13724     77985         IL                    Israel   \n",
       "13725     77985         US  United States of America   \n",
       "13726    146724         KR               South Korea   \n",
       "13727     45279         JP                     Japan   \n",
       "\n",
       "                                               title      original_title  \\\n",
       "0                                  In the Lost Lands   In the Lost Lands   \n",
       "1                                  In the Lost Lands   In the Lost Lands   \n",
       "2                                            Warfare             Warfare   \n",
       "3                                            Warfare             Warfare   \n",
       "4                                      Brave Citizen              용감한 시민   \n",
       "...                                              ...                 ...   \n",
       "13723                                Please Stand By     Please Stand By   \n",
       "13724                                 Maria's Lovers      Maria's Lovers   \n",
       "13725                                 Maria's Lovers      Maria's Lovers   \n",
       "13726                                       Love 911                 반창꼬   \n",
       "13727  Yu Yu Hakusho: The Movie - Poltergeist Report  幽☆遊☆白書 『冥界死闘篇・炎の絆』   \n",
       "\n",
       "       popularity  vote_average release_date  \n",
       "0        117.3511         6.362   2025-02-27  \n",
       "1        117.3511         6.362   2025-02-27  \n",
       "2        185.2449         7.300   2025-04-09  \n",
       "3        185.2449         7.300   2025-04-09  \n",
       "4        119.1160         6.800   2023-10-25  \n",
       "...           ...           ...          ...  \n",
       "13723      2.1704         6.786   2018-01-26  \n",
       "13724      2.1679         6.096   1984-10-03  \n",
       "13725      2.1679         6.096   1984-10-03  \n",
       "13726      2.1686         7.191   2012-12-19  \n",
       "13727      2.5930         7.560   1994-04-09  \n",
       "\n",
       "[13728 rows x 8 columns]"
      ],
      "text/html": [
       "<div>\n",
       "<style scoped>\n",
       "    .dataframe tbody tr th:only-of-type {\n",
       "        vertical-align: middle;\n",
       "    }\n",
       "\n",
       "    .dataframe tbody tr th {\n",
       "        vertical-align: top;\n",
       "    }\n",
       "\n",
       "    .dataframe thead th {\n",
       "        text-align: right;\n",
       "    }\n",
       "</style>\n",
       "<table border=\"1\" class=\"dataframe\">\n",
       "  <thead>\n",
       "    <tr style=\"text-align: right;\">\n",
       "      <th></th>\n",
       "      <th>movie_id</th>\n",
       "      <th>iso_3166_1</th>\n",
       "      <th>country_name</th>\n",
       "      <th>title</th>\n",
       "      <th>original_title</th>\n",
       "      <th>popularity</th>\n",
       "      <th>vote_average</th>\n",
       "      <th>release_date</th>\n",
       "    </tr>\n",
       "  </thead>\n",
       "  <tbody>\n",
       "    <tr>\n",
       "      <th>0</th>\n",
       "      <td>324544</td>\n",
       "      <td>DE</td>\n",
       "      <td>Germany</td>\n",
       "      <td>In the Lost Lands</td>\n",
       "      <td>In the Lost Lands</td>\n",
       "      <td>117.3511</td>\n",
       "      <td>6.362</td>\n",
       "      <td>2025-02-27</td>\n",
       "    </tr>\n",
       "    <tr>\n",
       "      <th>1</th>\n",
       "      <td>324544</td>\n",
       "      <td>CH</td>\n",
       "      <td>Switzerland</td>\n",
       "      <td>In the Lost Lands</td>\n",
       "      <td>In the Lost Lands</td>\n",
       "      <td>117.3511</td>\n",
       "      <td>6.362</td>\n",
       "      <td>2025-02-27</td>\n",
       "    </tr>\n",
       "    <tr>\n",
       "      <th>2</th>\n",
       "      <td>1241436</td>\n",
       "      <td>GB</td>\n",
       "      <td>United Kingdom</td>\n",
       "      <td>Warfare</td>\n",
       "      <td>Warfare</td>\n",
       "      <td>185.2449</td>\n",
       "      <td>7.300</td>\n",
       "      <td>2025-04-09</td>\n",
       "    </tr>\n",
       "    <tr>\n",
       "      <th>3</th>\n",
       "      <td>1241436</td>\n",
       "      <td>US</td>\n",
       "      <td>United States of America</td>\n",
       "      <td>Warfare</td>\n",
       "      <td>Warfare</td>\n",
       "      <td>185.2449</td>\n",
       "      <td>7.300</td>\n",
       "      <td>2025-04-09</td>\n",
       "    </tr>\n",
       "    <tr>\n",
       "      <th>4</th>\n",
       "      <td>897160</td>\n",
       "      <td>KR</td>\n",
       "      <td>South Korea</td>\n",
       "      <td>Brave Citizen</td>\n",
       "      <td>용감한 시민</td>\n",
       "      <td>119.1160</td>\n",
       "      <td>6.800</td>\n",
       "      <td>2023-10-25</td>\n",
       "    </tr>\n",
       "    <tr>\n",
       "      <th>...</th>\n",
       "      <td>...</td>\n",
       "      <td>...</td>\n",
       "      <td>...</td>\n",
       "      <td>...</td>\n",
       "      <td>...</td>\n",
       "      <td>...</td>\n",
       "      <td>...</td>\n",
       "      <td>...</td>\n",
       "    </tr>\n",
       "    <tr>\n",
       "      <th>13723</th>\n",
       "      <td>338768</td>\n",
       "      <td>US</td>\n",
       "      <td>United States of America</td>\n",
       "      <td>Please Stand By</td>\n",
       "      <td>Please Stand By</td>\n",
       "      <td>2.1704</td>\n",
       "      <td>6.786</td>\n",
       "      <td>2018-01-26</td>\n",
       "    </tr>\n",
       "    <tr>\n",
       "      <th>13724</th>\n",
       "      <td>77985</td>\n",
       "      <td>IL</td>\n",
       "      <td>Israel</td>\n",
       "      <td>Maria's Lovers</td>\n",
       "      <td>Maria's Lovers</td>\n",
       "      <td>2.1679</td>\n",
       "      <td>6.096</td>\n",
       "      <td>1984-10-03</td>\n",
       "    </tr>\n",
       "    <tr>\n",
       "      <th>13725</th>\n",
       "      <td>77985</td>\n",
       "      <td>US</td>\n",
       "      <td>United States of America</td>\n",
       "      <td>Maria's Lovers</td>\n",
       "      <td>Maria's Lovers</td>\n",
       "      <td>2.1679</td>\n",
       "      <td>6.096</td>\n",
       "      <td>1984-10-03</td>\n",
       "    </tr>\n",
       "    <tr>\n",
       "      <th>13726</th>\n",
       "      <td>146724</td>\n",
       "      <td>KR</td>\n",
       "      <td>South Korea</td>\n",
       "      <td>Love 911</td>\n",
       "      <td>반창꼬</td>\n",
       "      <td>2.1686</td>\n",
       "      <td>7.191</td>\n",
       "      <td>2012-12-19</td>\n",
       "    </tr>\n",
       "    <tr>\n",
       "      <th>13727</th>\n",
       "      <td>45279</td>\n",
       "      <td>JP</td>\n",
       "      <td>Japan</td>\n",
       "      <td>Yu Yu Hakusho: The Movie - Poltergeist Report</td>\n",
       "      <td>幽☆遊☆白書 『冥界死闘篇・炎の絆』</td>\n",
       "      <td>2.5930</td>\n",
       "      <td>7.560</td>\n",
       "      <td>1994-04-09</td>\n",
       "    </tr>\n",
       "  </tbody>\n",
       "</table>\n",
       "<p>13728 rows × 8 columns</p>\n",
       "</div>"
      ]
     },
     "execution_count": 5,
     "metadata": {},
     "output_type": "execute_result"
    }
   ],
   "execution_count": 5
  },
  {
   "metadata": {},
   "cell_type": "markdown",
   "source": "### Die Häufigkeiten der Filme pro Land gruppieren und die absoluten-/relativen Häufigkeiten anzeigen als Tabelle",
   "id": "1ac3710fb0420234"
  },
  {
   "metadata": {
    "ExecuteTime": {
     "end_time": "2025-06-01T08:03:14.079244Z",
     "start_time": "2025-06-01T08:03:13.964922Z"
    }
   },
   "cell_type": "code",
   "source": [
    "# a) Häufigkeit pro Land\n",
    "country_counts = (df[[\"iso_3166_1\", \"country_name\"]]\n",
    "                  .value_counts()\n",
    "                  .reset_index(name=\"absolute_häufigkeit\"))\n",
    "\n",
    "# b) Prozentanteile\n",
    "country_counts[\"relative_häufigkeit\"] = country_counts[\"absolute_häufigkeit\"] / country_counts[\"absolute_häufigkeit\"].sum() * 100\n",
    "country_counts"
   ],
   "id": "b304729bf2dc7c88",
   "outputs": [
    {
     "data": {
      "text/plain": [
       "    iso_3166_1              country_name  absolute_häufigkeit  \\\n",
       "0           US  United States of America                 6218   \n",
       "1           GB            United Kingdom                 1193   \n",
       "2           JP                     Japan                  838   \n",
       "3           FR                    France                  700   \n",
       "4           CA                    Canada                  526   \n",
       "..         ...                       ...                  ...   \n",
       "104         PS     Palestinian Territory                    1   \n",
       "105         PY                  Paraguay                    1   \n",
       "106         UY                   Uruguay                    1   \n",
       "107         XG              East Germany                    1   \n",
       "108         XC            Czechoslovakia                    1   \n",
       "\n",
       "     relative_häufigkeit  \n",
       "0              45.294289  \n",
       "1               8.690268  \n",
       "2               6.104312  \n",
       "3               5.099068  \n",
       "4               3.831585  \n",
       "..                   ...  \n",
       "104             0.007284  \n",
       "105             0.007284  \n",
       "106             0.007284  \n",
       "107             0.007284  \n",
       "108             0.007284  \n",
       "\n",
       "[109 rows x 4 columns]"
      ],
      "text/html": [
       "<div>\n",
       "<style scoped>\n",
       "    .dataframe tbody tr th:only-of-type {\n",
       "        vertical-align: middle;\n",
       "    }\n",
       "\n",
       "    .dataframe tbody tr th {\n",
       "        vertical-align: top;\n",
       "    }\n",
       "\n",
       "    .dataframe thead th {\n",
       "        text-align: right;\n",
       "    }\n",
       "</style>\n",
       "<table border=\"1\" class=\"dataframe\">\n",
       "  <thead>\n",
       "    <tr style=\"text-align: right;\">\n",
       "      <th></th>\n",
       "      <th>iso_3166_1</th>\n",
       "      <th>country_name</th>\n",
       "      <th>absolute_häufigkeit</th>\n",
       "      <th>relative_häufigkeit</th>\n",
       "    </tr>\n",
       "  </thead>\n",
       "  <tbody>\n",
       "    <tr>\n",
       "      <th>0</th>\n",
       "      <td>US</td>\n",
       "      <td>United States of America</td>\n",
       "      <td>6218</td>\n",
       "      <td>45.294289</td>\n",
       "    </tr>\n",
       "    <tr>\n",
       "      <th>1</th>\n",
       "      <td>GB</td>\n",
       "      <td>United Kingdom</td>\n",
       "      <td>1193</td>\n",
       "      <td>8.690268</td>\n",
       "    </tr>\n",
       "    <tr>\n",
       "      <th>2</th>\n",
       "      <td>JP</td>\n",
       "      <td>Japan</td>\n",
       "      <td>838</td>\n",
       "      <td>6.104312</td>\n",
       "    </tr>\n",
       "    <tr>\n",
       "      <th>3</th>\n",
       "      <td>FR</td>\n",
       "      <td>France</td>\n",
       "      <td>700</td>\n",
       "      <td>5.099068</td>\n",
       "    </tr>\n",
       "    <tr>\n",
       "      <th>4</th>\n",
       "      <td>CA</td>\n",
       "      <td>Canada</td>\n",
       "      <td>526</td>\n",
       "      <td>3.831585</td>\n",
       "    </tr>\n",
       "    <tr>\n",
       "      <th>...</th>\n",
       "      <td>...</td>\n",
       "      <td>...</td>\n",
       "      <td>...</td>\n",
       "      <td>...</td>\n",
       "    </tr>\n",
       "    <tr>\n",
       "      <th>104</th>\n",
       "      <td>PS</td>\n",
       "      <td>Palestinian Territory</td>\n",
       "      <td>1</td>\n",
       "      <td>0.007284</td>\n",
       "    </tr>\n",
       "    <tr>\n",
       "      <th>105</th>\n",
       "      <td>PY</td>\n",
       "      <td>Paraguay</td>\n",
       "      <td>1</td>\n",
       "      <td>0.007284</td>\n",
       "    </tr>\n",
       "    <tr>\n",
       "      <th>106</th>\n",
       "      <td>UY</td>\n",
       "      <td>Uruguay</td>\n",
       "      <td>1</td>\n",
       "      <td>0.007284</td>\n",
       "    </tr>\n",
       "    <tr>\n",
       "      <th>107</th>\n",
       "      <td>XG</td>\n",
       "      <td>East Germany</td>\n",
       "      <td>1</td>\n",
       "      <td>0.007284</td>\n",
       "    </tr>\n",
       "    <tr>\n",
       "      <th>108</th>\n",
       "      <td>XC</td>\n",
       "      <td>Czechoslovakia</td>\n",
       "      <td>1</td>\n",
       "      <td>0.007284</td>\n",
       "    </tr>\n",
       "  </tbody>\n",
       "</table>\n",
       "<p>109 rows × 4 columns</p>\n",
       "</div>"
      ]
     },
     "execution_count": 42,
     "metadata": {},
     "output_type": "execute_result"
    }
   ],
   "execution_count": 42
  }
 ],
 "metadata": {
  "kernelspec": {
   "display_name": "Python 3 (ipykernel)",
   "language": "python",
   "name": "python3"
  },
  "language_info": {
   "codemirror_mode": {
    "name": "ipython",
    "version": 3
   },
   "file_extension": ".py",
   "mimetype": "text/x-python",
   "name": "python",
   "nbconvert_exporter": "python",
   "pygments_lexer": "ipython3",
   "version": "3.12.8"
  },
  "toc-autonumbering": false,
  "toc-showmarkdowntxt": false,
  "widgets": {
   "application/vnd.jupyter.widget-state+json": {
    "state": {},
    "version_major": 2,
    "version_minor": 0
   }
  }
 },
 "nbformat": 4,
 "nbformat_minor": 5
}
