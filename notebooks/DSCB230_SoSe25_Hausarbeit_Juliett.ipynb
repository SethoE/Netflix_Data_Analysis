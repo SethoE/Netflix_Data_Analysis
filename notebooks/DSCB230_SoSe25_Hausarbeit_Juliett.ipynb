{
 "cells": [
  {
   "cell_type": "markdown",
   "id": "59085cf8-0967-453b-b882-dc6d67beb7e7",
   "metadata": {},
   "source": [
    "**DSCB230 Sommersemester 2025**\n",
    "# Hausarbeit - Datenauswertung am Beispiel eines Business-Anwendungsfalls\n",
    "Data Science Portfolioprojekt"
   ]
  },
  {
   "cell_type": "markdown",
   "id": "cdcc7e8a-5a90-4dee-9c4e-cd8191efc2ef",
   "metadata": {},
   "source": [
    "## Lernziele\n",
    "Das Ziel dieser Hausarbeit ist der begleitete Aufbau eines Portfolios an Projekten. Eine überzeugende Arbeitsprobe ist für potenzielle Arbeitgeber ein wichtigeres Kriterium als der Lebenslauf.\n",
    "\n",
    "In diesem Modul lernen Sie, wie Sie Arbeitgeber mit Ihren Arbeitsproben im Bereich Data Analytics und Data Science überzeugen können und welche Schwerpunkte für Sie geeignet sind. Gemeinsam mit Ihrem Dozenten wählen Sie geeignete Datensätze und Fragestellungen aus. Anschließend erarbeiten Sie daraus einzeln oder in Kleingruppen ein Projekt für Ihr Bewerbungsportfolio.\n",
    "\n",
    "__Im Überblick:__\n",
    "\n",
    "1. Eigenständiges Auswählen und professionelles Umsetzen von Data-Analytics- und Data-Science-Projekten\n",
    "2. Strukturierte Umsetzung von Projekten\n",
    "3. Sammeln von Erfahrungen in der arbeitsteiligen Gruppenarbeit\n",
    "4. Erheben und Realisieren von Anforderungen\n",
    "5. Durchführen einer Datenauswertung\n",
    "6. Lokales Erzeugen und Veröffentlichen von Projekten\n",
    "7. Präsentieren von Ergebnissen und Diskussion unter Verwendung von Fachsprache (Kolloquium)\n"
   ]
  },
  {
   "cell_type": "markdown",
   "id": "28da700c-e714-447a-933a-1c67c1e4d169",
   "metadata": {},
   "source": [
    "## Lehrinhalte\n",
    "1. Gegenseitiges Kennenlernen\n",
    "2. Ablauf und Einblick in die Bausteine\n",
    "3. Auswahl eines Datenprojektes:\n",
    "    - Grundlagen guter Projekte\n",
    "    - Beispielprojekte in Data Analytics und Data Science\n",
    "    - Quellen geeigneter Datensätze\n",
    "    - Lizenzen von Datensätzen\n",
    "    - Aufwandsabschätzung von Datenprojekten\n",
    "4. Setup der Arbeitsumgebung\n",
    "    - Lokale Installation von Python und benötigten Modulen\n",
    "    - Einführung in Git\n",
    "    - Kurzeinführung in GitHub\n",
    "5. Strukturiertes Arbeiten in Datenteams\n",
    "    - Data Analytics Workflow\n",
    "    - Data Science Workflow\n",
    "4. Beginn der Portfolioarbeit\n",
    "    - Vorbereitung und Kick-off\n",
    "    - Einteilung in Teams und Zuweisung zu vorgeschlagenen Projekten\n",
    "    - Erstellen eines Projektplans und Verteilung der Aufgaben\n",
    "5. Strukturierte Umsetzung der Hausarbeit\n",
    "    - Sprint-Reviews\n",
    "    - Business Case eruieren\n",
    "    - Datenerfassung und Datenvorverarbeitung durchführen\n",
    "    - Analyse der Daten\n",
    "    - Datenvisualisierung\n",
    "    - Storytelling\n",
    "6. Präsentieren von Ergebnissen und Diskussion unter Verwendung von Fachsprache (Kolloquium)\n",
    "    - Abschluss der Projektarbeit\n",
    "    - Erzeugen der Abschlusspräsentation\n",
    "    - Halten der Abschlusspräsentation vor den anderen Teams und dem Dozent"
   ]
  },
  {
   "cell_type": "markdown",
   "id": "68929315-1123-471b-80ac-55dbe38d4575",
   "metadata": {},
   "source": [
    "## Ablauf im Überblick\n",
    "- Gruppeneinteilung\n",
    "- Kick-off\n",
    "- Statusmeetings\n",
    "- Präsentation der Ergebnisse inkl. Lessons Learned\n",
    "- Abgabe in ILIAS"
   ]
  },
  {
   "cell_type": "markdown",
   "id": "08a5d9d6-5ea3-4534-ac7f-418ca3dbbf6e",
   "metadata": {},
   "source": [
    "### Kick-off (Projekt-Start)\n",
    "\n",
    "Ziele: Lernziele besprechen. Erwartungen klarstellen. Durchführung besprechen."
   ]
  },
  {
   "metadata": {},
   "cell_type": "markdown",
   "source": [
    "### Lessons Learned (Projekt-Review)\n",
    "\n",
    "Ziele: Gewonnene Erkenntnisse für die Beurteilung der Arbeitsergebnisse festhalten.\n",
    "\n",
    "Vorbereitung: Die Gruppe setzt sich zusammen, um wertvolle Erfahrungen zu identifizieren, sie zu analysieren und aus ihnen zu lernen.\n",
    "\n",
    "__Leitfragen:__\n",
    "- Was waren die angenehmsten Dinge?\n",
    "- Welches Problem bzw. welche Probleme sind aufgetreten?\n",
    "- Wie wurde mit Problemen und Unklarheiten umgegangen?\n",
    "- Welche Lösung wurde verwendet?\n",
    "- Welche Probleme konnten, nach eigenem Ermessen, besonders gut gelöst werden?\n",
    "- Welche Ergebnisse der Datenauswertung waren überraschend?\n",
    "- Welche Erkenntnisse konnten durch die Datenauswertung gewonnen werden?\n",
    "- Welche ihrer Erwartungen an die Erkenntnisse der Datenauswertung weichen ab?\n",
    "- Wie bewerten Sie selbst ihre Ergebnisse?\n",
    "- Welche Erwartung an die Hausarbeit wurde nicht erfüllt?"
   ],
   "id": "0ddc70c6-3c59-425f-8263-79ca535a1962"
  },
  {
   "metadata": {},
   "cell_type": "markdown",
   "source": [
    "### Statusmeetings (Sprint-Reviews)\n",
    "\n",
    "Ziel: Es geht hauptsächlich um die Art und Weise der Zusammenarbeit, um Herausforderungen und Verbesserungsmöglichkeiten.\n",
    "\n",
    "__Leitfragen:__\n",
    "- Dinge, die gut gelungen sind.\n",
    "- Dinge, die weniger gut gelaufen sind.\n",
    "- Dinge, die man direkt stoppen sollte.\n",
    "- Aspekte, die man ausprobieren könnte."
   ],
   "id": "99ac9d8d-cd6f-4e4e-aaf7-3c7bc5d5dd38"
  },
  {
   "metadata": {},
   "cell_type": "markdown",
   "source": [
    "## Aufgabenstellung\n",
    "\n",
    "- Führen Sie eine Datenauswertung durch.\n",
    "- Orientieren Sie sich an den Beispielen und den Übungen aus der Vorlesung.\n",
    "- Dokumentieren Sie Ihre Arbeit in diesem Jupter Notebook. Abweichungen in andere Tools oder Anwendungen sind in Absprache mit dem Dozent möglich.\n",
    "- Verwenden Sie die [Markdown](https://www.markdownguide.org/cheat-sheet/)-Syntax, um Ihre Arbeit leserlich zu gestalten."
   ],
   "id": "a0786cf7-b241-4f10-a7af-08eb0a07b7f7"
  },
  {
   "cell_type": "markdown",
   "id": "54d1fd8f-461e-4d1a-bcee-c81d92ed488e",
   "metadata": {},
   "source": [
    "## Abschlusspräsentation\n",
    "\n",
    "- Termine, siehe Gruppeneinteilung\n",
    "- Dauer ca. 20 min\n",
    "- Ablauf:\n",
    "    - Gruppe präsentiert ihre Datenauswertung im Plenum\n",
    "    - Mündliche Wiedergabe der __vorbereiteten__ Lessons Learned\n",
    "    - Erstellung einer Komposition von 1-4 Abbildungen (400 x 400 px, .png) der aussagekräftigsten Visualisierungen für das Archiv der Hausarbeiten\n",
    "    - Upload aller Dokumete in ILIAS als Zip-Archiv mit der Bezeichnung `DSCB230_SoSe25_Hausarbeit_Gruppenname.zip`\n"
   ]
  },
  {
   "cell_type": "markdown",
   "id": "17e6b63f-2f04-4b47-bd44-dd5ea2832fd8",
   "metadata": {
    "tags": []
   },
   "source": [
    "## Bewertung\n",
    "\n",
    "Maximal 9 Punkte (10% der Klausurpunkte) als Startwert für die Klausur. Die Punkte erhalten alle Gruppenmitglieder. Sollte eine differenzierte Bewertung gewünscht sein, sprechen Sie bitte den Dozent an.\n",
    "\n",
    "__Kriterien:__\n",
    "\n",
    "| Nr. | Kategorie                                        | Bewertungskriterium                                                                                         |\n",
    "|----:|:-------------------------------------------------|:------------------------------------------------------------------------------------------------------------|\n",
    "|  1  | Teamarbeit und Organisation                      | Aufgabenaufteilung                                                                                          |\n",
    "|  2  | Teamarbeit und Organisation                      | Domänenwissen                                                                                               |\n",
    "|  3  | Teamarbeit und Organisation                      | Fachsprache + Fachbegriffe                                                                                  |\n",
    "|  4  | Teamarbeit und Organisation                      | Lessons Learned                                                                                             |\n",
    "|  5  | Teamarbeit und Organisation                      | Nächste Schritte                                                                                            |\n",
    "|  6  | Teamarbeit und Organisation                      | Projektorganisation                                                                                         |\n",
    "|  7  | Teamarbeit und Organisation                      | Teamfähigkeit                                                                                               |\n",
    "|  8  | Struktur und Organisation                        | Gliederung: Ist die Arbeit sinnvoll gegliedert und folgen die Abschnitte einer klaren Struktur?             |\n",
    "|  9  | Struktur und Organisation                        | Klarheit und Verständlichkeit: Ist die Hausarbeit klar und verständlich geschrieben?                        |\n",
    "| 10  | Struktur und Organisation                        | Kohärenz und Logik: Wie gut sind die Argumente strukturiert und logisch aufgebaut?                          |\n",
    "| 11  | Struktur und Organisation                        | Zielgerichtetheit: Sind die Ziele der Arbeit klar definiert und erreicht?                                   |\n",
    "| 12  | Technische Aspekte der Datenverarbeitung und -analyse | Ausreisseridentifikation                                                                               |\n",
    "| 13  | Technische Aspekte der Datenverarbeitung und -analyse | Beachtung der Vorlage (.ipynb)                                                                         |\n",
    "| 14  | Technische Aspekte der Datenverarbeitung und -analyse | Data Cleaning                                                                                          |\n",
    "| 15  | Technische Aspekte der Datenverarbeitung und -analyse | Data Engineering                                                                                       |\n",
    "| 16  | Technische Aspekte der Datenverarbeitung und -analyse | Datenaktualität (Reload/Refresh)                                                                       |\n",
    "| 17  | Technische Aspekte der Datenverarbeitung und -analyse | Datenanalyse (Plots, Dashboard, etc.)                                                                  |\n",
    "| 18  | Technische Aspekte der Datenverarbeitung und -analyse | Datenanalyse inkl. Interaktion, Filter                                                                 |\n",
    "| 19  | Technische Aspekte der Datenverarbeitung und -analyse | Datenvisualisierung                                                                                    |\n",
    "| 20  | Technische Aspekte der Datenverarbeitung und -analyse | Fragestellung + Findings                                                                               |\n",
    "| 21  | Technische Aspekte der Datenverarbeitung und -analyse | Python Bibliotheken                                                                                    |\n",
    "| 22  | Kommunikation und Präsentation                  | Argumentationsfähigkeit                                                                                      |\n",
    "| 23  | Kommunikation und Präsentation                  | Erklärungsfähigkeit                                                                                          |\n",
    "| 24  | Kommunikation und Präsentation                  | Medienkompetenz Präsentation                                                                                 |\n",
    "| 25  | Kommunikation und Präsentation                  | Storytelling                                                                                                 |\n",
    "| 26  | Inhaltliche Qualität                            | Literaturrecherche: Wie gut ist die relevante Literatur recherchiert und eingebunden?                        |\n",
    "| 27  | Inhaltliche Qualität                            | Methodik: Angemessenheit und Korrektheit der gewählten Methoden zur Datenanalyse.                            |\n",
    "| 28  | Inhaltliche Qualität                            | Originalität der Fragestellung: Ist die Fragestellung innovativ und relevant?                                |\n",
    "| 29  | Inhaltliche Qualität                            | Tiefe der Analyse: Wie detailliert und fundiert ist die Analyse der Daten?                                   |\n",
    "| 30  | Präsentationsqualität                           | Präsentationsstil: Wie gut ist der Vortragsstil? Z.B. Sprechgeschwindigkeit, Betonung, Körperhaltung.        |\n",
    "| 31  | Präsentationsqualität                           | Publikumsinteraktion: Fähigkeit, auf Fragen und Rückmeldungen des Publikums einzugehen.                      |\n",
    "| 32  | Präsentationsqualität                           | Visuelle Hilfsmittel: Nutzung und Qualität von Präsentationsfolien und anderen visuellen Hilfsmitteln.       |\n",
    "| 33  | Präsentationsqualität                           | Zeitmanagement: Einhaltung der vorgegebenen Präsentationszeit.                                               |\n",
    "| 34  | Sprachliche und stilistische Aspekte            | Formale Anforderungen: Einhaltung von Zitierregeln, Formatvorgaben und wissenschaftlichem Schreibstil.       |\n",
    "| 35  | Sprachliche und stilistische Aspekte            | Sprachqualität: Rechtschreibung, Grammatik und Stil.                                                         |\n",
    "| 36  | Reflexion und Weiterentwicklung                 | Selbstreflexion: Fähigkeit, die eigene Arbeit kritisch zu reflektieren.                                      |\n",
    "| 37  | Reflexion und Weiterentwicklung                 | Weiterentwicklungspotenzial: Vorschläge für zukünftige Forschung oder Projektentwicklungen.                  |\n"
   ]
  },
  {
   "cell_type": "markdown",
   "id": "6568db5d-3f71-476b-8a65-2c4ae6c0d625",
   "metadata": {},
   "source": [
    "## Vorlage für Ihr Jupyter Notebook\n",
    "Sie können die folgende Inhaltsstruktur verwenden oder sich daran orientieren. Kopieren Sie den Inhalt in ein neues Jupyter Notebook."
   ]
  },
  {
   "cell_type": "markdown",
   "id": "aaec91a7-5b05-44c0-98f0-7f73a9461f89",
   "metadata": {},
   "source": [
    "**DSCB230 Sommersemester 2025**\n",
    "\n",
    "# Titel: Analyse von Netflix\n",
    "## – Nutzerverhalten und Angebot (Genres, Beliebtheit, Veröffentlichungsdatum, Verfügbarkeit)"
   ]
  },
  {
   "cell_type": "markdown",
   "id": "69b205aa-24e5-4d1a-a410-9cebab4c0844",
   "metadata": {},
   "source": [
    "Gruppe | Studierende 1   | Studierende 2  | Studierende 3 |\n",
    "------ |-----------------|----------------| ------ |\n",
    "`Gruppenname` | `Vorname Name`  | `Vorname Name` | `Vorname Name` |\n",
    "`Juliett` | `Setho Ehrmann` | `Enyan Xia`    |"
   ]
  },
  {
   "cell_type": "markdown",
   "id": "1f379b61-3b1f-469a-a873-5021229aa033",
   "metadata": {},
   "source": [
    "## Business Case"
   ]
  },
  {
   "metadata": {},
   "cell_type": "markdown",
   "source": [
    "Ziel unseres Projekts ist es, Filme und Serien die Netflix anbietet, zu analysieren und Zusammenhänge und mögliche Korrelationen in diesem Kontext festzustellen. Wichtig zu beachten ist, dass Netflix spezifische Informationen wie Nutzerverhalten, oder Ranking der Filme/Serien für uns nicht öffentlich verfügbar ist und deshalb würden wir diese Informationen mit externen Datenquellen ersetzen.\n",
    "Bezug auf das Angebot an Filmen und Serien zu analysieren. Dabei möchten wir untersuchen, ob sich bestimmte Muster hinsichtlich\n",
    "Genre, Beliebtheit, Veröffentlichungsdatum oder Streaming-Verfügbarkeit erkennen lassen, und wie diese mit dem Verhalten oder den Präferenzen der Nutzer korrelieren könnten."
   ],
   "id": "a74538b4f218062a"
  },
  {
   "cell_type": "markdown",
   "id": "903810eb-3de1-4efc-8167-1dfe6584e5ac",
   "metadata": {},
   "source": [
    "## Fragestellungen 1:\n",
    "\n",
    "1. Welche Serien auf Netflix sind aktuell am beliebtesten?\n",
    "2. In welchen Ländern werden die meisten Netflix Filme/Serien angeboten (Top 10)?"
   ]
  },
  {
   "cell_type": "markdown",
   "id": "ec75d1c5-3c7b-4488-8db6-c003a3cde4ed",
   "metadata": {},
   "source": "### Datenerfassung und Datenvorverarbeitung"
  },
  {
   "metadata": {},
   "cell_type": "markdown",
   "source": [
    "### Fragestellung:\n",
    "### 1. Welche Serien auf Netflix sind aktuell am beliebtesten (Top 10)?"
   ],
   "id": "79734d70fab97017"
  },
  {
   "metadata": {
    "ExecuteTime": {
     "end_time": "2025-04-27T13:20:26.457504Z",
     "start_time": "2025-04-27T13:20:26.080576Z"
    }
   },
   "cell_type": "code",
   "source": [
    "import pandas as pd\n",
    "from config.config import TMDB_BEARER_TOKEN, TMDB_API_KEY\n",
    "from tmdb.discover import Discover\n",
    "BEARER_TOKEN = TMDB_BEARER_TOKEN # access token\n",
    "\n",
    "discover = Discover(BEARER_TOKEN)\n",
    "\n",
    "response = discover.get_movies()\n",
    "discover.close() # Close connection\n",
    "\n",
    "movies = response[\"results\"]\n",
    "df_movies = pd.DataFrame(movies)\n",
    "# Get top 10 movies\n",
    "top_10_movies = df_movies[[\"title\", \"popularity\", \"vote_average\"]].head(10)\n",
    "# Add ranking from 1 to 10\n",
    "top_10_movies.index = range(1, 11)\n",
    "\n",
    "print(top_10_movies)\n",
    "\n"
   ],
   "id": "9ecdd5b61660c325",
   "outputs": [
    {
     "name": "stdout",
     "output_type": "stream",
     "text": [
      "                            title  popularity  vote_average\n",
      "1          Bullet Train Explosion    352.3333         6.400\n",
      "2                           Havoc    497.0919         6.755\n",
      "3          Spider-Man: Homecoming    110.0856         7.331\n",
      "4                        iHostage     83.6155         6.110\n",
      "5                            Deva     75.7272         6.100\n",
      "6                   Counterattack     71.7856         8.378\n",
      "7   Transformers: The Last Knight     80.0067         6.053\n",
      "8                  The Karate Kid     66.8263         6.546\n",
      "9          Underworld: Blood Wars     67.0134         5.900\n",
      "10                         Amaran     52.0752         7.372\n"
     ]
    }
   ],
   "execution_count": 3
  },
  {
   "metadata": {},
   "cell_type": "markdown",
   "source": "![Torwart](./images/top10_en_global_films__0_square.jpg)",
   "id": "501b09ff2dd7bad1"
  },
  {
   "cell_type": "markdown",
   "id": "ff9815a5-47fb-4234-8b82-f11f28ac15d7",
   "metadata": {},
   "source": "### Analyse der Daten"
  },
  {
   "cell_type": "markdown",
   "id": "508ffc83-a105-4a99-863b-36962f17f30c",
   "metadata": {},
   "source": "Die Beliebtheit der Filme in TMDb korrelieren nicht mit den Filmen oder Serien auf Netflix. Wir haben überprüft, ob die Top-10 Filme auf TMDb sich mit den von Netflix Top-10 übereinstimmen über der offiziellen Seite (https://www.netflix.com/tudum/top10). Es hat sich herausgestellt, dass es keine Korrelation zwischen diesen Daten gab."
  },
  {
   "cell_type": "markdown",
   "id": "2899c25b-ea8e-4a36-be86-b9dc9368f6b3",
   "metadata": {},
   "source": [
    "### Lessons Learned 01 - Erster Datenzugriff auf Netflix-Inhalte über TMDb API\n",
    "Wir sollten JustWatch API für echtzeitige Länderverfügbarkeitsdaten bevorzugen, ergänzt durch TMDb für Metadaten. Web-Scraping der Netflix Daten geht nicht (rechtliche Risiken). Mögliche wären auch UnoGS über RapidAPI für Netflix-spezifische Daten, jedoch kosten diese Dienste Geld.\n",
    "1. Daten sind nicht immer aktuell oder einschränkungsfrei\n",
    "2. Regionale Einschränkungen sind entscheidend\n",
    "3. Die Bedeutung von präzisen API-Filtern\n",
    "4. Massendaten erfordern effizientes Vorgehen\n",
    "5. Daten verstehen kommt vor Daten analysieren"
   ]
  },
  {
   "metadata": {
    "ExecuteTime": {
     "end_time": "2025-04-30T11:53:36.919592Z",
     "start_time": "2025-04-30T11:53:36.198106Z"
    }
   },
   "cell_type": "code",
   "source": [
    "import pandas as pd\n",
    "from config.config import TMDB_BEARER_TOKEN, TMDB_API_KEY\n",
    "from tmdb.discover import Discover\n",
    "\n",
    "BEARER_TOKEN = TMDB_BEARER_TOKEN # access token\n",
    "\n",
    "discover = Discover(TMDB_BEARER_TOKEN)\n",
    "\n",
    "all_serien_nach_einkommen_sortiert = discover.get_movies(sort_by=\"revenue.asc\")\n",
    "\n",
    "\n",
    "df_movies = pd.DataFrame(all_serien_nach_einkommen_sortiert[\"results\"])\n",
    "# Get top 10 movies\n",
    "top_10_movies = df_movies[[\"original_language\", \"title\", \"popularity\", \"vote_average\"]].head(10)\n",
    "# Add ranking from 1 to 10\n",
    "top_10_movies.index = range(1, 11)\n",
    "\n",
    "print(top_10_movies)\n",
    "\n"
   ],
   "id": "abaa02764089d981",
   "outputs": [
    {
     "name": "stdout",
     "output_type": "stream",
     "text": [
      "   original_language                                              title  \\\n",
      "1                 ja                                          ゴジラ-1.0／C   \n",
      "2                 en                                 What Are the Odds?   \n",
      "3                 en                        Tim Dillon: I'm Your Mother   \n",
      "4                 en                                   A Queen’s Runway   \n",
      "5                 en                                       The Platform   \n",
      "6                 en  Behind the Curtain: Stranger Things: The First...   \n",
      "7                 en             Oklahoma City Bombing: American Terror   \n",
      "8                 en                       Kill Tony: Kill or Be Killed   \n",
      "9                 it                                 Making The Leopard   \n",
      "10                en                                  Meet the Khumalos   \n",
      "\n",
      "    popularity  vote_average  \n",
      "1       0.0338         0.000  \n",
      "2       0.1844         0.000  \n",
      "3       2.8225         5.750  \n",
      "4       2.3033         7.000  \n",
      "5       0.3497         0.000  \n",
      "6       7.6817         8.000  \n",
      "7       7.6981         7.333  \n",
      "8       6.1626         6.375  \n",
      "9       0.7414         0.000  \n",
      "10     30.0560         5.292  \n"
     ]
    }
   ],
   "execution_count": 6
  },
  {
   "metadata": {},
   "cell_type": "markdown",
   "source": [
    "## Fragestellung 2:\n",
    "### 2. Die durchschnitte Bewertung der Filme je Genre für das Jahr 2020 in Europa? (Für die top 100 Länder)"
   ],
   "id": "9fbaaadd38fea3a5"
  },
  {
   "metadata": {},
   "cell_type": "markdown",
   "source": "#### Alle Europäischen Länderkürzel bekommen",
   "id": "aeaa116a21be4c0a"
  },
  {
   "metadata": {
    "ExecuteTime": {
     "end_time": "2025-05-14T13:20:30.238420Z",
     "start_time": "2025-05-14T13:20:30.217608Z"
    }
   },
   "cell_type": "code",
   "source": [
    "# Open the file in read mode\n",
    "path_to_countries_file = \"./data/raw/european_countries.txt\"\n",
    "path_to_save_all_country_codes = \"./data/processed/all_european_country_codes.txt\"\n",
    "all_european_country_codes = []\n",
    "with open(path_to_countries_file, 'r', encoding=\"utf-8\") as file:\n",
    "    # Read each line in the file\n",
    "    for line in file:\n",
    "        # Print each line\n",
    "        all_european_country_codes.append(line.strip().split(\" – \")[0])\n",
    "\n",
    "print(all_european_country_codes)\n",
    "with open(path_to_save_all_country_codes, \"w\") as file:\n",
    "    file.write(\"\\n\".join(all_european_country_codes))\n",
    "\n",
    "\n",
    "\n"
   ],
   "id": "1fddf83565681c87",
   "outputs": [
    {
     "name": "stdout",
     "output_type": "stream",
     "text": [
      "['AL', 'AD', 'AM', 'AT', 'AZ', 'BA', 'BE', 'BG', 'BY', 'CH', 'CY', 'CZ', 'DE', 'DK', 'EE', 'ES', 'FI', 'FR', 'GB', 'GE', 'GR', 'HR', 'HU', 'IE', 'IS', 'IT', 'KZ', 'LI', 'LT', 'LU', 'LV', 'MC', 'MD', 'ME', 'MK', 'MT', 'NL', 'NO', 'PL', 'PT', 'RO', 'RS', 'RU', 'SE', 'SI', 'SK', 'SM', 'TR', 'UA', 'VA']\n"
     ]
    }
   ],
   "execution_count": 8
  },
  {
   "metadata": {},
   "cell_type": "code",
   "outputs": [],
   "execution_count": null,
   "source": [
    "import pandas as pd\n",
    "from config.config import TMDB_BEARER_TOKEN, TMDB_API_KEY\n",
    "from tmdb.discover import Discover\n",
    "from tmdb.configuration import Configuration\n",
    "\n",
    "BEARER_TOKEN = TMDB_BEARER_TOKEN # access token\n",
    "\n",
    "configuration = Configuration(TMDB_BEARER_TOKEN)\n",
    "all_countries = configuration.getcountries()\n",
    "\n"
   ],
   "id": "8dcc08aa4baa8b9c"
  }
 ],
 "metadata": {
  "kernelspec": {
   "display_name": "Python 3 (ipykernel)",
   "language": "python",
   "name": "python3"
  },
  "language_info": {
   "codemirror_mode": {
    "name": "ipython",
    "version": 3
   },
   "file_extension": ".py",
   "mimetype": "text/x-python",
   "name": "python",
   "nbconvert_exporter": "python",
   "pygments_lexer": "ipython3",
   "version": "3.12.8"
  },
  "toc-autonumbering": false,
  "toc-showmarkdowntxt": false,
  "widgets": {
   "application/vnd.jupyter.widget-state+json": {
    "state": {},
    "version_major": 2,
    "version_minor": 0
   }
  }
 },
 "nbformat": 4,
 "nbformat_minor": 5
}
