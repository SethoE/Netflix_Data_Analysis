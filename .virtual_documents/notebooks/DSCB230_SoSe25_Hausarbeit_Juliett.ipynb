





















































import pandas as pd
from config.config import TMDB_BEARER_TOKEN, TMDB_API_KEY
from tmdb.discover import Discover
BEARER_TOKEN = TMDB_BEARER_TOKEN # access token

discover = Discover(BEARER_TOKEN)

response = discover.get_movies()
discover.close() # Close connection

movies = response["results"]
df_movies = pd.DataFrame(movies)
# Get top 10 movies
top_10_movies = df_movies[["title", "popularity", "vote_average"]].head(10)
# Add ranking from 1 to 10
top_10_movies.index = range(1, 11)

print(top_10_movies)
















import pandas as pd
from config.config import TMDB_BEARER_TOKEN, TMDB_API_KEY
from tmdb.discover import Discover

BEARER_TOKEN = TMDB_BEARER_TOKEN # access token

discover = Discover(TMDB_BEARER_TOKEN)

all_serien_nach_einkommen_sortiert = discover.get_movies(sort_by="revenue.asc")


df_movies = pd.DataFrame(all_serien_nach_einkommen_sortiert["results"])
# Get top 10 movies
top_10_movies = df_movies[["original_language", "title", "popularity", "vote_average"]].head(10)
# Add ranking from 1 to 10
top_10_movies.index = range(1, 11)

print(top_10_movies)










# Open the file in read mode
path_to_countries_file = "./data/raw/european_countries.txt"
path_to_save_all_country_codes = "./data/processed/all_european_country_codes.txt"
all_european_country_codes = []
with open(path_to_countries_file, 'r', encoding="utf-8") as file:
    # Read each line in the file
    for line in file:
        # Print each line
        all_european_country_codes.append(line.strip().split(" – ")[0])

print(all_european_country_codes)
with open(path_to_save_all_country_codes, "w") as file:
    file.write("\n".join(all_european_country_codes))









import pandas as pd
from config.config import TMDB_BEARER_TOKEN, TMDB_API_KEY
from tmdb.discover import Discover
from tmdb.configuration import Configuration

PATH_TO_PROCESSED_EUROPAN_COUNTRIES = "./data/processed/all_european_country_codes.txt"
BEARER_TOKEN = TMDB_BEARER_TOKEN # access token

configuration = Configuration(TMDB_BEARER_TOKEN)
all_countries = configuration.get_countries()

all_european_country_codes = []
with open(PATH_TO_PROCESSED_EUROPAN_COUNTRIES, "r") as file:
    all_european_country_codes = file.read().splitlines()


counter = 0
for country in all_countries:
    if country["iso_3166_1"] not in all_european_country_codes:
        pass
    else:
        counter += 1

print(f"Found {counter} of {len(all_european_country_codes)} countries in TMDB API")





import pandas as pd
from config.config import TMDB_BEARER_TOKEN, TMDB_API_KEY
from tmdb.discover import Discover
from tmdb.configuration import Configuration
import json
import os
import glob
from datetime import date

PATH_TO_PROCESSED_EUROPAN_COUNTRIES = "./data/processed/all_european_country_codes.txt"
BEARER_TOKEN = TMDB_BEARER_TOKEN # access token

# Variables for file formatting
today = date.today().isoformat()
base_dir = "./data/raw/fragestellung_2"
pattern = f"{today}_version*_all_european_movies.json"


all_european_country_codes = []
with open(PATH_TO_PROCESSED_EUROPAN_COUNTRIES, "r") as file:
    all_european_country_codes = file.read().splitlines()

discover = Discover(TMDB_BEARER_TOKEN)
all_movies = []

years = list(range(2010, 2025))  # 2010 bis 2024
pages_per_year = 5
total_requests = len(all_european_country_codes) * len(years) * pages_per_year
current = 0

for country in all_european_country_codes:
    for year in range(2010, 2025):
        for page in range(1, 6):  # Top 100 pro Jahr (20 Filme pro Seite)
            params = {
                "with_watch_providers": "8|175|1796",
                "primary_release_date.gte": f"{year}-01-01",
                "primary_release_date.lte": f"{year}-12-31",
                "vote_count.gte": 10,
                "page": page
            }
            response = discover.safe_get_movies(watch_region=country, sort_by="popularity.desc", params=params)
            all_movies.extend(response["results"])

             # Fortschritt aktualisieren
            current += 1
            percent = (current / total_requests) * 100
            print(f"\rProgress: {current}/{total_requests} ({percent:.1f}%)", end="")

discover.close() # Close connection.

# 1) Finde alle existierenden Dateien für heute
existing = glob.glob(os.path.join(base_dir, pattern))

# 2) Extrahiere die Versionsnummern
versions = []
for path in existing:
    # filename z.B. '2025-05-20_version3_all_european_movies.json'
    filename = os.path.basename(path)
    # Splitten auf '_version' und dann vor dem nächsten '_' abschneiden
    ver_str = filename.split("_version")[1].split("_")[0]
    try:
        versions.append(int(ver_str))
    except ValueError:
        pass

# 3) Neue Version = max(existing)+1 oder 1, wenn keine Datei da war
new_version = max(versions) + 1 if versions else 1

# 4) Pfad zusammensetzen und Datei speichern
out_path = os.path.join(
    base_dir,
    f"{today}_version{new_version}_all_european_movies.json"
)

# Beispiel: all_movies enthält deine Daten
with open(out_path, "w", encoding="utf-8") as f:
    json.dump(all_movies, f, ensure_ascii=False, indent=2)

print(f"Saved {len(all_movies)} records to {out_path}")





import json
import pandas as pd
PATH_TO_ALL_EUROPEAN_MOVIES = "./data/raw/fragestellung_2/2025-05-18_version1_all_european_movies.json"


with open(PATH_TO_ALL_EUROPEAN_MOVIES, "r") as file:
    all_movies = json.load(file)


# 2) DataFrame bauen
df = pd.DataFrame(all_movies)
df["release_date"] = pd.to_datetime(df["release_date"]).dt.year

# 4) Jeden Film pro Genre aufsplitten ("explode")
df = df.explode("genre_ids")

# 6) Gruppieren nach (year, genre_id) und Durchschnitt berechnen
df_grouped = (
    df
    .groupby(["release_date", "genre_ids"])["vote_average"]
    .mean()
    .reset_index(name="avg_rating")
)

# 7) Optional: Genre-ID → Genre-Name mappen, falls du ein Mapping hast:
# genres_df = pd.DataFrame([{ "genre_id": 28, "name": "Action"}, ...])
# df_grouped = df_grouped.merge(genres_df, on="genre_id")

df_grouped









from tmdb.genre import Genre
import pandas as pd
from config.config import TMDB_BEARER_TOKEN, TMDB_API_KEY

PATH_TO_SAVE_GENRES = "./data/processed/fragestellung_2/all_genres.json"
BEARER_TOKEN = TMDB_BEARER_TOKEN # access token

genre = Genre(BEARER_TOKEN)
all_genres = genre.get_movie()
with open(PATH_TO_SAVE_GENRES, "w") as file:
    json.dump(all_genres, file)
df_genres = pd.DataFrame(all_genres["genres"])
df_genres = df_genres[["id", "name"]]
df_genres.columns = ["genre_ids", "genre_name"]
df_grouped = df_grouped.merge(df_genres, on="genre_ids")





# Verbesserung: Wir müssen pro Trace das richtige customdata setzen und hovertemplate anpassen
import pandas as pd
import plotly.express as px

# Annahme: df_grouped enthält Spalten: release_date, year, genre_name, avg_rating
# Wir erstellen einen DataFrame pro Genre-Trace und übergeben genre_name als customdata in jedem Trace.

def plot_interactive_genre(df_grouped):
    fig = px.bar(
        df_grouped,
        x='release_date',
        y='avg_rating',
        color='genre_name',
        barmode='group',
        labels={
            'year': 'Jahr',
            'avg_rating': 'Durchschnittliche Bewertung',
            'genre_name': 'Genre'
        },
        title='Durchschnittliche Bewertung pro Genre und Jahr (interaktiv)'
    )

    # Für jeden Trace: setze custom data individuell
    for trace in fig.data:
        # Der Name des Trace ist bereits der Genre-Name
        genre = trace.name
        # custom data: eine Spalte mit Genre-Namen, gleiche Länge wie x
        trace.customdata = [genre] * len(trace.x)
        # Hover template mit Nutzung von custom data
        trace.hovertemplate = (
            '<b>Genre:</b> %{customdata}<br>'
            '<b>Jahr:</b> %{x}<br>'
            '<b>Bewertung:</b> %{y:.2f}<extra></extra>'
        )

    fig.update_layout(
        xaxis=dict(rangeslider=dict(visible=True), type='category'),
        hovermode='closest',
        legend=dict(title='Genre', orientation='v', x=1.02, y=1)
    )

    return fig

# Anwendung:
fig = plot_interactive_genre(df_grouped)
fig.show()



import plotly.express as px

# Pivot: Zeilen=Jahr, Spalten=Genre
df_pivot = df_grouped.pivot(index="release_date", columns="genre_name", values="avg_rating")

fig = px.imshow(
    df_pivot.T,
    labels=dict(x="Jahr", y="Genre", color="Durchschnittliche Bewertung"),
    x=df_pivot.index,
    y=df_pivot.columns,
    color_continuous_scale="Inferno",  # sehr kontraststark
    zmin=6,  # minimale Bewertung (blau/dunkel)
    zmax=8,  # maximale Bewertung (gelb/hell)
    title="Heatmap der Durchschnittlichen Bewertungen pro Genre und Jahr"
)

fig.update_traces(
    hovertemplate="<b>Genre:</b> %{y}<br><b>Jahr:</b> %{x}<br><b>Bewertung:</b> %{z:.2f}<extra></extra>"
)

fig.show()

